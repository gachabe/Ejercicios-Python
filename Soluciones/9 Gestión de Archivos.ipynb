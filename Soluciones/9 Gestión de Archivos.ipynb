{
 "cells": [
  {
   "cell_type": "markdown",
   "id": "fdb0f8c0",
   "metadata": {},
   "source": [
    "En el archivo adjunto pesonas tenemos una base de datos de furiosos maleantes, crea una función que habrá el archivo y muestre sus datos de forma más visual. Es decir, elimina los punto y coma y dique dato vas a presentar"
   ]
  },
  {
   "cell_type": "code",
   "execution_count": 3,
   "id": "ad791eb3",
   "metadata": {},
   "outputs": [
    {
     "name": "stdout",
     "output_type": "stream",
     "text": [
      "id=1, nombre : Carlos, apellido : Horcas, Fecha nacimiento : 05/01/1989\n",
      "id=2, nombre : Manuel, apellido : Heredia, Fecha nacimiento : 26/12/1973\n",
      "id=3, nombre : Rosa, apellido : Campos, Fecha nacimiento : 12/06/1961\n",
      "id=4, nombre : David, apellido : Perez, Fecha nacimiento : 25/07/2006\n",
      "id=5, nombre : Gabriel, apellido : Chaves, Fecha nacimiento : 14/06/1997\n",
      "id=6, nombre : Maria, apellido : Caballero, Fecha nacimiento : 5/05/2004\n",
      "id=7, nombre : Pepe, apellido : Trashorras, Fecha nacimiento : 6/06/2004\n"
     ]
    }
   ],
   "source": [
    "archivo=open(\"personas.txt\",encoding=\"utf-8\")\n",
    "lineas=archivo.readlines()\n",
    "archivo.close()\n",
    "personas=[]\n",
    "\n",
    "for linea in lineas:\n",
    "    campo=linea.replace(\"\\n\",\"\").split(\";\")\n",
    "    persona={\"id\":campo[0],\"nombre\":campo[1],\"apellido\":campo[2],\"nacimiento\":campo[3]}\n",
    "    personas.append(persona)\n",
    "for persona in personas:\n",
    "    print(f\"id={persona['id']}, nombre : {persona['nombre']}, apellido : {persona['apellido']}, Fecha nacimiento : {persona['nacimiento']}\")"
   ]
  },
  {
   "cell_type": "markdown",
   "id": "d4ae8529",
   "metadata": {},
   "source": [
    "Crea una función que reciba el nombre de un archivo y devuelva la palabra de mayor longitud del archivo"
   ]
  },
  {
   "cell_type": "code",
   "execution_count": 6,
   "id": "f1c171f4",
   "metadata": {},
   "outputs": [
    {
     "name": "stdout",
     "output_type": "stream",
     "text": [
      "['esperanza', 'Andaluces', 'Andaluces', 'Levantaos', 'levantaos', 'Andalucia', 'humanidad', 'Andaluces', 'Andaluces', 'Andaluces', 'Levantaos', 'levantaos', 'Andalucia', 'humanidad']\n"
     ]
    }
   ],
   "source": [
    "def palabra_mas_larga(filename):\n",
    "    with open(filename, 'r') as infile:\n",
    "              words = infile.read().split()\n",
    "    words = [word[:-1] if word.endswith(\",\") else word for word in words]\n",
    "    max_len = len(max(words, key=len))\n",
    "    return [word for word in words if len(word) == max_len]\n",
    "\n",
    "print(palabra_mas_larga('andalucia.txt'))\n",
    "\n"
   ]
  },
  {
   "cell_type": "markdown",
   "id": "a6b5a7f2",
   "metadata": {},
   "source": [
    "Una empresa nos ha pedido un programa para buscar erratas en guiones, para ello recibiremos un texto, lo abriremos y le pedeiremos al usuario que nos de una palabra a buscar. El programa debe buscar cada incidencia de esa palabra en el texto, guardar en que linea del texto se encuentra y devolver un archivo llamado result.txt donde aparezcan tanto el número de la linea donde aparece como el texto de la linea donde aparece"
   ]
  },
  {
   "cell_type": "code",
   "execution_count": 1,
   "id": "d0eb74d1",
   "metadata": {},
   "outputs": [
    {
     "name": "stdout",
     "output_type": "stream",
     "text": [
      "Ingresa búsqueda: Fiona\n"
     ]
    }
   ],
   "source": [
    "archivo = \"Shrek.txt\"\n",
    "salida = \"result.txt\"\n",
    "busqueda = input(\"Ingresa búsqueda: \")\n",
    "lineas_escribir = []\n",
    "with open(archivo, \"r\") as archivo_lectura:\n",
    "    numero_linea = 0\n",
    "    for linea in archivo_lectura:\n",
    "        numero_linea += 1\n",
    "        linea = linea.rstrip() #Elimina el \\n artifical que crea los txt\n",
    "        separado = linea.split(\" \")\n",
    "        if busqueda in separado:\n",
    "            lineas_escribir.append(str(numero_linea) + \" - \" + linea)\n",
    "\n",
    "with open(salida, \"w\") as archivo_salida:\n",
    "    for linea in lineas_escribir:\n",
    "        archivo_salida.write(linea + \"\\n\")"
   ]
  },
  {
   "cell_type": "markdown",
   "id": "f40f9686",
   "metadata": {},
   "source": [
    "En el archivo adjunto \"ejemplo.txt\" se han escrito varias lineas. Cada linea representa un tablero de kakuro, una variante de sudoku, cada tablero es de 10x10. Construir las siguientes 2 funciones:\n",
    "\n",
    "- La primer debe recibir un string de longitud 100, que es lo que mide cada linea del fichero y devolver el tablero del kakuro correspondiente imprimiéndolo en pantalla en forma de tablero.\n",
    "\n",
    "- La segunda debe abrir el archivo, recorrer cada linea de este y guardar esta linea en un diccionario cuya clave sea la posición. Después hacer uso del ejercicio anterior para imprimir por pantalla algún kakuro llamandolo desde su clave."
   ]
  },
  {
   "cell_type": "code",
   "execution_count": 9,
   "id": "7db4e426",
   "metadata": {},
   "outputs": [
    {
     "name": "stdout",
     "output_type": "stream",
     "text": [
      "xxxxxxxxxx\n",
      "xxx12xxxxx\n",
      "x1925x97xx\n",
      "x27x378962\n",
      "xxx219xx81\n",
      "xx61xxx79x\n",
      "x29xx739xx\n",
      "x187394x81\n",
      "xxx91x2793\n",
      "xxxxxx19xx\n"
     ]
    }
   ],
   "source": [
    "def pintar_cuadrado(linea):\n",
    "    # Dividir la línea en segmentos de 9 caracteres\n",
    "    segmentos = [linea[i:i+10] for i in range(0, len(linea), 10)]\n",
    "    \n",
    "    # Construir el cuadrado pintado\n",
    "    \n",
    "    for segmento in segmentos:\n",
    "        print(segmento)\n",
    "    \n",
    "    \n",
    "\n",
    "def leer_archivo_y_guardar_diccionario(nombre_archivo):\n",
    "    diccionario = {}\n",
    "    with open(nombre_archivo, 'r') as archivo:\n",
    "        numero_linea = 1\n",
    "        for linea in archivo:\n",
    "            # Eliminar el salto de línea al final de cada línea\n",
    "            linea = linea.strip()\n",
    "            # Guardar la línea en el diccionario con el número de línea como clave\n",
    "            diccionario[numero_linea] = linea\n",
    "            numero_linea += 1\n",
    "            \n",
    "    return diccionario\n",
    "\n",
    "# Ejemplo de uso\n",
    "nombre_archivo = \"ejemplo.txt\"\n",
    "diccionario_lineas = leer_archivo_y_guardar_diccionario(nombre_archivo)\n",
    "\n",
    "# Imprimir el diccionario\n",
    "#pintar_cuadrado(diccionario_lineas[1])\n",
    "\n",
    "#pintar_cuadrado(\"qvywqzmswnfwkufhyyqofibnufbryidceoagdmvxkbpdeugnszwwsngzfpgarvulnqbnadpiwhjyzjxduwpeegwkucwysguersst\")\n",
    "pintar_cuadrado(diccionario_lineas[3])"
   ]
  },
  {
   "cell_type": "markdown",
   "id": "a7dec6ef",
   "metadata": {},
   "source": [
    "En el archivo adjunto \"cotizacion.csv\" se tienen los datos de varias empresas, se pide:\n",
    "\n",
    "- Crear una función llamada limpieza que reciba una cadena, que será una cifra, y devuelva la misma cadena eliminando el punto de millares y reemplace la coma decimal por un punto. Recuerda la función replace().\n",
    "\n",
    "- Crear una función llamada preprocesado que reciba la ruta del fichero y devuelva una diccionario con el contenido y cuyas claves sean los nombres de las columnas del fichero.\n",
    "\n",
    "- Finalmente crear una función llamada resumen que reciba el diccionario del ejercicio anterior y una nueva ruta donde debe escribirse un fichero nuevo con un resumen del diccionario. Este resumen debe contener:\n",
    "        - Los nombres de las columnas.\n",
    "        - Los Mínimos de cada lista.\n",
    "        - Los Máximos de cada lista\n",
    "        - La Media de cada lista."
   ]
  },
  {
   "cell_type": "code",
   "execution_count": 11,
   "id": "bd534924",
   "metadata": {},
   "outputs": [
    {
     "name": "stdout",
     "output_type": "stream",
     "text": [
      "{'Nombre': ['ACCIONA', 'ACERINOX', 'ACS', 'AENA', 'AMADEUS', 'ARCELORMIT.', 'BA.SABADELL', 'BA.SANTANDER', 'BANKIA', 'BANKINTER', 'BBVA', 'CAIXABANK', 'CELLNEX', 'CIE AUTOMOT.', 'ENAGAS', 'ENCE', 'ENDESA', 'FERROVIAL', 'GRIFOLS CL.A', 'IAG', 'IBERDROLA', 'INDITEX', 'INDRA A', 'INM.COLONIAL', 'MAPFRE', 'MEDIASET', 'MELIA HOTELS', 'MERLIN', 'NATURGY', 'R.E.C.', 'REPSOL', 'SIEMENS GAME', 'TEC.REUNIDAS', 'TELEFONICA', 'VISCOFAN', ''], 'Final': [95.95, 8668.0, 37.28, 167.1, 69.96, 14152.0, 1.0165, 4.02, 2249.0, 6.56, 5024.0, 2763.0, 30.17, 23.44, 25.6, 3882.0, 22.95, 21.61, 23.3, 5.3, 8.45, 24.93, 9.56, 9915.0, 2654.0, 6446.0, 8.14, 12.08, 26.7, 19705.0, 14515.0, 14.33, 23.0, 7204.0, 48.46], 'MÃ¡ximo': [96.75, 8672.0, 37.66, 167.5, 70.64, 14318.0, 1033.0, 4.0675, 2262.0, 6604.0, 5.05, 2806.0, 30.7, 23.74, 25.66, 3974.0, 23.03, 21.72, 23.6, 5.46, 8.45, 25.19, 9685.0, 9915.0, 2654.0, 6592.0, 8.19, 12.08, 26.77, 19875.0, 14605.0, 14.39, 23.2, 7256.0, 49.12], 'MÃ\\xadnimo': [94.4, 8468.0, 37.22, 166.1, 69.56, 14.08, 1.0165, 4.01, 2224.0, 6522.0, 4969.0, 2762.0, 30.17, 23.4, 25.07, 3846.0, 22.62, 21.38, 23.27, 5292.0, 8262.0, 24.87, 9535.0, 9745.0, 2.62, 6446.0, 8.02, 11.83, 26.53, 19675.0, 14.46, 14155.0, 22.78, 7185.0, 48.46], 'Volumen': [84962.0, 88599.0, 655982.0, 133738.0, 640476.0, 702841.0, 12358512.0, 36129692.0, 3024454.0, 1375976.0, 26447612.0, 13031097.0, 857237.0, 99506.0, 84254.0, 2099698.0, 1236799.0, 2065931.0, 719503.0, 2155081.0, 15637958.0, 2600144.0, 39206.0, 671753.0, 3045972.0, 2647557.0, 48021.0, 777543.0, 2100737.0, 1246171.0, 5046648.0, 1054847.0, 1221.0, 9913249.0, 6771.0], 'Efectivo': [8166.11, 7633.81, 24517.29, 22336.1, 44795.47, 9989.65, 12637.65, 145765.44, 6803.54, 9030.2, 132560.15, 36239.22, 25965.29, 2343.09, 21524.77, 8219.83, 28233.46, 44656.05, 16787.55, 11561.95, 131426.05, 65012.92, 3755.57, 6640.38, 8063.13, 17277.04, 3914.93, 9357.77, 55986.54, 24585.33, 73333.78, 15084.56, 2807.19, 71564.99, 3295.43]}\n"
     ]
    }
   ],
   "source": [
    "def limpiar(cifra):\n",
    "    \"\"\"\n",
    "    Función que elimina los puntos de separación de miles y cambia las comas de separación de decimales por puntos.\n",
    "    Parámetros:\n",
    "        - cifra: Es una cadena con una cifra\n",
    "    Devuelve:\n",
    "        Un real con la cifra de la cadena después de eliminar el separador de miles y cambiar el separador de decimales por punto.\n",
    "    \"\"\"\n",
    "    cifra = cifra.replace('.', '')\n",
    "    cifra = cifra.replace(',','.')\n",
    "    return float(cifra) \n",
    "\n",
    "def preprocesado(ruta):\n",
    "    \"\"\"\n",
    "    Función que preprocesa los datos contenidos en un fichero con formato csv y devuelve un diccionario con los nombres de las columnas como claves y las listas de valores asociados a ellas.\n",
    "    Parámetros:\n",
    "        - ruta: Es una cadena con la ruta del fichero.\n",
    "    Devuelve:\n",
    "        Un diccionario con pares formados por los nombres de las columnas y las listas de valores en las columnas.\n",
    "    \"\"\"\n",
    "    try:\n",
    "        # Abrimos el fichero en modo lectura\n",
    "        with open(ruta, 'r') as f:\n",
    "            # Leemos el fichero por líneas en una lista\n",
    "            lineas = f.read().split('\\n')\n",
    "    except FileNotFoundError:\n",
    "        print('El fichero no existe.')\n",
    "        return\n",
    "    \n",
    "    # Leemos las claves del primer elemento de la lista y creamos una lista dividiendo la línea por el punto y coma.\n",
    "    claves = lineas.pop(0).split(\";\")\n",
    "    # Creamos el diccionario para guardar las cotizaciones\n",
    "    cotizaciones = {}\n",
    "    # Inicializamos el diccionario con listas vacías\n",
    "    for i in claves:\n",
    "        cotizaciones[i] = []\n",
    "    # Bucle iterativo para recorrer la lista de lineas\n",
    "    for linea in lineas:\n",
    "        # Creamos una lista con los campos dividiendo la línea por el punto y coma\n",
    "        campos = linea.split(';')\n",
    "        # Añadimos el primer campo (el nombre de la empresa) a la lista del diccionario\n",
    "        cotizaciones[claves[0]].append(campos[0])\n",
    "        # Bucle iterativo para añadir el resto de los campos a las listas correspondientes del diccionario. \n",
    "        # Previamente los campos se limpian del carácter de separación de miles y se sustituye la coma por el punto para el separador de decimales.\n",
    "        for i in range(1, len(campos)):\n",
    "            cotizaciones[claves[i]].append(limpiar(campos[i]))\n",
    "    return cotizaciones\n",
    "\n",
    "\n",
    "def resumen_cotizacion(cotizaciones, ruta):\n",
    "    \"\"\"\n",
    "    Función que recibe un diccionario con los valores de cotización y crear un fichero con un resumen con el mínimo, el máximo y la media.\n",
    "    Parámetros:\n",
    "        - cotizaciones: Es un diccionario con pares cuyas claves son los nombres de la variables medidas y cuyos valores son las listas de valores de cada variable.\n",
    "        - ruta: Es una cadena con la ruta del fichero.\n",
    "    \"\"\"\n",
    "    # Eliminamos el primer par del diccionario que contiene los nombres de las empresas.\n",
    "    del(cotizaciones['Nombre'])\n",
    "    # Inicializamos una cadena con el contenido que después se escribirá en el fichero.\n",
    "    contenido = \"\"\n",
    "    # Escribimos en la primera línea los nombres de las columnas.\n",
    "    contenido += 'Nombre'\n",
    "    # Bucle iterativo para crear los encabezados de las cotizaciones.\n",
    "    for i in cotizaciones:\n",
    "        contenido += \";\" + i\n",
    "    # Calculamos los mínimos de cada lista y los escribimos en las columnas correspondientes\n",
    "    contenido += '\\nMinimo'\n",
    "    for i in cotizaciones.values():\n",
    "        contenido += ';' + str(min(i))\n",
    "    # Calculamos los máximos de cada lista y los escribimos en las columnas correspondientes\n",
    "    contenido += '\\nMaximo'\n",
    "    for i in cotizaciones.values():\n",
    "        contenido += ';' + str(max(i))\n",
    "    # Calculamos las medias de cada lista y las escribimos en las columnas correspondientes\n",
    "    contenido += '\\nMedia'\n",
    "    for i in cotizaciones.values():\n",
    "        contenido += ';' + str(sum(i)/len(i))\n",
    "    # Abrimos el fichero en modo escritura.\n",
    "    with open(ruta, 'w') as f:\n",
    "        # Escribimos el contenido en el fichero\n",
    "        f.write(contenido)\n",
    "    return\n",
    "\n",
    "\n",
    "# Llamada a las funciones de prueba\n",
    "cotizaciones = preprocesado('cotizacion.csv')\n",
    "print(cotizaciones)\n",
    "resumen_cotizacion(cotizaciones, 'resumen-cotizacion.csv')"
   ]
  }
 ],
 "metadata": {
  "kernelspec": {
   "display_name": "Python 3 (ipykernel)",
   "language": "python",
   "name": "python3"
  },
  "language_info": {
   "codemirror_mode": {
    "name": "ipython",
    "version": 3
   },
   "file_extension": ".py",
   "mimetype": "text/x-python",
   "name": "python",
   "nbconvert_exporter": "python",
   "pygments_lexer": "ipython3",
   "version": "3.9.13"
  }
 },
 "nbformat": 4,
 "nbformat_minor": 5
}
