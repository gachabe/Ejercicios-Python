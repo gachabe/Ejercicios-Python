{
 "cells": [
  {
   "cell_type": "markdown",
   "id": "ed7f45f7",
   "metadata": {},
   "source": [
    "# Ejercicio 1"
   ]
  },
  {
   "cell_type": "markdown",
   "id": "26ef5d5c",
   "metadata": {},
   "source": [
    "Crea una función que dada una matriz, dada como una lista de listas, nos devuelva su determinante."
   ]
  },
  {
   "cell_type": "code",
   "execution_count": 36,
   "id": "78617987",
   "metadata": {},
   "outputs": [],
   "source": [
    "def adjunto(m,i,j):\n",
    "    matriz =[]\n",
    "    fila =[]\n",
    "    for f in range(len(m)):\n",
    "        if i != f:\n",
    "            for c in range(len(m[0])):\n",
    "                if c != j:\n",
    "                    fila += [m[f][c]]\n",
    "            matriz += [fila]\n",
    "        fila = []\n",
    "    return matriz\n",
    "\n",
    "def determinante(m):\n",
    "    if len(m[0])==1:\n",
    "        return m[0][0]\n",
    "    else:\n",
    "        return sum([(-1)**i*m[0][i]*determinante(adjunto(m,0,i)) for i in range(len(m[0])) ])\n",
    "    "
   ]
  },
  {
   "cell_type": "code",
   "execution_count": 37,
   "id": "29a22a3c",
   "metadata": {},
   "outputs": [
    {
     "data": {
      "text/plain": [
       "0"
      ]
     },
     "execution_count": 37,
     "metadata": {},
     "output_type": "execute_result"
    }
   ],
   "source": [
    "determinante([[1,2],[1,2]])"
   ]
  },
  {
   "cell_type": "markdown",
   "id": "22431ff3",
   "metadata": {},
   "source": [
    "# Ejercicio 2"
   ]
  },
  {
   "cell_type": "markdown",
   "id": "83c7dc26",
   "metadata": {},
   "source": [
    "Escribe una función que reciba una lista de la compra, dada en forma de diccionario, {\"producto\":cantidad} y un número que será el dinero que tiene. Esta función debe:\n",
    "- Comprobar si no se tiene dinero suficiente para realizar toda la compra. En caso contrario dar un mensaje que lo avise\n",
    "- Comprobar si no hay stock suficiente de producto. En caso contrario dar un mensaje que lo avise, comprar aun asi el máximo producto posible\n",
    "- Devolver cuánto dinero ha sobrado, si sobra algo"
   ]
  },
  {
   "cell_type": "code",
   "execution_count": 3,
   "id": "4d45dbd4",
   "metadata": {},
   "outputs": [],
   "source": [
    "base = {\n",
    "    \"frutas\":{\n",
    "        \"manzanas\":{\"precio\":1,\"cantidad\":2},\n",
    "        \"peras\":{\"precio\":3,\"cantidad\":5},\n",
    "        \"platanos\":{\"precio\":5,\"cantidad\":2}},\n",
    "    \"verduras\":{\n",
    "        \"lechuga\":{\"precio\":3,\"cantidad\":5},\n",
    "        \"col\":{\"precio\":6,\"cantidad\":2},\n",
    "        \"habichuelas\":{\"precio\":10,\"cantidad\":1}\n",
    "    },\n",
    "    \"lacteos\":{\n",
    "        \"yogur\":{\"precio\":2,\"cantidad\":5},\n",
    "        \"leche\":{\"precio\":6,\"cantidad\":3}\n",
    "    }\n",
    "}"
   ]
  },
  {
   "cell_type": "code",
   "execution_count": 4,
   "id": "71837ef3",
   "metadata": {},
   "outputs": [],
   "source": [
    "def compra(lista,dinero):\n",
    "    precio = 0\n",
    "    productos = lista.keys()\n",
    "    for elemento in base[\"verduras\"]:\n",
    "        if elemento in productos:\n",
    "            if base[\"verduras\"][elemento][\"cantidad\"] < lista[elemento]:\n",
    "                print(f\"Faltan algunas {elemento}\")\n",
    "                precio += base[\"verduras\"][elemento][\"cantidad\"]*base[\"verduras\"][elemento][\"precio\"]\n",
    "            else:\n",
    "                 precio += lista[elemento]*base[\"verduras\"][elemento][\"precio\"]\n",
    "    for elemento in base[\"lacteos\"]:\n",
    "        if elemento in productos:\n",
    "            if base[\"lacteos\"][elemento][\"cantidad\"] < lista[elemento]:\n",
    "                print(f\"Faltan algunas {elemento}\")\n",
    "                precio += base[\"lacteos\"][elemento][\"cantidad\"]*base[\"lacteos\"][elemento][\"precio\"]\n",
    "            else:\n",
    "                 precio += lista[elemento]*base[\"lacteos\"][elemento][\"precio\"]\n",
    "    for elemento in base[\"frutas\"]:\n",
    "        if elemento in productos:\n",
    "            if base[\"frutas\"][elemento][\"cantidad\"] < lista[elemento]:\n",
    "                print(f\"Faltan algunas {elemento}\")\n",
    "                precio += base[\"frutas\"][elemento][\"cantidad\"]*base[\"frutas\"][elemento][\"precio\"]\n",
    "            else:\n",
    "                 precio += lista[elemento]*base[\"frutas\"][elemento][\"precio\"]\n",
    "    if precio > dinero:\n",
    "        print(\"No tienes suficiente dinero\")\n",
    "    else:\n",
    "        print(f\"Te ha sobrado {dinero - precio}\")"
   ]
  },
  {
   "cell_type": "code",
   "execution_count": 5,
   "id": "3eeb1a8c",
   "metadata": {},
   "outputs": [
    {
     "name": "stdout",
     "output_type": "stream",
     "text": [
      "Te ha sobrado 98\n"
     ]
    }
   ],
   "source": [
    "compra({\"manzanas\":2},100)"
   ]
  },
  {
   "cell_type": "markdown",
   "id": "09624868",
   "metadata": {},
   "source": [
    "# Ejercicio 3"
   ]
  },
  {
   "cell_type": "markdown",
   "id": "564bfa9e",
   "metadata": {},
   "source": [
    "El problema de las N torres es un clásico problema en el que se busca colocar N torres en un tablero de ajedrez de NxN de manera que ninguna mate a otra.\n",
    "Escribe una función que reciba un tablero de dimensión variable y diga si es una solución válida al problema. Tienes que comprobar que:\n",
    "\n",
    "- Hay efectivamente N torres\n",
    "- El tablero tiene las dimensiones adecuadas\n",
    "- Es solución válida, es decir, las torres no se matan.\n",
    "\n",
    "El tablero que recibirá la función será una lista de listas con 0 en los huecos y 1 para las reinas"
   ]
  },
  {
   "cell_type": "code",
   "execution_count": 16,
   "id": "a4afb216",
   "metadata": {},
   "outputs": [],
   "source": [
    "def cuentaUnos(xs):\n",
    "    return sum([1 for x in xs if x == 1])\n",
    "def esSol(xss):\n",
    "    columnas = len(xss[0])\n",
    "    filas = len(xss)\n",
    "    traspuesta = [[fila[i] for fila in xss] for i in range(len(xss[0]))]\n",
    "    Nreinas = sum([cuentaUnos(xs) for xs in xss])\n",
    "    if columnas != filas:\n",
    "        return \"El tablero no tiene las dimensiones adecuadas\"\n",
    "    Nreinas = sum([cuentaUnos(xs) for xs in xss])\n",
    "    if columnas != Nreinas:\n",
    "        return \"El número de reinas no es válido\"\n",
    "    return (all([cuentaUnos(xs) == 1 for xs in xss]) and all([cuentaUnos(xs) == 1 for xs in traspuesta]))\n",
    "    \n",
    "            \n",
    "        \n",
    "        \n",
    "    "
   ]
  },
  {
   "cell_type": "code",
   "execution_count": 18,
   "id": "d7a253b2",
   "metadata": {},
   "outputs": [
    {
     "data": {
      "text/plain": [
       "True"
      ]
     },
     "execution_count": 18,
     "metadata": {},
     "output_type": "execute_result"
    }
   ],
   "source": [
    "esSol([[1,0,0],[0,1,0],[0,0,1]])"
   ]
  },
  {
   "cell_type": "code",
   "execution_count": null,
   "id": "7f1d006b",
   "metadata": {},
   "outputs": [],
   "source": []
  }
 ],
 "metadata": {
  "kernelspec": {
   "display_name": "Python 3 (ipykernel)",
   "language": "python",
   "name": "python3"
  },
  "language_info": {
   "codemirror_mode": {
    "name": "ipython",
    "version": 3
   },
   "file_extension": ".py",
   "mimetype": "text/x-python",
   "name": "python",
   "nbconvert_exporter": "python",
   "pygments_lexer": "ipython3",
   "version": "3.9.13"
  }
 },
 "nbformat": 4,
 "nbformat_minor": 5
}
