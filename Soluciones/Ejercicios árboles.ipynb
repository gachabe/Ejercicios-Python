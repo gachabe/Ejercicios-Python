{
 "cells": [
  {
   "cell_type": "code",
   "execution_count": 1,
   "id": "53b0c089",
   "metadata": {},
   "outputs": [
    {
     "data": {
      "text/plain": [
       "True"
      ]
     },
     "execution_count": 1,
     "metadata": {},
     "output_type": "execute_result"
    }
   ],
   "source": [
    "from Arboles import AG,ABB\n",
    "\n",
    "a1=AG.crea_arbol_desde_lista((\"A\",[\"B\",\n",
    "                               (\"C\",[\"H\"]),\n",
    "                               (\"D\",[\"I\",\"J\"]),\n",
    "                                \"E\",\n",
    "                                \"F\",\n",
    "                                (\"G\",[\"K\"])]))\n",
    "\n",
    "generos_musicales=AG.crea_arbol_desde_lista(('Música Pop/Rock', [\n",
    "    ('Rock', [\n",
    "        ('Rock and Roll', [\n",
    "            'Rockabilly',\n",
    "            'Doo Wop'\n",
    "        ]),\n",
    "        ('Rock Clásico', [\n",
    "            'Blues Rock',\n",
    "            ('Rock Psicodélico', [\n",
    "                'Rock Progresivo',\n",
    "                'Hard Rock',\n",
    "                'Garage Rock'\n",
    "            ]),\n",
    "            ('Rock Alternativo', [\n",
    "                'Grunge',\n",
    "                'Indie Rock'\n",
    "            ])\n",
    "        ]),\n",
    "        ('Heavy Metal', [\n",
    "            'Thrash Metal',\n",
    "            'Power Metal',\n",
    "            'Metal Alternativo'\n",
    "        ])\n",
    "    ]),\n",
    "    ('Pop', [\n",
    "        'Pop Rock',\n",
    "        'Dance Pop',\n",
    "        'Synthpop',\n",
    "        'Electropop'\n",
    "    ])\n",
    "]))\n",
    "\n",
    "potencias2 =AG.crea_arbol_desde_lista( (16, [\n",
    "    (8, [\n",
    "        (4, [2]), 2]), \n",
    "        (4, [2]), 2]))\n",
    "\n",
    "binario = AG.crea_arbol_desde_lista( (16, [\n",
    "    (\"Hijo1\", [\n",
    "        (\"Hijo11\"),\"Hijo12\"])\n",
    "        , \"Hijo2\"]))\n",
    "\n",
    "\n",
    "arbolABB1 = ABB()\n",
    "arbolABB1.inserta(10)\n",
    "arbolABB1.inserta(5)\n",
    "arbolABB1.inserta(15)\n",
    "arbolABB1.inserta(3)\n",
    "arbolABB1.inserta(7)\n",
    "arbolABB1.inserta(12)\n",
    "arbolABB1.inserta(18)\n",
    "\n",
    "\n",
    "arbolABB2 = ABB()\n",
    "arbolABB2.inserta(10)\n",
    "arbolABB2.inserta(5)\n",
    "arbolABB2.inserta(15)\n",
    "arbolABB2.inserta(3)\n",
    "arbolABB2.inserta(7)\n",
    "arbolABB2.inserta(2)\n",
    "arbolABB2.inserta(1)\n",
    "\n"
   ]
  },
  {
   "cell_type": "code",
   "execution_count": 2,
   "id": "4b422791",
   "metadata": {},
   "outputs": [
    {
     "data": {
      "text/plain": [
       "A\n",
       "|\n",
       "|-----B\n",
       "|\n",
       "|-----C\n",
       "|     |\n",
       "|     |-----H\n",
       "|\n",
       "|-----D\n",
       "|     |\n",
       "|     |-----I\n",
       "|     |\n",
       "|     |-----J\n",
       "|\n",
       "|-----E\n",
       "|\n",
       "|-----F\n",
       "|\n",
       "|-----G\n",
       "|     |\n",
       "|     |-----K"
      ]
     },
     "execution_count": 2,
     "metadata": {},
     "output_type": "execute_result"
    }
   ],
   "source": [
    "a1"
   ]
  },
  {
   "cell_type": "code",
   "execution_count": 4,
   "id": "3fbd9b1c",
   "metadata": {},
   "outputs": [],
   "source": [
    "todosPares = (lambda x: x%2==0)\n",
    "mayoresDos = (lambda x: x>2)"
   ]
  },
  {
   "cell_type": "code",
   "execution_count": 5,
   "id": "56abf39b",
   "metadata": {},
   "outputs": [
    {
     "data": {
      "text/plain": [
       "True"
      ]
     },
     "execution_count": 5,
     "metadata": {},
     "output_type": "execute_result"
    }
   ],
   "source": [
    "all([todosPares(x) for x in range(0,10,2) ])"
   ]
  },
  {
   "cell_type": "markdown",
   "id": "cb5332c4",
   "metadata": {},
   "source": [
    "1 Crea la función aplana_arbol que, recorriendo el árbol en profundidad, nos devuelva una lista con sus nodos."
   ]
  },
  {
   "cell_type": "code",
   "execution_count": 5,
   "id": "35010b6f",
   "metadata": {},
   "outputs": [],
   "source": [
    "def aplana_arbol(A):\n",
    "    if A.es_hoja():\n",
    "        return [A.dato]\n",
    "    else:\n",
    "        nodos_aplanados = [A.dato]\n",
    "        for hijo in A.hijos:\n",
    "            nodos_aplanados.extend(aplana_arbol(hijo))\n",
    "        return nodos_aplanados"
   ]
  },
  {
   "cell_type": "code",
   "execution_count": 6,
   "id": "79147f5e",
   "metadata": {},
   "outputs": [
    {
     "data": {
      "text/plain": [
       "['A', 'B', 'C', 'H', 'D', 'I', 'J', 'E', 'F', 'G', 'K']"
      ]
     },
     "execution_count": 6,
     "metadata": {},
     "output_type": "execute_result"
    }
   ],
   "source": [
    "aplana_arbol(a1)"
   ]
  },
  {
   "cell_type": "code",
   "execution_count": 7,
   "id": "f534976c",
   "metadata": {},
   "outputs": [
    {
     "data": {
      "text/plain": [
       "A\n",
       "|\n",
       "|-----B\n",
       "|\n",
       "|-----C\n",
       "|     |\n",
       "|     |-----H\n",
       "|\n",
       "|-----D\n",
       "|     |\n",
       "|     |-----I\n",
       "|     |\n",
       "|     |-----J\n",
       "|\n",
       "|-----E\n",
       "|\n",
       "|-----F\n",
       "|\n",
       "|-----G\n",
       "|     |\n",
       "|     |-----K"
      ]
     },
     "execution_count": 7,
     "metadata": {},
     "output_type": "execute_result"
    }
   ],
   "source": [
    "a1"
   ]
  },
  {
   "cell_type": "markdown",
   "id": "cf7a0bc9",
   "metadata": {},
   "source": [
    "2 Crea una función que ahora aplane el árbol pero usando la busqueda en anchura."
   ]
  },
  {
   "cell_type": "code",
   "execution_count": 2,
   "id": "07fac6af",
   "metadata": {},
   "outputs": [],
   "source": [
    "def aplana_arbol_anchura(A):\n",
    "    nodos_aplanados = []\n",
    "    cola = [A]  # Creamos una lista que servirá como cola y añadimos el nodo raíz\n",
    "\n",
    "    while cola != []:\n",
    "        nodo_actual = cola.pop(0)  # Obtenemos el primer nodo de la cola\n",
    "\n",
    "        nodos_aplanados.append(nodo_actual.dato)  # Agregamos el dato del nodo actual\n",
    "\n",
    "        # Agregamos los hijos del nodo actual a la cola\n",
    "        for hijo in nodo_actual.hijos:\n",
    "            cola.append(hijo)\n",
    "\n",
    "    return nodos_aplanados"
   ]
  },
  {
   "cell_type": "code",
   "execution_count": 3,
   "id": "ba2b3371",
   "metadata": {},
   "outputs": [
    {
     "data": {
      "text/plain": [
       "['A', 'B', 'C', 'D', 'E', 'F', 'G', 'H', 'I', 'J', 'K']"
      ]
     },
     "execution_count": 3,
     "metadata": {},
     "output_type": "execute_result"
    }
   ],
   "source": [
    "aplana_arbol_anchura(a1)"
   ]
  },
  {
   "cell_type": "markdown",
   "id": "82f58bad",
   "metadata": {},
   "source": [
    "3 Crea una función sumaArbol(A) que devuelva el valor de las suma de sus nodos"
   ]
  },
  {
   "cell_type": "code",
   "execution_count": 129,
   "id": "c9a0e451",
   "metadata": {},
   "outputs": [],
   "source": [
    "def sumaArbol(A):\n",
    "    if A.es_hoja():\n",
    "        return A.dato\n",
    "    else:\n",
    "        return A.dato + sum([sumaArbol(X) for X in A.hijos])"
   ]
  },
  {
   "cell_type": "code",
   "execution_count": 130,
   "id": "cae27d98",
   "metadata": {},
   "outputs": [
    {
     "data": {
      "text/plain": [
       "40"
      ]
     },
     "execution_count": 130,
     "metadata": {},
     "output_type": "execute_result"
    }
   ],
   "source": [
    "sumaArbol(potencias2)"
   ]
  },
  {
   "cell_type": "markdown",
   "id": "525dbd35",
   "metadata": {},
   "source": [
    "4 Crea la función todos_cumplen(p,A) tal que A es un árbol que todos sus nodos cumplen la propiedad p."
   ]
  },
  {
   "cell_type": "code",
   "execution_count": 10,
   "id": "73816e9b",
   "metadata": {},
   "outputs": [],
   "source": [
    "def todos_cumplen(p,A):\n",
    "    if A.es_hoja():\n",
    "        return p(A.dato)\n",
    "    else:\n",
    "        return p(A.dato) and all([todos_cumplen(p,X) for X in A.hijos])"
   ]
  },
  {
   "cell_type": "code",
   "execution_count": 11,
   "id": "b57a2a96",
   "metadata": {},
   "outputs": [
    {
     "data": {
      "text/plain": [
       "True"
      ]
     },
     "execution_count": 11,
     "metadata": {},
     "output_type": "execute_result"
    }
   ],
   "source": [
    "todos_cumplen(todosPares,potencias2)"
   ]
  },
  {
   "cell_type": "markdown",
   "id": "56840c8e",
   "metadata": {},
   "source": [
    "5 Crea la función mapArbol(f,A) tal que devuelva el arbol A, aplicando f a todos sus nodos"
   ]
  },
  {
   "cell_type": "code",
   "execution_count": 12,
   "id": "74389485",
   "metadata": {},
   "outputs": [],
   "source": [
    "def mapArbol(f,A):\n",
    "    if A.es_hoja():\n",
    "        A.dato = f(A.dato)\n",
    "    else:\n",
    "        A.dato =f(A.dato)\n",
    "        for i in A.hijos:\n",
    "            mapArbol(f,i)"
   ]
  },
  {
   "cell_type": "code",
   "execution_count": 13,
   "id": "6e007716",
   "metadata": {},
   "outputs": [],
   "source": [
    "suma1 = (lambda x: x+1)"
   ]
  },
  {
   "cell_type": "code",
   "execution_count": 20,
   "id": "2f1b3e7b",
   "metadata": {},
   "outputs": [
    {
     "data": {
      "text/plain": [
       "18\n",
       "|\n",
       "|-----10\n",
       "|     |\n",
       "|     |-----6\n",
       "|     |     |\n",
       "|     |     |-----4\n",
       "|     |\n",
       "|     |-----4\n",
       "|\n",
       "|-----6\n",
       "|     |\n",
       "|     |-----4\n",
       "|\n",
       "|-----4"
      ]
     },
     "execution_count": 20,
     "metadata": {},
     "output_type": "execute_result"
    }
   ],
   "source": [
    "mapArbol(suma1,potencias2)\n",
    "potencias2"
   ]
  },
  {
   "cell_type": "markdown",
   "id": "33e4f2e2",
   "metadata": {},
   "source": [
    "6 Crea la función crea_lista_arbol(A) que nos devuelva la lista original del árbol A"
   ]
  },
  {
   "cell_type": "code",
   "execution_count": 11,
   "id": "03c9466b",
   "metadata": {},
   "outputs": [],
   "source": [
    "def crea_lista_arbol(A):\n",
    "    if A.es_hoja():\n",
    "        return A.dato\n",
    "    else:\n",
    "        return (A.dato,[crea_lista_arbol(x) for x in A.hijos ])"
   ]
  },
  {
   "cell_type": "code",
   "execution_count": 12,
   "id": "fb246986",
   "metadata": {},
   "outputs": [
    {
     "data": {
      "text/plain": [
       "('A', ['B', ('C', ['H']), ('D', ['I', 'J']), 'E', 'F', ('G', ['K'])])"
      ]
     },
     "execution_count": 12,
     "metadata": {},
     "output_type": "execute_result"
    }
   ],
   "source": [
    "crea_lista_arbol(a1)"
   ]
  },
  {
   "cell_type": "markdown",
   "id": "86af5139",
   "metadata": {},
   "source": [
    "7 Crea la función borde(A) que devuelva el borde del árbol A, es decir, la lista de sus hojas"
   ]
  },
  {
   "cell_type": "code",
   "execution_count": 13,
   "id": "1f60e0f1",
   "metadata": {},
   "outputs": [],
   "source": [
    "def borde(A):\n",
    "        if A.es_hoja():\n",
    "            return [A.dato]\n",
    "        else:\n",
    "            hojas = []\n",
    "            for hijo in A.hijos:\n",
    "                hojas.extend(borde(hijo))\n",
    "            return hojas"
   ]
  },
  {
   "cell_type": "code",
   "execution_count": 14,
   "id": "d8e832a9",
   "metadata": {},
   "outputs": [
    {
     "data": {
      "text/plain": [
       "['B', 'H', 'I', 'J', 'E', 'F', 'K']"
      ]
     },
     "execution_count": 14,
     "metadata": {},
     "output_type": "execute_result"
    }
   ],
   "source": [
    "borde(a1)"
   ]
  },
  {
   "cell_type": "markdown",
   "id": "820a3f07",
   "metadata": {},
   "source": [
    "8 Crea la función ramifica(A1,A2,p) que devuelva una copia del arbol A1 pero a cada nodo que cumpla la propiedad p se le añadira como sub árbol A2"
   ]
  },
  {
   "cell_type": "code",
   "execution_count": 99,
   "id": "4b2351bc",
   "metadata": {},
   "outputs": [],
   "source": [
    "def ramifica(a1, a2, p):\n",
    "    def copia_arbol(arbol):\n",
    "        if arbol is None:\n",
    "            return None\n",
    "        nodo_copia = AG(arbol.dato)\n",
    "        for hijo in arbol.hijos:\n",
    "            nodo_copia.añade_hijo(copia_arbol(hijo))\n",
    "        return nodo_copia\n",
    "    \n",
    "    def ramificar_nodos(nodo):\n",
    "        if nodo is None:\n",
    "            return None\n",
    "        elif p(nodo.dato):\n",
    "            copia_a2 = copia_arbol(a2)\n",
    "            \n",
    "            for hijo in nodo.hijos:\n",
    "                (ramificar_nodos(hijo))\n",
    "            nodo.hijos=nodo.hijos + [copia_a2]\n",
    "            return nodo\n",
    "        else:\n",
    "            for hijo in nodo.hijos:\n",
    "                ramificar_nodos(hijo)\n",
    "            return nodo\n",
    "    \n",
    "    a1_copia = copia_arbol(a1)\n",
    "    a1_ramificado = ramificar_nodos(a1_copia)\n",
    "    return a1_ramificado"
   ]
  },
  {
   "cell_type": "code",
   "execution_count": 100,
   "id": "027501cb",
   "metadata": {},
   "outputs": [],
   "source": [
    "a2 =AG.crea_arbol_desde_lista((2,[]))"
   ]
  },
  {
   "cell_type": "code",
   "execution_count": 101,
   "id": "2df5f96e",
   "metadata": {},
   "outputs": [
    {
     "data": {
      "text/plain": [
       "16\n",
       "|\n",
       "|-----8\n",
       "|     |\n",
       "|     |-----4\n",
       "|     |     |\n",
       "|     |     |-----2\n",
       "|     |     |     |\n",
       "|     |     |     |-----2\n",
       "|     |     |\n",
       "|     |     |-----2\n",
       "|     |\n",
       "|     |-----2\n",
       "|     |     |\n",
       "|     |     |-----2\n",
       "|     |\n",
       "|     |-----2\n",
       "|\n",
       "|-----4\n",
       "|     |\n",
       "|     |-----2\n",
       "|     |     |\n",
       "|     |     |-----2\n",
       "|     |\n",
       "|     |-----2\n",
       "|\n",
       "|-----2\n",
       "|     |\n",
       "|     |-----2\n",
       "|\n",
       "|-----2"
      ]
     },
     "execution_count": 101,
     "metadata": {},
     "output_type": "execute_result"
    }
   ],
   "source": [
    "ramifica(potencias2,a2,todosPares)"
   ]
  },
  {
   "cell_type": "markdown",
   "id": "9b4c1818",
   "metadata": {},
   "source": [
    "9 Crea la función mismaForma(A1,A2) que devuelva True si los dos árboles tienen la misma forma"
   ]
  },
  {
   "cell_type": "code",
   "execution_count": 110,
   "id": "f1621d4f",
   "metadata": {},
   "outputs": [],
   "source": [
    "def mismaForma(A1,A2):\n",
    "    if A1.es_hoja() and A2.es_hoja():\n",
    "        return True\n",
    "    else:\n",
    "        if len(A1.hijos) == len(A2.hijos):\n",
    "            return all([mismaForma(X1,X2) for X1,X2 in zip(A1.hijos,A2.hijos)])\n",
    "        else:\n",
    "            return False"
   ]
  },
  {
   "cell_type": "code",
   "execution_count": 112,
   "id": "cdd876b6",
   "metadata": {},
   "outputs": [
    {
     "data": {
      "text/plain": [
       "True"
      ]
     },
     "execution_count": 112,
     "metadata": {},
     "output_type": "execute_result"
    }
   ],
   "source": [
    "mismaForma(potencias2,potencias2)"
   ]
  },
  {
   "cell_type": "markdown",
   "id": "69a9afa1",
   "metadata": {},
   "source": [
    "10 La máxima ramificación de un árbol general es el mayor número de hijos que tienen los nodos de dicho árbol. Crea la función maxRam(A), que devuelva la máxima ramificación de este."
   ]
  },
  {
   "cell_type": "code",
   "execution_count": 121,
   "id": "edc34fdd",
   "metadata": {},
   "outputs": [],
   "source": [
    "def maxRam(A):\n",
    "    if A.es_hoja():\n",
    "        return 0\n",
    "    else:\n",
    "        return max(len(A.hijos), max([ maxRam(X) for X in A.hijos]))\n",
    "        "
   ]
  },
  {
   "cell_type": "code",
   "execution_count": 123,
   "id": "26567d5e",
   "metadata": {},
   "outputs": [
    {
     "data": {
      "text/plain": [
       "4"
      ]
     },
     "execution_count": 123,
     "metadata": {},
     "output_type": "execute_result"
    }
   ],
   "source": [
    "maxRam(generos_musicales)"
   ]
  },
  {
   "cell_type": "markdown",
   "id": "f3ccae37",
   "metadata": {},
   "source": [
    "11 Crea una función cuentaAparece(A,x) que devuelva el número de apariciones de x en el árbol A."
   ]
  },
  {
   "cell_type": "code",
   "execution_count": 133,
   "id": "7385e8ed",
   "metadata": {},
   "outputs": [],
   "source": [
    "def cuentaAparece(A,x):\n",
    "    if A.dato==x:\n",
    "        return 1 + sum([cuentaAparece(X,x) for X in A.hijos])\n",
    "    else:\n",
    "        return sum([cuentaAparece(X,x) for X in A.hijos])"
   ]
  },
  {
   "cell_type": "code",
   "execution_count": null,
   "id": "5683e372",
   "metadata": {},
   "outputs": [],
   "source": []
  },
  {
   "cell_type": "code",
   "execution_count": null,
   "id": "5bab3011",
   "metadata": {},
   "outputs": [],
   "source": []
  },
  {
   "cell_type": "code",
   "execution_count": null,
   "id": "e14d4e95",
   "metadata": {},
   "outputs": [],
   "source": []
  },
  {
   "cell_type": "code",
   "execution_count": null,
   "id": "27104128",
   "metadata": {},
   "outputs": [],
   "source": []
  },
  {
   "cell_type": "code",
   "execution_count": 134,
   "id": "658d2bd9",
   "metadata": {},
   "outputs": [
    {
     "data": {
      "text/plain": [
       "4"
      ]
     },
     "execution_count": 134,
     "metadata": {},
     "output_type": "execute_result"
    }
   ],
   "source": [
    "cuentaAparece(potencias2,2)"
   ]
  },
  {
   "cell_type": "markdown",
   "id": "e600871d",
   "metadata": {},
   "source": [
    "12 Crea una caminos(x,A) tal que devuelva una lista con todos los caminos desde la raiz de A hasta x"
   ]
  },
  {
   "cell_type": "code",
   "execution_count": 8,
   "id": "23839ea7",
   "metadata": {},
   "outputs": [],
   "source": [
    "def caminos(x, ar):\n",
    "    def encontrar_caminos(nodo, camino_actual, caminos_encontrados):\n",
    "        camino_actual.append(nodo.dato)\n",
    "        \n",
    "        if nodo.dato == x:\n",
    "            caminos_encontrados.append(list(camino_actual))  # Copiamos el camino actual encontrado\n",
    "        \n",
    "        for hijo in nodo.hijos:\n",
    "            encontrar_caminos(hijo, camino_actual, caminos_encontrados)\n",
    "        \n",
    "        camino_actual.pop()  # Retiramos el último nodo del camino actual para retroceder\n",
    "        \n",
    "    caminos_encontrados = []\n",
    "    encontrar_caminos(ar, [], caminos_encontrados)\n",
    "    return caminos_encontrados"
   ]
  },
  {
   "cell_type": "code",
   "execution_count": 9,
   "id": "66da608c",
   "metadata": {},
   "outputs": [
    {
     "data": {
      "text/plain": [
       "[[16, 8, 4, 2], [16, 8, 2], [16, 4, 2], [16, 2]]"
      ]
     },
     "execution_count": 9,
     "metadata": {},
     "output_type": "execute_result"
    }
   ],
   "source": [
    "caminos(2,potencias2)"
   ]
  },
  {
   "cell_type": "markdown",
   "id": "e94bf2d4",
   "metadata": {},
   "source": [
    "13 Un árbol se dirá ordenado si para todos los nodos, el valor de los nodos de sus hijos están ordenados, es decir, el valord de los nodos de una misma altura van ordenados de mayor a menor. Crea una función que compruebe que un árbol es ordenado\n",
    "\n"
   ]
  },
  {
   "cell_type": "code",
   "execution_count": 13,
   "id": "eb3d5db0",
   "metadata": {},
   "outputs": [],
   "source": [
    "def es_ordenada(l):\n",
    "    f = (lambda x,y:x>=y)\n",
    "    return all([f(x,y) for x, y in zip(l,l[1:])])\n",
    "\n",
    "def es_ordenado(A):\n",
    "    if A.es_hoja():\n",
    "        return True\n",
    "    else:\n",
    "        if es_ordenada([x.dato for x in A.hijos]):\n",
    "            return all([es_ordenado(x) for x in A.hijos])\n",
    "        else:\n",
    "            return False\n",
    "    \n",
    "        "
   ]
  },
  {
   "cell_type": "code",
   "execution_count": 14,
   "id": "2a08be2b",
   "metadata": {},
   "outputs": [
    {
     "data": {
      "text/plain": [
       "True"
      ]
     },
     "execution_count": 14,
     "metadata": {},
     "output_type": "execute_result"
    }
   ],
   "source": [
    "es_ordenado(potencias2)"
   ]
  },
  {
   "cell_type": "markdown",
   "id": "3cf28798",
   "metadata": {},
   "source": [
    "14 crea la función rama izquierda que, mediante pilas, nos devuelva la rama izquierda del arbol.\n"
   ]
  },
  {
   "cell_type": "code",
   "execution_count": 1,
   "id": "a4f558f8",
   "metadata": {},
   "outputs": [],
   "source": [
    "def rama_izq(A):\n",
    "    pila = Pila()\n",
    "    while not A.es_hoja():\n",
    "        pila.apila(A.dato)\n",
    "        A = A.hijos[0]\n",
    "    pila.apila(A.dato)\n",
    "    return pila\n",
    "\n",
    "def rama_izq2_aux(A,aux):\n",
    "    if A.es_hoja():\n",
    "        return aux.apila(A.dato)\n",
    "    else:\n",
    "        aux.apila(A.dato)\n",
    "        return rama_izq2_aux(A.hijos[0],aux)\n",
    "    \n",
    "def rama_izq2(A):\n",
    "    return rama_izq2_aux(A,Pila())\n",
    "#Inversa De pila a arbol lineal\n",
    "\n",
    "def rama_pila(P):\n",
    "    arbol = AG()\n",
    "    while not P.esVacia():\n",
    "        AG.añade_hijo(P.cima)\n",
    "        P.desapila()\n",
    "    return arbol\n",
    "        "
   ]
  },
  {
   "cell_type": "code",
   "execution_count": 30,
   "id": "80741cac",
   "metadata": {},
   "outputs": [
    {
     "data": {
      "text/plain": [
       "B|A -"
      ]
     },
     "execution_count": 30,
     "metadata": {},
     "output_type": "execute_result"
    }
   ],
   "source": [
    "rama_izq(a1)"
   ]
  },
  {
   "cell_type": "markdown",
   "id": "b7f99362",
   "metadata": {},
   "source": [
    "15 Un árbol se dirá binario si, o bien tiene exactamente dos hijos, o bien ninguno.\n",
    "Crea una función que compruebe si un árbol es binario"
   ]
  },
  {
   "cell_type": "code",
   "execution_count": 1,
   "id": "65d42bd7",
   "metadata": {},
   "outputs": [
    {
     "data": {
      "text/plain": [
       "[1, 1, 2]"
      ]
     },
     "execution_count": 1,
     "metadata": {},
     "output_type": "execute_result"
    }
   ],
   "source": [
    "A =[1,2,1]\n",
    "sorted(A)"
   ]
  },
  {
   "cell_type": "code",
   "execution_count": 2,
   "id": "3f24444e",
   "metadata": {},
   "outputs": [],
   "source": [
    "def es_binario(A):\n",
    "    if A.es_hoja():\n",
    "        \n",
    "        return True\n",
    "    else:\n",
    "       \n",
    "        if len(A.hijos) == 2:\n",
    "            return all([es_binario(X) for X in A.hijos])\n",
    "        else:\n",
    "            return False"
   ]
  },
  {
   "cell_type": "code",
   "execution_count": 5,
   "id": "85186904",
   "metadata": {},
   "outputs": [
    {
     "data": {
      "text/plain": [
       "True"
      ]
     },
     "execution_count": 5,
     "metadata": {},
     "output_type": "execute_result"
    }
   ],
   "source": [
    "es_binario(binario)"
   ]
  },
  {
   "cell_type": "markdown",
   "id": "eea4de95",
   "metadata": {},
   "source": [
    "16 Crea la función profundidades que devuelva la profundidades de todas las hojas de un árbol"
   ]
  },
  {
   "cell_type": "code",
   "execution_count": 7,
   "id": "9d636920",
   "metadata": {},
   "outputs": [],
   "source": [
    "def profundidades(arbol):\n",
    "    def dfs(nodo, profundidad, profundidades):\n",
    "        if nodo.es_hoja():\n",
    "            profundidades.append(profundidad)\n",
    "        for hijo in nodo.hijos:\n",
    "            dfs(hijo, profundidad + 1, profundidades)\n",
    "\n",
    "    profundidades = []\n",
    "    dfs(arbol, 0, profundidades)\n",
    "    return profundidades"
   ]
  },
  {
   "cell_type": "code",
   "execution_count": 8,
   "id": "a0bf2626",
   "metadata": {
    "scrolled": true
   },
   "outputs": [
    {
     "data": {
      "text/plain": [
       "[1, 2, 2, 2, 1, 1, 2]"
      ]
     },
     "execution_count": 8,
     "metadata": {},
     "output_type": "execute_result"
    }
   ],
   "source": [
    "(profundidades(a1))"
   ]
  },
  {
   "cell_type": "markdown",
   "id": "4e2259f7",
   "metadata": {},
   "source": [
    "17 Un árbol se dirá balanceado se la diferntecia de profundidad entre su hoja más profunda y la segunda es, a lo sumo, uno."
   ]
  },
  {
   "cell_type": "code",
   "execution_count": 89,
   "id": "22f084d1",
   "metadata": {},
   "outputs": [],
   "source": [
    "def balanceado(A):\n",
    "    l = profundidades(A)\n",
    "    sorted(l)\n",
    "    m = l[0]\n",
    "    M = l[1]\n",
    "    return abs(m-M)<2"
   ]
  },
  {
   "cell_type": "code",
   "execution_count": 91,
   "id": "2cbafe35",
   "metadata": {},
   "outputs": [
    {
     "data": {
      "text/plain": [
       "True"
      ]
     },
     "execution_count": 91,
     "metadata": {},
     "output_type": "execute_result"
    }
   ],
   "source": [
    "balanceado(a1)"
   ]
  },
  {
   "cell_type": "markdown",
   "id": "02c2b8c4",
   "metadata": {},
   "source": [
    "18 Crea una función que reciba un árbol de tipo ABB y devuelva el mismo pero expresado como AG"
   ]
  },
  {
   "cell_type": "code",
   "execution_count": 9,
   "id": "328cb766",
   "metadata": {},
   "outputs": [],
   "source": [
    "def abb_a_ag(abb):\n",
    "    def construir_ag(nodo_abb):\n",
    "        if nodo_abb is None:\n",
    "            return None\n",
    "        nodo_ag = AG(nodo_abb.clave)\n",
    "        if nodo_abb.izq:\n",
    "            nodo_ag.hijos.append(construir_ag(nodo_abb.izq))\n",
    "        if nodo_abb.der:\n",
    "            nodo_ag.hijos.append(construir_ag(nodo_abb.der))\n",
    "        return nodo_ag\n",
    "    \n",
    "    if abb is None or abb.esVacio():\n",
    "        return None\n",
    "    \n",
    "    raiz_ag = AG(abb.raiz())\n",
    "    if abb._ABB__raiz.izq:\n",
    "        raiz_ag.hijos.append(construir_ag(abb._ABB__raiz.izq))\n",
    "    if abb._ABB__raiz.der:\n",
    "        raiz_ag.hijos.append(construir_ag(abb._ABB__raiz.der))\n",
    "    return raiz_ag\n"
   ]
  },
  {
   "cell_type": "code",
   "execution_count": 10,
   "id": "dd41f0fe",
   "metadata": {},
   "outputs": [
    {
     "data": {
      "text/plain": [
       "10\n",
       "|\n",
       "|-----5\n",
       "|     |\n",
       "|     |-----3\n",
       "|     |\n",
       "|     |-----7\n",
       "|\n",
       "|-----15\n",
       "|     |\n",
       "|     |-----12\n",
       "|     |\n",
       "|     |-----18"
      ]
     },
     "execution_count": 10,
     "metadata": {},
     "output_type": "execute_result"
    }
   ],
   "source": [
    "abb_a_ag(arbolABB1)"
   ]
  },
  {
   "cell_type": "code",
   "execution_count": 122,
   "id": "f7331fd5",
   "metadata": {},
   "outputs": [
    {
     "data": {
      "text/plain": [
       "\n",
       "          |18|<\n",
       "     |15|<\n",
       "          |12|<\n",
       "|10|<\n",
       "          |7|<\n",
       "     |5|<\n",
       "          |3|<"
      ]
     },
     "execution_count": 122,
     "metadata": {},
     "output_type": "execute_result"
    }
   ],
   "source": []
  },
  {
   "cell_type": "markdown",
   "id": "f71b4179",
   "metadata": {},
   "source": [
    "19 Ahora la función inversa, que pase de árbol tipo AG a tipo ABB"
   ]
  },
  {
   "cell_type": "code",
   "execution_count": 123,
   "id": "30a1e76c",
   "metadata": {},
   "outputs": [],
   "source": [
    "def ag_a_abb(ag):\n",
    "    def construir_abb(nodo_ag):\n",
    "        if nodo_ag is None:\n",
    "            return None\n",
    "        nodo_abb = ABB()\n",
    "        nodo_abb.inserta(nodo_ag.dato)\n",
    "        for hijo in nodo_ag.hijos:\n",
    "            sub_arbol_abb = construir_abb(hijo)\n",
    "            if sub_arbol_abb:\n",
    "                nodo_abb.inserta(sub_arbol_abb.raiz())\n",
    "        return nodo_abb\n",
    "\n",
    "    if ag is None:\n",
    "        return None\n",
    "\n",
    "    raiz_abb = ABB()\n",
    "    raiz_abb.inserta(ag.dato)\n",
    "    for hijo in ag.hijos:\n",
    "        sub_arbol_abb = construir_abb(hijo)\n",
    "        if sub_arbol_abb:\n",
    "            raiz_abb.inserta(sub_arbol_abb.raiz())\n",
    "\n",
    "    return raiz_abb\n"
   ]
  },
  {
   "cell_type": "code",
   "execution_count": 124,
   "id": "f2caf31a",
   "metadata": {},
   "outputs": [
    {
     "data": {
      "text/plain": [
       "\n",
       "|16|<\n",
       "     |8|<\n",
       "          |4|<\n",
       "               |2|<"
      ]
     },
     "execution_count": 124,
     "metadata": {},
     "output_type": "execute_result"
    }
   ],
   "source": [
    "ag_a_abb(potencias2)"
   ]
  },
  {
   "cell_type": "markdown",
   "id": "4056dd13",
   "metadata": {},
   "source": [
    "20 Este ejercicio consistirá en crear el árbol AG de divisores de un número. Para ello se han de crear las siguientes funciones.\n",
    "\n",
    "    -Primero una función que dado un número n nos devuelva la lista de sus divisores inclusyendo el mismo y el 1.\n",
    "    -Después otra función que nos devuelva los dos elementos centrales de una lista\n",
    "    -Finalmente una función que dado un número n cree un arbol de tipo AG binario tal que cada nodo sus hijos serán los divisores centrales de su lista de divisores. Los nodos hoja serán los primos o el 1\n",
    "    \n",
    " Recuerda que puedes crear las funciones auxiliares que necesites"
   ]
  },
  {
   "cell_type": "code",
   "execution_count": null,
   "id": "e50ca4b8",
   "metadata": {},
   "outputs": [],
   "source": []
  },
  {
   "cell_type": "code",
   "execution_count": 15,
   "id": "afbf04c2",
   "metadata": {},
   "outputs": [],
   "source": [
    "def divisores(n):\n",
    "    return [x for x in range(1,n+1) if n%x==0]\n",
    "\n",
    "def elementos_centrales(lista):\n",
    "        longitud = len(lista)\n",
    "    \n",
    "        # Si la longitud es par, devuelve los dos elementos centrales\n",
    "        indice_medio_1 = longitud // 2 - 1\n",
    "        indice_medio_2 = longitud // 2\n",
    "        return lista[indice_medio_1], lista[indice_medio_2]\n",
    "\n",
    "    \n",
    "    \n",
    "def crear_ag(n):\n",
    "    if len(divisores(n))==2 or n ==1:\n",
    "        return n\n",
    "    else:\n",
    "        \n",
    "        x,y = elementos_centrales(divisores(n))\n",
    "        return (n,[crear_ag(x),crear_ag(y)])\n",
    "    \n",
    "    \n",
    "def crear_ag2(n):\n",
    "    if len(divisores(n))==2 or n ==1:\n",
    "        A = AG(n)\n",
    "    else:\n",
    "        A = AG(n)\n",
    "        x,y = elementos_centrales(divisores(n))\n",
    "        A.hijos = [crear_ag2(x),crear_ag2(y)]\n",
    "    return A    \n",
    "    \n",
    "        \n",
    "        \n",
    "        \n",
    "        \n",
    "        \n",
    "        \n",
    "        \n",
    "        \n",
    "        \n",
    "        \n",
    "        \n",
    "        \n",
    "        \n",
    "        \n",
    "        \n",
    "        \n",
    "    "
   ]
  },
  {
   "cell_type": "code",
   "execution_count": 179,
   "id": "62827c43",
   "metadata": {},
   "outputs": [
    {
     "data": {
      "text/plain": [
       "12000\n",
       "|\n",
       "|-----100\n",
       "|     |\n",
       "|     |-----5\n",
       "|     |\n",
       "|     |-----10\n",
       "|     |     |\n",
       "|     |     |-----2\n",
       "|     |     |\n",
       "|     |     |-----5\n",
       "|\n",
       "|-----120\n",
       "|     |\n",
       "|     |-----10\n",
       "|     |     |\n",
       "|     |     |-----2\n",
       "|     |     |\n",
       "|     |     |-----5\n",
       "|     |\n",
       "|     |-----12\n",
       "|     |     |\n",
       "|     |     |-----3\n",
       "|     |     |\n",
       "|     |     |-----4\n",
       "|     |     |     |\n",
       "|     |     |     |-----1\n",
       "|     |     |     |\n",
       "|     |     |     |-----2"
      ]
     },
     "execution_count": 179,
     "metadata": {},
     "output_type": "execute_result"
    }
   ],
   "source": [
    "arbol = AG.crea_arbol_desde_lista(crear_abb(12000))\n"
   ]
  },
  {
   "cell_type": "code",
   "execution_count": 16,
   "id": "1a30dbbd",
   "metadata": {},
   "outputs": [
    {
     "data": {
      "text/plain": [
       "12000\n",
       "|\n",
       "|-----100\n",
       "|     |\n",
       "|     |-----5\n",
       "|     |\n",
       "|     |-----10\n",
       "|     |     |\n",
       "|     |     |-----2\n",
       "|     |     |\n",
       "|     |     |-----5\n",
       "|\n",
       "|-----120\n",
       "|     |\n",
       "|     |-----10\n",
       "|     |     |\n",
       "|     |     |-----2\n",
       "|     |     |\n",
       "|     |     |-----5\n",
       "|     |\n",
       "|     |-----12\n",
       "|     |     |\n",
       "|     |     |-----3\n",
       "|     |     |\n",
       "|     |     |-----4\n",
       "|     |     |     |\n",
       "|     |     |     |-----1\n",
       "|     |     |     |\n",
       "|     |     |     |-----2"
      ]
     },
     "execution_count": 16,
     "metadata": {},
     "output_type": "execute_result"
    }
   ],
   "source": [
    "crear_ag2(12000)"
   ]
  }
 ],
 "metadata": {
  "kernelspec": {
   "display_name": "Python 3 (ipykernel)",
   "language": "python",
   "name": "python3"
  },
  "language_info": {
   "codemirror_mode": {
    "name": "ipython",
    "version": 3
   },
   "file_extension": ".py",
   "mimetype": "text/x-python",
   "name": "python",
   "nbconvert_exporter": "python",
   "pygments_lexer": "ipython3",
   "version": "3.9.13"
  }
 },
 "nbformat": 4,
 "nbformat_minor": 5
}
