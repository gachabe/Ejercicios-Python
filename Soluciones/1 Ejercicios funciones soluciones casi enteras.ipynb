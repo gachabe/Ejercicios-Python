{
 "cells": [
  {
   "cell_type": "markdown",
   "id": "6c29f511",
   "metadata": {},
   "source": [
    "# Ejercicios de Funciones y bucles"
   ]
  },
  {
   "cell_type": "markdown",
   "id": "86a4de67",
   "metadata": {},
   "source": [
    "### Escriba un programa que pida la anchura y altura de un rectángulo y lo dibuje con caracteres producto (*):"
   ]
  },
  {
   "cell_type": "code",
   "execution_count": null,
   "id": "bdccd8d8",
   "metadata": {},
   "outputs": [],
   "source": []
  },
  {
   "cell_type": "markdown",
   "id": "bed6c6f6",
   "metadata": {},
   "source": [
    "### Definir una función que calcule la longitud de una lista o una cadena dada."
   ]
  },
  {
   "cell_type": "code",
   "execution_count": 1,
   "id": "634bfa4e",
   "metadata": {},
   "outputs": [],
   "source": [
    "\n",
    "\n",
    "\n",
    "        "
   ]
  },
  {
   "cell_type": "code",
   "execution_count": null,
   "id": "788aad7c",
   "metadata": {},
   "outputs": [],
   "source": []
  },
  {
   "cell_type": "markdown",
   "id": "f07242a9",
   "metadata": {},
   "source": [
    "### Definir un histograma procedimiento() que tome una lista de números enteros e imprima un histograma en la pantalla"
   ]
  },
  {
   "cell_type": "markdown",
   "id": "b2d95632",
   "metadata": {},
   "source": [
    "### Definir una función que dados dos números compruebe si el primero es más pequeño que el segundo y, si así fuera,  dar una lista con todos los números desde el primero hasta el segundo"
   ]
  },
  {
   "cell_type": "markdown",
   "id": "8952567d",
   "metadata": {},
   "source": [
    "### Definir una función que reciba tres argumentos x,y,m que devuelva True si x es inverso de y en módulo m y False en caso contrario"
   ]
  },
  {
   "cell_type": "code",
   "execution_count": 11,
   "id": "54009db6",
   "metadata": {},
   "outputs": [],
   "source": [
    "def inverso(x,y,m):\n",
    "    return x*y %m == 1"
   ]
  },
  {
   "cell_type": "markdown",
   "id": "40ef7201",
   "metadata": {},
   "source": [
    "### Definir una función que dado un número n nos devuelva el n-ésimo número primo"
   ]
  },
  {
   "cell_type": "code",
   "execution_count": 1,
   "id": "de1d5194",
   "metadata": {},
   "outputs": [
    {
     "name": "stdout",
     "output_type": "stream",
     "text": [
      "0\n",
      "1\n",
      "2\n"
     ]
    }
   ],
   "source": []
  },
  {
   "cell_type": "markdown",
   "id": "ff9a7362",
   "metadata": {},
   "source": [
    "### Definir una función que dado un número n nos devuelva el n-ésimo número de Fibonacci"
   ]
  },
  {
   "cell_type": "markdown",
   "id": "aaa34ad0",
   "metadata": {},
   "source": [
    "### (Difícil) Definir una función que dados dos números nos devuelva el mínimo común múltiplo, intenta implementar el algortimo de Euclides que vimos en Álgebra Básica "
   ]
  },
  {
   "cell_type": "code",
   "execution_count": 3,
   "id": "d4b6ce82",
   "metadata": {},
   "outputs": [
    {
     "name": "stdout",
     "output_type": "stream",
     "text": [
      "El MCD de 48 y 18 es 6\n"
     ]
    }
   ],
   "source": [
    "def euclides(a, b):\n",
    "    while b:\n",
    "        a, b = b, a % b\n",
    "    return a\n",
    "\n",
    "# Ejemplo de uso\n",
    "num1 = 48\n",
    "num2 = 18\n",
    "mcd = euclides(num1, num2)\n",
    "print(f\"El MCD de {num1} y {num2} es {mcd}\")\n"
   ]
  },
  {
   "cell_type": "markdown",
   "id": "3c413c50",
   "metadata": {},
   "source": [
    "### Definir una función que dada una lista la ordene (Este ejercicio es clásico de entrevista de empresa)"
   ]
  },
  {
   "cell_type": "markdown",
   "id": "e052b7e9",
   "metadata": {},
   "source": [
    "### Calcular todas las ternas pitagóricas cuya suma sea menor que 100"
   ]
  },
  {
   "cell_type": "code",
   "execution_count": 9,
   "id": "ce6a55ae",
   "metadata": {},
   "outputs": [
    {
     "data": {
      "text/plain": [
       "[(3, 4, 5),\n",
       " (4, 3, 5),\n",
       " (5, 12, 13),\n",
       " (6, 8, 10),\n",
       " (7, 24, 25),\n",
       " (8, 6, 10),\n",
       " (8, 15, 17),\n",
       " (9, 12, 15),\n",
       " (9, 40, 41),\n",
       " (10, 24, 26),\n",
       " (12, 5, 13),\n",
       " (12, 9, 15),\n",
       " (12, 16, 20),\n",
       " (12, 35, 37),\n",
       " (15, 8, 17),\n",
       " (15, 20, 25),\n",
       " (15, 36, 39),\n",
       " (16, 12, 20),\n",
       " (16, 30, 34),\n",
       " (18, 24, 30),\n",
       " (20, 15, 25),\n",
       " (20, 21, 29),\n",
       " (21, 20, 29),\n",
       " (21, 28, 35),\n",
       " (24, 7, 25),\n",
       " (24, 10, 26),\n",
       " (24, 18, 30),\n",
       " (24, 32, 40),\n",
       " (28, 21, 35),\n",
       " (30, 16, 34),\n",
       " (32, 24, 40),\n",
       " (35, 12, 37),\n",
       " (36, 15, 39),\n",
       " (40, 9, 41)]"
      ]
     },
     "execution_count": 9,
     "metadata": {},
     "output_type": "execute_result"
    }
   ],
   "source": [
    "def terna(n):\n",
    "    l = []\n",
    "    for i in range(1,n):\n",
    "        for j in range(1,n):\n",
    "            for k in range(n):\n",
    "                if i**2+j**2==k**2 and i+j+k <= 100:\n",
    "                    l.append((i,j,k))\n",
    "    return l\n",
    "\n",
    "(terna(100))"
   ]
  },
  {
   "cell_type": "markdown",
   "id": "814d6f21",
   "metadata": {},
   "source": [
    "### Calcular la suma de todos los múltiplos de 3 o 5 menores que 1000"
   ]
  },
  {
   "cell_type": "code",
   "execution_count": 3,
   "id": "8fbe1189",
   "metadata": {},
   "outputs": [
    {
     "data": {
      "text/plain": [
       "233168"
      ]
     },
     "execution_count": 3,
     "metadata": {},
     "output_type": "execute_result"
    }
   ],
   "source": [
    "def suma_de():\n",
    "    S = 0\n",
    "    for i in range(1000):\n",
    "        if i %3 == 0 or i %5 ==0:\n",
    "            S += i\n",
    "    return S\n",
    "\n",
    "suma_de()"
   ]
  },
  {
   "cell_type": "code",
   "execution_count": 1,
   "id": "ee6c540f",
   "metadata": {},
   "outputs": [],
   "source": [
    "def es_primo(n):\n",
    "    aux = []\n",
    "    for i in range(1,n):\n",
    "        if n%i ==0:\n",
    "            aux.append(i)\n",
    "    return aux"
   ]
  },
  {
   "cell_type": "code",
   "execution_count": 2,
   "id": "0f3f2ec0",
   "metadata": {},
   "outputs": [
    {
     "data": {
      "text/plain": [
       "[1, 2]"
      ]
     },
     "execution_count": 2,
     "metadata": {},
     "output_type": "execute_result"
    }
   ],
   "source": [
    "es_primo(4)"
   ]
  },
  {
   "cell_type": "markdown",
   "id": "7d683a75",
   "metadata": {},
   "source": [
    "### Se define la función órbita de Collatz como: $f(n)= \\left\\{ \\begin{array}{lcc}n/2 &   si  & es~par \\\\ \\\\ 3x+1 &  si  &es~impar\\end{array}\\right. $ definir una función que dado un número natural nos de su órbita. La conjetura de Collatz (aun por demostrar) nos dice que para todo número natural su órbita es finita "
   ]
  },
  {
   "cell_type": "code",
   "execution_count": 21,
   "id": "6e5609f5",
   "metadata": {},
   "outputs": [
    {
     "data": {
      "text/plain": [
       "[13, 40, 20, 10, 5, 16, 8, 4, 2, 1]"
      ]
     },
     "execution_count": 21,
     "metadata": {},
     "output_type": "execute_result"
    }
   ],
   "source": [
    "def collazt(n):\n",
    "    L1 = [2,1]\n",
    "    L =[n]\n",
    "    while n != 4:\n",
    "        if n %2 == 0:\n",
    "            n = n//2\n",
    "            L.append(n)\n",
    "        else:\n",
    "            n = n*3+1\n",
    "            L.append(n)\n",
    "    return L+L1\n",
    "collazt(13)"
   ]
  },
  {
   "cell_type": "markdown",
   "id": "e875531e",
   "metadata": {},
   "source": [
    "### (MUY DIFÍCIL)  Definir una (o varias) función(es) que dado tres números a, b y m haga:\n",
    "###  1 - Imprima ax = b mod m\n",
    "###  2 - Compruebe y nos diga si esta ecuación de congruencia tiene solución\n",
    "###  3 -  Nos devuelva la solución de mi x"
   ]
  },
  {
   "cell_type": "code",
   "execution_count": 14,
   "id": "75abfaf4",
   "metadata": {},
   "outputs": [
    {
     "name": "stdout",
     "output_type": "stream",
     "text": [
      "La ecuación es 2x = 3 mod 5\n",
      "cuya solución es 4 + 5z\n"
     ]
    }
   ],
   "source": [
    "def ecuacion(a,b,m):\n",
    "    print(f\"La ecuación es {a}x = {b} mod {m}\")\n",
    "    \n",
    "def comprueba(a,b,m):\n",
    "    return b%euclides(a,m)==0\n",
    "\n",
    "def hallar_inverso(a,b,m):\n",
    "    for i in range(1,m):\n",
    "        if inverso(i,a,m):\n",
    "            return i\n",
    "\n",
    "        \n",
    "def solucion(a,b,m):\n",
    "    if comprueba(a,b,m):\n",
    "        inv = hallar_inverso(a,b,m)\n",
    "        x = b*inv %m\n",
    "        ecuacion(a,b,m)\n",
    "        print(f\"cuya solución es {x} + {m}z\")\n",
    "        \n",
    "\n",
    "    "
   ]
  }
 ],
 "metadata": {
  "kernelspec": {
   "display_name": "Python 3 (ipykernel)",
   "language": "python",
   "name": "python3"
  },
  "language_info": {
   "codemirror_mode": {
    "name": "ipython",
    "version": 3
   },
   "file_extension": ".py",
   "mimetype": "text/x-python",
   "name": "python",
   "nbconvert_exporter": "python",
   "pygments_lexer": "ipython3",
   "version": "3.9.13"
  }
 },
 "nbformat": 4,
 "nbformat_minor": 5
}
