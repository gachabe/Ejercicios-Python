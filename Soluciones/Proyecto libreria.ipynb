{
 "cells": [
  {
   "cell_type": "markdown",
   "id": "f8515364",
   "metadata": {},
   "source": [
    "# Creación objeto libro"
   ]
  },
  {
   "cell_type": "markdown",
   "id": "cd00981d",
   "metadata": {},
   "source": [
    "En esta relación vamos a realizar un resumen de POO y gestión de archivos.\n",
    "\n",
    "El objetivo es crear una base de datos y un sistema para una librería. Para ello crearemos un objeto llamado libro que deberá recibir como argumentos el titulo, el autor y el precio. Además se deberán implementar los siguientes métodos:\n",
    "\n",
    "    `__str__ `: Nos dará el título.\n",
    "    `__repr__`:  De la forma usual"
   ]
  },
  {
   "cell_type": "code",
   "execution_count": 158,
   "id": "6d343395",
   "metadata": {},
   "outputs": [],
   "source": [
    "class Libro:\n",
    "    def __init__(self,titulo, autor, precio):\n",
    "        self.titulo = titulo\n",
    "        self.autor = autor\n",
    "        try:\n",
    "            self.precio = float(precio)\n",
    "        except ValueError:\n",
    "            pass\n",
    "    \n",
    "    def __str__(self):\n",
    "        return str(self.titulo)\n",
    "    \n",
    "    def __repr__(self):\n",
    "        return str(self)\n",
    "    \n",
    "    \n",
    "        "
   ]
  },
  {
   "cell_type": "markdown",
   "id": "fb8c45f8",
   "metadata": {},
   "source": [
    "# Creación objeto librería"
   ]
  },
  {
   "cell_type": "markdown",
   "id": "e6e87f76",
   "metadata": {},
   "source": [
    "Ahora crearemos un objeto librería, este recibirá como argumentos: una ruta que guardaremos en la variable self.ruta, os adjunto el ejemplo \"libros.txt\", que será un archivo de texto externo con los datos de los libros actuales de la libería. Y debe guardarlos en la variable self.stock, que será una lista de objetos libro. También tendrá una variable, que empezará en 0 llamada self.ventas, que será la cantidad de ventas realizadas.\n",
    "Además se deberá implementar los siguientes métodos:\n",
    "\n",
    "    actualizar_base: Que dada la variable self.stock actualizará la base de datos libros.txt. A partir de ahora cada cambio que se realice sobre self.stock deberá reflejarse en libros.txt\n",
    "    \n",
    "    addLibro: Que recibirá el título, autor y  precio de un libro y lo añadirá a self.stock, y debe actualizar el archivo de texto sin eliminar los previos\n",
    "    \n",
    "    carritoPrecio: Que recibirá una cantidad de dinero y una lista de titulos de libros y deberá crear una factura llamada factura_n.txt donde n será el numero de la venta. En esta factura se deberá ver una lista de los libros comprados,(podría ocurrir que alguno no estuviese en stock) el precio de cada uno, el coste final y la diferencia entre el coste total y lo pagado. En caso de no poderse realizar la compra devolver un mensaje en pantalla de error\n"
   ]
  },
  {
   "cell_type": "code",
   "execution_count": 173,
   "id": "2299d74d",
   "metadata": {},
   "outputs": [],
   "source": [
    "class Libreria:\n",
    "    def __init__(self,ruta):\n",
    "        self.ruta = ruta\n",
    "        self.ventas = 0\n",
    "        self.stock = []\n",
    "        with open (self.ruta,encoding = \"utf-8\") as file:\n",
    "            for linea in file:\n",
    "                linea = linea.rstrip().split(\",\")\n",
    "                self.stock.append(Libro(linea[0],linea[1],(linea[2])))\n",
    "        self.stock = self.stock[1:]\n",
    "    \n",
    "    def actualizar_base(self):\n",
    "        with open (self.ruta,\"w\",encoding= \"utf-8\")  as file:\n",
    "            file.write(\"Titulo,Autor,Precio\"+\"\\n\")\n",
    "            for linea in self.stock:\n",
    "                file.write(str(linea.titulo)+\",\"+str(linea.autor)+\",\"+str(linea.precio)+\"\\n\")\n",
    "                \n",
    "    def buscarAutor(self, autor):\n",
    "        lista = []\n",
    "        for libro in self.stock:\n",
    "            if libro.autor == autor:\n",
    "                lista.append(libro)\n",
    "        if len(lista) != 0:\n",
    "            print(f\"Esta es la lista de libros que tenemos escritos por {autor}\")\n",
    "            for libro in lista:\n",
    "                print(libro)\n",
    "                \n",
    "                \n",
    "        \n",
    "    def addLibro(self,titulo,autor,precio):\n",
    "        self.stock.append(Libro(titulo,autor,precio))\n",
    "        self.actualizar_base()\n",
    "        return self\n",
    "    \n",
    "    def eliminarLibro(self,titulo):\n",
    "        Nstock = []\n",
    "        for libro in self.stock:\n",
    "            if libro.titulo != titulo:\n",
    "                print(libro.titulo)\n",
    "                Nstock.append(libro)\n",
    "        self.stock = Nstock[:]\n",
    "        self.actualizar_base()\n",
    "        return \n",
    "    \n",
    "    def carritoPrecio(self,dinero,lista):\n",
    "            suma = 0\n",
    "            compra = []\n",
    "            for libro in self.stock:\n",
    "                if libro.titulo in lista:\n",
    "                    compra.append((libro.titulo,libro.precio))\n",
    "                    suma += libro.precio\n",
    "            print(compra)\n",
    "            if suma <= dinero:\n",
    "                with open(f\"factura_{self.ventas}.txt\",\"w\",encoding=\"utf-8\") as factura:\n",
    "                    factura.write(f\"Factura número {self.ventas}:\\n\")\n",
    "                    for libro in compra:\n",
    "                        factura.write(f\"{libro[0]}\\t{libro[1]}\\n\")\n",
    "                    factura.write(f\"\\n\\nEl coste total fue {suma}, el importe {dinero}. Resultado {dinero- suma}\")\n",
    "                self.ventas +=1\n",
    "            else:\n",
    "                                  raise Exception(\"Hubo un error en su compra\")\n",
    "            return \n",
    "        "
   ]
  },
  {
   "cell_type": "code",
   "execution_count": 171,
   "id": "79c91c38",
   "metadata": {},
   "outputs": [],
   "source": [
    "A = Libreria(\"libros.txt\")\n",
    "\n"
   ]
  },
  {
   "cell_type": "code",
   "execution_count": 172,
   "id": "5cc125c9",
   "metadata": {},
   "outputs": [
    {
     "name": "stdout",
     "output_type": "stream",
     "text": [
      "Esta es la lista de libros que tenemos escritos por  George Orwell\n",
      "1984\n",
      "Animal Farm\n"
     ]
    }
   ],
   "source": [
    "A.buscarAutor(\"George Orwell\")\n"
   ]
  },
  {
   "cell_type": "code",
   "execution_count": 92,
   "id": "e62f88d5",
   "metadata": {},
   "outputs": [
    {
     "data": {
      "text/plain": [
       "True"
      ]
     },
     "execution_count": 92,
     "metadata": {},
     "output_type": "execute_result"
    }
   ],
   "source": [
    "\"1984\" in [\"1984\"]"
   ]
  }
 ],
 "metadata": {
  "kernelspec": {
   "display_name": "Python 3 (ipykernel)",
   "language": "python",
   "name": "python3"
  },
  "language_info": {
   "codemirror_mode": {
    "name": "ipython",
    "version": 3
   },
   "file_extension": ".py",
   "mimetype": "text/x-python",
   "name": "python",
   "nbconvert_exporter": "python",
   "pygments_lexer": "ipython3",
   "version": "3.9.13"
  }
 },
 "nbformat": 4,
 "nbformat_minor": 5
}
