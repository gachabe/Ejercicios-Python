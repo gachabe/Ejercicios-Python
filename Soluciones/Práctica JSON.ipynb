{
 "cells": [
  {
   "cell_type": "code",
   "execution_count": 4,
   "id": "7c61cdb0",
   "metadata": {},
   "outputs": [],
   "source": [
    "import json"
   ]
  },
  {
   "cell_type": "code",
   "execution_count": 5,
   "id": "c0a71dc0",
   "metadata": {},
   "outputs": [
    {
     "ename": "KeyError",
     "evalue": "0",
     "output_type": "error",
     "traceback": [
      "\u001b[1;31m---------------------------------------------------------------------------\u001b[0m",
      "\u001b[1;31mKeyError\u001b[0m                                  Traceback (most recent call last)",
      "Cell \u001b[1;32mIn[5], line 5\u001b[0m\n\u001b[0;32m      3\u001b[0m dic \u001b[38;5;241m=\u001b[39m {}\n\u001b[0;32m      4\u001b[0m \u001b[38;5;28;01mfor\u001b[39;00m i \u001b[38;5;129;01min\u001b[39;00m \u001b[38;5;28mrange\u001b[39m(\u001b[38;5;28mlen\u001b[39m(peliculas)):\n\u001b[1;32m----> 5\u001b[0m     dic[\u001b[38;5;124mf\u001b[39m\u001b[38;5;124m\"\u001b[39m\u001b[38;5;124mpelicula_\u001b[39m\u001b[38;5;132;01m{\u001b[39;00mi\u001b[38;5;132;01m}\u001b[39;00m\u001b[38;5;124m\"\u001b[39m] \u001b[38;5;241m=\u001b[39m \u001b[43mpeliculas\u001b[49m\u001b[43m[\u001b[49m\u001b[43mi\u001b[49m\u001b[43m]\u001b[49m\n\u001b[0;32m      8\u001b[0m \u001b[38;5;28;01mwith\u001b[39;00m \u001b[38;5;28mopen\u001b[39m(\u001b[38;5;124m\"\u001b[39m\u001b[38;5;124mmovies.json\u001b[39m\u001b[38;5;124m\"\u001b[39m,\u001b[38;5;124m\"\u001b[39m\u001b[38;5;124mw\u001b[39m\u001b[38;5;124m\"\u001b[39m) \u001b[38;5;28;01mas\u001b[39;00m file:\n\u001b[0;32m      9\u001b[0m     json\u001b[38;5;241m.\u001b[39mdump(dic,file)\n",
      "\u001b[1;31mKeyError\u001b[0m: 0"
     ]
    }
   ],
   "source": [
    "with open(\"movies.json\",\"r\") as file:\n",
    "    peliculas = json.load(file)\n",
    "dic = {}\n",
    "for i in range(len(peliculas)):\n",
    "    dic[f\"pelicula_{i}\"] = peliculas[i]\n",
    "    \n",
    "\n",
    "with open(\"movies.json\",\"w\") as file:\n",
    "    json.dump(dic,file)"
   ]
  },
  {
   "cell_type": "markdown",
   "id": "824504ef",
   "metadata": {},
   "source": [
    "En el archivo movies.json nos han dado una base de datos con varias peliculas, y nos piden realizar las siguientes acciones:\n",
    "\n",
    "    1 Crear una función que nos diga cuántas películas hay.\n",
    "    2 Crear una función que nos diga el titulo, año y duración de todas las películas\n",
    "    3 Crear una función que nos pida el nombre de un actor y nos devuelva todas las películas en las que aparece.\n",
    "    4 Crear una función que nos pida un conjunto de palabras, separadas por coma, y nos devuelva todas las películas que aparezca alguna de esas palabras en su sinopsis.\n",
    "    5 Crear una función que, dado el titulo de una pelicula, nos devuelva un diccionario con la información de esta.\n",
    "    6 Crea una función que cree tu propia base de datos solo con las peliculas de Morgan Freeman, es decir, tienes que crear un diccionario cuyas claves serán freeman_1,freeman_2,..., freeman_n y valores serán los diccionarios con la información de la película"
   ]
  },
  {
   "cell_type": "code",
   "execution_count": 25,
   "id": "ce771050",
   "metadata": {},
   "outputs": [],
   "source": [
    "#Ejercicio 1\n",
    "def cantidad(ruta):\n",
    "    with open(ruta,\"r\") as file:\n",
    "        peliculas = json.load(file)\n",
    "    print(len(peliculas))\n"
   ]
  },
  {
   "cell_type": "code",
   "execution_count": 26,
   "id": "f84699b9",
   "metadata": {},
   "outputs": [
    {
     "name": "stdout",
     "output_type": "stream",
     "text": [
      "122\n"
     ]
    }
   ],
   "source": [
    "cantidad(\"movies.json\")"
   ]
  },
  {
   "cell_type": "code",
   "execution_count": 43,
   "id": "688bfd35",
   "metadata": {},
   "outputs": [],
   "source": [
    "#Ejercicio 2\n",
    "def yearLength(ruta):\n",
    "    with open(ruta,\"r\") as file:\n",
    "        peliculas = json.load(file)\n",
    "    for peli in peliculas:\n",
    "        print(f\"La película {peliculas[peli]['title']} salió el año {peliculas[peli]['releaseDate']} y dura {peliculas[peli]['duration']}\")"
   ]
  },
  {
   "cell_type": "code",
   "execution_count": 44,
   "id": "1c26643d",
   "metadata": {},
   "outputs": [
    {
     "name": "stdout",
     "output_type": "stream",
     "text": [
      "La película Nyckeln till frihet salió el año 1995-03-03 y dura PT142M\n",
      "La película Gudfadern salió el año 1972-09-27 y dura PT175M\n",
      "La película Gudfadern del II salió el año 1975-07-28 y dura PT202M\n",
      "La película The Dark Knight salió el año 2008-07-25 y dura PT152M\n",
      "La película 12 edsvurna män salió el año 1957-07-29 y dura PT96M\n",
      "La película Schindler's List salió el año 1994-03-04 y dura PT195M\n",
      "La película Pulp Fiction salió el año 1994-11-25 y dura PT154M\n",
      "La película Sagan om konungens återkomst salió el año 2003-12-17 y dura PT201M\n",
      "La película Den gode, den onde, den fule salió el año 1968-04-10 y dura PT161M\n",
      "La película Fight Club salió el año 1999-12-25 y dura PT139M\n",
      "La película Sagan om ringen: Härskarringen salió el año 2001-12-19 y dura PT178M\n",
      "La película Rymdimperiet slår tillbaka salió el año 1980-08-15 y dura PT124M\n",
      "La película Forrest Gump salió el año 1994-10-14 y dura PT142M\n",
      "La película Inception salió el año 2010-07-23 y dura PT148M\n",
      "La película Sagan om de två tornen salió el año 2002-12-18 y dura PT179M\n",
      "La película Gökboet salió el año 1976-02-26 y dura PT133M\n",
      "La película Maffiabröder salió el año 1990-09-14 y dura PT146M\n",
      "La película Matrix salió el año 1999-07-14 y dura PT136M\n",
      "La película De sju samurajerna salió el año 1965-09-20 y dura PT207M\n",
      "La película Stjärnornas krig salió el año 1977-12-16 y dura PT121M\n",
      "La película Guds stad salió el año 2003-10-17 y dura PT130M\n",
      "La película Seven salió el año 1995-12-25 y dura PT127M\n",
      "La película När lammen tystnar salió el año 1991-03-22 y dura PT118M\n",
      "La película Livet är underbart salió el año 1947-08-04 y dura PT130M\n",
      "La película De misstänkta salió el año 1995-11-03 y dura PT106M\n",
      "La película Livet är underbart salió el año 1999-01-22 y dura PT116M\n",
      "La película Léon salió el año 1995-02-24 y dura PT110M\n",
      "La película Spirited Away salió el año 2003-09-19 y dura PT125M\n",
      "La película Rädda menige Ryan salió el año 1998-10-09 y dura PT169M\n",
      "La película Harmonica - En hämnare salió el año 1969-08-04 y dura PT175M\n",
      "La película American History X salió el año 1999-02-26 y dura PT119M\n",
      "La película Interstellar salió el año 2014-11-07 y dura PT169M\n",
      "La película Casablanca salió el año 1943-10-11 y dura PT102M\n",
      "La película Psycho salió el año 1960-10-31 y dura PT109M\n",
      "La película Stadens ljus salió el año 1931-04-20 y dura PT87M\n",
      "La película Den gröna milen salió el año 2000-02-11 y dura PT189M\n",
      "La película En oväntad vänskap salió el año 2012-09-21 y dura PT112M\n",
      "La película Moderna tider salió el año 1936-04-16 y dura PT87M\n",
      "La película Jakten på den försvunna skatten salió el año 1981-08-07 y dura PT115M\n",
      "La película Fönstret åt gården salió el año 1955-06-13 y dura PT112M\n",
      "La película The Pianist salió el año 2003-08-15 y dura PT150M\n",
      "La película The Departed salió el año 2007-01-12 y dura PT151M\n",
      "La película Terminator 2 - Domedagen salió el año 1991-09-13 y dura PT137M\n",
      "La película Tillbaka till framtiden salió el año 1985-12-18 y dura PT116M\n",
      "La película Whiplash salió el año 2015-02-06 y dura PT107M\n",
      "La película Gladiator salió el año 2000-05-19 y dura PT155M\n",
      "La película Memento salió el año 2001-07-13 y dura PT113M\n",
      "La película Apocalypse salió el año 1979-10-26 y dura PT153M\n",
      "La película The Prestige salió el año 2006-12-25 y dura PT130M\n",
      "La película Lejonkungen salió el año 1994-11-18 y dura PT88M\n",
      "La película Alien salió el año 1979-11-02 y dura PT117M\n",
      "La película Dr. Strangelove eller: Hur jag slutade ängslas och lärde mig älska bomben salió el año 1964-04-13 y dura PT95M\n",
      "La película Sunset Boulevard salió el año 1950-12-20 y dura PT110M\n",
      "La película Diktatorn salió el año 1945-11-19 y dura PT125M\n",
      "La película Cinema Paradiso salió el año 1990-01-19 y dura PT155M\n",
      "La película De andras liv salió el año 2006-11-10 y dura PT137M\n",
      "La película Eldflugornas grav salió el año 1988-04-16 y dura PT89M\n",
      "La película Ärans väg salió el año 1958-05-08 y dura PT88M\n",
      "La película Django Unchained salió el año 2013-01-18 y dura PT165M\n",
      "La película The Shining salió el año 1980-09-26 y dura PT146M\n",
      "La película La La Land salió el año 2017-01-27 y dura PT128M\n",
      "La película Wall-E salió el año 2008-09-05 y dura PT98M\n",
      "La película American Beauty salió el año 2000-02-25 y dura PT122M\n",
      "La película The Dark Knight Rises salió el año 2012-07-25 y dura PT164M\n",
      "La película Prinsessan Mononoke salió el año 2011-10-28 y dura PT134M\n",
      "La película Aliens - Återkomsten salió el año 1986-10-03 y dura PT137M\n",
      "La película Old Boy - Hämnden salió el año 2005-01-21 y dura PT120M\n",
      "La película Once Upon a Time in America salió el año 1984-08-17 y dura PT229M\n",
      "La película En sensation salió el año 1942-01-26 y dura PT119M\n",
      "La película Ubåten salió el año 1982-02-26 y dura PT149M\n",
      "La película Åklagarens vittne salió el año 1958-03-17 y dura PT116M\n",
      "La película I sista minuten salió el año 1959-10-19 y dura PT136M\n",
      "La película Studie i brott salió el año 1958-12-26 y dura PT128M\n",
      "La película Jedins återkomst salió el año 1983-09-30 y dura PT131M\n",
      "La película De hänsynslösa salió el año 1993-02-26 y dura PT99M\n",
      "La película M salió el año 1931-08-31 y dura PT117M\n",
      "La película Braveheart salió el año 1995-09-01 y dura PT178M\n",
      "La película Requiem for a Dream salió el año 2001-09-14 y dura PT102M\n",
      "La película Amelie från Montmartre salió el año 2001-10-12 y dura PT122M\n",
      "La película Clockwork Orange salió el año 1972-04-26 y dura PT136M\n",
      "La película Taxi Driver salió el año 1977-03-12 y dura PT113M\n",
      "La película Taare Zameen Par salió el año 2008-12-26 y dura PT165M\n",
      "La película Lawrence av Arabien salió el año 1963-03-22 y dura PT216M\n",
      "La película Kvinna utan samvete salió el año 1944-11-27 y dura PT107M\n",
      "La película Eternal Sunshine of the Spotless Mind salió el año 2004-08-20 y dura PT108M\n",
      "La película Skuggor över södern salió el año 1964-03-02 y dura PT129M\n",
      "La película Amadeus salió el año 1984-10-12 y dura PT160M\n",
      "La película Toy Story 3 salió el año 2010-08-27 y dura PT103M\n",
      "La película Full Metal Jacket salió el año 1987-10-02 y dura PT116M\n",
      "La película Dangal salió el año 2016-12-23 y dura PT161M\n",
      "La película Blåsningen salió el año 1974-02-25 y dura PT129M\n",
      "La película År 2001 - Ett rymdäventyr salió el año 1968-08-27 y dura PT149M\n",
      "La película Babam ve Oglum salió el año 2005-11-18 y dura PT108M\n",
      "La película Singin' in the Rain salió el año 1952-09-29 y dura PT103M\n",
      "La película Toy Story salió el año 1996-03-08 y dura PT81M\n",
      "La película Cykeltjuven salió el año 1950-02-27 y dura PT89M\n",
      "La película Chaplins pojke salió el año 1922-03-20 y dura PT68M\n",
      "La película Inglourious Basterds salió el año 2009-08-21 y dura PT153M\n",
      "La película Snatch salió el año 2000-12-22 y dura PT104M\n",
      "La película Monty Pythons galna värld salió el año 1977-04-15 y dura PT91M\n",
      "La película 3 Idiots salió el año 2009-12-25 y dura PT170M\n",
      "La película L.A. konfidentiellt salió el año 1997-10-17 y dura PT138M\n",
      "La película För några få dollar mer salió el año 1966-11-17 y dura PT132M\n",
      "La película Scarface salió el año 1984-03-23 y dura PT170M\n",
      "La película Jakten salió el año 2013-04-12 y dura PT115M\n",
      "La película Demonernas port salió el año 1953-08-31 y dura PT88M\n",
      "La película Ungkarlslyan salió el año 1961-01-16 y dura PT125M\n",
      "La película Will Hunting salió el año 1998-03-13 y dura PT126M\n",
      "La película Nader och Simin - En separation salió el año 2011-09-30 y dura PT123M\n",
      "La película Indiana Jones och det sista korståget salió el año 1989-09-15 y dura PT127M\n",
      "La película Metropolis salió el año 1927-04-04 y dura PT153M\n",
      "La película Allt om Eva salió el año 1951-01-15 y dura PT138M\n",
      "La película Yojimbo (Livvakten) salió el año 1964-10-28 y dura PT110M\n",
      "La película Batman Begins salió el año 2005-07-27 y dura PT140M\n",
      "La película Upp salió el año 2009-10-16 y dura PT96M\n",
      "La película I hetaste laget salió el año 1959-09-28 y dura PT120M\n",
      "La película Sierra Madres skatt salió el año 1948-04-29 y dura PT126M\n",
      "La película De skoningslösa salió el año 1992-09-11 y dura PT131M\n",
      "La película Undergången - Hitler och Tredje rikets fall salió el año 2005-02-25 y dura PT156M\n",
      "La película Tjuren från Bronx salió el año 1981-03-20 y dura PT129M\n",
      "La película Den tredje mannen salió el año 1949-10-26 y dura PT104M\n",
      "La película Die Hard salió el año 1988-09-30 y dura PT131M\n"
     ]
    }
   ],
   "source": [
    "yearLength(\"movies.json\")"
   ]
  },
  {
   "cell_type": "code",
   "execution_count": 47,
   "id": "9a2cce39",
   "metadata": {},
   "outputs": [],
   "source": [
    "#Ejercicio 3\n",
    "def actores(ruta):\n",
    "    with open(ruta,\"r\") as file:\n",
    "        peliculas = json.load(file)\n",
    "    actor = input(\" Dime el nombre de un actor \")\n",
    "    lista = []\n",
    "    for peli in peliculas:\n",
    "        if actor in peliculas[peli][\"actors\"]:\n",
    "            lista.append(peliculas[peli][\"title\"])\n",
    "    return lista"
   ]
  },
  {
   "cell_type": "code",
   "execution_count": 50,
   "id": "effda15f",
   "metadata": {},
   "outputs": [
    {
     "name": "stdout",
     "output_type": "stream",
     "text": [
      " Dime el nombre de un actor Morgan Freeman\n"
     ]
    },
    {
     "data": {
      "text/plain": [
       "['Nyckeln till frihet', 'Seven', 'De skoningslösa']"
      ]
     },
     "execution_count": 50,
     "metadata": {},
     "output_type": "execute_result"
    }
   ],
   "source": [
    "actores(\"movies.json\")"
   ]
  },
  {
   "cell_type": "code",
   "execution_count": 58,
   "id": "bfa2923e",
   "metadata": {},
   "outputs": [],
   "source": [
    "#Ejercicio 4\n",
    "def sinopsis(ruta):\n",
    "    with open(ruta,\"r\") as file:\n",
    "        peliculas = json.load(file)\n",
    "    busqueda = input(\"Dime palabras que aparezcan en la sinopsis \")\n",
    "    busqueda = busqueda.split(\",\")\n",
    "    lista = []\n",
    "    for peli in peliculas:\n",
    "        if any([x in peliculas[peli][\"storyline\"] for x in busqueda]):\n",
    "            lista.append(peliculas[peli][\"title\"])\n",
    "    return lista "
   ]
  },
  {
   "cell_type": "code",
   "execution_count": 60,
   "id": "6a002fcf",
   "metadata": {},
   "outputs": [
    {
     "name": "stdout",
     "output_type": "stream",
     "text": [
      "Dime palabras que aparezcan en la sinopsis argue,about,living,abroad\n"
     ]
    },
    {
     "data": {
      "text/plain": [
       "['12 edsvurna män',\n",
       " \"Schindler's List\",\n",
       " 'Maffiabröder',\n",
       " 'Matrix',\n",
       " 'Seven',\n",
       " 'Jakten på den försvunna skatten',\n",
       " 'The Departed',\n",
       " 'Lejonkungen',\n",
       " 'Diktatorn',\n",
       " 'Cinema Paradiso',\n",
       " 'De andras liv',\n",
       " 'Eldflugornas grav',\n",
       " 'The Shining',\n",
       " 'Wall-E',\n",
       " 'Aliens - Återkomsten',\n",
       " 'Åklagarens vittne',\n",
       " 'Requiem for a Dream',\n",
       " 'Amelie från Montmartre',\n",
       " 'Taxi Driver',\n",
       " \"Singin' in the Rain\",\n",
       " 'Toy Story',\n",
       " 'Chaplins pojke',\n",
       " 'Snatch',\n",
       " 'Scarface',\n",
       " 'Jakten',\n",
       " 'Will Hunting',\n",
       " 'Nader och Simin - En separation',\n",
       " 'Metropolis',\n",
       " 'Batman Begins',\n",
       " 'De skoningslösa']"
      ]
     },
     "execution_count": 60,
     "metadata": {},
     "output_type": "execute_result"
    }
   ],
   "source": [
    "sinopsis(\"movies.json\")"
   ]
  },
  {
   "cell_type": "code",
   "execution_count": 1,
   "id": "7130bba0",
   "metadata": {},
   "outputs": [],
   "source": [
    "#Ejercicio 5\n",
    "def buscaPeli(rutaEntrada,titulo):\n",
    "    with open(rutaEntrada,\"r\") as file:\n",
    "        peliculas = json.load(file)\n",
    "    for peli in peliculas:\n",
    "        if peliculas[peli][\"title\"] == titulo:\n",
    "            return peliculas[peli]"
   ]
  },
  {
   "cell_type": "code",
   "execution_count": 6,
   "id": "0ce03148",
   "metadata": {},
   "outputs": [],
   "source": [
    "#Ejercicio 6\n",
    "def nuevaBase(rutaEntrada,rutaSalida):\n",
    "    with open(rutaEntrada,\"r\") as file:\n",
    "        peliculas = json.load(file)\n",
    "    dic = {}\n",
    "    lista = []\n",
    "    for peli in peliculas:\n",
    "        if \"Morgan Freeman\" in peliculas[peli][\"actors\"]:\n",
    "            lista.append(peliculas[peli][\"title\"])\n",
    "    for i,movie in enumerate(lista):\n",
    "        dic[f\"freeman_{i}\"] = buscaPeli(rutaEntrada,movie)\n",
    "    with open(rutaSalida,\"w\") as file:\n",
    "        json.dump(dic,file)\n",
    "    "
   ]
  },
  {
   "cell_type": "code",
   "execution_count": 7,
   "id": "a37ef7e8",
   "metadata": {},
   "outputs": [],
   "source": [
    "nuevaBase(\"movies.json\",\"salida.json\")"
   ]
  },
  {
   "cell_type": "code",
   "execution_count": null,
   "id": "dc25a72e",
   "metadata": {},
   "outputs": [],
   "source": []
  }
 ],
 "metadata": {
  "kernelspec": {
   "display_name": "Python 3 (ipykernel)",
   "language": "python",
   "name": "python3"
  },
  "language_info": {
   "codemirror_mode": {
    "name": "ipython",
    "version": 3
   },
   "file_extension": ".py",
   "mimetype": "text/x-python",
   "name": "python",
   "nbconvert_exporter": "python",
   "pygments_lexer": "ipython3",
   "version": "3.9.13"
  }
 },
 "nbformat": 4,
 "nbformat_minor": 5
}
