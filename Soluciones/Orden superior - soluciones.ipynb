{
 "cells": [
  {
   "cell_type": "markdown",
   "id": "4e69f64f",
   "metadata": {},
   "source": [
    "# Map() ,filter() y Lambda"
   ]
  },
  {
   "cell_type": "markdown",
   "id": "fa1ba2d2",
   "metadata": {},
   "source": [
    "La funciones de orden superior son aquella que pueden tener como argumento funciones, para python las funciones no son mas que objetos al igual que las listas, pero hemos de tener cuidado de distinguir funcion  de funcion()"
   ]
  },
  {
   "cell_type": "markdown",
   "id": "2181ed2f",
   "metadata": {},
   "source": [
    "Una parte importante de la programación superior son las funciones lambda, estas son funciones de una linea que escribimos para evitar tener que hacer toda una funcion aparte para algo que podria resultarnos simple. La estructura es la siguiente:\n",
    "\n",
    " (lambda x1,x2,...,xn: f(x1,x2,...,xn)) "
   ]
  },
  {
   "cell_type": "markdown",
   "id": "f7de5994",
   "metadata": {},
   "source": [
    "Crea las siguientes funciones lambda y guardalas en una variable\n",
    "\n",
    "* f(x) = x + 2\n",
    "* f(x) = es par (esta es un booleano)\n",
    "* f(x) = [divisores de x]\n",
    "* f(x,y,z) = x + y - #(divisores de z) "
   ]
  },
  {
   "cell_type": "code",
   "execution_count": 70,
   "id": "97b12975",
   "metadata": {},
   "outputs": [],
   "source": [
    "v1 = (lambda x: x+2)\n",
    "v2 = (lambda x: x%2 == 0)\n",
    "v3 = (lambda x : [i for i in (range(1,x-1)) if x%i == 0])\n",
    "v4 = (lambda x, y, z: x+y - len(v3(z)))\n",
    "v5 =(lambda zs,ys: zs+ys)"
   ]
  },
  {
   "cell_type": "code",
   "execution_count": 71,
   "id": "58c21f75",
   "metadata": {},
   "outputs": [
    {
     "data": {
      "text/plain": [
       "[1, 2, 2, 3]"
      ]
     },
     "execution_count": 71,
     "metadata": {},
     "output_type": "execute_result"
    }
   ],
   "source": [
    "v5([1,2],[2,3])"
   ]
  },
  {
   "cell_type": "markdown",
   "id": "643a7e4c",
   "metadata": {},
   "source": [
    "Crea,usando map, la función cuadrados que aquella que dada una lista nos devuelve los cuadrados de esta"
   ]
  },
  {
   "cell_type": "code",
   "execution_count": 29,
   "id": "7e7b5de0",
   "metadata": {},
   "outputs": [],
   "source": [
    "def cuadrados(l):\n",
    "    return list(map((lambda x: x**2), l))\n",
    "    "
   ]
  },
  {
   "cell_type": "code",
   "execution_count": 30,
   "id": "0237837e",
   "metadata": {},
   "outputs": [
    {
     "data": {
      "text/plain": [
       "[1, 4, 9]"
      ]
     },
     "execution_count": 30,
     "metadata": {},
     "output_type": "execute_result"
    }
   ],
   "source": [
    "cuadrados([1,2,3])"
   ]
  },
  {
   "cell_type": "markdown",
   "id": "39254111",
   "metadata": {},
   "source": [
    "Crea la funcion enRango, que dada una lista y nos numeros nos devuelva los elementos de lista mayores que el primer numero y menores que el segundo\n"
   ]
  },
  {
   "cell_type": "code",
   "execution_count": 33,
   "id": "59b29a70",
   "metadata": {},
   "outputs": [],
   "source": [
    "def enRango(a,b,xs):\n",
    "    return list(filter( (lambda x: x<b),(filter((lambda x: x >a),xs))))"
   ]
  },
  {
   "cell_type": "code",
   "execution_count": 35,
   "id": "1403aabf",
   "metadata": {},
   "outputs": [
    {
     "data": {
      "text/plain": [
       "[3, 4]"
      ]
     },
     "execution_count": 35,
     "metadata": {},
     "output_type": "execute_result"
    }
   ],
   "source": [
    "enRango(2,5,[1,2,3,4,5,6])"
   ]
  },
  {
   "cell_type": "markdown",
   "id": "33f6486e",
   "metadata": {},
   "source": [
    "Crea una funcion, sustituyeImpar, que dada una lista nos devuelva la misma lista sustiyendo cada impar por su siguiente"
   ]
  },
  {
   "cell_type": "code",
   "execution_count": 42,
   "id": "ec02f3ad",
   "metadata": {},
   "outputs": [],
   "source": [
    "def sustituyeImpar(xs):\n",
    "    return list(map((lambda x: x+1 if x%2 !=0 else x ),xs))"
   ]
  },
  {
   "cell_type": "code",
   "execution_count": 43,
   "id": "b8a1375f",
   "metadata": {},
   "outputs": [
    {
     "data": {
      "text/plain": [
       "[2, 2, 4, 4, 6]"
      ]
     },
     "execution_count": 43,
     "metadata": {},
     "output_type": "execute_result"
    }
   ],
   "source": [
    "sustituyeImpar([1,2,3,4,5])"
   ]
  },
  {
   "cell_type": "markdown",
   "id": "1520df45",
   "metadata": {},
   "source": [
    "crea la funcion une que reciba una lista xs y una lista de listas xss y devuelva la lista de lista a la resultante de añadir a cada sublista la lista xs al princicio\n"
   ]
  },
  {
   "cell_type": "markdown",
   "id": "502726e6",
   "metadata": {},
   "source": [
    "une([1,2],[[5,6],[1,2,3,4]])= [[1, 2, 5, 6], [1, 2, 1, 2, 3, 4]]"
   ]
  },
  {
   "cell_type": "code",
   "execution_count": 78,
   "id": "11867836",
   "metadata": {},
   "outputs": [],
   "source": [
    "def une(xs,xxs):\n",
    "    return (list(map((lambda ys: xs+ys),xxs)))"
   ]
  },
  {
   "cell_type": "code",
   "execution_count": 81,
   "id": "56653439",
   "metadata": {},
   "outputs": [
    {
     "data": {
      "text/plain": [
       "[[1, 2, 5, 6], [1, 2, 1, 2, 3, 4]]"
      ]
     },
     "execution_count": 81,
     "metadata": {},
     "output_type": "execute_result"
    }
   ],
   "source": [
    "une([1,2],[[5,6],[1,2,3,4]])"
   ]
  },
  {
   "cell_type": "markdown",
   "id": "a597e9c2",
   "metadata": {},
   "source": [
    "# Funciones útiles"
   ]
  },
  {
   "cell_type": "markdown",
   "id": "78cfefb1",
   "metadata": {},
   "source": [
    "En este apartado definiremos algunas funciones útiles, muchas de ellas ya aparecen en la libreria functools de python, de cara al examen es buena idea saber contruirlas y manejarlas."
   ]
  },
  {
   "cell_type": "markdown",
   "id": "191e6f94",
   "metadata": {},
   "source": [
    "Crea la funcion takeWhile que, dada una lista y una condición (un booleano) nos devuelva los primeros n elementos que cumplan esa propiedad.\n",
    "\n",
    "    -takeWhile((lambda x:x%2 == 0),[1,3,5]) = []\n",
    "    -takeWhile((lambda x:x<5),[1,2,5,6) = [1,2]"
   ]
  },
  {
   "cell_type": "code",
   "execution_count": 47,
   "id": "8e911148",
   "metadata": {},
   "outputs": [],
   "source": [
    "def takeWhile(b,l):\n",
    "    l1 = []\n",
    "    i = 0\n",
    "    while b(l[i]):\n",
    "        l1 += [l[i]]\n",
    "        i += 1\n",
    "    return l1\n",
    "        \n",
    "        "
   ]
  },
  {
   "cell_type": "code",
   "execution_count": 49,
   "id": "31abf5f6",
   "metadata": {},
   "outputs": [
    {
     "data": {
      "text/plain": [
       "[]"
      ]
     },
     "execution_count": 49,
     "metadata": {},
     "output_type": "execute_result"
    }
   ],
   "source": [
    "takeWhile((lambda x: x%2 == 0),[1,4,5] )"
   ]
  },
  {
   "cell_type": "markdown",
   "id": "3a91c51e",
   "metadata": {},
   "source": [
    "Ahora crea la función dropWhile, que funciona de forma análoga, eliminando los elementos de la lista hasta encontrar el primero que no cumpla la propiedad"
   ]
  },
  {
   "cell_type": "code",
   "execution_count": 50,
   "id": "075bc122",
   "metadata": {},
   "outputs": [],
   "source": [
    "def dropWhile(b,l):\n",
    "    while b(l[0]):\n",
    "        l = l[1:]\n",
    "    return l"
   ]
  },
  {
   "cell_type": "code",
   "execution_count": 52,
   "id": "d4a11161",
   "metadata": {},
   "outputs": [
    {
     "data": {
      "text/plain": [
       "[1, 4, 5]"
      ]
     },
     "execution_count": 52,
     "metadata": {},
     "output_type": "execute_result"
    }
   ],
   "source": [
    "dropWhile((lambda x: x%2 == 0),[1,4,5] )"
   ]
  },
  {
   "cell_type": "markdown",
   "id": "e4ed347a",
   "metadata": {},
   "source": [
    "Crea la función zipWith, que dada una operación binaria, y dos listas nos devuelve la lista resultante de aplicar la operacion a los elementos resultantes de unir la listas"
   ]
  },
  {
   "cell_type": "code",
   "execution_count": 59,
   "id": "5f9f78fe",
   "metadata": {},
   "outputs": [],
   "source": [
    "def zipWith(f,xs,ys):\n",
    "    return ([f(x,y) for (x,y) in zip(xs,ys)])"
   ]
  },
  {
   "cell_type": "code",
   "execution_count": 60,
   "id": "4938f0cf",
   "metadata": {},
   "outputs": [
    {
     "data": {
      "text/plain": [
       "[2, 4, 6]"
      ]
     },
     "execution_count": 60,
     "metadata": {},
     "output_type": "execute_result"
    }
   ],
   "source": [
    "zipWith((lambda x,y: x+y),[1,2,3],[1,2,3,4,5,6])"
   ]
  }
 ],
 "metadata": {
  "kernelspec": {
   "display_name": "Python 3 (ipykernel)",
   "language": "python",
   "name": "python3"
  },
  "language_info": {
   "codemirror_mode": {
    "name": "ipython",
    "version": 3
   },
   "file_extension": ".py",
   "mimetype": "text/x-python",
   "name": "python",
   "nbconvert_exporter": "python",
   "pygments_lexer": "ipython3",
   "version": "3.9.13"
  }
 },
 "nbformat": 4,
 "nbformat_minor": 5
}
