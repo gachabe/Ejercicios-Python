{
 "cells": [
  {
   "cell_type": "markdown",
   "id": "622aee79",
   "metadata": {},
   "source": [
    "# Ejercicio 1"
   ]
  },
  {
   "cell_type": "markdown",
   "id": "1e2ec9ef",
   "metadata": {},
   "source": [
    "Un grafo rueda es un grafo en forma de rueda en el que un nodo central está conectado a todos los demás nodos.\n",
    "Cree una función, usando diccionarios, que genere el grafo rueda de $n$ nodos."
   ]
  },
  {
   "cell_type": "code",
   "execution_count": 25,
   "id": "f7bdd161",
   "metadata": {},
   "outputs": [
    {
     "name": "stdout",
     "output_type": "stream",
     "text": [
      "Grafo Rueda:\n",
      "{0: [1, 2, 3, 4, 5], 1: [0, 2, 5], 2: [0, 3, 1], 3: [0, 4, 2], 4: [0, 5, 3], 5: [0, 1, 4]}\n"
     ]
    }
   ],
   "source": [
    "def grafo_rueda(n):\n",
    "    grafo = {i: [] for i in range(n)}\n",
    "    centro = 0\n",
    "    for nodo in grafo:\n",
    "        if nodo != centro:\n",
    "            grafo[centro].append(nodo)\n",
    "            grafo[nodo].append(centro)\n",
    "            \n",
    "            if not(nodo == 1) and not(nodo == n-1):\n",
    "                grafo[nodo].append(nodo+1)\n",
    "                grafo[nodo].append(nodo-1)\n",
    "            elif nodo == n-1:\n",
    "                grafo[nodo].append((nodo+1)%(n-1))\n",
    "                grafo[nodo].append((nodo-1)%(n-1))\n",
    "            elif nodo == 1:\n",
    "                grafo[nodo].append((nodo+1)%(n-1))\n",
    "                grafo[nodo].append((n-1))\n",
    "    return grafo\n",
    "\n",
    "# Ejemplo de uso:\n",
    "n = 6\n",
    "grafo_rueda_6 = grafo_rueda(n)\n",
    "print(\"Grafo Rueda:\")\n",
    "print(grafo_rueda_6)\n"
   ]
  },
  {
   "cell_type": "markdown",
   "id": "3ee5a3f8",
   "metadata": {},
   "source": [
    "# Ejercicio 2"
   ]
  },
  {
   "cell_type": "markdown",
   "id": "94388d8f",
   "metadata": {},
   "source": [
    "Hallaremos el valor de raíz de 2 mediante el método de bisección por el siguiente proceso:\n",
    "\n",
    "Definir el intervalo inicial: Comenzar con un intervalo inicial que contiene la raíz de la función. En este caso, el intervalo es [1, 2] ya que sabemos que la raíz cuadrada de 2 está en este rango.\n",
    "\n",
    "Establecer una precisión deseada: Elegir una precisión deseada (epsilon) que determina cuán cerca queremos estar de la raíz real. Cuanto más pequeño sea el valor de epsilon, más precisa será la aproximación.\n",
    "\n",
    "Iterar hasta alcanzar la precisión deseada:\n",
    "\n",
    "Calcular el punto medio del intervalo: mid = (a + b) / 2.\n",
    "Evaluar la función en el punto medio: En este caso, evaluamos mid^2 (el cuadrado del punto medio).\n",
    "Comprobar en qué mitad del intervalo se encuentra la raíz. Si mid^2 es menor que 2, significa que la raíz está en la mitad derecha del intervalo. En caso contrario, está en la mitad izquierda.\n",
    "Actualizar el intervalo: Si la raíz está en la mitad derecha, actualizar a a mid. Si está en la mitad izquierda, actualizar b a mid.\n",
    "Repetir el proceso hasta que el tamaño del intervalo (b - a) sea menor que la precisión epsilon.\n",
    "Obtener la aproximación de la raíz: Una vez que la diferencia entre a y b sea menor que epsilon, habremos encontrado una aproximación suficientemente precisa de la raíz cuadrada de 2. La aproximación final se obtiene tomando el punto medio del intervalo final, es decir, (a + b) / 2.\n",
    "\n",
    "Este proceso se repite iterativamente, reduciendo el intervalo en cada paso, hasta que se alcance la precisión deseada. El resultado final es una aproximación de la raíz cuadrada de 2 con la precisión especificada."
   ]
  },
  {
   "cell_type": "code",
   "execution_count": 26,
   "id": "09d53359",
   "metadata": {},
   "outputs": [
    {
     "name": "stdout",
     "output_type": "stream",
     "text": [
      "La raíz cuadrada de 2 es aproximadamente: 1.4142136573791504\n"
     ]
    }
   ],
   "source": [
    "def bisection_sqrt_2(a,b,epsilon):\n",
    "    while (b - a) > epsilon:\n",
    "        mid = (a + b) / 2\n",
    "        mid_squared = mid ** 2\n",
    "\n",
    "        if mid_squared < 2:\n",
    "            a = mid\n",
    "        else:\n",
    "            b = mid\n",
    "\n",
    "    return (a + b) / 2\n",
    "\n",
    "epsilon = 1e-6  # La precisión deseada\n",
    "a = 1.0         # Límite inferior inicial\n",
    "b = 2.0         # Límite superior inicial\n",
    "result = bisection_sqrt_2(a,b,epsilon)\n",
    "print(\"La raíz cuadrada de 2 es aproximadamente:\", result)\n"
   ]
  },
  {
   "cell_type": "markdown",
   "id": "93f455b8",
   "metadata": {},
   "source": [
    "# Ejercicio 3"
   ]
  },
  {
   "cell_type": "markdown",
   "id": "20d82f50",
   "metadata": {},
   "source": [
    "El cifrado Vigenère es un cifrado polialfabético que se utiliza para cifrar mensajes de texto. A diferencia del cifrado César, que usa un solo desplazamiento para todas las letras, el cifrado Vigenère utiliza una palabra clave para cambiar el desplazamiento en cada letra del mensaje. La clave se repite cíclicamente para cifrar todo el mensaje.\n",
    "\n",
    "Ejemplo:\n",
    "Supongamos que queremos cifrar el mensaje \"Lo primero de todo como están los máquinas\" con la clave \"turing\". Primero, convertimos el mensaje y la clave a letras mayúsculas y eliminamos los espacios y caracteres especiales, manteniendo solo letras y números.\n",
    "\n",
    "Mensaje: \"LOPRIMERODETODOCOMOESTANLOSMQUINAS\"\n",
    "Clave: \"TURINGTURINGTURINGTURINGTURINGTURIN\"\n",
    "\n",
    "Ahora, realizamos el cifrado letra por letra. Para cada letra del mensaje, tomamos la letra correspondiente de la clave y usamos su posición en el alfabeto para calcular el desplazamiento. Luego, sumamos el valor de la letra del mensaje y el valor de la letra de la clave, y tomamos el resultado módulo 26 para obtener la letra cifrada.\n",
    "\n",
    "Por ejemplo, para la primera letra \"L\" (valor 11) con la primera letra de la clave \"T\" (valor 19):\n",
    "\n",
    "Cifrado = (11 + 19) % 26 = 4, que corresponde a la letra \"E\".\n",
    "\n",
    "Así, ciframos todas las letras del mensaje. La respuesta cifrada sería:\n",
    "\n",
    "Texto cifrado: \"ETULGMVGRNQGQZZMSSZVHQQMIE\"\n",
    "\n",
    "### Enunciado\n",
    "Implementa el cifrado Vigenère en Python. Deben escribir una función que tome como entrada un mensaje y una clave, y devuelva el mensaje cifrado utilizando el cifrado Vigenère. Asegúrate de que la función maneje tanto letras mayúsculas como minúsculas y que conserve los espacios y caracteres especiales sin cifrar. Los estudiantes deben utilizar el alfabeto inglés (26 letras) y asegurarse de que la clave se repita cíclicamente a medida que se cifra el mensaje.\n",
    "\n",
    "\n",
    "\n",
    "\n",
    "\n",
    "\n",
    "\n"
   ]
  },
  {
   "cell_type": "code",
   "execution_count": 29,
   "id": "cdffddf2",
   "metadata": {},
   "outputs": [
    {
     "name": "stdout",
     "output_type": "stream",
     "text": [
      "EI XEOFYIW JX KWQU WFUB XMKGA EIJ ZEJOZVNY\n"
     ]
    }
   ],
   "source": [
    "def vigenere_cipher(text, key):\n",
    "    text = text.upper()\n",
    "    key = key.upper()\n",
    "    encrypted_text = \"\"\n",
    "\n",
    "    for i in range(len(text)):\n",
    "        if text[i].isalpha():\n",
    "            shift = ord(key[i % len(key)]) - ord('A')\n",
    "            encrypted_char = chr(((ord(text[i]) - ord('A') + shift) % 26) + ord('A'))\n",
    "            encrypted_text += encrypted_char\n",
    "        else:\n",
    "            encrypted_text += text[i]\n",
    "\n",
    "    return encrypted_text\n",
    "\n",
    "mensaje = \"Lo primero de todo como están los máquinas\"\n",
    "clave = \"turing\"\n",
    "texto_cifrado = vigenere_cipher(mensaje, clave)\n",
    "print(texto_cifrado)\n"
   ]
  }
 ],
 "metadata": {
  "kernelspec": {
   "display_name": "Python 3 (ipykernel)",
   "language": "python",
   "name": "python3"
  },
  "language_info": {
   "codemirror_mode": {
    "name": "ipython",
    "version": 3
   },
   "file_extension": ".py",
   "mimetype": "text/x-python",
   "name": "python",
   "nbconvert_exporter": "python",
   "pygments_lexer": "ipython3",
   "version": "3.9.13"
  }
 },
 "nbformat": 4,
 "nbformat_minor": 5
}
