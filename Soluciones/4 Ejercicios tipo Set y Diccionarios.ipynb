{
 "cells": [
  {
   "cell_type": "markdown",
   "id": "8753d4cb",
   "metadata": {},
   "source": [
    "Cree una función que reciba un conjunto y otra función y nos devuelva el conjunto de imagen Ej. imagen({1,2},lambda x: x**2) ={1, 4}"
   ]
  },
  {
   "cell_type": "code",
   "execution_count": 7,
   "id": "566059af",
   "metadata": {},
   "outputs": [
    {
     "data": {
      "text/plain": [
       "{1, 4}"
      ]
     },
     "execution_count": 7,
     "metadata": {},
     "output_type": "execute_result"
    }
   ],
   "source": [
    "def imagen(s,f):\n",
    "    c = set()\n",
    "    for i in s:\n",
    "           c.add(f(i))\n",
    "    return c\n",
    "\n",
    "\n",
    "imagen({1,2},lambda x: x**2)"
   ]
  },
  {
   "cell_type": "code",
   "execution_count": 2,
   "id": "3ba6e1eb",
   "metadata": {},
   "outputs": [
    {
     "name": "stdout",
     "output_type": "stream",
     "text": [
      "RECTANGULO,3,5\n",
      "\n",
      "TRIANGULO,10.5,1.5\n",
      "\n",
      "TRIANGULO,2,7.54\n",
      "\n",
      "CIRCULO,4\n",
      "\n"
     ]
    }
   ],
   "source": [
    "def calcula_areas(f_entrada,f_salida):\n",
    "    archivo = open(f_entrada)\n",
    "    lineas= archivo.readlines()\n",
    "    archivo.close()\n",
    "    for linea in lineas:\n",
    "        print(linea)\n",
    "calcula_areas(\"figuras.csv\",\"\")"
   ]
  },
  {
   "cell_type": "markdown",
   "id": "a20becca",
   "metadata": {},
   "source": [
    "a) Cree una función que reciba un conjunto y una función y nos devuelva una lista compuesto por conjuntos de los elementos que comparten imagen \n",
    "\n",
    "\\\n",
    "b) cree otra función que nos devuelva un conjunto con un representante de cada conjunto anterior, esta función recibirá tres parametros, uno de ellos opcional. El primer parametro será el conjunto a trabajr, el segundo la función y el tercero será \"m\" o \"M\", si recibe \"m\" el representante será el menor de su clase y si recibe \"M\" el Mayor"
   ]
  },
  {
   "cell_type": "code",
   "execution_count": 19,
   "id": "553a3284",
   "metadata": {},
   "outputs": [],
   "source": [
    "def clas_eq(c,f):\n",
    "    imag = imagen(c,f)\n",
    "    aux = []\n",
    "    for i in imag:\n",
    "        aux2 = set()\n",
    "        for j in c:\n",
    "            if f(j) == i:\n",
    "                aux2.add(j)\n",
    "        aux.append(aux2)\n",
    "    return aux\n",
    "#para probar clas_eq({-2,-1,0,1,2},lambda x: x**2)\n",
    "\n",
    "def repr_clas(c,f,re=\"m\"):\n",
    "    s = set()\n",
    "    if re == \"m\":\n",
    "        for i in clas_eq(c,f):\n",
    "            s.add(min(i))\n",
    "        return s\n",
    "    elif re == \"M\":\n",
    "        for i in clas_eq(c,f):\n",
    "            s.add(max(i))\n",
    "        return s\n",
    "    else:\n",
    "        return \"ERROR\"\n",
    "# repr_clas({-2,-1,0,1,2},lambda x: x**2) para probar"
   ]
  },
  {
   "cell_type": "markdown",
   "id": "1b964fad",
   "metadata": {},
   "source": [
    "Una relación se puede expresar como un conjunto de pares, donde x esta relacionado con y si hay un par (x,y) en el conjunto. Cree una función que recibido un numero nos de la relacion total, es decir todos estan relacionados con todos, de n elementos"
   ]
  },
  {
   "cell_type": "code",
   "execution_count": 27,
   "id": "3998a76b",
   "metadata": {},
   "outputs": [
    {
     "data": {
      "text/plain": [
       "{(0, 0),\n",
       " (0, 1),\n",
       " (0, 2),\n",
       " (0, 3),\n",
       " (1, 0),\n",
       " (1, 1),\n",
       " (1, 2),\n",
       " (1, 3),\n",
       " (2, 0),\n",
       " (2, 1),\n",
       " (2, 2),\n",
       " (2, 3),\n",
       " (3, 0),\n",
       " (3, 1),\n",
       " (3, 2),\n",
       " (3, 3)}"
      ]
     },
     "execution_count": 27,
     "metadata": {},
     "output_type": "execute_result"
    }
   ],
   "source": [
    "def rel_total(n):\n",
    "    total = set()\n",
    "    for i in range(n):\n",
    "        for j in range(n):\n",
    "            total.add((i,j))\n",
    "    return total\n",
    "rel_total(4)"
   ]
  },
  {
   "cell_type": "markdown",
   "id": "d3d6e0d0",
   "metadata": {},
   "source": [
    "Cree una función que recibiendo una relación diga si es una relación de equivalencia. Consejo: recuerda que puedes crear todas las funciones auxiliares necesarias"
   ]
  },
  {
   "cell_type": "code",
   "execution_count": 43,
   "id": "2344fb08",
   "metadata": {},
   "outputs": [],
   "source": [
    "def elementos(relacion):\n",
    "    elem = set()\n",
    "    for i in relacion:\n",
    "        elem.add(i[0])\n",
    "        elem.add(i[1])\n",
    "    return elem\n",
    "\n",
    "def reflexiva(relacion):\n",
    "    for i in elementos(relacion):\n",
    "        if (i,i) not in relacion:\n",
    "            return False\n",
    "    return True\n",
    "\n",
    "def simetrica(relacion):\n",
    "    for i in elementos(relacion):\n",
    "        for j in elementos(relacion):\n",
    "            if ((i,j) in relacion) and ((j,i) not in relacion):\n",
    "                return False\n",
    "    return True\n",
    "    \n",
    "def transitiva(relacion):\n",
    "    for i in elementos(relacion):\n",
    "        for j in elementos(relacion):\n",
    "            for k in elementos(relacion):\n",
    "                if ((i,j) in relacion) and ((j,k) in relacion) and ((k,i) not in relacion):\n",
    "                    return False\n",
    "    return True\n",
    "\n",
    "def rel_equi(relacion):\n",
    "    return relflexiva(relacion) and simetrica(relacion) and transitiva(relacion)"
   ]
  },
  {
   "cell_type": "markdown",
   "id": "8b65f647",
   "metadata": {},
   "source": [
    " Cree una función que reciba dos parámretro. El primer parámetro será un conjunto, y el segundo una función  de dos variables. Nuestra función debe comprobar si el conjunto dado con nuestra función es un grupo"
   ]
  },
  {
   "cell_type": "markdown",
   "id": "31c4318c",
   "metadata": {},
   "source": [
    "(Dificil) Usando diccionarios cree una funcion que diga cuantas veces se repite cada palabra de la variable gloria:trevi presentada abajo"
   ]
  },
  {
   "cell_type": "code",
   "execution_count": 58,
   "id": "965a3261",
   "metadata": {},
   "outputs": [
    {
     "name": "stdout",
     "output_type": "stream",
     "text": [
      "tu: 4 ocurrencias\n",
      "me: 40 ocurrencias\n",
      "hiciste: 2 ocurrencias\n",
      "sentir: 2 ocurrencias\n",
      "que: 8 ocurrencias\n",
      "no: 10 ocurrencias\n",
      "valia: 2 ocurrencias\n",
      "y: 25 ocurrencias\n",
      "mis: 2 ocurrencias\n",
      "lagrimas: 2 ocurrencias\n",
      "cayeron: 2 ocurrencias\n",
      "a: 2 ocurrencias\n",
      "tus: 5 ocurrencias\n",
      "pies: 2 ocurrencias\n",
      "miraba: 2 ocurrencias\n",
      "en: 2 ocurrencias\n",
      "el: 5 ocurrencias\n",
      "espejo: 2 ocurrencias\n",
      "hallaba: 2 ocurrencias\n",
      "yo: 2 ocurrencias\n",
      "era: 11 ocurrencias\n",
      "solo: 2 ocurrencias\n",
      "lo: 4 ocurrencias\n",
      "querias: 2 ocurrencias\n",
      "ver: 2 ocurrencias\n",
      "solte: 3 ocurrencias\n",
      "cabello,: 3 ocurrencias\n",
      "vesti: 3 ocurrencias\n",
      "de: 6 ocurrencias\n",
      "reina: 3 ocurrencias\n",
      "puse: 3 ocurrencias\n",
      "tacones,: 3 ocurrencias\n",
      "pinte: 3 ocurrencias\n",
      "bella: 3 ocurrencias\n",
      "camine: 3 ocurrencias\n",
      "hacia: 3 ocurrencias\n",
      "la: 6 ocurrencias\n",
      "puerta,: 3 ocurrencias\n",
      "te: 3 ocurrencias\n",
      "escuche: 3 ocurrencias\n",
      "gritarme: 3 ocurrencias\n",
      "pero: 9 ocurrencias\n",
      "cadenas: 3 ocurrencias\n",
      "ya: 6 ocurrencias\n",
      "pueden: 3 ocurrencias\n",
      "pararme: 3 ocurrencias\n",
      "mire: 3 ocurrencias\n",
      "noche: 3 ocurrencias\n",
      "oscura,: 3 ocurrencias\n",
      "lentejuelas: 3 ocurrencias\n",
      "todos: 10 ocurrencias\n",
      "miran,: 12 ocurrencias\n",
      "miran: 6 ocurrencias\n",
      "porque: 6 ocurrencias\n",
      "se: 4 ocurrencias\n",
      "soy: 2 ocurrencias\n",
      "linda,: 2 ocurrencias\n",
      "admiran: 2 ocurrencias\n",
      "hago: 2 ocurrencias\n",
      "pocos: 2 ocurrencias\n",
      "atreveran: 2 ocurrencias\n",
      "algunos: 2 ocurrencias\n",
      "con: 2 ocurrencias\n",
      "envidia: 2 ocurrencias\n",
      "al: 6 ocurrencias\n",
      "final,: 4 ocurrencias\n",
      "final: 2 ocurrencias\n",
      "amaran: 2 ocurrencias\n"
     ]
    }
   ],
   "source": [
    "contar_palabras = {}\n",
    "\n",
    "for palabra in gloria_trevi.split():\n",
    "    if contar_palabras.get(palabra) is None:  # if palabra not in cont_palabras\n",
    "        contar_palabras[palabra] = 0\n",
    "    contar_palabras[palabra] = contar_palabras[palabra] + 1\n",
    "\n",
    "for c in contar_palabras.keys():\n",
    "    print(c + \": \" + str(contar_palabras[c]) + \" ocurrencias\")"
   ]
  },
  {
   "cell_type": "code",
   "execution_count": 59,
   "id": "d2642160",
   "metadata": {},
   "outputs": [],
   "source": [
    "import re\n",
    "gloria_trevi = 'tu me hiciste sentir que no valia y mis lagrimas cayeron a tus pies me miraba en el espejo y no me hallaba yo era solo lo que tu querias ver  y me solte el cabello, me vesti de reina me puse tacones, me pinte y era bella y camine hacia la puerta, te escuche gritarme pero tus cadenas ya no pueden pararme y mire la noche y ya no era oscura, era de lentejuelas  y todos me miran, me miran, me miran porque se que soy linda, porque todos me admiran y todos me miran, me miran, me miran porque hago lo que pocos se atreveran y todos me miran, me miran, me miran algunos con envidia pero al final, pero al final pero al final, todos me amaran  tu me hiciste sentir que no valia y mis lagrimas cayeron a tus pies me miraba en el espejo y no me hallaba yo era solo lo que tu querias ver  y me solte el cabello, me vesti de reina me puse tacones, me pinte y era bella y camine hacia la puerta, te escuche gritarme pero tus cadenas ya no pueden pararme y mire la noche y ya no era oscura, era de lentejuelas  y todos me miran, me miran, me miran porque se que soy linda, porque todos me admiran y todos me miran, me miran, me miran porque hago lo que pocos se atreveran y todos me miran, me miran, me miran algunos con envidia pero al final, pero al final pero al final, todos me amaran  y me solte el cabello, me vesti de reina me puse tacones, me pinte y era bella y camine hacia la puerta, te escuche gritarme pero tus cadenas ya no pueden pararme y mire la noche y ya no era oscura, era de lentejuelas'\n",
    "gloria_trevi = re.sub(\",\",\"\",gloria_trevi)"
   ]
  },
  {
   "cell_type": "markdown",
   "id": "a3105d7a",
   "metadata": {},
   "source": [
    "Cree una funcion merge, que reciba un numero variable de diccionarios y cree uno nuevo donde las claves sea la unión de las claves y los valores la lista de los valores con clave en comun"
   ]
  },
  {
   "cell_type": "code",
   "execution_count": 1,
   "id": "0b56e554",
   "metadata": {},
   "outputs": [
    {
     "ename": "SyntaxError",
     "evalue": "invalid syntax (2258348185.py, line 17)",
     "output_type": "error",
     "traceback": [
      "\u001b[1;36m  File \u001b[1;32m\"C:\\Users\\G\\AppData\\Local\\Temp\\ipykernel_3112\\2258348185.py\"\u001b[1;36m, line \u001b[1;32m17\u001b[0m\n\u001b[1;33m    >>> merge(dict1, dict2, dict3)\u001b[0m\n\u001b[1;37m    ^\u001b[0m\n\u001b[1;31mSyntaxError\u001b[0m\u001b[1;31m:\u001b[0m invalid syntax\n"
     ]
    }
   ],
   "source": [
    "#EJEMPLO\n",
    "dict1 = {\n",
    "    \"foo\": 1, \n",
    "    \"bar\": [3, 4], \n",
    "    \"baz\": None\n",
    "}\n",
    "\n",
    "dict2 = {\n",
    "    \"foo\": \"Hello world\", \n",
    "    5: \"five\"\n",
    "}\n",
    "\n",
    "dict3 = {\n",
    "    \"bar\": \"yes\"\n",
    "}\n",
    "\n",
    ">>> merge(dict1, dict2, dict3)\n",
    "\n",
    "{\n",
    "    'foo': [1, 'Hello world'], \n",
    "    'bar': [[3, 4], 'yes'], \n",
    "    'baz': [None], \n",
    "    5: ['five']\n",
    "}"
   ]
  },
  {
   "cell_type": "code",
   "execution_count": 2,
   "id": "6a2e4997",
   "metadata": {},
   "outputs": [],
   "source": [
    "def merge(*args):\n",
    "    d_ref = {}\n",
    "    for d in args:\n",
    "        for key in d.keys():\n",
    "            if key not in d_ref.keys():\n",
    "                d_ref[key] = [d[key]]\n",
    "            else:\n",
    "                d_ref[key].append(d[key])\n",
    "\n",
    "    return d_ref"
   ]
  },
  {
   "cell_type": "markdown",
   "id": "26fc8f56",
   "metadata": {},
   "source": [
    "Una señora quiere que vayamos a hacer la compra por ella, como es algo olvidadiza suele repetir varias veces los productos que quiere, para poder entendernos mejor con ella vamos a crear un programa llamado lista_compra que vaya preguntando que producto quiere añadir a la cesta y si es repetido no lo añade, si la señora mete por pantalla \"Fin\" se debe proceder a preguntar la cantidad de cada producto y al acabar mostrarlo en pantalla diciendo que producto y cuanta cantidad, recuerda que solo puedes usar diccionarios y conjuntos"
   ]
  },
  {
   "cell_type": "code",
   "execution_count": null,
   "id": "f7a657f1",
   "metadata": {},
   "outputs": [],
   "source": []
  },
  {
   "cell_type": "markdown",
   "id": "85561f44",
   "metadata": {},
   "source": [
    "Representaremos un grafo como un diccionario que a cada nodo le asigna la lista de sus nodos conectados. Por ejemplo:\n",
    "    \n",
    "```\n",
    "grafo1={\"A\":[\"C\",\"E\"] , \"B\":[\"C\"]  , \n",
    "        \"C\":[\"A\",\"C\"], \"D\":[] , \"E\":[\"A\",\"C\"]}\n",
    "```\n",
    "Aunque aquí el ejemplo esté hecho con letras podemos realizar el ejercicio con números\n",
    "\n",
    "Crea la función que dado un número $n$ nos devuelva el grafo completo de $n$ nodos"
   ]
  },
  {
   "cell_type": "code",
   "execution_count": 1,
   "id": "26a4c199",
   "metadata": {},
   "outputs": [
    {
     "name": "stdout",
     "output_type": "stream",
     "text": [
      "Grafo Completo:\n",
      "{'0': ['1', '2', '3', '4'], '1': ['0', '2', '3', '4'], '2': ['0', '1', '3', '4'], '3': ['0', '1', '2', '4'], '4': ['0', '1', '2', '3']}\n"
     ]
    }
   ],
   "source": [
    "def grafo_completo(n):\n",
    "    grafo = {str(i): [] for i in range(n)}\n",
    "    for nodo in grafo:\n",
    "        grafo[nodo] = [otro_nodo for otro_nodo in grafo if otro_nodo != nodo]\n",
    "    return grafo\n",
    "\n",
    "# Ejemplo de uso:\n",
    "n = 5\n",
    "grafo_completo_5 = grafo_completo(n)\n",
    "print(\"Grafo Completo:\")\n",
    "print(grafo_completo_5)\n"
   ]
  },
  {
   "cell_type": "markdown",
   "id": "aad810dc",
   "metadata": {},
   "source": [
    "El grafo regular de orden $k$ es el grafo en el que todo nodo tiene exactamente $k$ conexiones.\n",
    "Crear la función $grafo_regular(n,k)$ que genere el grafo regular de orden $k$ con $n$ nodos"
   ]
  },
  {
   "cell_type": "code",
   "execution_count": 2,
   "id": "63c0ddd5",
   "metadata": {},
   "outputs": [
    {
     "name": "stdout",
     "output_type": "stream",
     "text": [
      "Grafo Regular de Orden 2:\n",
      "{'0': ['1', '2'], '1': ['0', '2'], '2': ['0', '1'], '3': ['0', '1'], '4': ['0', '1'], '5': ['0', '1']}\n"
     ]
    }
   ],
   "source": [
    "def grafo_regular(n, k):\n",
    "    grafo = {str(i): [] for i in range(n)}\n",
    "    for nodo in grafo:\n",
    "        otros_nodos = list(grafo.keys())\n",
    "        otros_nodos.remove(nodo)\n",
    "        vecinos = otros_nodos[:k]\n",
    "        grafo[nodo] = vecinos\n",
    "    return grafo\n",
    "\n",
    "# Ejemplo de uso:\n",
    "n = 6\n",
    "k = 2\n",
    "grafo_regular_6_2 = grafo_regular(n, k)\n",
    "print(\"Grafo Regular de Orden 2:\")\n",
    "print(grafo_regular_6_2)\n"
   ]
  },
  {
   "cell_type": "markdown",
   "id": "a2a48ac0",
   "metadata": {},
   "source": [
    "Puedes representar un polinomio utilizando un diccionario donde las claves son los exponentes y los valores son los coeficientes correspondientes. \n",
    "\n",
    "```\n",
    "polinomio = {3: 2, 2: -1, 1: 4, 0: 5}\n",
    "```"
   ]
  },
  {
   "cell_type": "markdown",
   "id": "3c050217",
   "metadata": {},
   "source": [
    "Cree una función que dado un polinomio nos de su derivada"
   ]
  },
  {
   "cell_type": "markdown",
   "id": "eb56df34",
   "metadata": {},
   "source": [
    "Cree una función que dado un polinomio y un valor para la x, nos de el polinomio evaluado en ese valor"
   ]
  },
  {
   "cell_type": "code",
   "execution_count": 3,
   "id": "bad4e0f9",
   "metadata": {},
   "outputs": [
    {
     "name": "stdout",
     "output_type": "stream",
     "text": [
      "Derivada del polinomio: {2: 6, 1: -2, 0: 4}\n",
      "Valor del polinomio en x = 2: 25\n"
     ]
    }
   ],
   "source": [
    "def derivada_polynomial(polinomio):\n",
    "    derivada = {}\n",
    "    for exponente, coeficiente in polinomio.items():\n",
    "        if exponente > 0:\n",
    "            derivada[exponente - 1] = exponente * coeficiente\n",
    "    return derivada\n",
    "\n",
    "def evaluar_polynomial(polinomio, x):\n",
    "    resultado = 0\n",
    "    for exponente, coeficiente in polinomio.items():\n",
    "        resultado += coeficiente * (x ** exponente)\n",
    "    return resultado\n",
    "\n",
    "# Ejemplo de uso:\n",
    "polinomio = {3: 2, 2: -1, 1: 4, 0: 5}\n",
    "x = 2\n",
    "\n",
    "derivada = derivada_polynomial(polinomio)\n",
    "valor = evaluar_polynomial(polinomio, x)\n",
    "\n",
    "print(f\"Derivada del polinomio: {derivada}\")\n",
    "print(f\"Valor del polinomio en x = {x}: {valor}\")\n"
   ]
  }
 ],
 "metadata": {
  "kernelspec": {
   "display_name": "Python 3 (ipykernel)",
   "language": "python",
   "name": "python3"
  },
  "language_info": {
   "codemirror_mode": {
    "name": "ipython",
    "version": 3
   },
   "file_extension": ".py",
   "mimetype": "text/x-python",
   "name": "python",
   "nbconvert_exporter": "python",
   "pygments_lexer": "ipython3",
   "version": "3.9.13"
  }
 },
 "nbformat": 4,
 "nbformat_minor": 5
}
