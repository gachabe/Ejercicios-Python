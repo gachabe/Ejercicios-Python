{
 "cells": [
  {
   "cell_type": "code",
   "execution_count": null,
   "id": "a83c5a7a",
   "metadata": {},
   "outputs": [],
   "source": []
  },
  {
   "cell_type": "markdown",
   "id": "6fed7374",
   "metadata": {
    "id": "6fed7374"
   },
   "source": [
    "Sin usar la función count y usando comprension dar una lista que, dado un String nos diga cuantas veces aparece cada letra del string"
   ]
  },
  {
   "cell_type": "code",
   "execution_count": null,
   "id": "fe73f372",
   "metadata": {
    "id": "fe73f372"
   },
   "outputs": [],
   "source": [
    "def cuenta_letras(string):\n",
    "    s = set(string) #Cuidado porque set reordena en alfabetico\n",
    "    print(s)\n",
    "    return [len([x for x in string if x == y ]) for y in s ]"
   ]
  },
  {
   "cell_type": "code",
   "execution_count": null,
   "id": "958da91f",
   "metadata": {
    "id": "958da91f",
    "outputId": "5802b0d4-96ae-4de8-f882-ce8a7b0c3e63"
   },
   "outputs": [
    {
     "name": "stdout",
     "output_type": "stream",
     "text": [
      "{'a', 'l', 'e', 'd', 'n', 'q', 'u', 'b', 'p', 'o', ' ', 's', 't', 'i', 'r'}\n"
     ]
    },
    {
     "data": {
      "text/plain": [
       "[2, 1, 6, 1, 3, 1, 1, 1, 1, 4, 7, 1, 1, 1, 4]"
      ]
     },
     "execution_count": 4,
     "metadata": {},
     "output_type": "execute_result"
    }
   ],
   "source": [
    "cuenta_letras(\"el perro de san roque no tiene rabo\")"
   ]
  },
  {
   "cell_type": "markdown",
   "id": "108cd47b",
   "metadata": {
    "id": "108cd47b"
   },
   "source": [
    "Escriba usando comprensión una función que nos devuelva cada elemento de una lista repetido"
   ]
  },
  {
   "cell_type": "code",
   "execution_count": null,
   "id": "a45c21ad",
   "metadata": {
    "id": "a45c21ad",
    "outputId": "d02325e5-91b7-465d-b735-80d5816c1fdf"
   },
   "outputs": [
    {
     "data": {
      "text/plain": [
       "[1, 1, 2, 2, 3, 3]"
      ]
     },
     "execution_count": 21,
     "metadata": {},
     "output_type": "execute_result"
    }
   ],
   "source": [
    "def eco(xs):\n",
    "    return sorted([x for x in xs+xs])\n",
    "\n",
    "(eco([1,2,3]))"
   ]
  },
  {
   "cell_type": "code",
   "execution_count": null,
   "id": "c39f3f8b",
   "metadata": {
    "id": "c39f3f8b"
   },
   "outputs": [],
   "source": [
    "def ecoN(xs,n):\n",
    "    return [(elem for elem in xs) for _ in range(n)]"
   ]
  },
  {
   "cell_type": "code",
   "execution_count": null,
   "id": "02713582",
   "metadata": {
    "id": "02713582",
    "outputId": "b70d9330-d44a-491f-c7c5-f748c238ef7d"
   },
   "outputs": [
    {
     "data": {
      "text/plain": [
       "[1, 1, 1, 2, 2, 2, 3, 3, 3]"
      ]
     },
     "execution_count": 8,
     "metadata": {},
     "output_type": "execute_result"
    }
   ],
   "source": [
    "ecoN([1,2,3],3)"
   ]
  },
  {
   "cell_type": "markdown",
   "id": "3890a3e9",
   "metadata": {
    "id": "3890a3e9"
   },
   "source": [
    "Vamos a demostrar que la sucesión armónica es una sucesión de Cauchy (Buen momento para repasar Cálculo infinitesimal).\n",
    "Para ello cree una función que reciba como argumento un epsilon y un natural y compruebe si para ese epsilon y ese natural esa sucesion es lo bastante pequeña"
   ]
  },
  {
   "cell_type": "code",
   "execution_count": 38,
   "id": "bac259a8",
   "metadata": {
    "id": "bac259a8"
   },
   "outputs": [],
   "source": [
    "def armonica():\n",
    "    n = 1\n",
    "    while True:\n",
    "        yield n\n",
    "        n = 1/(n+1)\n",
    "\n",
    "\n",
    "g = armonica()\n",
    "\n"
   ]
  },
  {
   "cell_type": "code",
   "execution_count": 39,
   "id": "a5f9f197",
   "metadata": {},
   "outputs": [
    {
     "data": {
      "text/plain": [
       "1"
      ]
     },
     "execution_count": 39,
     "metadata": {},
     "output_type": "execute_result"
    }
   ],
   "source": [
    "next(g)"
   ]
  },
  {
   "cell_type": "code",
   "execution_count": null,
   "id": "b60a2232",
   "metadata": {
    "id": "b60a2232"
   },
   "outputs": [],
   "source": [
    "\n",
    "def cauchy(ep,n):\n",
    "    for _ in range(n):\n",
    "        a = next(g)\n",
    "        b = next(g)\n",
    "        if abs(a-b) < ep:\n",
    "            return True\n",
    "        else:\n",
    "            a = b\n",
    "            b = next(g)\n",
    "    return False"
   ]
  },
  {
   "cell_type": "code",
   "execution_count": null,
   "id": "aeea2192",
   "metadata": {
    "id": "aeea2192",
    "outputId": "0396e893-bf77-4a05-a080-c3ab49cc0c02"
   },
   "outputs": [
    {
     "data": {
      "text/plain": [
       "True"
      ]
     },
     "execution_count": 49,
     "metadata": {},
     "output_type": "execute_result"
    }
   ],
   "source": [
    "cauchy(0.006,15)"
   ]
  },
  {
   "cell_type": "markdown",
   "id": "e64eb02d",
   "metadata": {
    "id": "e64eb02d"
   },
   "source": [
    "Se dice que el invetor del ajedrez pidió a su rey a cambio de su invención que le diera un grando de arroz por el primer hueco de su tablero, dos por su segundo hueco, cuatro por el tercero y asi, duplicando la cuantía cada vez. Si el rey solo disponía de 18 446 744 073 709 551 616 granos de arroz ¿Pudo pagar? resuelvelo usando comprensión"
   ]
  },
  {
   "cell_type": "code",
   "execution_count": 3,
   "id": "ce137e67",
   "metadata": {
    "colab": {
     "base_uri": "https://localhost:8080/"
    },
    "executionInfo": {
     "elapsed": 268,
     "status": "ok",
     "timestamp": 1700846699454,
     "user": {
      "displayName": "Gabriel ChavesBenítez",
      "userId": "10155876556175710393"
     },
     "user_tz": -60
    },
    "id": "ce137e67",
    "outputId": "1c401b9a-be58-4074-ddb5-6f500aea2af6"
   },
   "outputs": [
    {
     "data": {
      "text/plain": [
       "18446744073709551615"
      ]
     },
     "execution_count": 3,
     "metadata": {},
     "output_type": "execute_result"
    }
   ],
   "source": [
    "sum([ 2**x for x in range(64)])"
   ]
  },
  {
   "cell_type": "markdown",
   "id": "8dfeeed3",
   "metadata": {
    "id": "8dfeeed3"
   },
   "source": [
    "Vamos a intentar crear una versión más segura de la ruleta rusa. Usando el módulo random y la función shuffle que baraja una lista cree un iterador y una función que cada vez que lo llamemos nos devuelva bala o vacio aleatoriamente, el que le toque bala pierde"
   ]
  },
  {
   "cell_type": "code",
   "execution_count": 1,
   "id": "ef07e615",
   "metadata": {
    "id": "ef07e615"
   },
   "outputs": [],
   "source": [
    "import random\n",
    "\n",
    "cargador = ([0,0,0,0,0,1])\n",
    "random.shuffle(cargador)\n",
    "c = iter(cargador)"
   ]
  },
  {
   "cell_type": "code",
   "execution_count": 4,
   "id": "642527c2",
   "metadata": {
    "id": "642527c2",
    "outputId": "790a5d8c-6e32-4349-cce8-8d77341c172c"
   },
   "outputs": [
    {
     "name": "stdout",
     "output_type": "stream",
     "text": [
      "Te salvaste\n"
     ]
    }
   ],
   "source": [
    "def rusa():\n",
    "\n",
    "        turno = next(c)\n",
    "        if turno == 0:\n",
    "            print(\"Te salvaste\")\n",
    "        else: print(\"Perdiste, recarga y empecemos\")\n",
    "\n",
    "rusa()"
   ]
  },
  {
   "cell_type": "markdown",
   "id": "9ac4eba1",
   "metadata": {
    "id": "9ac4eba1"
   },
   "source": [
    "Habiendo practicado arriba, intentemos crear ahora una función que dado un épsilon, un natural y una función nos diga si la sucesión generada por esta función es de cauchy (EJ: cauchy2(0.5,20,lambda x : 1+(1/x+1)) == True)"
   ]
  },
  {
   "cell_type": "code",
   "execution_count": null,
   "id": "927775bf",
   "metadata": {
    "id": "927775bf"
   },
   "outputs": [],
   "source": [
    "def cauchy2(ep,n,f):\n",
    "    def creafunciones(f):\n",
    "        n = 1\n",
    "        while True:\n",
    "            yield n\n",
    "            n = f(n)\n",
    "    g = creafunciones(f)\n",
    "    for _ in range(n):\n",
    "        a = next(g)\n",
    "        b = next(g)\n",
    "\n",
    "        print(abs(a-b))\n",
    "        if abs(a-b) < ep:\n",
    "            return True\n",
    "        else:\n",
    "            a = b\n",
    "            b = next(g)\n",
    "    return False"
   ]
  },
  {
   "cell_type": "code",
   "execution_count": null,
   "id": "d561d5c0",
   "metadata": {
    "id": "d561d5c0",
    "outputId": "6fd874a0-4faf-4839-8ad2-f7dac60cda6e"
   },
   "outputs": [
    {
     "name": "stdout",
     "output_type": "stream",
     "text": [
      "2.0\n",
      "0.016806722689076015\n"
     ]
    },
    {
     "data": {
      "text/plain": [
       "True"
      ]
     },
     "execution_count": 108,
     "metadata": {},
     "output_type": "execute_result"
    }
   ],
   "source": [
    "cauchy2(0.5,20,lambda x : 1+(1/x+1))"
   ]
  },
  {
   "cell_type": "markdown",
   "id": "b18ad98a",
   "metadata": {
    "id": "b18ad98a"
   },
   "source": [
    "Cree una función usando comprensión que nos devuelva la traspuesta de una matriz, estando esta representada como una lista de listas\n"
   ]
  },
  {
   "cell_type": "code",
   "execution_count": null,
   "id": "da70bfdd",
   "metadata": {
    "id": "da70bfdd",
    "outputId": "42be71be-c1c5-4676-ba39-8645c93e9b31"
   },
   "outputs": [
    {
     "name": "stdout",
     "output_type": "stream",
     "text": [
      "Matriz original:\n",
      "[1, 2, 3]\n",
      "[4, 5, 6]\n",
      "[7, 8, 9]\n",
      "Traspuesta:\n",
      "[1, 4, 7]\n",
      "[2, 5, 8]\n",
      "[3, 6, 9]\n"
     ]
    }
   ],
   "source": [
    "def traspuesta(m):\n",
    "\n",
    "    return [[fila[i] for fila in m] for i in range(len(m[0]))]\n",
    "\n",
    "\n",
    "matriz = [[1, 2, 3], [4, 5, 6], [7, 8, 9]]\n",
    "print(\"Matriz original:\")\n",
    "for fila in matriz:\n",
    "    print(fila)\n",
    "\n",
    "traspuesta = traspuesta(matriz)\n",
    "print(\"Traspuesta:\")\n",
    "for fila in traspuesta:\n",
    "    print(fila)\n"
   ]
  },
  {
   "cell_type": "markdown",
   "id": "fd173856",
   "metadata": {
    "id": "fd173856"
   },
   "source": [
    "Supongamos que tienes una lista de palabras y quieres crear un diccionario que asigne a cada palabra su longitud. Por ejemplo, si la lista es ['perro', 'gato', 'elefante', 'jirafa'], el diccionario resultante sería {'perro': 5, 'gato': 4, 'elefante': 8, 'jirafa': 6}.\n",
    "\n",
    "Puedes resolver este problema utilizando comprensión de listas. ¿Te animas a intentarlo?"
   ]
  },
  {
   "cell_type": "code",
   "execution_count": null,
   "id": "822d3d65",
   "metadata": {
    "id": "822d3d65",
    "outputId": "1a4ed1e0-090e-42ca-a255-ff3dc3575eed"
   },
   "outputs": [
    {
     "name": "stdout",
     "output_type": "stream",
     "text": [
      "{'perro': 5, 'gato': 4, 'elefante': 8, 'jirafa': 6}\n"
     ]
    }
   ],
   "source": [
    "words = ['perro', 'gato', 'elefante', 'jirafa']\n",
    "word_lengths = {word: len(word) for word in words}\n",
    "print(word_lengths)\n"
   ]
  },
  {
   "cell_type": "markdown",
   "id": "b61dca75",
   "metadata": {
    "id": "b61dca75"
   },
   "source": [
    "Resuelve el problema del tablero de ajedrez usando iteradores"
   ]
  },
  {
   "cell_type": "code",
   "execution_count": null,
   "id": "6cd288ef",
   "metadata": {
    "id": "6cd288ef"
   },
   "outputs": [],
   "source": [
    "def expo():\n",
    "    n = 0\n",
    "    while True:\n",
    "        yield 2**n\n",
    "        n += 1\n",
    "\n",
    "g = expo()"
   ]
  },
  {
   "cell_type": "code",
   "execution_count": null,
   "id": "55fdb238",
   "metadata": {
    "id": "55fdb238"
   },
   "outputs": [],
   "source": [
    "def ajedrez2():\n",
    "    sum = 0\n",
    "    for _ in range(64):\n",
    "        a = next(g)\n",
    "        sum += a\n",
    "    return sum"
   ]
  },
  {
   "cell_type": "markdown",
   "id": "91bb46a2",
   "metadata": {
    "id": "91bb46a2"
   },
   "source": [
    "ajedrez2()"
   ]
  },
  {
   "cell_type": "markdown",
   "id": "8f5412ea",
   "metadata": {
    "id": "8f5412ea"
   },
   "source": [
    "Escribir una función que tome dos listas y devuelva un iterador que genere los elementos comunes entre ambos sin repetir."
   ]
  },
  {
   "cell_type": "code",
   "execution_count": null,
   "id": "7c27cb22",
   "metadata": {
    "id": "7c27cb22"
   },
   "outputs": [],
   "source": [
    "def elementos_comunes(iterador1, iterador2):\n",
    "    elementos = set(iterador1) & set(iterador2)\n",
    "    for elemento in elementos:\n",
    "        yield elemento"
   ]
  },
  {
   "cell_type": "markdown",
   "id": "ceb4651f",
   "metadata": {
    "id": "ceb4651f"
   },
   "source": [
    "Ejercicio 16 de la relación"
   ]
  },
  {
   "cell_type": "code",
   "execution_count": null,
   "id": "ffda7fad",
   "metadata": {
    "id": "ffda7fad"
   },
   "outputs": [],
   "source": [
    "import random\n",
    "\n",
    "def genera_clave(n):\n",
    "    claves_generadas = set()  # conjunto para almacenar las claves generadas\n",
    "\n",
    "    def generador():\n",
    "        while True:\n",
    "            clave = ''.join(random.choice(chr(i) for i in range(33, 126)) for _ in range(n))\n",
    "            if clave not in claves_generadas:\n",
    "                claves_generadas.add(clave)\n",
    "                yield clave\n",
    "\n",
    "    return generador()"
   ]
  },
  {
   "cell_type": "code",
   "execution_count": null,
   "id": "e9686c11",
   "metadata": {
    "id": "e9686c11",
    "outputId": "50d19c75-79a1-424b-eecf-b8abaf7fb7b0"
   },
   "outputs": [
    {
     "ename": "TypeError",
     "evalue": "object of type 'generator' has no len()",
     "output_type": "error",
     "traceback": [
      "\u001b[1;31m---------------------------------------------------------------------------\u001b[0m",
      "\u001b[1;31mTypeError\u001b[0m                                 Traceback (most recent call last)",
      "\u001b[1;32m~\\AppData\\Local\\Temp\\ipykernel_8280\\882145453.py\u001b[0m in \u001b[0;36m<module>\u001b[1;34m\u001b[0m\n\u001b[0;32m      5\u001b[0m \u001b[0mcontador\u001b[0m \u001b[1;33m=\u001b[0m \u001b[1;36m0\u001b[0m\u001b[1;33m\u001b[0m\u001b[1;33m\u001b[0m\u001b[0m\n\u001b[0;32m      6\u001b[0m \u001b[1;32mwhile\u001b[0m \u001b[0mcontador\u001b[0m \u001b[1;33m<\u001b[0m \u001b[1;36m5\u001b[0m\u001b[1;33m:\u001b[0m\u001b[1;33m\u001b[0m\u001b[1;33m\u001b[0m\u001b[0m\n\u001b[1;32m----> 7\u001b[1;33m     \u001b[0mclave\u001b[0m \u001b[1;33m=\u001b[0m \u001b[0mnext\u001b[0m\u001b[1;33m(\u001b[0m\u001b[0mgenerador\u001b[0m\u001b[1;33m)\u001b[0m\u001b[1;33m\u001b[0m\u001b[1;33m\u001b[0m\u001b[0m\n\u001b[0m\u001b[0;32m      8\u001b[0m     \u001b[0mprint\u001b[0m\u001b[1;33m(\u001b[0m\u001b[0mclave\u001b[0m\u001b[1;33m)\u001b[0m\u001b[1;33m\u001b[0m\u001b[1;33m\u001b[0m\u001b[0m\n\u001b[0;32m      9\u001b[0m     \u001b[0mcontador\u001b[0m \u001b[1;33m+=\u001b[0m \u001b[1;36m1\u001b[0m\u001b[1;33m\u001b[0m\u001b[1;33m\u001b[0m\u001b[0m\n",
      "\u001b[1;32m~\\AppData\\Local\\Temp\\ipykernel_8280\\2347128213.py\u001b[0m in \u001b[0;36mgenerador\u001b[1;34m()\u001b[0m\n\u001b[0;32m      6\u001b[0m     \u001b[1;32mdef\u001b[0m \u001b[0mgenerador\u001b[0m\u001b[1;33m(\u001b[0m\u001b[1;33m)\u001b[0m\u001b[1;33m:\u001b[0m\u001b[1;33m\u001b[0m\u001b[1;33m\u001b[0m\u001b[0m\n\u001b[0;32m      7\u001b[0m         \u001b[1;32mwhile\u001b[0m \u001b[1;32mTrue\u001b[0m\u001b[1;33m:\u001b[0m\u001b[1;33m\u001b[0m\u001b[1;33m\u001b[0m\u001b[0m\n\u001b[1;32m----> 8\u001b[1;33m             \u001b[0mclave\u001b[0m \u001b[1;33m=\u001b[0m \u001b[1;34m''\u001b[0m\u001b[1;33m.\u001b[0m\u001b[0mjoin\u001b[0m\u001b[1;33m(\u001b[0m\u001b[0mrandom\u001b[0m\u001b[1;33m.\u001b[0m\u001b[0mchoice\u001b[0m\u001b[1;33m(\u001b[0m\u001b[0mchr\u001b[0m\u001b[1;33m(\u001b[0m\u001b[0mi\u001b[0m\u001b[1;33m)\u001b[0m \u001b[1;32mfor\u001b[0m \u001b[0mi\u001b[0m \u001b[1;32min\u001b[0m \u001b[0mrange\u001b[0m\u001b[1;33m(\u001b[0m\u001b[1;36m33\u001b[0m\u001b[1;33m,\u001b[0m \u001b[1;36m126\u001b[0m\u001b[1;33m)\u001b[0m\u001b[1;33m)\u001b[0m \u001b[1;32mfor\u001b[0m \u001b[0m_\u001b[0m \u001b[1;32min\u001b[0m \u001b[0mrange\u001b[0m\u001b[1;33m(\u001b[0m\u001b[0mn\u001b[0m\u001b[1;33m)\u001b[0m\u001b[1;33m)\u001b[0m\u001b[1;33m\u001b[0m\u001b[1;33m\u001b[0m\u001b[0m\n\u001b[0m\u001b[0;32m      9\u001b[0m             \u001b[1;32mif\u001b[0m \u001b[0mclave\u001b[0m \u001b[1;32mnot\u001b[0m \u001b[1;32min\u001b[0m \u001b[0mclaves_generadas\u001b[0m\u001b[1;33m:\u001b[0m\u001b[1;33m\u001b[0m\u001b[1;33m\u001b[0m\u001b[0m\n\u001b[0;32m     10\u001b[0m                 \u001b[0mclaves_generadas\u001b[0m\u001b[1;33m.\u001b[0m\u001b[0madd\u001b[0m\u001b[1;33m(\u001b[0m\u001b[0mclave\u001b[0m\u001b[1;33m)\u001b[0m\u001b[1;33m\u001b[0m\u001b[1;33m\u001b[0m\u001b[0m\n",
      "\u001b[1;32m~\\AppData\\Local\\Temp\\ipykernel_8280\\2347128213.py\u001b[0m in \u001b[0;36m<genexpr>\u001b[1;34m(.0)\u001b[0m\n\u001b[0;32m      6\u001b[0m     \u001b[1;32mdef\u001b[0m \u001b[0mgenerador\u001b[0m\u001b[1;33m(\u001b[0m\u001b[1;33m)\u001b[0m\u001b[1;33m:\u001b[0m\u001b[1;33m\u001b[0m\u001b[1;33m\u001b[0m\u001b[0m\n\u001b[0;32m      7\u001b[0m         \u001b[1;32mwhile\u001b[0m \u001b[1;32mTrue\u001b[0m\u001b[1;33m:\u001b[0m\u001b[1;33m\u001b[0m\u001b[1;33m\u001b[0m\u001b[0m\n\u001b[1;32m----> 8\u001b[1;33m             \u001b[0mclave\u001b[0m \u001b[1;33m=\u001b[0m \u001b[1;34m''\u001b[0m\u001b[1;33m.\u001b[0m\u001b[0mjoin\u001b[0m\u001b[1;33m(\u001b[0m\u001b[0mrandom\u001b[0m\u001b[1;33m.\u001b[0m\u001b[0mchoice\u001b[0m\u001b[1;33m(\u001b[0m\u001b[0mchr\u001b[0m\u001b[1;33m(\u001b[0m\u001b[0mi\u001b[0m\u001b[1;33m)\u001b[0m \u001b[1;32mfor\u001b[0m \u001b[0mi\u001b[0m \u001b[1;32min\u001b[0m \u001b[0mrange\u001b[0m\u001b[1;33m(\u001b[0m\u001b[1;36m33\u001b[0m\u001b[1;33m,\u001b[0m \u001b[1;36m126\u001b[0m\u001b[1;33m)\u001b[0m\u001b[1;33m)\u001b[0m \u001b[1;32mfor\u001b[0m \u001b[0m_\u001b[0m \u001b[1;32min\u001b[0m \u001b[0mrange\u001b[0m\u001b[1;33m(\u001b[0m\u001b[0mn\u001b[0m\u001b[1;33m)\u001b[0m\u001b[1;33m)\u001b[0m\u001b[1;33m\u001b[0m\u001b[1;33m\u001b[0m\u001b[0m\n\u001b[0m\u001b[0;32m      9\u001b[0m             \u001b[1;32mif\u001b[0m \u001b[0mclave\u001b[0m \u001b[1;32mnot\u001b[0m \u001b[1;32min\u001b[0m \u001b[0mclaves_generadas\u001b[0m\u001b[1;33m:\u001b[0m\u001b[1;33m\u001b[0m\u001b[1;33m\u001b[0m\u001b[0m\n\u001b[0;32m     10\u001b[0m                 \u001b[0mclaves_generadas\u001b[0m\u001b[1;33m.\u001b[0m\u001b[0madd\u001b[0m\u001b[1;33m(\u001b[0m\u001b[0mclave\u001b[0m\u001b[1;33m)\u001b[0m\u001b[1;33m\u001b[0m\u001b[1;33m\u001b[0m\u001b[0m\n",
      "\u001b[1;32m~\\anaconda3\\lib\\random.py\u001b[0m in \u001b[0;36mchoice\u001b[1;34m(self, seq)\u001b[0m\n\u001b[0;32m    344\u001b[0m         \u001b[1;34m\"\"\"Choose a random element from a non-empty sequence.\"\"\"\u001b[0m\u001b[1;33m\u001b[0m\u001b[1;33m\u001b[0m\u001b[0m\n\u001b[0;32m    345\u001b[0m         \u001b[1;31m# raises IndexError if seq is empty\u001b[0m\u001b[1;33m\u001b[0m\u001b[1;33m\u001b[0m\u001b[0m\n\u001b[1;32m--> 346\u001b[1;33m         \u001b[1;32mreturn\u001b[0m \u001b[0mseq\u001b[0m\u001b[1;33m[\u001b[0m\u001b[0mself\u001b[0m\u001b[1;33m.\u001b[0m\u001b[0m_randbelow\u001b[0m\u001b[1;33m(\u001b[0m\u001b[0mlen\u001b[0m\u001b[1;33m(\u001b[0m\u001b[0mseq\u001b[0m\u001b[1;33m)\u001b[0m\u001b[1;33m)\u001b[0m\u001b[1;33m]\u001b[0m\u001b[1;33m\u001b[0m\u001b[1;33m\u001b[0m\u001b[0m\n\u001b[0m\u001b[0;32m    347\u001b[0m \u001b[1;33m\u001b[0m\u001b[0m\n\u001b[0;32m    348\u001b[0m     \u001b[1;32mdef\u001b[0m \u001b[0mshuffle\u001b[0m\u001b[1;33m(\u001b[0m\u001b[0mself\u001b[0m\u001b[1;33m,\u001b[0m \u001b[0mx\u001b[0m\u001b[1;33m,\u001b[0m \u001b[0mrandom\u001b[0m\u001b[1;33m=\u001b[0m\u001b[1;32mNone\u001b[0m\u001b[1;33m)\u001b[0m\u001b[1;33m:\u001b[0m\u001b[1;33m\u001b[0m\u001b[1;33m\u001b[0m\u001b[0m\n",
      "\u001b[1;31mTypeError\u001b[0m: object of type 'generator' has no len()"
     ]
    }
   ],
   "source": [
    "# Definir un generador de claves de longitud 8\n",
    "generador = genera_clave(8)\n",
    "\n",
    "# Generar 5 claves únicas y llevar un registro de la cantidad generada\n",
    "contador = 0\n",
    "while contador < 5:\n",
    "    clave = next(generador)\n",
    "    print(clave)\n",
    "    contador += 1\n",
    "\n",
    "# Imprimir la cantidad total de claves generadas\n",
    "print(f\"Se generaron {contador} claves únicas.\")\n"
   ]
  },
  {
   "cell_type": "code",
   "execution_count": null,
   "id": "e0bd91b2",
   "metadata": {
    "id": "e0bd91b2",
    "outputId": "37c3e7b9-9335-42f7-f1c5-06112ee976a0"
   },
   "outputs": [
    {
     "ename": "TypeError",
     "evalue": "object of type 'generator' has no len()",
     "output_type": "error",
     "traceback": [
      "\u001b[1;31m---------------------------------------------------------------------------\u001b[0m",
      "\u001b[1;31mTypeError\u001b[0m                                 Traceback (most recent call last)",
      "\u001b[1;32m~\\AppData\\Local\\Temp\\ipykernel_8280\\1242322984.py\u001b[0m in \u001b[0;36m<module>\u001b[1;34m\u001b[0m\n\u001b[1;32m----> 1\u001b[1;33m \u001b[0mnext\u001b[0m\u001b[1;33m(\u001b[0m\u001b[0ma\u001b[0m\u001b[1;33m)\u001b[0m\u001b[1;33m\u001b[0m\u001b[1;33m\u001b[0m\u001b[0m\n\u001b[0m",
      "\u001b[1;32m~\\AppData\\Local\\Temp\\ipykernel_8280\\2347128213.py\u001b[0m in \u001b[0;36mgenerador\u001b[1;34m()\u001b[0m\n\u001b[0;32m      6\u001b[0m     \u001b[1;32mdef\u001b[0m \u001b[0mgenerador\u001b[0m\u001b[1;33m(\u001b[0m\u001b[1;33m)\u001b[0m\u001b[1;33m:\u001b[0m\u001b[1;33m\u001b[0m\u001b[1;33m\u001b[0m\u001b[0m\n\u001b[0;32m      7\u001b[0m         \u001b[1;32mwhile\u001b[0m \u001b[1;32mTrue\u001b[0m\u001b[1;33m:\u001b[0m\u001b[1;33m\u001b[0m\u001b[1;33m\u001b[0m\u001b[0m\n\u001b[1;32m----> 8\u001b[1;33m             \u001b[0mclave\u001b[0m \u001b[1;33m=\u001b[0m \u001b[1;34m''\u001b[0m\u001b[1;33m.\u001b[0m\u001b[0mjoin\u001b[0m\u001b[1;33m(\u001b[0m\u001b[0mrandom\u001b[0m\u001b[1;33m.\u001b[0m\u001b[0mchoice\u001b[0m\u001b[1;33m(\u001b[0m\u001b[0mchr\u001b[0m\u001b[1;33m(\u001b[0m\u001b[0mi\u001b[0m\u001b[1;33m)\u001b[0m \u001b[1;32mfor\u001b[0m \u001b[0mi\u001b[0m \u001b[1;32min\u001b[0m \u001b[0mrange\u001b[0m\u001b[1;33m(\u001b[0m\u001b[1;36m33\u001b[0m\u001b[1;33m,\u001b[0m \u001b[1;36m126\u001b[0m\u001b[1;33m)\u001b[0m\u001b[1;33m)\u001b[0m \u001b[1;32mfor\u001b[0m \u001b[0m_\u001b[0m \u001b[1;32min\u001b[0m \u001b[0mrange\u001b[0m\u001b[1;33m(\u001b[0m\u001b[0mn\u001b[0m\u001b[1;33m)\u001b[0m\u001b[1;33m)\u001b[0m\u001b[1;33m\u001b[0m\u001b[1;33m\u001b[0m\u001b[0m\n\u001b[0m\u001b[0;32m      9\u001b[0m             \u001b[1;32mif\u001b[0m \u001b[0mclave\u001b[0m \u001b[1;32mnot\u001b[0m \u001b[1;32min\u001b[0m \u001b[0mclaves_generadas\u001b[0m\u001b[1;33m:\u001b[0m\u001b[1;33m\u001b[0m\u001b[1;33m\u001b[0m\u001b[0m\n\u001b[0;32m     10\u001b[0m                 \u001b[0mclaves_generadas\u001b[0m\u001b[1;33m.\u001b[0m\u001b[0madd\u001b[0m\u001b[1;33m(\u001b[0m\u001b[0mclave\u001b[0m\u001b[1;33m)\u001b[0m\u001b[1;33m\u001b[0m\u001b[1;33m\u001b[0m\u001b[0m\n",
      "\u001b[1;32m~\\AppData\\Local\\Temp\\ipykernel_8280\\2347128213.py\u001b[0m in \u001b[0;36m<genexpr>\u001b[1;34m(.0)\u001b[0m\n\u001b[0;32m      6\u001b[0m     \u001b[1;32mdef\u001b[0m \u001b[0mgenerador\u001b[0m\u001b[1;33m(\u001b[0m\u001b[1;33m)\u001b[0m\u001b[1;33m:\u001b[0m\u001b[1;33m\u001b[0m\u001b[1;33m\u001b[0m\u001b[0m\n\u001b[0;32m      7\u001b[0m         \u001b[1;32mwhile\u001b[0m \u001b[1;32mTrue\u001b[0m\u001b[1;33m:\u001b[0m\u001b[1;33m\u001b[0m\u001b[1;33m\u001b[0m\u001b[0m\n\u001b[1;32m----> 8\u001b[1;33m             \u001b[0mclave\u001b[0m \u001b[1;33m=\u001b[0m \u001b[1;34m''\u001b[0m\u001b[1;33m.\u001b[0m\u001b[0mjoin\u001b[0m\u001b[1;33m(\u001b[0m\u001b[0mrandom\u001b[0m\u001b[1;33m.\u001b[0m\u001b[0mchoice\u001b[0m\u001b[1;33m(\u001b[0m\u001b[0mchr\u001b[0m\u001b[1;33m(\u001b[0m\u001b[0mi\u001b[0m\u001b[1;33m)\u001b[0m \u001b[1;32mfor\u001b[0m \u001b[0mi\u001b[0m \u001b[1;32min\u001b[0m \u001b[0mrange\u001b[0m\u001b[1;33m(\u001b[0m\u001b[1;36m33\u001b[0m\u001b[1;33m,\u001b[0m \u001b[1;36m126\u001b[0m\u001b[1;33m)\u001b[0m\u001b[1;33m)\u001b[0m \u001b[1;32mfor\u001b[0m \u001b[0m_\u001b[0m \u001b[1;32min\u001b[0m \u001b[0mrange\u001b[0m\u001b[1;33m(\u001b[0m\u001b[0mn\u001b[0m\u001b[1;33m)\u001b[0m\u001b[1;33m)\u001b[0m\u001b[1;33m\u001b[0m\u001b[1;33m\u001b[0m\u001b[0m\n\u001b[0m\u001b[0;32m      9\u001b[0m             \u001b[1;32mif\u001b[0m \u001b[0mclave\u001b[0m \u001b[1;32mnot\u001b[0m \u001b[1;32min\u001b[0m \u001b[0mclaves_generadas\u001b[0m\u001b[1;33m:\u001b[0m\u001b[1;33m\u001b[0m\u001b[1;33m\u001b[0m\u001b[0m\n\u001b[0;32m     10\u001b[0m                 \u001b[0mclaves_generadas\u001b[0m\u001b[1;33m.\u001b[0m\u001b[0madd\u001b[0m\u001b[1;33m(\u001b[0m\u001b[0mclave\u001b[0m\u001b[1;33m)\u001b[0m\u001b[1;33m\u001b[0m\u001b[1;33m\u001b[0m\u001b[0m\n",
      "\u001b[1;32m~\\anaconda3\\lib\\random.py\u001b[0m in \u001b[0;36mchoice\u001b[1;34m(self, seq)\u001b[0m\n\u001b[0;32m    344\u001b[0m         \u001b[1;34m\"\"\"Choose a random element from a non-empty sequence.\"\"\"\u001b[0m\u001b[1;33m\u001b[0m\u001b[1;33m\u001b[0m\u001b[0m\n\u001b[0;32m    345\u001b[0m         \u001b[1;31m# raises IndexError if seq is empty\u001b[0m\u001b[1;33m\u001b[0m\u001b[1;33m\u001b[0m\u001b[0m\n\u001b[1;32m--> 346\u001b[1;33m         \u001b[1;32mreturn\u001b[0m \u001b[0mseq\u001b[0m\u001b[1;33m[\u001b[0m\u001b[0mself\u001b[0m\u001b[1;33m.\u001b[0m\u001b[0m_randbelow\u001b[0m\u001b[1;33m(\u001b[0m\u001b[0mlen\u001b[0m\u001b[1;33m(\u001b[0m\u001b[0mseq\u001b[0m\u001b[1;33m)\u001b[0m\u001b[1;33m)\u001b[0m\u001b[1;33m]\u001b[0m\u001b[1;33m\u001b[0m\u001b[1;33m\u001b[0m\u001b[0m\n\u001b[0m\u001b[0;32m    347\u001b[0m \u001b[1;33m\u001b[0m\u001b[0m\n\u001b[0;32m    348\u001b[0m     \u001b[1;32mdef\u001b[0m \u001b[0mshuffle\u001b[0m\u001b[1;33m(\u001b[0m\u001b[0mself\u001b[0m\u001b[1;33m,\u001b[0m \u001b[0mx\u001b[0m\u001b[1;33m,\u001b[0m \u001b[0mrandom\u001b[0m\u001b[1;33m=\u001b[0m\u001b[1;32mNone\u001b[0m\u001b[1;33m)\u001b[0m\u001b[1;33m:\u001b[0m\u001b[1;33m\u001b[0m\u001b[1;33m\u001b[0m\u001b[0m\n",
      "\u001b[1;31mTypeError\u001b[0m: object of type 'generator' has no len()"
     ]
    }
   ],
   "source": [
    "next(a)"
   ]
  },
  {
   "cell_type": "markdown",
   "id": "f979c56c",
   "metadata": {
    "id": "f979c56c"
   },
   "source": [
    "Dar una funcion que dada una lista cree un iterador que nos devuelva la lista en orden inverso, no vale usr reversed ni nada parecido"
   ]
  },
  {
   "cell_type": "code",
   "execution_count": null,
   "id": "1be1fb22",
   "metadata": {
    "id": "1be1fb22"
   },
   "outputs": [],
   "source": [
    "def inversaLista(xs):\n",
    "    n = -1\n",
    "    while True:\n",
    "        yield xs[n]\n",
    "        n -= 1"
   ]
  },
  {
   "cell_type": "code",
   "execution_count": null,
   "id": "81a82fbc",
   "metadata": {
    "id": "81a82fbc"
   },
   "outputs": [],
   "source": [
    "g = inversaLista([1,2,3,4])"
   ]
  },
  {
   "cell_type": "code",
   "execution_count": null,
   "id": "8e30b697",
   "metadata": {
    "id": "8e30b697",
    "outputId": "e095de96-5ac1-49f1-fa22-d7582b66f726"
   },
   "outputs": [
    {
     "ename": "IndexError",
     "evalue": "list index out of range",
     "output_type": "error",
     "traceback": [
      "\u001b[1;31m---------------------------------------------------------------------------\u001b[0m",
      "\u001b[1;31mIndexError\u001b[0m                                Traceback (most recent call last)",
      "\u001b[1;32m~\\AppData\\Local\\Temp\\ipykernel_6360\\4253931490.py\u001b[0m in \u001b[0;36m<module>\u001b[1;34m\u001b[0m\n\u001b[1;32m----> 1\u001b[1;33m \u001b[0mnext\u001b[0m\u001b[1;33m(\u001b[0m\u001b[0mg\u001b[0m\u001b[1;33m)\u001b[0m\u001b[1;33m\u001b[0m\u001b[1;33m\u001b[0m\u001b[0m\n\u001b[0m",
      "\u001b[1;32m~\\AppData\\Local\\Temp\\ipykernel_6360\\2117891082.py\u001b[0m in \u001b[0;36minversaLista\u001b[1;34m(xs)\u001b[0m\n\u001b[0;32m      2\u001b[0m     \u001b[0mn\u001b[0m \u001b[1;33m=\u001b[0m \u001b[1;33m-\u001b[0m\u001b[1;36m1\u001b[0m\u001b[1;33m\u001b[0m\u001b[1;33m\u001b[0m\u001b[0m\n\u001b[0;32m      3\u001b[0m     \u001b[1;32mwhile\u001b[0m \u001b[1;32mTrue\u001b[0m\u001b[1;33m:\u001b[0m\u001b[1;33m\u001b[0m\u001b[1;33m\u001b[0m\u001b[0m\n\u001b[1;32m----> 4\u001b[1;33m         \u001b[1;32myield\u001b[0m \u001b[0mxs\u001b[0m\u001b[1;33m[\u001b[0m\u001b[0mn\u001b[0m\u001b[1;33m]\u001b[0m\u001b[1;33m\u001b[0m\u001b[1;33m\u001b[0m\u001b[0m\n\u001b[0m\u001b[0;32m      5\u001b[0m         \u001b[0mn\u001b[0m \u001b[1;33m-=\u001b[0m \u001b[1;36m1\u001b[0m\u001b[1;33m\u001b[0m\u001b[1;33m\u001b[0m\u001b[0m\n",
      "\u001b[1;31mIndexError\u001b[0m: list index out of range"
     ]
    }
   ],
   "source": [
    "next(g)"
   ]
  },
  {
   "cell_type": "code",
   "execution_count": null,
   "id": "d8f31018",
   "metadata": {
    "id": "d8f31018"
   },
   "outputs": [],
   "source": [
    "def funcion1(xs,ys,n):\n",
    "    i = 0\n",
    "    while True:\n",
    "        yield [(x,y) for x in xs for y in ys  if x*y ==n][i]\n",
    "        i+= 1"
   ]
  },
  {
   "cell_type": "code",
   "execution_count": null,
   "id": "b936840c",
   "metadata": {
    "id": "b936840c"
   },
   "outputs": [],
   "source": [
    "a = funcion1([3,4,6,2],[1,8,6,4,7,12],24)"
   ]
  },
  {
   "cell_type": "code",
   "execution_count": null,
   "id": "772588d5",
   "metadata": {
    "id": "772588d5",
    "outputId": "e873c472-04b9-4682-9dad-7fee31c0cd37"
   },
   "outputs": [
    {
     "data": {
      "text/plain": [
       "(3, 8)"
      ]
     },
     "execution_count": 21,
     "metadata": {},
     "output_type": "execute_result"
    }
   ],
   "source": [
    "next(a)\n",
    "\n"
   ]
  }
 ],
 "metadata": {
  "colab": {
   "provenance": []
  },
  "kernelspec": {
   "display_name": "Python 3 (ipykernel)",
   "language": "python",
   "name": "python3"
  },
  "language_info": {
   "codemirror_mode": {
    "name": "ipython",
    "version": 3
   },
   "file_extension": ".py",
   "mimetype": "text/x-python",
   "name": "python",
   "nbconvert_exporter": "python",
   "pygments_lexer": "ipython3",
   "version": "3.9.13"
  }
 },
 "nbformat": 4,
 "nbformat_minor": 5
}
