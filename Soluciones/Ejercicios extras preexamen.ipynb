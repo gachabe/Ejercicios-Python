{
 "cells": [
  {
   "cell_type": "markdown",
   "id": "61421f01",
   "metadata": {},
   "source": [
    "Escribe una función llamada umbral, que reciba un número y devuelva True si este es mayor que 0"
   ]
  },
  {
   "cell_type": "code",
   "execution_count": 1,
   "id": "bbb4d357",
   "metadata": {},
   "outputs": [],
   "source": [
    "def umbral(n):\n",
    "    return n>0"
   ]
  },
  {
   "cell_type": "markdown",
   "id": "ef0f2ce2",
   "metadata": {},
   "source": [
    "Escribe una función que reciba dos vectores en forma de lista y devuelva su producto escalar"
   ]
  },
  {
   "cell_type": "code",
   "execution_count": 2,
   "id": "2e1999a3",
   "metadata": {},
   "outputs": [],
   "source": [
    "def producto_escalar(m,n):\n",
    "    return sum([x*y for x,y in zip(m,n)])"
   ]
  },
  {
   "cell_type": "code",
   "execution_count": 3,
   "id": "37ef73b9",
   "metadata": {},
   "outputs": [
    {
     "data": {
      "text/plain": [
       "14"
      ]
     },
     "execution_count": 3,
     "metadata": {},
     "output_type": "execute_result"
    }
   ],
   "source": [
    "producto_escalar([1,2,3],[1,2,3])"
   ]
  },
  {
   "cell_type": "markdown",
   "id": "3c04dcfa",
   "metadata": {},
   "source": [
    "Escribe una función que, devuelva una lista con todos los números entre -1 y 1 con un paso de 0,1 entre cada uno."
   ]
  },
  {
   "cell_type": "code",
   "execution_count": 1,
   "id": "1322220f",
   "metadata": {},
   "outputs": [
    {
     "name": "stdout",
     "output_type": "stream",
     "text": [
      "[-1.0, -0.9, -0.8, -0.7000000000000001, -0.6000000000000001, -0.5000000000000001, -0.40000000000000013, -0.30000000000000016, -0.20000000000000015, -0.10000000000000014, -1.3877787807814457e-16, 0.09999999999999987, 0.19999999999999987, 0.2999999999999999, 0.3999999999999999, 0.4999999999999999, 0.5999999999999999, 0.6999999999999998, 0.7999999999999998, 0.8999999999999998, 0.9999999999999998]\n"
     ]
    }
   ],
   "source": [
    "def generar_numeros():\n",
    "    numeros = []\n",
    "    valor = -1.0\n",
    "    while valor <= 1.0:\n",
    "        numeros.append(valor)\n",
    "        valor += 0.1\n",
    "    return numeros\n",
    "\n",
    "# Ejemplo de uso\n",
    "resultado = generar_numeros()\n",
    "print(resultado)\n"
   ]
  },
  {
   "cell_type": "code",
   "execution_count": 2,
   "id": "22d7f6db",
   "metadata": {},
   "outputs": [],
   "source": [
    "def listaN():\n",
    "    return [round(-1+0.1*i,1) for i in range(21)]"
   ]
  },
  {
   "cell_type": "code",
   "execution_count": 3,
   "id": "71f8494c",
   "metadata": {},
   "outputs": [
    {
     "data": {
      "text/plain": [
       "[-1.0,\n",
       " -0.9,\n",
       " -0.8,\n",
       " -0.7,\n",
       " -0.6,\n",
       " -0.5,\n",
       " -0.4,\n",
       " -0.3,\n",
       " -0.2,\n",
       " -0.1,\n",
       " 0.0,\n",
       " 0.1,\n",
       " 0.2,\n",
       " 0.3,\n",
       " 0.4,\n",
       " 0.5,\n",
       " 0.6,\n",
       " 0.7,\n",
       " 0.8,\n",
       " 0.9,\n",
       " 1.0]"
      ]
     },
     "execution_count": 3,
     "metadata": {},
     "output_type": "execute_result"
    }
   ],
   "source": [
    "listaN()"
   ]
  },
  {
   "cell_type": "markdown",
   "id": "ced25676",
   "metadata": {},
   "source": [
    "Crea una función que devuelva una lista de pares compuesta por:\n",
    " - El primer elemento del par es otro par, tienes que crear todas las posibles combinacion de pares binarios.\n",
    " - El segundo elemento del par es su imagen respecto de la puerta lógica AND\n",
    " \n",
    " \n",
    " EJEMPLO: conjuntoEnt() ==  [((0, 0), 0), ((0, 1), 0), ((1, 0), 0), ((1, 1), 1)]"
   ]
  },
  {
   "cell_type": "code",
   "execution_count": 67,
   "id": "6c395efa",
   "metadata": {},
   "outputs": [],
   "source": [
    "def conjuntoEnt():\n",
    "    return[((x,y),x and y) for x in [0,1] for y in [0,1]]"
   ]
  },
  {
   "cell_type": "code",
   "execution_count": 68,
   "id": "c292fad8",
   "metadata": {},
   "outputs": [
    {
     "data": {
      "text/plain": [
       "[((0, 0), 0), ((0, 1), 0), ((1, 0), 0), ((1, 1), 1)]"
      ]
     },
     "execution_count": 68,
     "metadata": {},
     "output_type": "execute_result"
    }
   ],
   "source": [
    "conjuntoEnt()"
   ]
  },
  {
   "cell_type": "markdown",
   "id": "1cc3c8d6",
   "metadata": {},
   "source": [
    "Vamos a construir una neurona artificial o perceptrón. Una neurona esta compuesta por varias entradas, en nuestro caso serán 2, X e Y, y una entrada imaginaria llamada sesgo o bias que siempre vale 1. A cada una de estas entradas se les multiplica por un número, llamado peso, y se suman las entradas multiplicadas por los respectivos pesos. Finalmente, al resultado se le aplica una función llamada función umbral. En nuestro caso la función será 1 si es un número positivo y 0 en caso contrario.\n",
    "\n",
    "Vamos a crear estas neuronas de la siguiente forma:\n",
    " - Primero crearemos una hipótesis, esto es, escogeremos 3 posibles valores (entre -1 y 1) para los 3 pesos.\n",
    " - Después comprobaremos si, esos pesos son válidos para nuestro conjunto de entrenamiento, esto es:\n",
    " - Introduciremos los datos de nuestro conjunto de entrenamiento y aplicaremos la función umbral.\n",
    " - Si la imagen para todo el conjunto coincide con la conocida entonces acpetamos como válidos esos pesos y paramos\n",
    " - En caso contrario le daremos otros posibles pesos a nuestra neurona y repetiremos el proceso\n",
    " \n",
    "Crea una función que cree una neurona capaz de crear la puerta lógica AND y nos devuelva la función lambda asociada\n"
   ]
  },
  {
   "cell_type": "code",
   "execution_count": 71,
   "id": "892e63f3",
   "metadata": {},
   "outputs": [],
   "source": [
    "def neurona():\n",
    "    conjunto = conjuntoEnt()\n",
    "    pesos =listaN()\n",
    "    hipotesis = [[x,y,z] for x in pesos for y in pesos for z in pesos]\n",
    "    for i in hipotesis:\n",
    "        prueba =[umbral(producto_escalar(i,[1,j[0][0],j[0][1]])) ==j[1] for j in conjunto]\n",
    "        if all(prueba):\n",
    "            print(f\"Los pesos {i} si son válidos\")\n",
    "            return (lambda x,y: umbral(1*i[0] +x*i[1]+y*i[2]))\n",
    "        else:\n",
    "            print(f\"Los pesos {i} no son válidos\")    \n",
    "            \n",
    "    "
   ]
  },
  {
   "cell_type": "code",
   "execution_count": 72,
   "id": "2f4a43aa",
   "metadata": {},
   "outputs": [
    {
     "name": "stdout",
     "output_type": "stream",
     "text": [
      "Los pesos [-1.0, -1.0, -1.0] no son válidos\n",
      "Los pesos [-1.0, -1.0, -0.9] no son válidos\n",
      "Los pesos [-1.0, -1.0, -0.8] no son válidos\n",
      "Los pesos [-1.0, -1.0, -0.7] no son válidos\n",
      "Los pesos [-1.0, -1.0, -0.6] no son válidos\n",
      "Los pesos [-1.0, -1.0, -0.5] no son válidos\n",
      "Los pesos [-1.0, -1.0, -0.4] no son válidos\n",
      "Los pesos [-1.0, -1.0, -0.3] no son válidos\n",
      "Los pesos [-1.0, -1.0, -0.2] no son válidos\n",
      "Los pesos [-1.0, -1.0, -0.1] no son válidos\n",
      "Los pesos [-1.0, -1.0, 0.0] no son válidos\n",
      "Los pesos [-1.0, -1.0, 0.1] no son válidos\n",
      "Los pesos [-1.0, -1.0, 0.2] no son válidos\n",
      "Los pesos [-1.0, -1.0, 0.3] no son válidos\n",
      "Los pesos [-1.0, -1.0, 0.4] no son válidos\n",
      "Los pesos [-1.0, -1.0, 0.5] no son válidos\n",
      "Los pesos [-1.0, -1.0, 0.6] no son válidos\n",
      "Los pesos [-1.0, -1.0, 0.7] no son válidos\n",
      "Los pesos [-1.0, -1.0, 0.8] no son válidos\n",
      "Los pesos [-1.0, -1.0, 0.9] no son válidos\n",
      "Los pesos [-1.0, -1.0, 1.0] no son válidos\n",
      "Los pesos [-1.0, -0.9, -1.0] no son válidos\n",
      "Los pesos [-1.0, -0.9, -0.9] no son válidos\n",
      "Los pesos [-1.0, -0.9, -0.8] no son válidos\n",
      "Los pesos [-1.0, -0.9, -0.7] no son válidos\n",
      "Los pesos [-1.0, -0.9, -0.6] no son válidos\n",
      "Los pesos [-1.0, -0.9, -0.5] no son válidos\n",
      "Los pesos [-1.0, -0.9, -0.4] no son válidos\n",
      "Los pesos [-1.0, -0.9, -0.3] no son válidos\n",
      "Los pesos [-1.0, -0.9, -0.2] no son válidos\n",
      "Los pesos [-1.0, -0.9, -0.1] no son válidos\n",
      "Los pesos [-1.0, -0.9, 0.0] no son válidos\n",
      "Los pesos [-1.0, -0.9, 0.1] no son válidos\n",
      "Los pesos [-1.0, -0.9, 0.2] no son válidos\n",
      "Los pesos [-1.0, -0.9, 0.3] no son válidos\n",
      "Los pesos [-1.0, -0.9, 0.4] no son válidos\n",
      "Los pesos [-1.0, -0.9, 0.5] no son válidos\n",
      "Los pesos [-1.0, -0.9, 0.6] no son válidos\n",
      "Los pesos [-1.0, -0.9, 0.7] no son válidos\n",
      "Los pesos [-1.0, -0.9, 0.8] no son válidos\n",
      "Los pesos [-1.0, -0.9, 0.9] no son válidos\n",
      "Los pesos [-1.0, -0.9, 1.0] no son válidos\n",
      "Los pesos [-1.0, -0.8, -1.0] no son válidos\n",
      "Los pesos [-1.0, -0.8, -0.9] no son válidos\n",
      "Los pesos [-1.0, -0.8, -0.8] no son válidos\n",
      "Los pesos [-1.0, -0.8, -0.7] no son válidos\n",
      "Los pesos [-1.0, -0.8, -0.6] no son válidos\n",
      "Los pesos [-1.0, -0.8, -0.5] no son válidos\n",
      "Los pesos [-1.0, -0.8, -0.4] no son válidos\n",
      "Los pesos [-1.0, -0.8, -0.3] no son válidos\n",
      "Los pesos [-1.0, -0.8, -0.2] no son válidos\n",
      "Los pesos [-1.0, -0.8, -0.1] no son válidos\n",
      "Los pesos [-1.0, -0.8, 0.0] no son válidos\n",
      "Los pesos [-1.0, -0.8, 0.1] no son válidos\n",
      "Los pesos [-1.0, -0.8, 0.2] no son válidos\n",
      "Los pesos [-1.0, -0.8, 0.3] no son válidos\n",
      "Los pesos [-1.0, -0.8, 0.4] no son válidos\n",
      "Los pesos [-1.0, -0.8, 0.5] no son válidos\n",
      "Los pesos [-1.0, -0.8, 0.6] no son válidos\n",
      "Los pesos [-1.0, -0.8, 0.7] no son válidos\n",
      "Los pesos [-1.0, -0.8, 0.8] no son válidos\n",
      "Los pesos [-1.0, -0.8, 0.9] no son válidos\n",
      "Los pesos [-1.0, -0.8, 1.0] no son válidos\n",
      "Los pesos [-1.0, -0.7, -1.0] no son válidos\n",
      "Los pesos [-1.0, -0.7, -0.9] no son válidos\n",
      "Los pesos [-1.0, -0.7, -0.8] no son válidos\n",
      "Los pesos [-1.0, -0.7, -0.7] no son válidos\n",
      "Los pesos [-1.0, -0.7, -0.6] no son válidos\n",
      "Los pesos [-1.0, -0.7, -0.5] no son válidos\n",
      "Los pesos [-1.0, -0.7, -0.4] no son válidos\n",
      "Los pesos [-1.0, -0.7, -0.3] no son válidos\n",
      "Los pesos [-1.0, -0.7, -0.2] no son válidos\n",
      "Los pesos [-1.0, -0.7, -0.1] no son válidos\n",
      "Los pesos [-1.0, -0.7, 0.0] no son válidos\n",
      "Los pesos [-1.0, -0.7, 0.1] no son válidos\n",
      "Los pesos [-1.0, -0.7, 0.2] no son válidos\n",
      "Los pesos [-1.0, -0.7, 0.3] no son válidos\n",
      "Los pesos [-1.0, -0.7, 0.4] no son válidos\n",
      "Los pesos [-1.0, -0.7, 0.5] no son válidos\n",
      "Los pesos [-1.0, -0.7, 0.6] no son válidos\n",
      "Los pesos [-1.0, -0.7, 0.7] no son válidos\n",
      "Los pesos [-1.0, -0.7, 0.8] no son válidos\n",
      "Los pesos [-1.0, -0.7, 0.9] no son válidos\n",
      "Los pesos [-1.0, -0.7, 1.0] no son válidos\n",
      "Los pesos [-1.0, -0.6, -1.0] no son válidos\n",
      "Los pesos [-1.0, -0.6, -0.9] no son válidos\n",
      "Los pesos [-1.0, -0.6, -0.8] no son válidos\n",
      "Los pesos [-1.0, -0.6, -0.7] no son válidos\n",
      "Los pesos [-1.0, -0.6, -0.6] no son válidos\n",
      "Los pesos [-1.0, -0.6, -0.5] no son válidos\n",
      "Los pesos [-1.0, -0.6, -0.4] no son válidos\n",
      "Los pesos [-1.0, -0.6, -0.3] no son válidos\n",
      "Los pesos [-1.0, -0.6, -0.2] no son válidos\n",
      "Los pesos [-1.0, -0.6, -0.1] no son válidos\n",
      "Los pesos [-1.0, -0.6, 0.0] no son válidos\n",
      "Los pesos [-1.0, -0.6, 0.1] no son válidos\n",
      "Los pesos [-1.0, -0.6, 0.2] no son válidos\n",
      "Los pesos [-1.0, -0.6, 0.3] no son válidos\n",
      "Los pesos [-1.0, -0.6, 0.4] no son válidos\n",
      "Los pesos [-1.0, -0.6, 0.5] no son válidos\n",
      "Los pesos [-1.0, -0.6, 0.6] no son válidos\n",
      "Los pesos [-1.0, -0.6, 0.7] no son válidos\n",
      "Los pesos [-1.0, -0.6, 0.8] no son válidos\n",
      "Los pesos [-1.0, -0.6, 0.9] no son válidos\n",
      "Los pesos [-1.0, -0.6, 1.0] no son válidos\n",
      "Los pesos [-1.0, -0.5, -1.0] no son válidos\n",
      "Los pesos [-1.0, -0.5, -0.9] no son válidos\n",
      "Los pesos [-1.0, -0.5, -0.8] no son válidos\n",
      "Los pesos [-1.0, -0.5, -0.7] no son válidos\n",
      "Los pesos [-1.0, -0.5, -0.6] no son válidos\n",
      "Los pesos [-1.0, -0.5, -0.5] no son válidos\n",
      "Los pesos [-1.0, -0.5, -0.4] no son válidos\n",
      "Los pesos [-1.0, -0.5, -0.3] no son válidos\n",
      "Los pesos [-1.0, -0.5, -0.2] no son válidos\n",
      "Los pesos [-1.0, -0.5, -0.1] no son válidos\n",
      "Los pesos [-1.0, -0.5, 0.0] no son válidos\n",
      "Los pesos [-1.0, -0.5, 0.1] no son válidos\n",
      "Los pesos [-1.0, -0.5, 0.2] no son válidos\n",
      "Los pesos [-1.0, -0.5, 0.3] no son válidos\n",
      "Los pesos [-1.0, -0.5, 0.4] no son válidos\n",
      "Los pesos [-1.0, -0.5, 0.5] no son válidos\n",
      "Los pesos [-1.0, -0.5, 0.6] no son válidos\n",
      "Los pesos [-1.0, -0.5, 0.7] no son válidos\n",
      "Los pesos [-1.0, -0.5, 0.8] no son válidos\n",
      "Los pesos [-1.0, -0.5, 0.9] no son válidos\n",
      "Los pesos [-1.0, -0.5, 1.0] no son válidos\n",
      "Los pesos [-1.0, -0.4, -1.0] no son válidos\n",
      "Los pesos [-1.0, -0.4, -0.9] no son válidos\n",
      "Los pesos [-1.0, -0.4, -0.8] no son válidos\n",
      "Los pesos [-1.0, -0.4, -0.7] no son válidos\n",
      "Los pesos [-1.0, -0.4, -0.6] no son válidos\n",
      "Los pesos [-1.0, -0.4, -0.5] no son válidos\n",
      "Los pesos [-1.0, -0.4, -0.4] no son válidos\n",
      "Los pesos [-1.0, -0.4, -0.3] no son válidos\n",
      "Los pesos [-1.0, -0.4, -0.2] no son válidos\n",
      "Los pesos [-1.0, -0.4, -0.1] no son válidos\n",
      "Los pesos [-1.0, -0.4, 0.0] no son válidos\n",
      "Los pesos [-1.0, -0.4, 0.1] no son válidos\n",
      "Los pesos [-1.0, -0.4, 0.2] no son válidos\n",
      "Los pesos [-1.0, -0.4, 0.3] no son válidos\n",
      "Los pesos [-1.0, -0.4, 0.4] no son válidos\n",
      "Los pesos [-1.0, -0.4, 0.5] no son válidos\n",
      "Los pesos [-1.0, -0.4, 0.6] no son válidos\n",
      "Los pesos [-1.0, -0.4, 0.7] no son válidos\n",
      "Los pesos [-1.0, -0.4, 0.8] no son válidos\n",
      "Los pesos [-1.0, -0.4, 0.9] no son válidos\n",
      "Los pesos [-1.0, -0.4, 1.0] no son válidos\n",
      "Los pesos [-1.0, -0.3, -1.0] no son válidos\n",
      "Los pesos [-1.0, -0.3, -0.9] no son válidos\n",
      "Los pesos [-1.0, -0.3, -0.8] no son válidos\n",
      "Los pesos [-1.0, -0.3, -0.7] no son válidos\n",
      "Los pesos [-1.0, -0.3, -0.6] no son válidos\n",
      "Los pesos [-1.0, -0.3, -0.5] no son válidos\n",
      "Los pesos [-1.0, -0.3, -0.4] no son válidos\n",
      "Los pesos [-1.0, -0.3, -0.3] no son válidos\n",
      "Los pesos [-1.0, -0.3, -0.2] no son válidos\n",
      "Los pesos [-1.0, -0.3, -0.1] no son válidos\n",
      "Los pesos [-1.0, -0.3, 0.0] no son válidos\n",
      "Los pesos [-1.0, -0.3, 0.1] no son válidos\n",
      "Los pesos [-1.0, -0.3, 0.2] no son válidos\n",
      "Los pesos [-1.0, -0.3, 0.3] no son válidos\n",
      "Los pesos [-1.0, -0.3, 0.4] no son válidos\n",
      "Los pesos [-1.0, -0.3, 0.5] no son válidos\n",
      "Los pesos [-1.0, -0.3, 0.6] no son válidos\n",
      "Los pesos [-1.0, -0.3, 0.7] no son válidos\n",
      "Los pesos [-1.0, -0.3, 0.8] no son válidos\n",
      "Los pesos [-1.0, -0.3, 0.9] no son válidos\n",
      "Los pesos [-1.0, -0.3, 1.0] no son válidos\n",
      "Los pesos [-1.0, -0.2, -1.0] no son válidos\n",
      "Los pesos [-1.0, -0.2, -0.9] no son válidos\n",
      "Los pesos [-1.0, -0.2, -0.8] no son válidos\n",
      "Los pesos [-1.0, -0.2, -0.7] no son válidos\n",
      "Los pesos [-1.0, -0.2, -0.6] no son válidos\n",
      "Los pesos [-1.0, -0.2, -0.5] no son válidos\n",
      "Los pesos [-1.0, -0.2, -0.4] no son válidos\n",
      "Los pesos [-1.0, -0.2, -0.3] no son válidos\n",
      "Los pesos [-1.0, -0.2, -0.2] no son válidos\n",
      "Los pesos [-1.0, -0.2, -0.1] no son válidos\n",
      "Los pesos [-1.0, -0.2, 0.0] no son válidos\n",
      "Los pesos [-1.0, -0.2, 0.1] no son válidos\n",
      "Los pesos [-1.0, -0.2, 0.2] no son válidos\n",
      "Los pesos [-1.0, -0.2, 0.3] no son válidos\n",
      "Los pesos [-1.0, -0.2, 0.4] no son válidos\n",
      "Los pesos [-1.0, -0.2, 0.5] no son válidos\n",
      "Los pesos [-1.0, -0.2, 0.6] no son válidos\n",
      "Los pesos [-1.0, -0.2, 0.7] no son válidos\n",
      "Los pesos [-1.0, -0.2, 0.8] no son válidos\n",
      "Los pesos [-1.0, -0.2, 0.9] no son válidos\n",
      "Los pesos [-1.0, -0.2, 1.0] no son válidos\n",
      "Los pesos [-1.0, -0.1, -1.0] no son válidos\n",
      "Los pesos [-1.0, -0.1, -0.9] no son válidos\n",
      "Los pesos [-1.0, -0.1, -0.8] no son válidos\n",
      "Los pesos [-1.0, -0.1, -0.7] no son válidos\n",
      "Los pesos [-1.0, -0.1, -0.6] no son válidos\n",
      "Los pesos [-1.0, -0.1, -0.5] no son válidos\n",
      "Los pesos [-1.0, -0.1, -0.4] no son válidos\n",
      "Los pesos [-1.0, -0.1, -0.3] no son válidos\n",
      "Los pesos [-1.0, -0.1, -0.2] no son válidos\n",
      "Los pesos [-1.0, -0.1, -0.1] no son válidos\n",
      "Los pesos [-1.0, -0.1, 0.0] no son válidos\n",
      "Los pesos [-1.0, -0.1, 0.1] no son válidos\n",
      "Los pesos [-1.0, -0.1, 0.2] no son válidos\n",
      "Los pesos [-1.0, -0.1, 0.3] no son válidos\n",
      "Los pesos [-1.0, -0.1, 0.4] no son válidos\n",
      "Los pesos [-1.0, -0.1, 0.5] no son válidos\n",
      "Los pesos [-1.0, -0.1, 0.6] no son válidos\n",
      "Los pesos [-1.0, -0.1, 0.7] no son válidos\n",
      "Los pesos [-1.0, -0.1, 0.8] no son válidos\n",
      "Los pesos [-1.0, -0.1, 0.9] no son válidos\n",
      "Los pesos [-1.0, -0.1, 1.0] no son válidos\n",
      "Los pesos [-1.0, 0.0, -1.0] no son válidos\n",
      "Los pesos [-1.0, 0.0, -0.9] no son válidos\n",
      "Los pesos [-1.0, 0.0, -0.8] no son válidos\n",
      "Los pesos [-1.0, 0.0, -0.7] no son válidos\n",
      "Los pesos [-1.0, 0.0, -0.6] no son válidos\n",
      "Los pesos [-1.0, 0.0, -0.5] no son válidos\n",
      "Los pesos [-1.0, 0.0, -0.4] no son válidos\n",
      "Los pesos [-1.0, 0.0, -0.3] no son válidos\n",
      "Los pesos [-1.0, 0.0, -0.2] no son válidos\n",
      "Los pesos [-1.0, 0.0, -0.1] no son válidos\n",
      "Los pesos [-1.0, 0.0, 0.0] no son válidos\n",
      "Los pesos [-1.0, 0.0, 0.1] no son válidos\n",
      "Los pesos [-1.0, 0.0, 0.2] no son válidos\n",
      "Los pesos [-1.0, 0.0, 0.3] no son válidos\n",
      "Los pesos [-1.0, 0.0, 0.4] no son válidos\n",
      "Los pesos [-1.0, 0.0, 0.5] no son válidos\n",
      "Los pesos [-1.0, 0.0, 0.6] no son válidos\n",
      "Los pesos [-1.0, 0.0, 0.7] no son válidos\n",
      "Los pesos [-1.0, 0.0, 0.8] no son válidos\n",
      "Los pesos [-1.0, 0.0, 0.9] no son válidos\n",
      "Los pesos [-1.0, 0.0, 1.0] no son válidos\n",
      "Los pesos [-1.0, 0.1, -1.0] no son válidos\n",
      "Los pesos [-1.0, 0.1, -0.9] no son válidos\n",
      "Los pesos [-1.0, 0.1, -0.8] no son válidos\n",
      "Los pesos [-1.0, 0.1, -0.7] no son válidos\n",
      "Los pesos [-1.0, 0.1, -0.6] no son válidos\n",
      "Los pesos [-1.0, 0.1, -0.5] no son válidos\n",
      "Los pesos [-1.0, 0.1, -0.4] no son válidos\n",
      "Los pesos [-1.0, 0.1, -0.3] no son válidos\n",
      "Los pesos [-1.0, 0.1, -0.2] no son válidos\n",
      "Los pesos [-1.0, 0.1, -0.1] no son válidos\n",
      "Los pesos [-1.0, 0.1, 0.0] no son válidos\n",
      "Los pesos [-1.0, 0.1, 0.1] no son válidos\n",
      "Los pesos [-1.0, 0.1, 0.2] no son válidos\n",
      "Los pesos [-1.0, 0.1, 0.3] no son válidos\n",
      "Los pesos [-1.0, 0.1, 0.4] no son válidos\n",
      "Los pesos [-1.0, 0.1, 0.5] no son válidos\n",
      "Los pesos [-1.0, 0.1, 0.6] no son válidos\n",
      "Los pesos [-1.0, 0.1, 0.7] no son válidos\n",
      "Los pesos [-1.0, 0.1, 0.8] no son válidos\n",
      "Los pesos [-1.0, 0.1, 0.9] no son válidos\n",
      "Los pesos [-1.0, 0.1, 1.0] si son válidos\n"
     ]
    },
    {
     "data": {
      "text/plain": [
       "False"
      ]
     },
     "execution_count": 72,
     "metadata": {},
     "output_type": "execute_result"
    }
   ],
   "source": [
    "a = neurona()\n",
    "a(1,0)"
   ]
  },
  {
   "cell_type": "markdown",
   "id": "57f497f4",
   "metadata": {},
   "source": [
    "IDEA PRÁCTICA. Intenta recrearlo para la función NOT y para la función OR.\n",
    "También puede intentar encontrar todos los pesos válidos"
   ]
  },
  {
   "cell_type": "markdown",
   "id": "55e7e564",
   "metadata": {},
   "source": [
    "Una secuencia de números es de signo alternado si en ella se alternan los números positivos y negativos. Se pueden dar dos\n",
    " casos de secuencias de signo alternado: \n",
    "+ El primer término es positivo, el segundo es negativo, el tercero\n",
    "   es positivo, el cuarto es negativo, y así sucesivamente.\n",
    "+ El primer término es negativo, el segundo es positivo, el tercero\n",
    "  es negativo, el cuarto es positivo, y así sucesivamente.\n",
    "+ La series que tengan un 0 nunca serán de signo alternado.\n",
    "\n",
    "Crea una función que reciba una lista de número y diga si es una serie de signo alternados."
   ]
  },
  {
   "cell_type": "code",
   "execution_count": 2,
   "id": "0209f8f2",
   "metadata": {},
   "outputs": [],
   "source": [
    "def esSA(xs):\n",
    "    return all([x*y<0 for x,y in zip(xs,xs[:-1])])"
   ]
  },
  {
   "cell_type": "markdown",
   "id": "ffc4e48a",
   "metadata": {},
   "source": [
    "Un número es defectivo si es mayor que la suma de sus divisores propios.\n",
    "Crea una función para ver si un número es defectivo. El 15 es defectivo"
   ]
  },
  {
   "cell_type": "code",
   "execution_count": 6,
   "id": "1821020e",
   "metadata": {},
   "outputs": [],
   "source": [
    "def esDefectivo(n):\n",
    "    return sum([x for x in range(1,n) if n%x == 0]) < n"
   ]
  },
  {
   "cell_type": "code",
   "execution_count": 7,
   "id": "d3ed4f44",
   "metadata": {},
   "outputs": [
    {
     "data": {
      "text/plain": [
       "True"
      ]
     },
     "execution_count": 7,
     "metadata": {},
     "output_type": "execute_result"
    }
   ],
   "source": []
  },
  {
   "cell_type": "code",
   "execution_count": 14,
   "id": "b943e20a",
   "metadata": {},
   "outputs": [],
   "source": [
    "def alternancia(xs):\n",
    "    for (x,y) in zip(xs,xs[1:]):\n",
    "        if x>=0 and y>=0:\n",
    "            return False\n",
    "        elif x<= 0 and y <=0:\n",
    "            return False\n",
    "        \n",
    "    return True"
   ]
  },
  {
   "cell_type": "code",
   "execution_count": 16,
   "id": "351e4265",
   "metadata": {},
   "outputs": [
    {
     "name": "stdout",
     "output_type": "stream",
     "text": [
      "-1 0\n"
     ]
    },
    {
     "data": {
      "text/plain": [
       "False"
      ]
     },
     "execution_count": 16,
     "metadata": {},
     "output_type": "execute_result"
    }
   ],
   "source": [
    "alternancia([-1,0,-1,1])"
   ]
  },
  {
   "cell_type": "code",
   "execution_count": null,
   "id": "c059d801",
   "metadata": {},
   "outputs": [],
   "source": []
  }
 ],
 "metadata": {
  "kernelspec": {
   "display_name": "Python 3 (ipykernel)",
   "language": "python",
   "name": "python3"
  },
  "language_info": {
   "codemirror_mode": {
    "name": "ipython",
    "version": 3
   },
   "file_extension": ".py",
   "mimetype": "text/x-python",
   "name": "python",
   "nbconvert_exporter": "python",
   "pygments_lexer": "ipython3",
   "version": "3.9.13"
  }
 },
 "nbformat": 4,
 "nbformat_minor": 5
}
