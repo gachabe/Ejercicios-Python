{
 "cells": [
  {
   "cell_type": "markdown",
   "id": "cc9259d5",
   "metadata": {},
   "source": [
    "Cree una función que dado un String nos devuelva cuántas veces aparece cada letra"
   ]
  },
  {
   "cell_type": "code",
   "execution_count": 4,
   "id": "9f9cc165",
   "metadata": {},
   "outputs": [
    {
     "name": "stdout",
     "output_type": "stream",
     "text": [
      "La m aparece 1 veces\n",
      "La e aparece 1 veces\n",
      "La   aparece 1 veces\n",
      "La a aparece 1 veces\n",
      "La b aparece 1 veces\n",
      "La u aparece 1 veces\n",
      "La r aparece 2 veces\n",
      "La r aparece 2 veces\n",
      "La o aparece 1 veces\n"
     ]
    }
   ],
   "source": [
    "def ocurrencias(a,string):\n",
    "    suma = 0\n",
    "    for i in string:\n",
    "        if i ==a:\n",
    "            suma += 1\n",
    "    return suma\n",
    "\n",
    "def cuentaLetras(string):\n",
    "    \n",
    "    for i in string: #Estaria mejor si quitasemos los repetidos, pero veremos un metodo optimo mas adelante\n",
    "            print(f\"La {i} aparece {ocurrencias(i,string)} veces\")\n",
    "\n",
    "cuentaLetras(\"me aburro\")"
   ]
  },
  {
   "cell_type": "markdown",
   "id": "284b502a",
   "metadata": {},
   "source": [
    "Cree una función que dado un String nos devuelva ese mismo String, pero intercalando mayúsculas y minúsculas.\n",
    "EsTo eS Un eJeMpLo"
   ]
  },
  {
   "cell_type": "code",
   "execution_count": 2,
   "id": "09688eb4",
   "metadata": {},
   "outputs": [
    {
     "data": {
      "text/plain": [
       "'EsTo eS Un eJeMpLo'"
      ]
     },
     "execution_count": 2,
     "metadata": {},
     "output_type": "execute_result"
    }
   ],
   "source": [
    "def intercala(string):\n",
    "    cadena = \"\"\n",
    "    for i in range(0,len(string),2):\n",
    "        cadena += string[i].upper()\n",
    "        cadena +=string[i+1].lower()\n",
    "    return cadena\n",
    "intercala(\"esto es un ejemplo\")"
   ]
  },
  {
   "cell_type": "markdown",
   "id": "fd042aa5",
   "metadata": {},
   "source": [
    "Cree una función eco, que dado un String y un numero repita ese todas las letras del String ese numero de veces.\n",
    "Ejemplo eco(\"Hola\",3) = HHHooolllaaa"
   ]
  },
  {
   "cell_type": "code",
   "execution_count": 22,
   "id": "f6e2875b",
   "metadata": {},
   "outputs": [
    {
     "data": {
      "text/plain": [
       "'HHHooolllaaa'"
      ]
     },
     "execution_count": 22,
     "metadata": {},
     "output_type": "execute_result"
    }
   ],
   "source": [
    "def eco(string,repita):\n",
    "    cadena = \"\"\n",
    "    for i in string:\n",
    "        for j in range(repita):\n",
    "            cadena += i\n",
    "    return cadena\n",
    "eco(\"Hola\",3)"
   ]
  },
  {
   "cell_type": "markdown",
   "id": "c12ade49",
   "metadata": {},
   "source": [
    "Cree una función que, dada dos Strings, nos devuelva True si la primera es una subcadena de la segunda"
   ]
  },
  {
   "cell_type": "code",
   "execution_count": 27,
   "id": "571a2e41",
   "metadata": {},
   "outputs": [],
   "source": [
    "def subcadena(string1,string2):\n",
    "    return string1 in string2\n",
    "\n"
   ]
  },
  {
   "cell_type": "markdown",
   "id": "5c5ab9ef",
   "metadata": {},
   "source": [
    "Cree una función que dado un String y un caracter nos devuelva ese mismo String sustituyendo todas las apariciones de ese caracter por \" * \", por ejemplo, ahorcado(\"paraguas\",\"a\") = \"p\\*r\\*gu*s. ¿Te ves capaz de hacer la función inversa?"
   ]
  },
  {
   "cell_type": "code",
   "execution_count": 6,
   "id": "9bb87bb5",
   "metadata": {},
   "outputs": [
    {
     "data": {
      "text/plain": [
       "'p*r*gu*s'"
      ]
     },
     "execution_count": 6,
     "metadata": {},
     "output_type": "execute_result"
    }
   ],
   "source": [
    "def ahorcado(string,letra):\n",
    "    for i in string:\n",
    "        if i == letra:\n",
    "            string = string.replace(letra,\"*\")\n",
    "    return string\n",
    "\n",
    "ahorcado(\"paraguas\",\"a\") "
   ]
  },
  {
   "cell_type": "markdown",
   "id": "10779a92",
   "metadata": {},
   "source": [
    "(Idea para proyecto aparte) Si has conseguido hacer el ejercicio anterior en ambas versiones deberias intentar crear tu propia versión del juego del ahorcado, es un proyecto típico para aprender python"
   ]
  },
  {
   "cell_type": "markdown",
   "id": "a1df7b28",
   "metadata": {},
   "source": [
    "Cree una función que dada una lista de 1's y 0's devolver su ese número en versión decimal."
   ]
  },
  {
   "cell_type": "code",
   "execution_count": 13,
   "id": "b074f270",
   "metadata": {},
   "outputs": [
    {
     "data": {
      "text/plain": [
       "11"
      ]
     },
     "execution_count": 13,
     "metadata": {},
     "output_type": "execute_result"
    }
   ],
   "source": [
    "def de2a10(lista):\n",
    "    n=0\n",
    "    suma=0\n",
    "    lista.reverse()\n",
    "    for i in lista:\n",
    "        suma += i*2**(n) \n",
    "        n+=1\n",
    "    return suma\n",
    "de2a10([1,0,1,1])"
   ]
  },
  {
   "cell_type": "code",
   "execution_count": 7,
   "id": "814c1419",
   "metadata": {},
   "outputs": [
    {
     "data": {
      "text/plain": [
       "65"
      ]
     },
     "execution_count": 7,
     "metadata": {},
     "output_type": "execute_result"
    }
   ],
   "source": [
    "ord('A')"
   ]
  },
  {
   "cell_type": "markdown",
   "id": "9da54a82",
   "metadata": {},
   "source": [
    "Crea tu propia versión del método .split() "
   ]
  },
  {
   "cell_type": "code",
   "execution_count": 43,
   "id": "0b856aed",
   "metadata": {},
   "outputs": [
    {
     "data": {
      "text/plain": [
       "['hola', 'esto', 'es', 'una', 'prueba']"
      ]
     },
     "execution_count": 43,
     "metadata": {},
     "output_type": "execute_result"
    }
   ],
   "source": [
    "def split2(string):\n",
    "    lista=[]\n",
    "    nstring=\"\"\n",
    "    for i in string:\n",
    "        if i != \" \":\n",
    "            nstring += i\n",
    "            \n",
    "        else:\n",
    "            lista += [nstring]\n",
    "            nstring = \"\"\n",
    "            \n",
    "    lista += [nstring]\n",
    "    nstring = \"\"\n",
    "    return lista\n",
    "    \n",
    "split2(\"hola esto es una prueba\")"
   ]
  },
  {
   "cell_type": "markdown",
   "id": "c961ce00",
   "metadata": {},
   "source": [
    "(Dificil) Cree una función llamada Cesar() que reciba un String y un número y devuelva el cifrado césar de ese String en base el número recibido"
   ]
  },
  {
   "cell_type": "code",
   "execution_count": null,
   "id": "f7f68e30",
   "metadata": {},
   "outputs": [],
   "source": []
  },
  {
   "cell_type": "markdown",
   "id": "e59c23aa",
   "metadata": {},
   "source": [
    "Cree una función que reciba dos Strings y compruebe si el primero es un anagrama del segundo, ejemplo anagrama(\"soy lord voldemort\", \"tom sorvolo ryddle\") == True"
   ]
  },
  {
   "cell_type": "markdown",
   "id": "e9c17258",
   "metadata": {},
   "source": [
    "Cree una función que compruebe si un String dado es un pangrama"
   ]
  },
  {
   "cell_type": "markdown",
   "id": "a1c85857",
   "metadata": {},
   "source": [
    "En un clásico acertijo para niños se plantea el problema de como pasar de la lista [1,2,1,1,3,2,2] a [1,1,1,2,2,1,1,3,2,2], como buen programador cree una función que resuleva este acertijo para cualquiera lista dada"
   ]
  },
  {
   "cell_type": "code",
   "execution_count": 28,
   "id": "2b9322c5",
   "metadata": {},
   "outputs": [
    {
     "data": {
      "text/plain": [
       "[1, 1, 1, 2, 2, 1, 1, 3, 2, 2]"
      ]
     },
     "execution_count": 28,
     "metadata": {},
     "output_type": "execute_result"
    }
   ],
   "source": [
    "def cortador(lista):\n",
    "    listaN = []\n",
    "    lista2 = []\n",
    "    elemento = 0\n",
    "    for i in lista:\n",
    "        if i == elemento:\n",
    "            lista2 += [elemento]\n",
    "        else:\n",
    "            listaN += [lista2]\n",
    "            elemento = i\n",
    "            lista2 = [i]\n",
    "    listaN += [lista2]\n",
    "    return listaN\n",
    "\n",
    "\n",
    "\n",
    "\n",
    "def puzzle(lista):\n",
    "    l=[]\n",
    "    for i in cortador(lista):\n",
    "        if i != []:\n",
    "            l+= [len(i)]\n",
    "            l += [i[0]]\n",
    "    return l\n",
    " \n",
    "puzzle([1,2,1,1,3,2,2])"
   ]
  },
  {
   "cell_type": "markdown",
   "id": "17161096",
   "metadata": {},
   "source": [
    "(Dificil) Una matriz se puede expresar como una lista de listas, cree una función que, dada una matriz nos devuelva su matriz traspuesta"
   ]
  },
  {
   "cell_type": "markdown",
   "id": "d8c896b3",
   "metadata": {},
   "source": [
    "Un tablero de 3 en raya se podría expresar como [[X,O,X],[O,X,O],[O,X,O]]\n",
    "Cree una función que dado un tablero compruebe si han ganado las x (PISTA: Haz primero el ejercicio anterior)"
   ]
  },
  {
   "cell_type": "markdown",
   "id": "6a613066",
   "metadata": {},
   "source": [
    "Si a la letra a le asociamos el valor 0 , a la b el 1 y asi sucesivamente, y aparte, dado un String le asociamos el valor de su posicion de forma decreciente en función a la distancia del centro, entonces para la palabra hola, tendriamos \\\n",
    "h\\*0+o\\*1+l\\*1+a\\*0 = 7\\*0+15\\*1+11\\*1+0\\*0 = 25 \n",
    "Cree una función que realice este proceso\n"
   ]
  },
  {
   "cell_type": "code",
   "execution_count": 5,
   "id": "cbe3a966",
   "metadata": {},
   "outputs": [],
   "source": [
    "def posicion_en_abecedario(letra):\n",
    "    if len(letra) == 1 and letra.isalpha():  # Verifica si la entrada es una única letra\n",
    "        letra = letra.lower()  # Convierte la letra a minúscula\n",
    "        return ord(letra) - ord('a')   # Resta el valor ASCII de 'a' y suma 1\n",
    "    else:\n",
    "        return \"Por favor, introduce una única letra del alfabeto.\"\n",
    "\n",
    "def posicion_scrable(string):\n",
    "        lista = []\n",
    "        for i in range(len(string)):\n",
    "            lista.append(i)\n",
    "        if len(lista)%2 == 0:\n",
    "            lista = lista[:len(lista)//2]\n",
    "            for i in range(len(lista)):\n",
    "                lista.append(lista[i-1])\n",
    "            return lista\n",
    "        else:\n",
    "            lista = lista[:len(lista)//2+1]\n",
    "            for i in range(1,len(lista)):\n",
    "                lista.append(lista[i-1])\n",
    "            return lista\n",
    "def scrable(string):\n",
    "    letras = []\n",
    "    pos = posicion_scrable(string)\n",
    "    suma = 0\n",
    "    for i in string:\n",
    "        letras.append(posicion_en_abecedario(i))\n",
    "    for i,j in zip(letras,pos):\n",
    "        suma += i*j\n",
    "    return suma"
   ]
  },
  {
   "cell_type": "code",
   "execution_count": 6,
   "id": "c20a25f8",
   "metadata": {},
   "outputs": [
    {
     "name": "stdout",
     "output_type": "stream",
     "text": [
      "(1, 'aa')\n",
      "(2, 'b')\n",
      "(3, 'c')\n"
     ]
    }
   ],
   "source": [
    "a = zip([1,2,3],[\"aa\",\"b\",\"c\"])\n",
    "for i in a:\n",
    "    print(i)"
   ]
  },
  {
   "cell_type": "code",
   "execution_count": 7,
   "id": "ffcdf27b",
   "metadata": {},
   "outputs": [
    {
     "data": {
      "text/plain": [
       "25"
      ]
     },
     "execution_count": 7,
     "metadata": {},
     "output_type": "execute_result"
    }
   ],
   "source": [
    "scrable(\"hola\")"
   ]
  },
  {
   "cell_type": "markdown",
   "id": "95db8d48",
   "metadata": {},
   "source": [
    "Cree una función llamada atleta que recibirá 2 Strings, el primer strins solo contendrá las letras C (corre) o S (salta) y el segundo string representará la pista de atletismo y estará compuesta por \"_\" (suelo) o \"|\" (valla), si el atleta corre sobre suelo este añadirá 1 segundo a su cronometro, de igual manera que si salta sobre valla, pero si salta sobre suelo añadirá 5 segundos a su cronometro y, si corre sobre valla este se caerá añadiendo 10 segundos. Nuestra función debe:\n",
    "1 - Comprobar que las ordenes del atleta y la longitud de la pista miden lo mismo\n",
    "2 - Devolver cuando ha tardado el atleta en acabar la carrera"
   ]
  },
  {
   "cell_type": "code",
   "execution_count": 9,
   "id": "14ea22c1",
   "metadata": {},
   "outputs": [
    {
     "data": {
      "text/plain": [
       "31"
      ]
     },
     "execution_count": 9,
     "metadata": {},
     "output_type": "execute_result"
    }
   ],
   "source": [
    "def atleta(string1,string2):\n",
    "    tiempo = 0\n",
    "    #comprobamos que el primer string sea de vallas y suelo\n",
    "    for i in string1:\n",
    "        if not (i == \"|\" or i == \"_\"):\n",
    "            return \"No se puede, campo incorrecto\"\n",
    "    #comprobamos longitudes\n",
    "    if not(len(string1)== len(string2)):\n",
    "        return \"No se puede, longitudes no cuadran\"\n",
    "    #finalmente realizamos la prueba\n",
    "    for i,j in zip(string1,string2):\n",
    "        if (i,j) == (\"_\",\"C\") or (i,j) == (\"|\",\"S\"):\n",
    "            tiempo += 1\n",
    "        elif (i,j) == (\"_\",\"S\"):\n",
    "            tiempo += 5\n",
    "        elif (i,j) == (\"|\",\"C\"):\n",
    "            tiempo += 10\n",
    "    return tiempo\n",
    "            \n",
    "atleta(\"_|_|_|_|_|||_\",\"CSCCCCCSCSSSC\")           "
   ]
  },
  {
   "cell_type": "code",
   "execution_count": null,
   "id": "555952f6",
   "metadata": {},
   "outputs": [],
   "source": []
  }
 ],
 "metadata": {
  "kernelspec": {
   "display_name": "Python 3 (ipykernel)",
   "language": "python",
   "name": "python3"
  },
  "language_info": {
   "codemirror_mode": {
    "name": "ipython",
    "version": 3
   },
   "file_extension": ".py",
   "mimetype": "text/x-python",
   "name": "python",
   "nbconvert_exporter": "python",
   "pygments_lexer": "ipython3",
   "version": "3.9.13"
  }
 },
 "nbformat": 4,
 "nbformat_minor": 5
}
