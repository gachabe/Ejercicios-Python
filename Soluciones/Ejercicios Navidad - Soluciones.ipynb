{
 "cells": [
  {
   "cell_type": "code",
   "execution_count": 7,
   "id": "d55aae9e",
   "metadata": {},
   "outputs": [
    {
     "data": {
      "text/plain": [
       "2"
      ]
     },
     "execution_count": 7,
     "metadata": {},
     "output_type": "execute_result"
    }
   ],
   "source": [
    "def divisores(n):\n",
    "    return len([x for x in range(1,n+1) if n%x == 0])\n",
    "divisores(3)\n",
    "\n"
   ]
  },
  {
   "cell_type": "code",
   "execution_count": 23,
   "id": "c6cf0232",
   "metadata": {},
   "outputs": [],
   "source": [
    "f = (lambda x: x*(x+1)//2)\n",
    "def trian():\n",
    "    n = 8\n",
    "    while divisores(f(n)) != 500:\n",
    "        n +=1\n",
    "        if n %100 == 0:\n",
    "            print(n)\n",
    "            print(divisores(f(n)))\n",
    "    return n\n",
    "    \n",
    "    "
   ]
  },
  {
   "cell_type": "code",
   "execution_count": 24,
   "id": "4e0a76a7",
   "metadata": {},
   "outputs": [
    {
     "name": "stdout",
     "output_type": "stream",
     "text": [
      "100\n",
      "12\n",
      "200\n",
      "36\n",
      "300\n",
      "48\n",
      "400\n",
      "24\n",
      "500\n",
      "32\n",
      "600\n",
      "36\n",
      "700\n",
      "24\n",
      "800\n",
      "90\n",
      "900\n",
      "72\n",
      "1000\n",
      "96\n",
      "1100\n",
      "48\n",
      "1200\n",
      "48\n",
      "1300\n",
      "24\n"
     ]
    },
    {
     "ename": "KeyboardInterrupt",
     "evalue": "",
     "output_type": "error",
     "traceback": [
      "\u001b[1;31m---------------------------------------------------------------------------\u001b[0m",
      "\u001b[1;31mKeyboardInterrupt\u001b[0m                         Traceback (most recent call last)",
      "Cell \u001b[1;32mIn[24], line 1\u001b[0m\n\u001b[1;32m----> 1\u001b[0m \u001b[43mtrian\u001b[49m\u001b[43m(\u001b[49m\u001b[43m)\u001b[49m\n",
      "Cell \u001b[1;32mIn[23], line 4\u001b[0m, in \u001b[0;36mtrian\u001b[1;34m()\u001b[0m\n\u001b[0;32m      2\u001b[0m \u001b[38;5;28;01mdef\u001b[39;00m \u001b[38;5;21mtrian\u001b[39m():\n\u001b[0;32m      3\u001b[0m     n \u001b[38;5;241m=\u001b[39m \u001b[38;5;241m8\u001b[39m\n\u001b[1;32m----> 4\u001b[0m     \u001b[38;5;28;01mwhile\u001b[39;00m \u001b[43mdivisores\u001b[49m\u001b[43m(\u001b[49m\u001b[43mf\u001b[49m\u001b[43m(\u001b[49m\u001b[43mn\u001b[49m\u001b[43m)\u001b[49m\u001b[43m)\u001b[49m \u001b[38;5;241m!=\u001b[39m \u001b[38;5;241m500\u001b[39m:\n\u001b[0;32m      5\u001b[0m         n \u001b[38;5;241m+\u001b[39m\u001b[38;5;241m=\u001b[39m\u001b[38;5;241m1\u001b[39m\n\u001b[0;32m      6\u001b[0m         \u001b[38;5;28;01mif\u001b[39;00m n \u001b[38;5;241m%\u001b[39m\u001b[38;5;241m100\u001b[39m \u001b[38;5;241m==\u001b[39m \u001b[38;5;241m0\u001b[39m:\n",
      "Cell \u001b[1;32mIn[7], line 2\u001b[0m, in \u001b[0;36mdivisores\u001b[1;34m(n)\u001b[0m\n\u001b[0;32m      1\u001b[0m \u001b[38;5;28;01mdef\u001b[39;00m \u001b[38;5;21mdivisores\u001b[39m(n):\n\u001b[1;32m----> 2\u001b[0m     \u001b[38;5;28;01mreturn\u001b[39;00m \u001b[38;5;28mlen\u001b[39m([x \u001b[38;5;28;01mfor\u001b[39;00m x \u001b[38;5;129;01min\u001b[39;00m \u001b[38;5;28mrange\u001b[39m(\u001b[38;5;241m1\u001b[39m,n\u001b[38;5;241m+\u001b[39m\u001b[38;5;241m1\u001b[39m) \u001b[38;5;28;01mif\u001b[39;00m n\u001b[38;5;241m%\u001b[39mx \u001b[38;5;241m==\u001b[39m \u001b[38;5;241m0\u001b[39m])\n",
      "Cell \u001b[1;32mIn[7], line 2\u001b[0m, in \u001b[0;36m<listcomp>\u001b[1;34m(.0)\u001b[0m\n\u001b[0;32m      1\u001b[0m \u001b[38;5;28;01mdef\u001b[39;00m \u001b[38;5;21mdivisores\u001b[39m(n):\n\u001b[1;32m----> 2\u001b[0m     \u001b[38;5;28;01mreturn\u001b[39;00m \u001b[38;5;28mlen\u001b[39m([x \u001b[38;5;28;01mfor\u001b[39;00m x \u001b[38;5;129;01min\u001b[39;00m \u001b[38;5;28mrange\u001b[39m(\u001b[38;5;241m1\u001b[39m,n\u001b[38;5;241m+\u001b[39m\u001b[38;5;241m1\u001b[39m) \u001b[38;5;28;01mif\u001b[39;00m \u001b[43mn\u001b[49m\u001b[38;5;241m%\u001b[39mx \u001b[38;5;241m==\u001b[39m \u001b[38;5;241m0\u001b[39m])\n",
      "\u001b[1;31mKeyboardInterrupt\u001b[0m: "
     ]
    }
   ],
   "source": [
    "trian()"
   ]
  },
  {
   "cell_type": "code",
   "execution_count": 20,
   "id": "1515b3ec",
   "metadata": {},
   "outputs": [
    {
     "name": "stdout",
     "output_type": "stream",
     "text": [
      "([1, 2, 3],)\n",
      "([4, 5, 6],)\n",
      "([7, 8, 9],)\n"
     ]
    }
   ],
   "source": [
    "A = [1,2,3]\n",
    "B =[4,5,6]\n",
    "C = [7,8,9]\n",
    "D = [A,B,C]\n",
    "for i in (zip(D)):\n",
    "    print(i)"
   ]
  },
  {
   "cell_type": "markdown",
   "id": "74d36c1e",
   "metadata": {},
   "source": [
    "### FACIL"
   ]
  },
  {
   "cell_type": "markdown",
   "id": "4379b67d",
   "metadata": {},
   "source": [
    "\n",
    "Crea una función que PIDA un número y devuelva su tabla de multiplicar.\n",
    "\n",
    "EJ:\n",
    "\n",
    "Elige un número 5\n",
    "\n",
    "1 x 5 = 5 \n",
    "\n",
    "2 x 5 = 10 \n",
    "\n",
    "3 x 5 = 15 \n",
    "\n",
    "4 x 5 = 20 \n",
    "\n",
    "5 x 5 = 25 \n",
    "\n",
    "6 x 5 = 30 \n",
    "\n",
    "7 x 5 = 35 \n",
    "\n",
    "8 x 5 = 40 \n",
    "\n",
    "9 x 5 = 45 \n",
    "\n",
    "10 x 5 = 50 "
   ]
  },
  {
   "cell_type": "code",
   "execution_count": null,
   "id": "7e6aa166",
   "metadata": {},
   "outputs": [],
   "source": [
    "def tablas():\n",
    "    n = int(input(\"Elige un número: \"))\n",
    "    for i in range(1,11):\n",
    "        print(f\"{i} x {n} = {i*n} \\n\")\n"
   ]
  },
  {
   "cell_type": "markdown",
   "id": "8eef01f0",
   "metadata": {},
   "source": [
    "Crea una función que, dado un número n, nos diga si es un cuadrado perfecto. Haz el ejercicio por compresión"
   ]
  },
  {
   "cell_type": "code",
   "execution_count": 46,
   "id": "71924b84",
   "metadata": {},
   "outputs": [],
   "source": [
    "def square(n):\n",
    "    return any([x**2 == n for x in range(n)])"
   ]
  },
  {
   "cell_type": "code",
   "execution_count": 5,
   "id": "39a2171e",
   "metadata": {},
   "outputs": [],
   "source": [
    "def squeare2(n):\n",
    "    return (n)**(1/2)== int((n)**(1/2))"
   ]
  },
  {
   "cell_type": "code",
   "execution_count": 9,
   "id": "14f45cf8",
   "metadata": {},
   "outputs": [
    {
     "data": {
      "text/plain": [
       "1.7320508075688772"
      ]
     },
     "execution_count": 9,
     "metadata": {},
     "output_type": "execute_result"
    }
   ],
   "source": [
    "((3)**(1/2))"
   ]
  },
  {
   "cell_type": "markdown",
   "id": "08e8b59f",
   "metadata": {},
   "source": [
    "Crea una función que, de manera recursiva, haga la pontecia n-ésima de la base $a$"
   ]
  },
  {
   "cell_type": "code",
   "execution_count": 1,
   "id": "7e7a7f26",
   "metadata": {},
   "outputs": [],
   "source": [
    "def potencia(n,a):\n",
    "    if n == 0:\n",
    "        return 1\n",
    "    else:\n",
    "        return a*potencia(n-1,a)\n",
    "    "
   ]
  },
  {
   "cell_type": "markdown",
   "id": "1509cd57",
   "metadata": {},
   "source": [
    "Python ya trae integrada las funciones lógicas AND, OR y NOT, las cuales forman un sistema completo.\n",
    "Vamos a ampliarlo creando la función imp que recibirá dos booleanos y devolverá True o False en función de la tabla de verdad de la implicación"
   ]
  },
  {
   "cell_type": "code",
   "execution_count": 45,
   "id": "ab792812",
   "metadata": {},
   "outputs": [],
   "source": [
    "def imp(a,b):\n",
    "    return (not a) or b\n",
    "\n"
   ]
  },
  {
   "cell_type": "code",
   "execution_count": 44,
   "id": "06d10223",
   "metadata": {},
   "outputs": [
    {
     "name": "stdout",
     "output_type": "stream",
     "text": [
      "  a   |   b   | a -> b\n",
      "------------------------\n",
      "(True, True) -> True\n",
      "(True, False) -> False\n",
      "(False, True) -> True\n",
      "(False, False) -> True\n"
     ]
    }
   ],
   "source": [
    "#comprobación\n",
    "T = [(a,b) for a in [True,False] for b in [True,False]]\n",
    "print(\"  a   |   b   | a -> b\")\n",
    "print(\"------------------------\")\n",
    "for i in T:\n",
    "    print(f\"{i} -> {imp(i[0],i[1])}\")"
   ]
  },
  {
   "cell_type": "markdown",
   "id": "e73571b8",
   "metadata": {},
   "source": [
    "Crea una funcion que pida al usuario una palabra, después debe comprobar si esa palabra vale 97 puntos. Los puntos se cuentan de la siguiente forma. La 'a' vale 1, la 'b' 2, ..., la 'z' 27."
   ]
  },
  {
   "cell_type": "code",
   "execution_count": 217,
   "id": "42e34f7a",
   "metadata": {},
   "outputs": [],
   "source": [
    "def cuenta97():    \n",
    "    # Almaceno las letras del abecedario en la variable \"letras\":\n",
    "    letras = \"ABCDEFGHIJKLMNÑOPQRSTUVWXYZ\"\n",
    "\n",
    "    # Se crea un ciclo que termina si se alcanzan los 100 puntos:\n",
    "    while True:\n",
    "        puntos = 0\n",
    "        palabra = input(\"Escriba una palabra que llegue a 97 puntos: \")\n",
    "        palabra = palabra.upper()\n",
    "        for letra in palabra:\n",
    "            puntos += letras.index(letra) + 1\n",
    "        if puntos == 97:\n",
    "            break\n",
    "        print(f\"Su palabra tiene un valor de {puntos} puntos\")\n",
    "    print(\"ENHORABUENA, SU PALABRA INTRODUCIDA ALCANZÓ LOS 97 PUNTOS\")  "
   ]
  },
  {
   "cell_type": "markdown",
   "id": "5cfd95a4",
   "metadata": {},
   "source": [
    "Define la función equidistantes, que comprueba que la distancia de todos los elementos de una lista es la misma\n"
   ]
  },
  {
   "cell_type": "code",
   "execution_count": 229,
   "id": "f918385c",
   "metadata": {},
   "outputs": [],
   "source": [
    "def equidistante(lista):\n",
    "    return all( [ (x-y)==(lista[0]-lista[1])  for x,y in zip(lista,lista[1:])])\n",
    "    "
   ]
  },
  {
   "cell_type": "markdown",
   "id": "2eac202d",
   "metadata": {},
   "source": [
    "Crea dos funciones, una que, dado un DNI nos devuelva su letra y otra que, dado un DNIcompleto, compruebe que, efectivamente el DNI coincide con su letra\n",
    "\n",
    "CUIDADO: No todas las letras son válidas para el DNI"
   ]
  },
  {
   "cell_type": "code",
   "execution_count": 232,
   "id": "bc4b8028",
   "metadata": {},
   "outputs": [],
   "source": [
    "def calcular_letra_dni(numero_dni):\n",
    "    letras_dni = 'TRWAGMYFPDXBNJZSQVHLCKE'\n",
    "    resto = numero_dni % 23\n",
    "    letra = letras_dni[resto]\n",
    "    return letra\n",
    "\n",
    "def comprobar_letra_dni(dni_completo):\n",
    "        # Asumimos que el DNI completo es una cadena de 8 dígitos seguida de una letra\n",
    "        numero_dni = int(dni_completo[:-1])\n",
    "        letra_dni = dni_completo[-1].upper()\n",
    "        \n",
    "        letra_calculada = calcular_letra_dni(numero_dni)\n",
    "        \n",
    "        return letra_dni == letra_calculada\n"
   ]
  },
  {
   "cell_type": "markdown",
   "id": "9eac7835",
   "metadata": {},
   "source": [
    "Un número de longitud \"n\" se dirá \"narcisista\" si la suma de sus cifras elevada a \"n\" es igual al número original.\n",
    "\n",
    "Crea una función que compruebe si un número es narcisista. El 153  es narcisista."
   ]
  },
  {
   "cell_type": "code",
   "execution_count": 14,
   "id": "d9c44686",
   "metadata": {},
   "outputs": [],
   "source": [
    "def narcisista(n):\n",
    "    l = len(str(n))\n",
    "    return n == sum([int(i)**l for i in str(n)])"
   ]
  },
  {
   "cell_type": "code",
   "execution_count": 16,
   "id": "a5253d60",
   "metadata": {},
   "outputs": [
    {
     "data": {
      "text/plain": [
       "True"
      ]
     },
     "execution_count": 16,
     "metadata": {},
     "output_type": "execute_result"
    }
   ],
   "source": [
    "narcisista(153)"
   ]
  },
  {
   "cell_type": "markdown",
   "id": "ea6911c4",
   "metadata": {},
   "source": [
    "Crea una función llamada fizzbuzz que imprima todos los números del 1 al 100 pero que sustituya:\n",
    " * - Múltiplos de 3 por la palabra \"fizz\".\n",
    " * - Múltiplos de 5 por la palabra \"buzz\".\n",
    " * - Múltiplos de 3 y de 5 a la vez por la palabra \"fizzbuzz\"."
   ]
  },
  {
   "cell_type": "code",
   "execution_count": 17,
   "id": "11a194a7",
   "metadata": {},
   "outputs": [],
   "source": [
    "def fizzbuzz():\n",
    "    for i in range(1,101):\n",
    "        if i%3 == 0 and i%5==0:\n",
    "            print(\"fizzbuzz\")\n",
    "        elif i%3 == 0 :\n",
    "            print(\"fizz\")\n",
    "        elif i%5 == 0:\n",
    "            print(\"buzz\")\n",
    "        else:\n",
    "            print(i)"
   ]
  },
  {
   "cell_type": "markdown",
   "id": "e8c5b6f7",
   "metadata": {},
   "source": [
    "Supongo que sabrás que hay una relación biyectiva entre los naturales y los enteros, crea la función nat2int que reciba un natural y devuelva un entero."
   ]
  },
  {
   "cell_type": "code",
   "execution_count": 13,
   "id": "8bcd9465",
   "metadata": {},
   "outputs": [],
   "source": [
    "def nat2int(n):\n",
    "    if n%2 == 0:\n",
    "        return n//2\n",
    "    else:\n",
    "        return - (n-1)//2\n",
    "    "
   ]
  },
  {
   "cell_type": "code",
   "execution_count": 16,
   "id": "22a98798",
   "metadata": {},
   "outputs": [
    {
     "name": "stdout",
     "output_type": "stream",
     "text": [
      "0\n",
      "1\n",
      "-1\n",
      "2\n",
      "-2\n",
      "3\n",
      "-3\n",
      "4\n",
      "-4\n"
     ]
    }
   ],
   "source": [
    "for i in range(1,10):\n",
    "    print(nat2int(i))"
   ]
  },
  {
   "cell_type": "markdown",
   "id": "e266211d",
   "metadata": {},
   "source": [
    "Escribe una función que realize la suma vectorial por escalar, es decir, recibirá dos vectores en forma de lista y un escalar y devolverá la primera lista multiplicada por el escalar mas la segunda lista."
   ]
  },
  {
   "cell_type": "code",
   "execution_count": 2,
   "id": "efd96c87",
   "metadata": {},
   "outputs": [],
   "source": [
    "def sumaEsc(v1,v2,a):\n",
    "    return [(a*x1+x2) for x1, x2 in zip(v1,v2)]"
   ]
  },
  {
   "cell_type": "code",
   "execution_count": 3,
   "id": "d49bd5fe",
   "metadata": {},
   "outputs": [
    {
     "data": {
      "text/plain": [
       "[5, 10, 15]"
      ]
     },
     "execution_count": 3,
     "metadata": {},
     "output_type": "execute_result"
    }
   ],
   "source": [
    "sumaEsc([1,2,3],[1,2,3],4)"
   ]
  },
  {
   "cell_type": "code",
   "execution_count": 9,
   "id": "74202a7e",
   "metadata": {},
   "outputs": [],
   "source": [
    "def sumaEsc2(v1,v2,a):\n",
    "    f = (lambda l1,l2:a*l1+l2)\n",
    "    return [f(l1,l2) for l1,l2 in zip(v1,v2)]"
   ]
  },
  {
   "cell_type": "code",
   "execution_count": 10,
   "id": "82044f4b",
   "metadata": {},
   "outputs": [
    {
     "data": {
      "text/plain": [
       "[5, 10, 15]"
      ]
     },
     "execution_count": 10,
     "metadata": {},
     "output_type": "execute_result"
    }
   ],
   "source": [
    "sumaEsc2([1,2,3],[1,2,3],4)"
   ]
  },
  {
   "cell_type": "markdown",
   "id": "cd77e250",
   "metadata": {},
   "source": [
    "Crea una función que nos diga si una matriz, vista como lista de listas, es simétrica."
   ]
  },
  {
   "cell_type": "code",
   "execution_count": 1,
   "id": "aac094d4",
   "metadata": {},
   "outputs": [],
   "source": [
    "def esSim(matriz):\n",
    "    return all(matriz[i][j] == matriz[j][i] for i in range(len(matriz)) for j in range(len(matriz[0])))"
   ]
  },
  {
   "cell_type": "code",
   "execution_count": 2,
   "id": "d146bd26",
   "metadata": {},
   "outputs": [
    {
     "data": {
      "text/plain": [
       "True"
      ]
     },
     "execution_count": 2,
     "metadata": {},
     "output_type": "execute_result"
    }
   ],
   "source": [
    "esSim([[1,1,1],[1,1,1],[1,1,1]])"
   ]
  },
  {
   "cell_type": "markdown",
   "id": "3932302a",
   "metadata": {},
   "source": [
    " Nicómano de Gerasa descubrió la siguiente propiedad de los números naturales:\n",
    "\n",
    "-Al sumar el primer impar se obtiene el primer cubo:\t1 = 1\n",
    "\n",
    "-Al sumar los dos siguientes impares se obtiene el segundo cubo:\t3+5 = 8\n",
    "\n",
    "-Al sumar los tres siguientes impares se obtiene el tercer cubo:\t7+9+11 = 27\n",
    "\n",
    "-Al sumar los cuatro siguientes impares se obtiene el cuarto cubo:\t13+15+17+19 = 64 Etc…\n",
    "\n",
    "Con esta propiedad, para un n dado, calcule y muestre los cubos de los primeros n números naturales."
   ]
  },
  {
   "cell_type": "code",
   "execution_count": 60,
   "id": "a3e234b2",
   "metadata": {},
   "outputs": [],
   "source": [
    "def Nico(n):\n",
    "    impar = 1\n",
    "    cubo = 0\n",
    "    lista = []\n",
    "    for i in range(1,n+1):\n",
    "        for j in range(1,i+1):\n",
    "            cubo += impar\n",
    "            impar +=2\n",
    "        lista.append(cubo)\n",
    "        cubo = 0\n",
    "    return lista\n",
    "            \n",
    "        "
   ]
  },
  {
   "cell_type": "code",
   "execution_count": 61,
   "id": "be77057c",
   "metadata": {},
   "outputs": [
    {
     "data": {
      "text/plain": [
       "[1, 8, 27, 64]"
      ]
     },
     "execution_count": 61,
     "metadata": {},
     "output_type": "execute_result"
    }
   ],
   "source": [
    "Nico(4)"
   ]
  },
  {
   "cell_type": "markdown",
   "id": "fdad4179",
   "metadata": {},
   "source": [
    "En mayo de 2013 un matemático presentó formalmente una demostración a la Conjetura de los Primos Gemelos.\n",
    "\n",
    "Se denominan “números primos gemelos” aquellos números primos consecutivos separados por dos unidades.\n",
    "\n",
    "Escribe una función para determinar los primos gemelos en 2 y n."
   ]
  },
  {
   "cell_type": "code",
   "execution_count": 79,
   "id": "85b33795",
   "metadata": {},
   "outputs": [],
   "source": [
    "def esPrimo(n):\n",
    "    return [i for i in range(1,n) if n%i == 0 ] == [1]\n",
    "def gemelos(n):\n",
    "    primos = [i for i in range(1,n) if esPrimo(i)]\n",
    "    return [(i,j) for i, j in zip(primos,primos[1:]) if j-i == 2]"
   ]
  },
  {
   "cell_type": "code",
   "execution_count": 80,
   "id": "05535890",
   "metadata": {},
   "outputs": [
    {
     "data": {
      "text/plain": [
       "[(3, 5), (5, 7), (11, 13), (17, 19), (29, 31), (41, 43)]"
      ]
     },
     "execution_count": 80,
     "metadata": {},
     "output_type": "execute_result"
    }
   ],
   "source": [
    "gemelos(50)"
   ]
  },
  {
   "cell_type": "markdown",
   "id": "229eba31",
   "metadata": {},
   "source": [
    "Escribir una función que, para cualquier número de segundos inferior a un millón, calcule su equivalente en días, horas, minutos y segundos."
   ]
  },
  {
   "cell_type": "code",
   "execution_count": 33,
   "id": "467af228",
   "metadata": {},
   "outputs": [],
   "source": [
    "def secs2time():\n",
    "    dato = int(input((u'Número de segundos: ')))\n",
    "    if dato >= 1000000:\n",
    "        print(\"El número debe de ser menor a 1000000\")\n",
    "    else:\n",
    "        # Días.\n",
    "        ndias,aux = divmod(dato, 86400)\n",
    "        # Horas.\n",
    "        nhoras, aux = divmod(aux, 3600)\n",
    "        # Minutos y segundos.\n",
    "        nmin, nseg = divmod(aux, 60)\n",
    "        # Mostramos resultado.\n",
    "        print('%d días, %d horas, %d minutos, %d segundos' % \\\n",
    "              (ndias, nhoras, nmin, nseg))\n"
   ]
  },
  {
   "cell_type": "code",
   "execution_count": 34,
   "id": "449dbdf5",
   "metadata": {},
   "outputs": [
    {
     "name": "stdout",
     "output_type": "stream",
     "text": [
      "Número de segundos: 60\n",
      "0 días, 0 horas, 1 minutos, 0 segundos\n"
     ]
    }
   ],
   "source": [
    "secs2time()"
   ]
  },
  {
   "cell_type": "markdown",
   "id": "6e06f954",
   "metadata": {},
   "source": [
    "Escribe una función que permita saber si un año es bisiesto. Para que un año sea bisiesto debe ser divisible por 4 y no debe ser divisible por 100, excepto que también sea divisible por 400."
   ]
  },
  {
   "cell_type": "code",
   "execution_count": null,
   "id": "9588d173",
   "metadata": {},
   "outputs": [],
   "source": [
    "def bisiesto():    \n",
    "    anio=int(input(\"Año:\"))\n",
    "    if anio%4 == 0:\n",
    "        if anio%100 != 0 or anio%400 == 0:\n",
    "            print(\"Bisiesto\")\n",
    "        else:\n",
    "            print(\"No bisiesto\")\n",
    "    else:\n",
    "        print(\"No bisiesto\")"
   ]
  },
  {
   "cell_type": "markdown",
   "id": "df40fa0c",
   "metadata": {},
   "source": [
    "Investiga como es el algoritmo para pasar de RGB a CMYK y viceversa y crea una (o varias) funcion(es) para pasar de uno a otro.\n",
    "Intenta crear el menor número de funciones posible."
   ]
  },
  {
   "cell_type": "code",
   "execution_count": 71,
   "id": "d53727ee",
   "metadata": {},
   "outputs": [],
   "source": [
    "def cmyk_to_rgb(c, m, y, k,r=None,g=None,b=None,cm2rgb = True):\n",
    "    if cm2rgb:\n",
    "        r = int(255 * (1 - c) * (1 - k))\n",
    "        g = int(255 * (1 - m) * (1 - k))\n",
    "        b = int(255 * (1 - y) * (1 - k))\n",
    "        return r, g, b\n",
    "    \n",
    "    else:\n",
    "        r = r / 255.0\n",
    "        g = g / 255.0\n",
    "        b = b / 255.0\n",
    "\n",
    "        k = 1 - max(r, g, b)\n",
    "        c = (1 - r - k) / (1 - k) if (1 - k) != 0 else 0\n",
    "        m = (1 - g - k) / (1 - k) if (1 - k) != 0 else 0\n",
    "        y = (1 - b - k) / (1 - k) if (1 - k) != 0 else 0\n",
    "        return c, m, y, k\n",
    "\n"
   ]
  },
  {
   "cell_type": "markdown",
   "id": "6cdfacff",
   "metadata": {},
   "source": [
    "### MEDIO"
   ]
  },
  {
   "cell_type": "markdown",
   "id": "0acee4e7",
   "metadata": {},
   "source": [
    "Papa Noel está probando a informatizar el polo norte, para ello nos da una prueba de su lista de niños y nos pide dos funciones básicas:\n",
    "\n",
    "* La función accionesNombre  que, dado un nombre del diccionario, nos diga las acciones que ha realizado ese niño.\n",
    "\n",
    "* La funcion decidirNombre que, dado un nombre, nos dia si ese niño ha sido bueno o malo."
   ]
  },
  {
   "cell_type": "code",
   "execution_count": 14,
   "id": "f6dafeb6",
   "metadata": {},
   "outputs": [],
   "source": [
    "Naughty_dict = {\n",
    "    'malos':{'pegarle_al_gato':'Juan','escupirle_a_la_abuela':'Maria','Suspender_Python':'Carlos','tirar_piedras':'Juan'},\n",
    "    'buenos':{'aprobar_haskell':'Pepe','llevarle_las_zapatillas_al_gato':'Jose','ganar_la_loteria':'Juan'}}"
   ]
  },
  {
   "cell_type": "code",
   "execution_count": 26,
   "id": "974704b4",
   "metadata": {},
   "outputs": [],
   "source": [
    "def decidirNombres(nombre):\n",
    "    Bacts = 0\n",
    "    Gacts = 0\n",
    "    for i in Naughty_dict['malos'].items():\n",
    "        if i[1] == nombre:\n",
    "            Bacts += 1\n",
    "    for i in Naughty_dict['buenos'].items():\n",
    "        if i[1] == nombre:\n",
    "            Gacts += 1\n",
    "    total = Bacts - Gacts\n",
    "    print(total)\n",
    "    if total >= 0:\n",
    "        print(\"El niño es malo, quemadlo\")\n",
    "    else:\n",
    "        print(\"El niño es bueno\")\n",
    "        \n",
    "def accionesNombres(nombre):\n",
    "    lista = []\n",
    "    for i in Naughty_dict[\"malos\"].items():\n",
    "        if i[1] == nombre:\n",
    "            lista += [i[0]]\n",
    "    for i in Naughty_dict[\"buenos\"].items():\n",
    "        if i[1] == nombre:\n",
    "            lista += [i[0]]\n",
    "    return lista"
   ]
  },
  {
   "cell_type": "code",
   "execution_count": 27,
   "id": "ec4ec696",
   "metadata": {},
   "outputs": [
    {
     "data": {
      "text/plain": [
       "['pegarle_al_gato', 'tirar_piedras', 'ganar_la_loteria']"
      ]
     },
     "execution_count": 27,
     "metadata": {},
     "output_type": "execute_result"
    }
   ],
   "source": [
    "accionesNombres(\"Juan\")"
   ]
  },
  {
   "cell_type": "markdown",
   "id": "bdebd78c",
   "metadata": {},
   "source": [
    "Un clásico acertijo dice: \"Un virus llena un tarro en una hora, dividiéndose en dos una vez al minuto ¿Cuántos minutos tardará el tarro en llenarse si empezaras con dos virus?\"\n",
    "\n",
    "Resuelvelo usando Python"
   ]
  },
  {
   "cell_type": "code",
   "execution_count": 65,
   "id": "b853bb18",
   "metadata": {},
   "outputs": [
    {
     "data": {
      "text/plain": [
       "59"
      ]
     },
     "execution_count": 65,
     "metadata": {},
     "output_type": "execute_result"
    }
   ],
   "source": [
    "def acertijo():\n",
    "    tarroA = 2**60\n",
    "    tarroN = 2\n",
    "    tiempo = 0\n",
    "    while tarroN != tarroA:\n",
    "        tarroN += tarroN\n",
    "        tiempo += 1\n",
    "    return tiempo\n",
    "acertijo()"
   ]
  },
  {
   "attachments": {
    "image.png": {
     "image/png": "[encoded data removed]"
    }
   },
   "cell_type": "markdown",
   "id": "28b1efeb",
   "metadata": {},
   "source": [
    "Una forma usual de llevar la cuenta es usar este tipo de marcas. Cada 5 marcas tachamos. \n",
    "![image.png](attachment:image.png)\n",
    "Crea una función que reciba una número y devuelva un string con las marcas.\n",
    "\n",
    "\n",
    "EJ: marcas(7) == IIII- II"
   ]
  },
  {
   "cell_type": "code",
   "execution_count": 75,
   "id": "126234c0",
   "metadata": {},
   "outputs": [],
   "source": [
    "def marcas(n):\n",
    "    cruz = n //5\n",
    "    sobra = n%5\n",
    "    print(\"IIII- \"*cruz+\"I\"*sobra)"
   ]
  },
  {
   "cell_type": "code",
   "execution_count": 12,
   "id": "5c47b339",
   "metadata": {},
   "outputs": [],
   "source": [
    "def marcas2(n): #recursion\n",
    "    if n == 0:\n",
    "        return \"\"\n",
    "    else:\n",
    "        if not(n%5==0):\n",
    "            return marcas2(n-1)+\"I\"\n",
    "        else:\n",
    "            return \"IIIII- \""
   ]
  },
  {
   "cell_type": "code",
   "execution_count": 13,
   "id": "f6df6f8f",
   "metadata": {},
   "outputs": [
    {
     "data": {
      "text/plain": [
       "'IIIII- II'"
      ]
     },
     "execution_count": 13,
     "metadata": {},
     "output_type": "execute_result"
    }
   ],
   "source": [
    "marcas2(7)"
   ]
  },
  {
   "cell_type": "code",
   "execution_count": 1,
   "id": "22d6d49a",
   "metadata": {},
   "outputs": [
    {
     "data": {
      "text/plain": [
       "\"['I', 'I', '-']\""
      ]
     },
     "execution_count": 1,
     "metadata": {},
     "output_type": "execute_result"
    }
   ],
   "source": [
    "l = [\"I\",\"I\",\"-\"]\n",
    "str(l)"
   ]
  },
  {
   "cell_type": "markdown",
   "id": "7fb3c689",
   "metadata": {},
   "source": []
  },
  {
   "cell_type": "markdown",
   "id": "36d64dc6",
   "metadata": {},
   "source": [
    "Crea una función que determine si un número entero dado es un número de Catalan. Los números de Catalan forman una secuencia de enteros positivos que cumplen con la fórmula recursiva:\n",
    "$$\n",
    "C_{n} = \n",
    "\\begin{cases} \n",
    "\\mbox{si }n=0 & \\Rightarrow 1  \\\\ \n",
    "\\mbox{si }n>0 & \\Rightarrow \\cfrac{2(2n-1)}{n+1} \\, C_{n-1}\n",
    "\\end{cases}\n",
    "$$\n",
    "Otra forma de definirlos es:\n",
    "$$\n",
    "C_n = \\frac{{2n!}}{{(n+1)! \\cdot n!}}\n",
    "$$\n"
   ]
  },
  {
   "cell_type": "code",
   "execution_count": 56,
   "id": "d3969984",
   "metadata": {},
   "outputs": [
    {
     "name": "stdout",
     "output_type": "stream",
     "text": [
      "Ingrese un número para verificar si es un número de Catalan: 14\n",
      "14 es un número de Catalan.\n"
     ]
    }
   ],
   "source": [
    "def es_numero_de_catalan(n):\n",
    "    def calcular_catalan(num):\n",
    "        if num == 0:\n",
    "            return 1\n",
    "        return calcular_catalan(num - 1) * (2 * (2 * num - 1)) // (num + 1)\n",
    "\n",
    "    i = 0\n",
    "    while calcular_catalan(i) <= n:\n",
    "        if calcular_catalan(i) == n:\n",
    "            return True\n",
    "        i += 1\n",
    "\n",
    "numero = int(input(\"Ingrese un número para verificar si es un número de Catalan: \"))\n",
    "if es_numero_de_catalan(numero):\n",
    "    print(f\"{numero} es un número de Catalan.\")\n",
    "else:\n",
    "    print(f\"{numero} no es un número de Catalan.\")\n"
   ]
  },
  {
   "cell_type": "markdown",
   "id": "774f7703",
   "metadata": {},
   "source": [
    "Crea una función que, dada una expresión matemática o string, compruebe que el número de paréntesis esta bien. Es decir, que tiene tantos paréntesis abiertos como cerrados."
   ]
  },
  {
   "cell_type": "code",
   "execution_count": 57,
   "id": "d2aa13e5",
   "metadata": {},
   "outputs": [],
   "source": [
    "def parentesis(xs):\n",
    "    expresion = str(xs)\n",
    "    parentesis_abiertos = 0\n",
    "    parentesis_cerrados = 0\n",
    "    ej1 = ')'\n",
    "    ej2 = '('\n",
    "    for i in expresion:\n",
    "        if i  == ej1:\n",
    "            parentesis_cerrados +=1\n",
    "        elif i == ej2:\n",
    "            parentesis_abiertos += 1\n",
    "    return parentesis_abiertos == parentesis_cerrados"
   ]
  },
  {
   "attachments": {
    "image.png": {
     "image/png": "[encoded data removed]"
    }
   },
   "cell_type": "markdown",
   "id": "4faf1716",
   "metadata": {},
   "source": [
    "Una función se dice recursiva cuando ella misma aparece en su propia definición, el estudio de estas es un campo importantísimo de las matemáticas.\n",
    "\n",
    "\n",
    "Debido a su definición, profundamente recursiva, la función de Ackermann se utiliza con frecuencia para comparar compiladores en cuanto a su habilidad para optimizar la recursión. Dicha función se define a continuación:\n",
    "![image.png](attachment:image.png)\n",
    "\n",
    "Defina la función de Ackermann y evaluala en A(1,2)"
   ]
  },
  {
   "cell_type": "code",
   "execution_count": 2,
   "id": "d0aedc8e",
   "metadata": {},
   "outputs": [],
   "source": [
    "def A(m,n):\n",
    "    if m == 0:\n",
    "        return n+1\n",
    "    elif n == 0 and m >0:\n",
    "        return A(m-1,1)\n",
    "    else :\n",
    "        return A(m-1,A(m,n-1))"
   ]
  },
  {
   "cell_type": "code",
   "execution_count": 3,
   "id": "ae482c80",
   "metadata": {},
   "outputs": [
    {
     "data": {
      "text/plain": [
       "4"
      ]
     },
     "execution_count": 3,
     "metadata": {},
     "output_type": "execute_result"
    }
   ],
   "source": [
    "A(1,2)"
   ]
  },
  {
   "cell_type": "markdown",
   "id": "6764e0c2",
   "metadata": {},
   "source": [
    "Supongamos que tenemos 2 tiposde ladrillos, el tipo peuqeño mide 1cm y el grande 5 cm. Cree una función que reciba cuantos ladrillos peuqueños tiene, cuantos grade y una marca objetivo. La función tiene que ser capaz de ver si podemos crear una linea que mida exactamente la marca objetivo."
   ]
  },
  {
   "cell_type": "code",
   "execution_count": 1,
   "id": "fbe12f32",
   "metadata": {},
   "outputs": [],
   "source": [
    "def make_bricks(small, big, goal):\n",
    "    return goal in [1*i + 5*j for i in range(small+1) for j in range(big+1)]\n",
    "\n",
    "def make_bricks2(small, big, goal):\n",
    "    if goal >= 5 * big:\n",
    "        remainder = goal - (5 * big)\n",
    "    else:\n",
    "        remainder = goal % 5\n",
    "        \n",
    "    return small >= remainder"
   ]
  },
  {
   "cell_type": "code",
   "execution_count": 2,
   "id": "e814cd51",
   "metadata": {},
   "outputs": [
    {
     "data": {
      "text/plain": [
       "True"
      ]
     },
     "execution_count": 2,
     "metadata": {},
     "output_type": "execute_result"
    }
   ],
   "source": [
    "make_bricks(4,4,20)"
   ]
  },
  {
   "cell_type": "markdown",
   "id": "a4cc0170",
   "metadata": {},
   "source": [
    "Vamos a programar un robot, empezaremos creando el movimiento.\n",
    "Crea una función que reciba: posx, pos = la posición cartesiana del robot. movx,moy = la dirección cartesiana del robot, de momento supondremos que tiene velocidad constante y t= tiempo que dara´ra el movimiento.\n",
    "\n",
    "Te dejo la funcion espera(), que hará que el programa espere 1 segundo antes de realizar su próxima acción. Úsala para mostrar los mensajes del robot poco a poco"
   ]
  },
  {
   "cell_type": "code",
   "execution_count": 3,
   "id": "3a1509c3",
   "metadata": {},
   "outputs": [],
   "source": [
    "from time import sleep\n",
    "def espera():\n",
    "    sleep(1)"
   ]
  },
  {
   "cell_type": "code",
   "execution_count": 4,
   "id": "10897156",
   "metadata": {},
   "outputs": [],
   "source": [
    "def robot_lineal(posx,posy,movx,movy,t):\n",
    "    for _ in range(t):\n",
    "        print(f\"el robot está en x = {posx} e y = {posy}\")\n",
    "        posx += movx\n",
    "        posy += movy\n",
    "        espera()"
   ]
  },
  {
   "cell_type": "code",
   "execution_count": 5,
   "id": "30be7f9e",
   "metadata": {},
   "outputs": [
    {
     "name": "stdout",
     "output_type": "stream",
     "text": [
      "el robot está en x = 0 e y = 0\n",
      "el robot está en x = 1 e y = 1\n",
      "el robot está en x = 2 e y = 2\n",
      "el robot está en x = 3 e y = 3\n",
      "el robot está en x = 4 e y = 4\n"
     ]
    }
   ],
   "source": [
    "robot_lineal(0,0,1,1,5)"
   ]
  },
  {
   "cell_type": "markdown",
   "id": "b5406d35",
   "metadata": {},
   "source": [
    "Genial, ahora implementa la misma función, pero añade la variables ax y ay que será la aceleración."
   ]
  },
  {
   "cell_type": "code",
   "execution_count": 13,
   "id": "4adfd7c9",
   "metadata": {},
   "outputs": [],
   "source": [
    "def robot_acelerado(posx,posy,movx,movy,ax,ay,t):\n",
    "    for i in range(1,t):\n",
    "        print(f\"el robot está en x = {posx} e y = {posy}\")\n",
    "        posx = posx + movx*i+0.5*ax*i**2\n",
    "        posy = posy + movy*i+0.5*ay*i**2\n",
    "        espera()"
   ]
  },
  {
   "cell_type": "code",
   "execution_count": 14,
   "id": "c2416ae8",
   "metadata": {},
   "outputs": [
    {
     "name": "stdout",
     "output_type": "stream",
     "text": [
      "el robot está en x = 0 e y = 0\n",
      "el robot está en x = 1.5 e y = 1.5\n",
      "el robot está en x = 5.5 e y = 5.5\n",
      "el robot está en x = 13.0 e y = 13.0\n"
     ]
    }
   ],
   "source": [
    "robot_acelerado(0,0,1,1,1,1,5)"
   ]
  },
  {
   "cell_type": "markdown",
   "id": "05c6c8ac",
   "metadata": {},
   "source": [
    "Crea una función que, dada una lista de strings, devuelva el mayor prefijo común a todas las palabras.\n",
    "\n",
    "EJ: prefijo([\"poliedro\",\"poligono\",\"policia\"]) == 'poli'"
   ]
  },
  {
   "cell_type": "code",
   "execution_count": 7,
   "id": "b9886b3b",
   "metadata": {},
   "outputs": [],
   "source": [
    "def prefijo(xs):\n",
    "    prefijo = \"\"\n",
    "    ejemplo = xs[0]\n",
    "    for i in range(len(ejemplo)):\n",
    "        if not all([x[i] == ejemplo[i] for x in xs ]):\n",
    "            return prefijo\n",
    "        \n",
    "        \n",
    "        prefijo += (ejemplo[i])\n",
    "    return prefijo"
   ]
  },
  {
   "cell_type": "code",
   "execution_count": 8,
   "id": "3ad50c78",
   "metadata": {},
   "outputs": [
    {
     "data": {
      "text/plain": [
       "'poli'"
      ]
     },
     "execution_count": 8,
     "metadata": {},
     "output_type": "execute_result"
    }
   ],
   "source": [
    "prefijo([\"poliedro\",\"poligono\",\"policia\"]) "
   ]
  },
  {
   "cell_type": "markdown",
   "id": "5e5a0492",
   "metadata": {},
   "source": [
    "Existe un algoritmo para generar números pseudo aleatorios llamado \"Algoritmo de congruencia lineal\". Este algoritmo es el siguiente. \n",
    "\n",
    "- 1) Se escoge un número inicial \"seed\" que llamaremos $X_n$ \n",
    "- 2) Se escogen 3 constantes a, b y m\n",
    "- 3) Para un número lo bastante grande iteraciones (Para nuestro ejemplo 1000) se crea la siguiente sucesión de recurrencia\n",
    " $$\n",
    " X_{n+1} = (a*X_n +b) \\mod m\n",
    " $$\n",
    " \n",
    " Crea una función que implemente este método, pon el número de iteraciones como un parámetro opcional cuyo valor predeterminado sea 1000"
   ]
  },
  {
   "cell_type": "code",
   "execution_count": 17,
   "id": "d4c0248f",
   "metadata": {},
   "outputs": [],
   "source": [
    "def pseudo(a,b,m,x,it=1000):\n",
    "    for i in range(it):\n",
    "        x = (a*x+b)%m\n",
    "    return x"
   ]
  },
  {
   "cell_type": "code",
   "execution_count": 18,
   "id": "bbfd5396",
   "metadata": {},
   "outputs": [
    {
     "data": {
      "text/plain": [
       "2"
      ]
     },
     "execution_count": 18,
     "metadata": {},
     "output_type": "execute_result"
    }
   ],
   "source": [
    "pseudo(3,2,4,6)"
   ]
  },
  {
   "cell_type": "markdown",
   "id": "d90b3eb6",
   "metadata": {},
   "source": [
    "Una triangulación de un polígono es una división del área en\n",
    "un conjunto de triángulos, de forma que la unión de todos ellos es igual al\n",
    "polígono original, y cualquier par de triángulos es disjunto o comparte\n",
    "únicamente un vértice o un lado. En el caso de polígonos convexos, la\n",
    "cantidad de triangulaciones posibles depende únicamente del número de\n",
    "vértices del polígono.\n",
    " \n",
    "Si llamamos T(n) al número de triangulaciones de un polígono de n vértices,\n",
    "se verifica la siguiente relación de recurrencia: \n",
    "$$\n",
    "T(2) = 1\\\\\n",
    "     T(n) = T(2)*T(n-1) + T(3)*T(n-2) + ... + T(n-1)*T(2)\n",
    " $$"
   ]
  },
  {
   "cell_type": "code",
   "execution_count": 5,
   "id": "4fb1401b",
   "metadata": {},
   "outputs": [],
   "source": [
    "def num_triang(n):\n",
    "    if n == 2:\n",
    "        return 1\n",
    "    else :\n",
    "        return sum([num_triang(j)*num_triang(n-j+1) for j in range(2,n)])"
   ]
  },
  {
   "cell_type": "code",
   "execution_count": 4,
   "id": "75c887f3",
   "metadata": {},
   "outputs": [
    {
     "data": {
      "text/plain": [
       "14"
      ]
     },
     "execution_count": 4,
     "metadata": {},
     "output_type": "execute_result"
    }
   ],
   "source": [
    "num_triang(6)"
   ]
  },
  {
   "cell_type": "markdown",
   "id": "6f3edb54",
   "metadata": {},
   "source": [
    "### DIFICIL"
   ]
  },
  {
   "cell_type": "markdown",
   "id": "adfd143e",
   "metadata": {},
   "source": [
    "Escribe una función que reciba una matriz en forma de lista de listas y aplique el método de triangularización de Gauss. Por simplicidad puedes asumir que la matriz tendrá rango 3"
   ]
  },
  {
   "cell_type": "code",
   "execution_count": 21,
   "id": "f073974f",
   "metadata": {},
   "outputs": [],
   "source": [
    "def Gauss(matriz):\n",
    "    \n",
    "    for i in range(len(matriz)-1):\n",
    "        a = 1/matriz[i][i]\n",
    "        for j in range(i,len(matriz)-1):\n",
    "            matriz[j+1] = sumaEsc(matriz[i],matriz[j+1],-matriz[j+1][i]*a)\n",
    "    return matriz"
   ]
  },
  {
   "cell_type": "code",
   "execution_count": 22,
   "id": "7df54226",
   "metadata": {},
   "outputs": [
    {
     "data": {
      "text/plain": [
       "[[1, 2, 3], [0.0, 3.0, 1.0], [0.0, 0.0, -3.0]]"
      ]
     },
     "execution_count": 22,
     "metadata": {},
     "output_type": "execute_result"
    }
   ],
   "source": [
    "Gauss([[1,2,3],[1,5,4],[3,3,5]])"
   ]
  },
  {
   "cell_type": "markdown",
   "id": "2edbd171",
   "metadata": {},
   "source": [
    "\n",
    "Si jugais a videojuegos habreis oido hablar de los escenarios procedurales, a pesar de que el nombre debería ser procedimental, veamos uno de los métodos usados para la creación de estos escenarios. El algoritmo del paseo del hombre borracho:\n",
    "\n",
    "La función será paseo(mapa,posx,posy,pasos): Mapa es la matriz de ceros dada abajo, posx y posy son las posiciones iniciales del algoritmo y pasos la cantidad de bloques que se crearán.\n",
    "\n",
    "También será de utilidad la funcion \"direc()\" que dará un número aleatorio entre 0 y 3.\n",
    "*  Primero cambiaremos el 0 del mapa en la posicion inicial de nuestro hombre por un 1\n",
    "\n",
    "* Despues hemos de ir generando números aleatorios y mover a nuestro hombre en función de este número.\n",
    "\n",
    "* Si el hombre entra en una posición con un 0, está pasará a ser 1 y el contador de pasos disminuirá en 1\n",
    "\n",
    "* Si el hombre entra en una posición con un 1, está seguirá igual pero el contador de pasos NO disminuirá\n",
    "\n",
    "* Cuando el contador de pasos termine hemos de devolver el mapa\n",
    "Hay que tener especial cuidado con que el hombre no se no caiga por el borde del mapa."
   ]
  },
  {
   "cell_type": "code",
   "execution_count": null,
   "id": "b862047b",
   "metadata": {},
   "outputs": [],
   "source": [
    "from random import randint"
   ]
  },
  {
   "cell_type": "code",
   "execution_count": 194,
   "id": "f0b8f9be",
   "metadata": {},
   "outputs": [],
   "source": [
    "def direc():\n",
    "    return randint(0,3)"
   ]
  },
  {
   "cell_type": "code",
   "execution_count": 1,
   "id": "1c0f25b2",
   "metadata": {},
   "outputs": [],
   "source": [
    "mapa =[[0,0,0,0,0],[0,0,0,0,0],[0,0,0,0,0],[0,0,0,0,0],[0,0,0,0,0]]"
   ]
  },
  {
   "cell_type": "code",
   "execution_count": 245,
   "id": "541fb3ff",
   "metadata": {},
   "outputs": [],
   "source": [
    "def paseo(mapa,posx,posy,pasos):\n",
    "    \n",
    "    mapa[posy][posx] = 1\n",
    "    anchura = len(mapa[0])\n",
    "    altura = len(mapa)\n",
    "    i=0\n",
    "    while (i < pasos-1):\n",
    "        d = direc()\n",
    "        if d == 0 and posx != 0:\n",
    "            posx = posx-1\n",
    "            if mapa[posy][posx] == 1:\n",
    "                i -=1\n",
    "            else:\n",
    "                mapa[posy][posx] = 1\n",
    "        elif d == 1 and posy != 0:\n",
    "            posy =posy-1\n",
    "            if mapa[posy][posx] == 1:\n",
    "                i -=1\n",
    "            else:\n",
    "                mapa[posy][posx] = 1\n",
    "        elif d == 2 and posx != anchura:\n",
    "            posx = posx+1\n",
    "            if mapa[posy][posx] == 1:\n",
    "                i -=1\n",
    "            else:\n",
    "                mapa[posy][posx] = 1\n",
    "        elif d == 3 and posy != altura:\n",
    "            posy = posy+1\n",
    "            if mapa[posy][posx] == 1:\n",
    "                i -=1\n",
    "            else:\n",
    "                mapa[posy][posx] = 1\n",
    "        else:\n",
    "            i -=1\n",
    "        i+=1\n",
    "        \n",
    "    return mapa\n",
    "        "
   ]
  },
  {
   "cell_type": "code",
   "execution_count": 197,
   "id": "1e54698f",
   "metadata": {},
   "outputs": [
    {
     "data": {
      "text/plain": [
       "[[1, 1, 0, 0, 0],\n",
       " [0, 1, 0, 0, 0],\n",
       " [0, 1, 1, 0, 0],\n",
       " [0, 0, 0, 0, 0],\n",
       " [0, 0, 0, 0, 0]]"
      ]
     },
     "execution_count": 197,
     "metadata": {},
     "output_type": "execute_result"
    }
   ],
   "source": [
    "paseo(mapa,0,0,5)"
   ]
  },
  {
   "cell_type": "markdown",
   "id": "771b9b5b",
   "metadata": {},
   "source": [
    "Sigamos trabajando enla linea de los videojuegos. Escribe una función que reciba dos parámetros posx y posy que serán la posición nuestra posición inicial, también recibirá un mapa inicial, visto como lista de listas, con un 1 en nuestra posición y 0 en las demás.\n",
    "\n",
    "Nuestra función debe pedir al usuario en que dirección quiere moverse y nos devolverá una nueva matriz con la posición actualizada. Este proceso debe seguir hasta que el usuario introduzca la orden de parar."
   ]
  },
  {
   "cell_type": "code",
   "execution_count": 2,
   "id": "33a9ab5a",
   "metadata": {},
   "outputs": [],
   "source": [
    "def movimiento(posx,posy,mapa):\n",
    "    save = mapa[:]\n",
    "    mapa[posy][posx] = 1\n",
    "    anchura = len(mapa[0])\n",
    "    moverse = True\n",
    "    altura = len(mapa)\n",
    "    print(mapa[0])\n",
    "    print(mapa[1])\n",
    "    print(mapa[2])\n",
    "    print(mapa[3])\n",
    "    while moverse:\n",
    "        lado = int(input('A dónde te mueves? 0 = Izq, 1 Arriba, 2 = Der, 3 = Abajo , pulsa otro boton para salir '))\n",
    "        if lado == 0 and posx != 0:\n",
    "            mapa[posy][posx] = 0\n",
    "            posx -=1\n",
    "            mapa[posy][posx] = 1\n",
    "        elif lado == 1 and posy != 0:\n",
    "            mapa[posy][posx] = 0\n",
    "            posy -=1\n",
    "            mapa[posy][posx] = 1\n",
    "        elif lado == 2 and posx != anchura:\n",
    "            mapa[posy][posx] = 0\n",
    "            posx +=1\n",
    "            mapa[posy][posx] = 1\n",
    "        elif lado == 3 and posy != altura :\n",
    "            mapa[posy][posx] = 0\n",
    "            posy +=1\n",
    "            mapa[posy][posx] = 1\n",
    "        else:\n",
    "            moverse = False\n",
    "        print(mapa[0])\n",
    "        print(mapa[1])\n",
    "        print(mapa[2])\n",
    "        print(mapa[3])"
   ]
  },
  {
   "cell_type": "code",
   "execution_count": 2,
   "id": "e62a4b38",
   "metadata": {},
   "outputs": [
    {
     "data": {
      "text/plain": [
       "['[', '1', ',', '2', ']']"
      ]
     },
     "execution_count": 2,
     "metadata": {},
     "output_type": "execute_result"
    }
   ],
   "source": [
    "a =\"[1,2]\"\n",
    "list(a)\n",
    "def str2list(xs):\n",
    "    aux = []\n",
    "    for x in xs[1:-1]:\n",
    "        if != \",\":\n",
    "        \n",
    "        aux.append(int(x))\n",
    "    return x"
   ]
  },
  {
   "cell_type": "code",
   "execution_count": 3,
   "id": "b8da0cb9",
   "metadata": {},
   "outputs": [
    {
     "name": "stdout",
     "output_type": "stream",
     "text": [
      "[1, 0, 0, 0, 0]\n",
      "[0, 0, 0, 0, 0]\n",
      "[0, 0, 0, 0, 0]\n",
      "[0, 0, 0, 0, 0]\n",
      "A dónde te mueves? 0 = Izq, 1 Arriba, 2 = Der, 3 = Abajo , pulsa otro boton para salir 3\n",
      "[0, 0, 0, 0, 0]\n",
      "[1, 0, 0, 0, 0]\n",
      "[0, 0, 0, 0, 0]\n",
      "[0, 0, 0, 0, 0]\n",
      "A dónde te mueves? 0 = Izq, 1 Arriba, 2 = Der, 3 = Abajo , pulsa otro boton para salir 2\n",
      "[0, 0, 0, 0, 0]\n",
      "[0, 1, 0, 0, 0]\n",
      "[0, 0, 0, 0, 0]\n",
      "[0, 0, 0, 0, 0]\n",
      "A dónde te mueves? 0 = Izq, 1 Arriba, 2 = Der, 3 = Abajo , pulsa otro boton para salir 2\n",
      "[0, 0, 0, 0, 0]\n",
      "[0, 0, 1, 0, 0]\n",
      "[0, 0, 0, 0, 0]\n",
      "[0, 0, 0, 0, 0]\n",
      "A dónde te mueves? 0 = Izq, 1 Arriba, 2 = Der, 3 = Abajo , pulsa otro boton para salir 2\n",
      "[0, 0, 0, 0, 0]\n",
      "[0, 0, 0, 1, 0]\n",
      "[0, 0, 0, 0, 0]\n",
      "[0, 0, 0, 0, 0]\n",
      "A dónde te mueves? 0 = Izq, 1 Arriba, 2 = Der, 3 = Abajo , pulsa otro boton para salir 3\n",
      "[0, 0, 0, 0, 0]\n",
      "[0, 0, 0, 0, 0]\n",
      "[0, 0, 0, 1, 0]\n",
      "[0, 0, 0, 0, 0]\n",
      "A dónde te mueves? 0 = Izq, 1 Arriba, 2 = Der, 3 = Abajo , pulsa otro boton para salir 0\n",
      "[0, 0, 0, 0, 0]\n",
      "[0, 0, 0, 0, 0]\n",
      "[0, 0, 1, 0, 0]\n",
      "[0, 0, 0, 0, 0]\n",
      "A dónde te mueves? 0 = Izq, 1 Arriba, 2 = Der, 3 = Abajo , pulsa otro boton para salir 0\n",
      "[0, 0, 0, 0, 0]\n",
      "[0, 0, 0, 0, 0]\n",
      "[0, 1, 0, 0, 0]\n",
      "[0, 0, 0, 0, 0]\n",
      "A dónde te mueves? 0 = Izq, 1 Arriba, 2 = Der, 3 = Abajo , pulsa otro boton para salir 3\n",
      "[0, 0, 0, 0, 0]\n",
      "[0, 0, 0, 0, 0]\n",
      "[0, 0, 0, 0, 0]\n",
      "[0, 1, 0, 0, 0]\n",
      "A dónde te mueves? 0 = Izq, 1 Arriba, 2 = Der, 3 = Abajo , pulsa otro boton para salir 1\n",
      "[0, 0, 0, 0, 0]\n",
      "[0, 0, 0, 0, 0]\n",
      "[0, 1, 0, 0, 0]\n",
      "[0, 0, 0, 0, 0]\n"
     ]
    },
    {
     "ename": "KeyboardInterrupt",
     "evalue": "Interrupted by user",
     "output_type": "error",
     "traceback": [
      "\u001b[1;31m---------------------------------------------------------------------------\u001b[0m",
      "\u001b[1;31mKeyboardInterrupt\u001b[0m                         Traceback (most recent call last)",
      "Cell \u001b[1;32mIn[3], line 1\u001b[0m\n\u001b[1;32m----> 1\u001b[0m \u001b[43mmovimiento\u001b[49m\u001b[43m(\u001b[49m\u001b[38;5;241;43m0\u001b[39;49m\u001b[43m,\u001b[49m\u001b[38;5;241;43m0\u001b[39;49m\u001b[43m,\u001b[49m\u001b[43mmapa\u001b[49m\u001b[43m)\u001b[49m\n",
      "Cell \u001b[1;32mIn[2], line 12\u001b[0m, in \u001b[0;36mmovimiento\u001b[1;34m(posx, posy, mapa)\u001b[0m\n\u001b[0;32m     10\u001b[0m \u001b[38;5;28mprint\u001b[39m(mapa[\u001b[38;5;241m3\u001b[39m])\n\u001b[0;32m     11\u001b[0m \u001b[38;5;28;01mwhile\u001b[39;00m moverse:\n\u001b[1;32m---> 12\u001b[0m     lado \u001b[38;5;241m=\u001b[39m \u001b[38;5;28mint\u001b[39m(\u001b[38;5;28;43minput\u001b[39;49m\u001b[43m(\u001b[49m\u001b[38;5;124;43m'\u001b[39;49m\u001b[38;5;124;43mA dónde te mueves? 0 = Izq, 1 Arriba, 2 = Der, 3 = Abajo , pulsa otro boton para salir \u001b[39;49m\u001b[38;5;124;43m'\u001b[39;49m\u001b[43m)\u001b[49m)\n\u001b[0;32m     13\u001b[0m     \u001b[38;5;28;01mif\u001b[39;00m lado \u001b[38;5;241m==\u001b[39m \u001b[38;5;241m0\u001b[39m \u001b[38;5;129;01mand\u001b[39;00m posx \u001b[38;5;241m!=\u001b[39m \u001b[38;5;241m0\u001b[39m:\n\u001b[0;32m     14\u001b[0m         mapa[posy][posx] \u001b[38;5;241m=\u001b[39m \u001b[38;5;241m0\u001b[39m\n",
      "File \u001b[1;32m~\\anaconda3\\lib\\site-packages\\ipykernel\\kernelbase.py:1177\u001b[0m, in \u001b[0;36mKernel.raw_input\u001b[1;34m(self, prompt)\u001b[0m\n\u001b[0;32m   1173\u001b[0m \u001b[38;5;28;01mif\u001b[39;00m \u001b[38;5;129;01mnot\u001b[39;00m \u001b[38;5;28mself\u001b[39m\u001b[38;5;241m.\u001b[39m_allow_stdin:\n\u001b[0;32m   1174\u001b[0m     \u001b[38;5;28;01mraise\u001b[39;00m StdinNotImplementedError(\n\u001b[0;32m   1175\u001b[0m         \u001b[38;5;124m\"\u001b[39m\u001b[38;5;124mraw_input was called, but this frontend does not support input requests.\u001b[39m\u001b[38;5;124m\"\u001b[39m\n\u001b[0;32m   1176\u001b[0m     )\n\u001b[1;32m-> 1177\u001b[0m \u001b[38;5;28;01mreturn\u001b[39;00m \u001b[38;5;28;43mself\u001b[39;49m\u001b[38;5;241;43m.\u001b[39;49m\u001b[43m_input_request\u001b[49m\u001b[43m(\u001b[49m\n\u001b[0;32m   1178\u001b[0m \u001b[43m    \u001b[49m\u001b[38;5;28;43mstr\u001b[39;49m\u001b[43m(\u001b[49m\u001b[43mprompt\u001b[49m\u001b[43m)\u001b[49m\u001b[43m,\u001b[49m\n\u001b[0;32m   1179\u001b[0m \u001b[43m    \u001b[49m\u001b[38;5;28;43mself\u001b[39;49m\u001b[38;5;241;43m.\u001b[39;49m\u001b[43m_parent_ident\u001b[49m\u001b[43m[\u001b[49m\u001b[38;5;124;43m\"\u001b[39;49m\u001b[38;5;124;43mshell\u001b[39;49m\u001b[38;5;124;43m\"\u001b[39;49m\u001b[43m]\u001b[49m\u001b[43m,\u001b[49m\n\u001b[0;32m   1180\u001b[0m \u001b[43m    \u001b[49m\u001b[38;5;28;43mself\u001b[39;49m\u001b[38;5;241;43m.\u001b[39;49m\u001b[43mget_parent\u001b[49m\u001b[43m(\u001b[49m\u001b[38;5;124;43m\"\u001b[39;49m\u001b[38;5;124;43mshell\u001b[39;49m\u001b[38;5;124;43m\"\u001b[39;49m\u001b[43m)\u001b[49m\u001b[43m,\u001b[49m\n\u001b[0;32m   1181\u001b[0m \u001b[43m    \u001b[49m\u001b[43mpassword\u001b[49m\u001b[38;5;241;43m=\u001b[39;49m\u001b[38;5;28;43;01mFalse\u001b[39;49;00m\u001b[43m,\u001b[49m\n\u001b[0;32m   1182\u001b[0m \u001b[43m\u001b[49m\u001b[43m)\u001b[49m\n",
      "File \u001b[1;32m~\\anaconda3\\lib\\site-packages\\ipykernel\\kernelbase.py:1219\u001b[0m, in \u001b[0;36mKernel._input_request\u001b[1;34m(self, prompt, ident, parent, password)\u001b[0m\n\u001b[0;32m   1216\u001b[0m             \u001b[38;5;28;01mbreak\u001b[39;00m\n\u001b[0;32m   1217\u001b[0m \u001b[38;5;28;01mexcept\u001b[39;00m \u001b[38;5;167;01mKeyboardInterrupt\u001b[39;00m:\n\u001b[0;32m   1218\u001b[0m     \u001b[38;5;66;03m# re-raise KeyboardInterrupt, to truncate traceback\u001b[39;00m\n\u001b[1;32m-> 1219\u001b[0m     \u001b[38;5;28;01mraise\u001b[39;00m \u001b[38;5;167;01mKeyboardInterrupt\u001b[39;00m(\u001b[38;5;124m\"\u001b[39m\u001b[38;5;124mInterrupted by user\u001b[39m\u001b[38;5;124m\"\u001b[39m) \u001b[38;5;28;01mfrom\u001b[39;00m \u001b[38;5;28mNone\u001b[39m\n\u001b[0;32m   1220\u001b[0m \u001b[38;5;28;01mexcept\u001b[39;00m \u001b[38;5;167;01mException\u001b[39;00m:\n\u001b[0;32m   1221\u001b[0m     \u001b[38;5;28mself\u001b[39m\u001b[38;5;241m.\u001b[39mlog\u001b[38;5;241m.\u001b[39mwarning(\u001b[38;5;124m\"\u001b[39m\u001b[38;5;124mInvalid Message:\u001b[39m\u001b[38;5;124m\"\u001b[39m, exc_info\u001b[38;5;241m=\u001b[39m\u001b[38;5;28;01mTrue\u001b[39;00m)\n",
      "\u001b[1;31mKeyboardInterrupt\u001b[0m: Interrupted by user"
     ]
    }
   ],
   "source": [
    "movimiento(0,0,mapa)"
   ]
  },
  {
   "cell_type": "code",
   "execution_count": null,
   "id": "17e22fa1",
   "metadata": {},
   "outputs": [],
   "source": []
  }
 ],
 "metadata": {
  "kernelspec": {
   "display_name": "Python 3 (ipykernel)",
   "language": "python",
   "name": "python3"
  },
  "language_info": {
   "codemirror_mode": {
    "name": "ipython",
    "version": 3
   },
   "file_extension": ".py",
   "mimetype": "text/x-python",
   "name": "python",
   "nbconvert_exporter": "python",
   "pygments_lexer": "ipython3",
   "version": "3.9.13"
  }
 },
 "nbformat": 4,
 "nbformat_minor": 5
}
