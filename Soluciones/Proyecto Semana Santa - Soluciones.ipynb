{
 "cells": [
  {
   "cell_type": "markdown",
   "id": "caf390d2",
   "metadata": {},
   "source": [
    "# Proyecto I - Las Torres de Hanoi"
   ]
  },
  {
   "cell_type": "markdown",
   "id": "c39081d4",
   "metadata": {},
   "source": [
    "El juego de Las Torres de Hanoi es un antiguo juego que todos los alumnos de programación odian. Hoy vamos a implementarlo.\n",
    "La representación será una lista con 3 sublistas donde el lado izquierdo de cada lista representará la ficha que está abajo del todo y la más a la derecha la ficha superior, en todo momento la ficha superior debe ser menor o igual a sus inferiores.\n",
    "Por Ejemplo [[5,4,2],[3],[1]] sería la torre con las dos fichas mas grandes en la columna izquierda y encima de ellas la segunda menor, en la columna central la ficha intermedia y en la columna de la derecha la ficha menor.\n",
    "\n",
    "El juego consiste en ir cambiando las fichas en cada momento de una en una hasta tener todas las fichas en el lado derecho"
   ]
  },
  {
   "cell_type": "markdown",
   "id": "f539c2ee",
   "metadata": {},
   "source": [
    "Primero creemos una función llamada TorreInicio() que no reciba ningún argumento y nos devuelva una torre con todas las fichas en el lado izquierda ordenadas"
   ]
  },
  {
   "cell_type": "code",
   "execution_count": 78,
   "id": "1a60b4ef",
   "metadata": {},
   "outputs": [],
   "source": [
    "def TorreInicio():\n",
    "    return([[5,4,3,2,1],[],[]])"
   ]
  },
  {
   "cell_type": "markdown",
   "id": "51ba3ed7",
   "metadata": {},
   "source": [
    "Creemos ahora una función que compruebe si hemos ganado, es decir, si una torre dada es una torre final"
   ]
  },
  {
   "cell_type": "code",
   "execution_count": 79,
   "id": "60969c63",
   "metadata": {},
   "outputs": [],
   "source": [
    "def esTorreFinal(xs):\n",
    "    return xs == ([[],[],[5,4,3,2,1]])"
   ]
  },
  {
   "cell_type": "markdown",
   "id": "55bd26f5",
   "metadata": {},
   "source": [
    "Aqui crearemos una función que, dado un estado de la torre, un número de posición de columna de partida y otro de llegada haga \n",
    "el movimiento correspondiente, ten cuidado que no todos los movimientos son válidos, recuerda que:\n",
    "- El número que vaya a colocarse debe ser menor que el colocado previamente\n",
    "- Es imposible sacar nada de una columna vacía\n",
    "- Una columna vacía siempre podrá recibir un nuevo número"
   ]
  },
  {
   "cell_type": "code",
   "execution_count": 80,
   "id": "005dcd7c",
   "metadata": {},
   "outputs": [],
   "source": [
    "def movimiento(xs,inicio,fin):\n",
    "    filaOrigen = xs[inicio] #columna donde mover su ultima ficha\n",
    "    filaDestino = xs[fin] #columna que recibirá la ficha\n",
    "    if filaOrigen == []: #No podemos mover nada desde una torre vacia\n",
    "        return(\"Columna vacia\")\n",
    "    elif filaDestino == []:\n",
    "        filaDestino.append(filaOrigen[-1])\n",
    "        filaOrigen.pop()\n",
    "        return xs\n",
    "    else:   \n",
    "        if filaOrigen[-1] > filaDestino[-1]:\n",
    "            return( \"Lo siento, movimiento no válido\")\n",
    "        else:\n",
    "            filaDestino.append(filaOrigen[-1])\n",
    "            filaOrigen.pop()\n",
    "            return xs\n",
    "        \n",
    "  #movimiento([[5, 4, 3, 2], [1], []],0,1) == \"Lo siento, movimiento no válido\"\n",
    " #movimiento(TorreInicio(),0,1) == [[5, 4, 3, 2], [1], []]\n",
    "    "
   ]
  },
  {
   "cell_type": "code",
   "execution_count": 25,
   "id": "62ec1ad1",
   "metadata": {},
   "outputs": [
    {
     "data": {
      "text/plain": [
       "[[5, 4, 3, 2], [1], []]"
      ]
     },
     "execution_count": 25,
     "metadata": {},
     "output_type": "execute_result"
    }
   ],
   "source": [
    "movimiento(TorreInicio(),0,1)"
   ]
  },
  {
   "cell_type": "markdown",
   "id": "88b40865",
   "metadata": {},
   "source": [
    "Ya casi tenemos la lógica interna del juego, parémonos ahora para ver como podríamos visualizar las columnas, ya que el sistema de lista de listas es incómodo.\n",
    "Intenta crear una función que, dada una torre, nos de su representación colocando los números unos encima de otros y, en caso de no tener número a esa altura colocar el caracter \"|\".\n",
    "Recuerda que las listas son elementos mutables"
   ]
  },
  {
   "cell_type": "code",
   "execution_count": 81,
   "id": "8714651b",
   "metadata": {},
   "outputs": [],
   "source": [
    "def repr_torre(torre):\n",
    "    c1 = torre[0].copy()\n",
    "    c2 = torre[1].copy()\n",
    "    c3 = torre[2].copy()\n",
    "    altura = max(len(c1),len(c2),len(c3))\n",
    "    while len(c1) != altura:\n",
    "        c1.append(\"|\")\n",
    "    while len(c2) != altura:\n",
    "        c2.append(\"|\")\n",
    "    while len(c3) != altura:\n",
    "        c3.append(\"|\")\n",
    "    for i in range(altura):\n",
    "        print(c1[-i-1],c2[-i-1],c3[-i-1])\n",
    "        \n",
    "        \n",
    "#repr_torre([[5, 4, 3, 2], [1], []]) ==\n",
    "#2 | |\n",
    "#3 | |\n",
    "#4 | |\n",
    "#5 1 |"
   ]
  },
  {
   "cell_type": "code",
   "execution_count": 90,
   "id": "3128e3ad",
   "metadata": {},
   "outputs": [
    {
     "name": "stdout",
     "output_type": "stream",
     "text": [
      "2 | |\n",
      "3 | |\n",
      "4 | |\n",
      "5 1 |\n"
     ]
    }
   ],
   "source": [
    "repr_torre([[5, 4, 3, 2], [1], []]) "
   ]
  },
  {
   "cell_type": "markdown",
   "id": "793ee41f",
   "metadata": {},
   "source": [
    "Usando todas las funciones anteriores cree una función llamada turno que nos pregunte de que columna queremos mover, a qué otra columna y en caso de ser el estado final nos avise de que hemos ganado, en caso de no serlo continue la partida."
   ]
  },
  {
   "cell_type": "code",
   "execution_count": 82,
   "id": "1b282c7b",
   "metadata": {},
   "outputs": [],
   "source": [
    "def turno(torre):\n",
    "    origen = int(input(\"¿De dónde quieres mover? \"))\n",
    "    destino = int(input(\"¿A qué columna? \"))\n",
    "    xs = movimiento(torre,origen,destino)\n",
    "    if not isinstance(xs,str):\n",
    "        repr_torre(xs)\n",
    "        if esTorreFinal(xs):\n",
    "            print(\"Ganaste\")\n",
    "        else: turno(xs)\n",
    "    else:\n",
    "        print(xs)\n",
    "        turno(torre)\n",
    "        "
   ]
  },
  {
   "cell_type": "code",
   "execution_count": 85,
   "id": "1b3fe8cc",
   "metadata": {},
   "outputs": [
    {
     "name": "stdout",
     "output_type": "stream",
     "text": [
      "¿De dónde quieres mover? 1\n",
      "¿A qué columna? 2\n",
      "Columna vacia\n",
      "¿De dónde quieres mover? 0\n",
      "¿A qué columna? 2\n",
      "| | 1\n",
      "| | 2\n",
      "| | 3\n",
      "| | 4\n",
      "| | 5\n"
     ]
    }
   ],
   "source": [
    "turno([[1],[],[5,4,3,2]])"
   ]
  },
  {
   "cell_type": "code",
   "execution_count": 91,
   "id": "0796a80f",
   "metadata": {},
   "outputs": [
    {
     "name": "stdout",
     "output_type": "stream",
     "text": [
      "¿De dónde quieres mover? 0\n",
      "¿A qué columna? 1\n",
      "2 | |\n",
      "3 | |\n",
      "4 | |\n",
      "5 1 |\n"
     ]
    },
    {
     "ename": "KeyboardInterrupt",
     "evalue": "Interrupted by user",
     "output_type": "error",
     "traceback": [
      "\u001b[1;31m---------------------------------------------------------------------------\u001b[0m",
      "\u001b[1;31mKeyboardInterrupt\u001b[0m                         Traceback (most recent call last)",
      "\u001b[1;32m~\\AppData\\Local\\Temp\\ipykernel_11020\\3885852265.py\u001b[0m in \u001b[0;36m<module>\u001b[1;34m\u001b[0m\n\u001b[0;32m      3\u001b[0m \u001b[1;32mdef\u001b[0m \u001b[0mJuego\u001b[0m\u001b[1;33m(\u001b[0m\u001b[1;33m)\u001b[0m\u001b[1;33m:\u001b[0m\u001b[1;33m\u001b[0m\u001b[1;33m\u001b[0m\u001b[0m\n\u001b[0;32m      4\u001b[0m     \u001b[0mturno\u001b[0m\u001b[1;33m(\u001b[0m\u001b[0mTorreInicio\u001b[0m\u001b[1;33m(\u001b[0m\u001b[1;33m)\u001b[0m\u001b[1;33m)\u001b[0m\u001b[1;33m\u001b[0m\u001b[1;33m\u001b[0m\u001b[0m\n\u001b[1;32m----> 5\u001b[1;33m \u001b[0mJuego\u001b[0m\u001b[1;33m(\u001b[0m\u001b[1;33m)\u001b[0m\u001b[1;33m\u001b[0m\u001b[1;33m\u001b[0m\u001b[0m\n\u001b[0m",
      "\u001b[1;32m~\\AppData\\Local\\Temp\\ipykernel_11020\\3885852265.py\u001b[0m in \u001b[0;36mJuego\u001b[1;34m()\u001b[0m\n\u001b[0;32m      2\u001b[0m \u001b[1;33m\u001b[0m\u001b[0m\n\u001b[0;32m      3\u001b[0m \u001b[1;32mdef\u001b[0m \u001b[0mJuego\u001b[0m\u001b[1;33m(\u001b[0m\u001b[1;33m)\u001b[0m\u001b[1;33m:\u001b[0m\u001b[1;33m\u001b[0m\u001b[1;33m\u001b[0m\u001b[0m\n\u001b[1;32m----> 4\u001b[1;33m     \u001b[0mturno\u001b[0m\u001b[1;33m(\u001b[0m\u001b[0mTorreInicio\u001b[0m\u001b[1;33m(\u001b[0m\u001b[1;33m)\u001b[0m\u001b[1;33m)\u001b[0m\u001b[1;33m\u001b[0m\u001b[1;33m\u001b[0m\u001b[0m\n\u001b[0m\u001b[0;32m      5\u001b[0m \u001b[0mJuego\u001b[0m\u001b[1;33m(\u001b[0m\u001b[1;33m)\u001b[0m\u001b[1;33m\u001b[0m\u001b[1;33m\u001b[0m\u001b[0m\n",
      "\u001b[1;32m~\\AppData\\Local\\Temp\\ipykernel_11020\\2500321312.py\u001b[0m in \u001b[0;36mturno\u001b[1;34m(torre)\u001b[0m\n\u001b[0;32m      8\u001b[0m         \u001b[1;32mif\u001b[0m \u001b[0mesTorreFinal\u001b[0m\u001b[1;33m(\u001b[0m\u001b[0mxs\u001b[0m\u001b[1;33m)\u001b[0m\u001b[1;33m:\u001b[0m\u001b[1;33m\u001b[0m\u001b[1;33m\u001b[0m\u001b[0m\n\u001b[0;32m      9\u001b[0m             \u001b[1;32mreturn\u001b[0m \u001b[1;34m\"Ganaste\"\u001b[0m\u001b[1;33m\u001b[0m\u001b[1;33m\u001b[0m\u001b[0m\n\u001b[1;32m---> 10\u001b[1;33m         \u001b[1;32melse\u001b[0m\u001b[1;33m:\u001b[0m \u001b[0mturno\u001b[0m\u001b[1;33m(\u001b[0m\u001b[0mxs\u001b[0m\u001b[1;33m)\u001b[0m\u001b[1;33m\u001b[0m\u001b[1;33m\u001b[0m\u001b[0m\n\u001b[0m\u001b[0;32m     11\u001b[0m     \u001b[1;32melse\u001b[0m\u001b[1;33m:\u001b[0m\u001b[1;33m\u001b[0m\u001b[1;33m\u001b[0m\u001b[0m\n\u001b[0;32m     12\u001b[0m         \u001b[0mprint\u001b[0m\u001b[1;33m(\u001b[0m\u001b[0mxs\u001b[0m\u001b[1;33m)\u001b[0m\u001b[1;33m\u001b[0m\u001b[1;33m\u001b[0m\u001b[0m\n",
      "\u001b[1;32m~\\AppData\\Local\\Temp\\ipykernel_11020\\2500321312.py\u001b[0m in \u001b[0;36mturno\u001b[1;34m(torre)\u001b[0m\n\u001b[0;32m      1\u001b[0m \u001b[1;32mdef\u001b[0m \u001b[0mturno\u001b[0m\u001b[1;33m(\u001b[0m\u001b[0mtorre\u001b[0m\u001b[1;33m)\u001b[0m\u001b[1;33m:\u001b[0m\u001b[1;33m\u001b[0m\u001b[1;33m\u001b[0m\u001b[0m\n\u001b[0;32m      2\u001b[0m     \u001b[0mestado\u001b[0m \u001b[1;33m=\u001b[0m \u001b[1;32mTrue\u001b[0m\u001b[1;33m\u001b[0m\u001b[1;33m\u001b[0m\u001b[0m\n\u001b[1;32m----> 3\u001b[1;33m     \u001b[0morigen\u001b[0m \u001b[1;33m=\u001b[0m \u001b[0mint\u001b[0m\u001b[1;33m(\u001b[0m\u001b[0minput\u001b[0m\u001b[1;33m(\u001b[0m\u001b[1;34m\"¿De dónde quieres mover? \"\u001b[0m\u001b[1;33m)\u001b[0m\u001b[1;33m)\u001b[0m\u001b[1;33m\u001b[0m\u001b[1;33m\u001b[0m\u001b[0m\n\u001b[0m\u001b[0;32m      4\u001b[0m     \u001b[0mdestino\u001b[0m \u001b[1;33m=\u001b[0m \u001b[0mint\u001b[0m\u001b[1;33m(\u001b[0m\u001b[0minput\u001b[0m\u001b[1;33m(\u001b[0m\u001b[1;34m\"¿A qué columna? \"\u001b[0m\u001b[1;33m)\u001b[0m\u001b[1;33m)\u001b[0m\u001b[1;33m\u001b[0m\u001b[1;33m\u001b[0m\u001b[0m\n\u001b[0;32m      5\u001b[0m     \u001b[0mxs\u001b[0m \u001b[1;33m=\u001b[0m \u001b[0mmovimiento\u001b[0m\u001b[1;33m(\u001b[0m\u001b[0mtorre\u001b[0m\u001b[1;33m,\u001b[0m\u001b[0morigen\u001b[0m\u001b[1;33m,\u001b[0m\u001b[0mdestino\u001b[0m\u001b[1;33m)\u001b[0m\u001b[1;33m\u001b[0m\u001b[1;33m\u001b[0m\u001b[0m\n",
      "\u001b[1;32m~\\anaconda3\\lib\\site-packages\\ipykernel\\kernelbase.py\u001b[0m in \u001b[0;36mraw_input\u001b[1;34m(self, prompt)\u001b[0m\n\u001b[0;32m   1175\u001b[0m                 \u001b[1;34m\"raw_input was called, but this frontend does not support input requests.\"\u001b[0m\u001b[1;33m\u001b[0m\u001b[1;33m\u001b[0m\u001b[0m\n\u001b[0;32m   1176\u001b[0m             )\n\u001b[1;32m-> 1177\u001b[1;33m         return self._input_request(\n\u001b[0m\u001b[0;32m   1178\u001b[0m             \u001b[0mstr\u001b[0m\u001b[1;33m(\u001b[0m\u001b[0mprompt\u001b[0m\u001b[1;33m)\u001b[0m\u001b[1;33m,\u001b[0m\u001b[1;33m\u001b[0m\u001b[1;33m\u001b[0m\u001b[0m\n\u001b[0;32m   1179\u001b[0m             \u001b[0mself\u001b[0m\u001b[1;33m.\u001b[0m\u001b[0m_parent_ident\u001b[0m\u001b[1;33m[\u001b[0m\u001b[1;34m\"shell\"\u001b[0m\u001b[1;33m]\u001b[0m\u001b[1;33m,\u001b[0m\u001b[1;33m\u001b[0m\u001b[1;33m\u001b[0m\u001b[0m\n",
      "\u001b[1;32m~\\anaconda3\\lib\\site-packages\\ipykernel\\kernelbase.py\u001b[0m in \u001b[0;36m_input_request\u001b[1;34m(self, prompt, ident, parent, password)\u001b[0m\n\u001b[0;32m   1217\u001b[0m             \u001b[1;32mexcept\u001b[0m \u001b[0mKeyboardInterrupt\u001b[0m\u001b[1;33m:\u001b[0m\u001b[1;33m\u001b[0m\u001b[1;33m\u001b[0m\u001b[0m\n\u001b[0;32m   1218\u001b[0m                 \u001b[1;31m# re-raise KeyboardInterrupt, to truncate traceback\u001b[0m\u001b[1;33m\u001b[0m\u001b[1;33m\u001b[0m\u001b[0m\n\u001b[1;32m-> 1219\u001b[1;33m                 \u001b[1;32mraise\u001b[0m \u001b[0mKeyboardInterrupt\u001b[0m\u001b[1;33m(\u001b[0m\u001b[1;34m\"Interrupted by user\"\u001b[0m\u001b[1;33m)\u001b[0m \u001b[1;32mfrom\u001b[0m \u001b[1;32mNone\u001b[0m\u001b[1;33m\u001b[0m\u001b[1;33m\u001b[0m\u001b[0m\n\u001b[0m\u001b[0;32m   1220\u001b[0m             \u001b[1;32mexcept\u001b[0m \u001b[0mException\u001b[0m\u001b[1;33m:\u001b[0m\u001b[1;33m\u001b[0m\u001b[1;33m\u001b[0m\u001b[0m\n\u001b[0;32m   1221\u001b[0m                 \u001b[0mself\u001b[0m\u001b[1;33m.\u001b[0m\u001b[0mlog\u001b[0m\u001b[1;33m.\u001b[0m\u001b[0mwarning\u001b[0m\u001b[1;33m(\u001b[0m\u001b[1;34m\"Invalid Message:\"\u001b[0m\u001b[1;33m,\u001b[0m \u001b[0mexc_info\u001b[0m\u001b[1;33m=\u001b[0m\u001b[1;32mTrue\u001b[0m\u001b[1;33m)\u001b[0m\u001b[1;33m\u001b[0m\u001b[1;33m\u001b[0m\u001b[0m\n",
      "\u001b[1;31mKeyboardInterrupt\u001b[0m: Interrupted by user"
     ]
    }
   ],
   "source": [
    "#Correr cuando todo el proyecto haya acabado\n",
    "\n",
    "def Juego():\n",
    "    turno(TorreInicio())\n",
    "Juego()"
   ]
  },
  {
   "cell_type": "markdown",
   "id": "67b97715",
   "metadata": {},
   "source": [
    "# Proyecto II - Tres en raya"
   ]
  },
  {
   "cell_type": "markdown",
   "id": "faaee52e",
   "metadata": {},
   "source": [
    "Procedamos ahora con el siguiente proyecto, en ese caso programaremos de manera básica el tres en raya. Siendo este representado por una lista de listas que serán las filas del tablero de juego y en vez de cruces circulos y vacíos (Puedes intentar hacer tu propia versión) usaremos el 0 como el blanco, y los número 1 y 2 para representar las casillas tomadas por los jugador 1 y 2 respectivamente.\n",
    "\n",
    "Empezaremos de manera análoga al proyecto anterior preparando el tablero de juego."
   ]
  },
  {
   "cell_type": "markdown",
   "id": "ebf28e34",
   "metadata": {},
   "source": [
    "Cree una funcion TableroInicial() que nos devuelva un tablero con todos 0's"
   ]
  },
  {
   "cell_type": "code",
   "execution_count": 1,
   "id": "339d5794",
   "metadata": {},
   "outputs": [],
   "source": [
    "def TableroInicial():\n",
    "    return [[0,0,0],[0,0,0],[0,0,0]]"
   ]
  },
  {
   "cell_type": "markdown",
   "id": "cd28f959",
   "metadata": {},
   "source": [
    "Ahora crearemos el movimiento básico del juego, cree una función llamada turno_jugador que reciba el jugador, siendo este 1 o 2, fila, columna y un tablero y nos devuelva un nuevo tablero con la nueva casilla puesta tomada por el jugador, debe también comprobar que esa casilla está disponible, si no fuera así avisarlo y volver a iniciar la elección"
   ]
  },
  {
   "cell_type": "code",
   "execution_count": 116,
   "id": "0bc927d1",
   "metadata": {},
   "outputs": [],
   "source": [
    "def turno_jugador(jugador,fila,columna,tablero):\n",
    "    if tablero[fila][columna] == 0:\n",
    "        tablero[fila][columna] = jugador\n",
    "        return tablero\n",
    "    else:\n",
    "        print(\"Lo siento, esa casilla ya esta pillada\")\n",
    "        turno_jugador(jugador,fila,columna,tablero)\n",
    "    "
   ]
  },
  {
   "cell_type": "markdown",
   "id": "4c5fb7ce",
   "metadata": {},
   "source": [
    "Ahora deberíamos comprobar si tras un movimiento este jugador ha ganado, así que crearemos una función que dado un tablero nos devuelva un Booleano que será True si hay alguna raya y False en caso contrario, recuerda mirar las diagonales, filas y columnas\n"
   ]
  },
  {
   "cell_type": "code",
   "execution_count": 83,
   "id": "f51f57b1",
   "metadata": {},
   "outputs": [],
   "source": [
    "#Auxiliar\n",
    "def traspuesta(m):\n",
    "    \n",
    "    return [[fila[i] for fila in m] for i in range(len(m[0]))]\n",
    "\n",
    "def comprobar_tablero(tablero):\n",
    "    #FILAS\n",
    "    filas = []\n",
    "    for fila in tablero:\n",
    "        filas.append(all(map(lambda x: x == fila[0] and x !=0 ,fila )))\n",
    "    #COLUMNAS\n",
    "    columnas = []\n",
    "    for columna in traspuesta(tablero):\n",
    "        columnas.append(all(map(lambda x: x == columna[0]and x !=0,columna )))\n",
    "    #DIAGONALES\n",
    "    D1 = [tablero[i][i] for i in range(3)]\n",
    "    D2 = [tablero[i][-i-1] for i in range(3)]\n",
    "    diagonal1 = all(map(lambda x: x == D1[0] and x !=0,D1 ))\n",
    "    diagonal2 = all(map(lambda x: x == D2[0] and x != 0,D2 ))\n",
    "    return any(filas+columnas+[diagonal1]+[diagonal2])\n",
    "    \n",
    "    \n",
    "        "
   ]
  },
  {
   "cell_type": "code",
   "execution_count": 49,
   "id": "8eac6ed6",
   "metadata": {},
   "outputs": [
    {
     "data": {
      "text/plain": [
       "False"
      ]
     },
     "execution_count": 49,
     "metadata": {},
     "output_type": "execute_result"
    }
   ],
   "source": [
    "comprobar_tablero([[1,1,2],[1,5,1],[2,1,3]])"
   ]
  },
  {
   "cell_type": "markdown",
   "id": "187883c6",
   "metadata": {},
   "source": [
    "En este juego se admite empate, así que crearemos ahora una función que dado un tablero nos deuelva True si ya no es posible rellenarlo más, ten cuidado porque puede que el profesor haya puesto una implementación que ahora entorpezca este ejercicio"
   ]
  },
  {
   "cell_type": "code",
   "execution_count": 110,
   "id": "17c8e601",
   "metadata": {},
   "outputs": [],
   "source": [
    "def comprobar_tablero_lleno(tablero):\n",
    "    return all(map(lambda x: x != 0,[tablero[i][j] for i in range(3) for j in range(3)]))\n",
    "   "
   ]
  },
  {
   "cell_type": "code",
   "execution_count": 112,
   "id": "8483cf01",
   "metadata": {},
   "outputs": [
    {
     "data": {
      "text/plain": [
       "True"
      ]
     },
     "execution_count": 112,
     "metadata": {},
     "output_type": "execute_result"
    }
   ],
   "source": [
    "comprobar_tablero_lleno([[1,1,2],[1,5,1],[2,1,1]])"
   ]
  },
  {
   "cell_type": "markdown",
   "id": "c7953d3e",
   "metadata": {},
   "source": [
    "Aunque ya nos estamos acostumbrando a ver una lista de listas es mejor mostrar el tablero en pantalla de una mejor manera, cree una función que dado un tablero lo represente de una manera más asequible, como es algo arbitrario esta forma os dejo como lo puse yo"
   ]
  },
  {
   "cell_type": "code",
   "execution_count": 64,
   "id": "424e1a97",
   "metadata": {},
   "outputs": [],
   "source": [
    "def pintar_tablero(tablero):\n",
    "    n  = 0\n",
    "    for fila in tablero:\n",
    "        print(fila[0],\"|\",fila[1],\"|\",fila[2])\n",
    "        if n != 2:\n",
    "            print(\"---------\")\n",
    "            n += 1"
   ]
  },
  {
   "cell_type": "code",
   "execution_count": 118,
   "id": "21b99306",
   "metadata": {},
   "outputs": [
    {
     "name": "stdout",
     "output_type": "stream",
     "text": [
      "1 | 1 | 2\n",
      "---------\n",
      "1 | 2 | 1\n",
      "---------\n",
      "2 | 1 | 1\n"
     ]
    }
   ],
   "source": [
    "pintar_tablero([[1,1,2],[1,2,1],[2,1,1]])"
   ]
  },
  {
   "cell_type": "markdown",
   "id": "0f2177cd",
   "metadata": {},
   "source": [
    "Ya lo tenemos todo para poder preparar el juego, si el proyecto anterior lo hiciste por llamada recursiva en este ejercicio no puedes usar la recursividad, si no DEBES usar la recursividad.\n",
    "Suerte"
   ]
  },
  {
   "cell_type": "code",
   "execution_count": 114,
   "id": "ee5299bb",
   "metadata": {},
   "outputs": [],
   "source": [
    "def tres_en_raya():\n",
    "    n = 1\n",
    "    estado = True\n",
    "    print(\"EL jugador 1 será representado con 1\")\n",
    "    print(\"EL jugador 2 será representado con 2\")\n",
    "    print(\"Los huecos serán representados por 0\")\n",
    "    tablero = TableroInicial()\n",
    "    while estado:\n",
    "        jugador = 1 if n%2 != 0 else 2\n",
    "        print(f\"Es el turno del jugador {jugador}\")\n",
    "        print(\"Tablero actual:\")\n",
    "        pintar_tablero(tablero)\n",
    "        fila = int(input(\"Elige fila para colocar \"))\n",
    "        columna = int(input(\"Elige columna para colocar \"))\n",
    "        tablero = turno_jugador(jugador,fila,columna,tablero)\n",
    "        if comprobar_tablero(tablero):\n",
    "            estado = False\n",
    "            pintar_tablero(tablero)\n",
    "            print(f\"Felicidades, ha ganado el jugador {jugador}\")\n",
    "        elif comprobar_tablero_lleno(tablero):\n",
    "            estado = False\n",
    "            pintar_tablero(tablero)\n",
    "            print(\"EMPATE\")\n",
    "        n+=1\n",
    "            \n",
    "                   "
   ]
  },
  {
   "cell_type": "code",
   "execution_count": 115,
   "id": "d10a8496",
   "metadata": {},
   "outputs": [
    {
     "name": "stdout",
     "output_type": "stream",
     "text": [
      "EL jugador 1 será representado con 1\n",
      "EL jugador 2 será representado con 2\n",
      "Los huecos serán representados por 0\n",
      "Es el turno del jugador 1\n",
      "Tablero actual:\n",
      "0 | 0 | 0\n",
      "---------\n",
      "0 | 0 | 0\n",
      "---------\n",
      "0 | 0 | 0\n",
      "Elige fila para colocar 0\n",
      "Elige columna para colocar 0\n",
      "Es el turno del jugador 2\n",
      "Tablero actual:\n",
      "1 | 0 | 0\n",
      "---------\n",
      "0 | 0 | 0\n",
      "---------\n",
      "0 | 0 | 0\n",
      "Elige fila para colocar 0\n",
      "Elige columna para colocar 0\n",
      "Es el turno del jugador 1\n",
      "Tablero actual:\n",
      "2 | 0 | 0\n",
      "---------\n",
      "0 | 0 | 0\n",
      "---------\n",
      "0 | 0 | 0\n",
      "Elige fila para colocar 1\n",
      "Elige columna para colocar 0\n",
      "Es el turno del jugador 2\n",
      "Tablero actual:\n",
      "2 | 0 | 0\n",
      "---------\n",
      "1 | 0 | 0\n",
      "---------\n",
      "0 | 0 | 0\n",
      "Elige fila para colocar 0\n",
      "Elige columna para colocar 1\n",
      "Es el turno del jugador 1\n",
      "Tablero actual:\n",
      "2 | 2 | 0\n",
      "---------\n",
      "1 | 0 | 0\n",
      "---------\n",
      "0 | 0 | 0\n",
      "Elige fila para colocar 1\n",
      "Elige columna para colocar 1\n",
      "Es el turno del jugador 2\n",
      "Tablero actual:\n",
      "2 | 2 | 0\n",
      "---------\n",
      "1 | 1 | 0\n",
      "---------\n",
      "0 | 0 | 0\n",
      "Elige fila para colocar 0\n",
      "Elige columna para colocar 2\n",
      "2 | 2 | 2\n",
      "---------\n",
      "1 | 1 | 0\n",
      "---------\n",
      "0 | 0 | 0\n",
      "Felicidades, ha ganado el jugador 2\n"
     ]
    }
   ],
   "source": [
    "tres_en_raya()"
   ]
  }
 ],
 "metadata": {
  "kernelspec": {
   "display_name": "Python 3 (ipykernel)",
   "language": "python",
   "name": "python3"
  },
  "language_info": {
   "codemirror_mode": {
    "name": "ipython",
    "version": 3
   },
   "file_extension": ".py",
   "mimetype": "text/x-python",
   "name": "python",
   "nbconvert_exporter": "python",
   "pygments_lexer": "ipython3",
   "version": "3.9.13"
  }
 },
 "nbformat": 4,
 "nbformat_minor": 5
}
