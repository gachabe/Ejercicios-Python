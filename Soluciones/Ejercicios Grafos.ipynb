{
 "cells": [
  {
   "cell_type": "code",
   "execution_count": 2,
   "id": "8bbf3686",
   "metadata": {},
   "outputs": [
    {
     "name": "stdout",
     "output_type": "stream",
     "text": [
      "<Grafo de 4 vertices and 4 aristas\n",
      "0: <Vértice 0>\n",
      " 0 <-> 1\n",
      " 0 <-> 3\n",
      "1: <Vértice 1>\n",
      " 1 <-> 2\n",
      "2: <Vértice 2>\n",
      " 2 <-> 3\n",
      "3: <Vértice 3>\n"
     ]
    },
    {
     "data": {
      "text/plain": []
     },
     "execution_count": 2,
     "metadata": {},
     "output_type": "execute_result"
    }
   ],
   "source": [
    "from Pilas import *\n",
    "from Colas import *\n",
    "grafo = Grafo()\n",
    "for i in range(6):\n",
    "    i = Vertice(i)\n",
    "    grafo.añade_vertice(i)\n",
    "grafo.añade_arista(0,1)   \n",
    "grafo.añade_arista(2,3)   \n",
    "grafo.añade_arista(1,2)   \n",
    "grafo.añade_arista(3,5)   \n",
    "grafo.añade_arista(4,2)   \n",
    "grafo.añade_arista(5,1)   \n",
    "grafo\n",
    "\n",
    "grafo1 = Grafo()\n",
    "for i in range(4):\n",
    "    i = Vertice(i)\n",
    "    grafo1.añade_vertice(i)\n",
    "grafo1.añade_arista(0,1)   \n",
    "grafo1.añade_arista(1,2)   \n",
    "grafo1.añade_arista(2,3)   \n",
    "grafo1.añade_arista(3,0)     \n",
    "grafo1\n",
    "\n",
    "grafo1"
   ]
  },
  {
   "cell_type": "code",
   "execution_count": 3,
   "id": "324ff5c7",
   "metadata": {},
   "outputs": [
    {
     "name": "stdout",
     "output_type": "stream",
     "text": [
      "<Grafo de 6 vertices and 6 aristas\n",
      "0: <Vértice 0>\n",
      " 0 <-> 1\n",
      "1: <Vértice 1>\n",
      " 1 <-> 2\n",
      " 1 <-> 5\n",
      "2: <Vértice 2>\n",
      " 2 <-> 3\n",
      " 2 <-> 4\n",
      "3: <Vértice 3>\n",
      " 3 <-> 5\n",
      "4: <Vértice 4>\n",
      "5: <Vértice 5>\n"
     ]
    },
    {
     "data": {
      "text/plain": []
     },
     "execution_count": 3,
     "metadata": {},
     "output_type": "execute_result"
    }
   ],
   "source": [
    "grafo"
   ]
  },
  {
   "cell_type": "markdown",
   "id": "5b7d4f80",
   "metadata": {},
   "source": [
    "1 Crea una función que genera el grafo completo de n nodos"
   ]
  },
  {
   "cell_type": "code",
   "execution_count": 79,
   "id": "c3d4e9e4",
   "metadata": {},
   "outputs": [],
   "source": [
    "def completo(n):\n",
    "    grafo = Grafo()\n",
    "    for i in range(n):\n",
    "        i = Vertice(i)\n",
    "        grafo.añade_vertice(i)\n",
    "    for i in range(n):\n",
    "        for j in range(i,n):\n",
    "            if i !=j:\n",
    "                grafo.añade_arista(i,j)\n",
    "    \n",
    "            \n",
    "    return grafo"
   ]
  },
  {
   "cell_type": "code",
   "execution_count": 81,
   "id": "b424ef8e",
   "metadata": {},
   "outputs": [
    {
     "name": "stdout",
     "output_type": "stream",
     "text": [
      "<Grafo de 5 vertices and 10 aristas\n",
      "0: <Vértice 0>\n",
      " 0 <-> 1\n",
      " 0 <-> 2\n",
      " 0 <-> 3\n",
      " 0 <-> 4\n",
      "1: <Vértice 1>\n",
      " 1 <-> 2\n",
      " 1 <-> 3\n",
      " 1 <-> 4\n",
      "2: <Vértice 2>\n",
      " 2 <-> 3\n",
      " 2 <-> 4\n",
      "3: <Vértice 3>\n",
      " 3 <-> 4\n",
      "4: <Vértice 4>\n"
     ]
    },
    {
     "data": {
      "text/plain": []
     },
     "execution_count": 81,
     "metadata": {},
     "output_type": "execute_result"
    }
   ],
   "source": [
    "completo(5)"
   ]
  },
  {
   "cell_type": "markdown",
   "id": "ab34352b",
   "metadata": {},
   "source": [
    "2 Crea una función que genere un grafo rueda de n nodos"
   ]
  },
  {
   "cell_type": "code",
   "execution_count": 6,
   "id": "25c4ba98",
   "metadata": {},
   "outputs": [],
   "source": [
    "def rueda(n):\n",
    "    grafo = Grafo()\n",
    "    for i in range(n):\n",
    "        i = Vertice(i)\n",
    "        grafo.añade_vertice(i)\n",
    "    # creo el centro de la rueda\n",
    "    for j in range(1,n):\n",
    "        grafo.añade_arista(0,j)\n",
    "        grafo.añade_arista(j-1,j)\n",
    "    grafo.añade_arista(n-1,1)\n",
    "    return grafo\n",
    "    \n",
    "    "
   ]
  },
  {
   "cell_type": "code",
   "execution_count": 5,
   "id": "400e4c76",
   "metadata": {},
   "outputs": [
    {
     "name": "stdout",
     "output_type": "stream",
     "text": [
      "<Grafo de 7 vertices and 12 aristas\n",
      "0: <Vértice 0>\n",
      " 0 <-> 1\n",
      " 0 <-> 2\n",
      " 0 <-> 3\n",
      " 0 <-> 4\n",
      " 0 <-> 5\n",
      " 0 <-> 6\n",
      "1: <Vértice 1>\n",
      " 1 <-> 2\n",
      " 1 <-> 6\n",
      "2: <Vértice 2>\n",
      " 2 <-> 3\n",
      "3: <Vértice 3>\n",
      " 3 <-> 4\n",
      "4: <Vértice 4>\n",
      " 4 <-> 5\n",
      "5: <Vértice 5>\n",
      " 5 <-> 6\n",
      "6: <Vértice 6>\n"
     ]
    },
    {
     "data": {
      "text/plain": []
     },
     "execution_count": 5,
     "metadata": {},
     "output_type": "execute_result"
    }
   ],
   "source": [
    "rueda(7)"
   ]
  },
  {
   "cell_type": "markdown",
   "id": "e70c2748",
   "metadata": {},
   "source": [
    "3 Crea una función que reciba un grafo G, un número i y devuelva el grado del nodo i-ésimo en el grafo G"
   ]
  },
  {
   "cell_type": "code",
   "execution_count": 106,
   "id": "fa6f3b7b",
   "metadata": {},
   "outputs": [],
   "source": [
    "def grado(g,x):\n",
    "    \n",
    "    cont = 0\n",
    "    for i in range(g.n_vertices()):\n",
    "        if g.hay_arista(x,i):\n",
    "            cont += 1\n",
    "    return cont"
   ]
  },
  {
   "cell_type": "code",
   "execution_count": 107,
   "id": "827ac464",
   "metadata": {},
   "outputs": [
    {
     "data": {
      "text/plain": [
       "3"
      ]
     },
     "execution_count": 107,
     "metadata": {},
     "output_type": "execute_result"
    }
   ],
   "source": [
    "grado(grafo,1)"
   ]
  },
  {
   "cell_type": "markdown",
   "id": "62d5ea81",
   "metadata": {},
   "source": [
    "4 Crea una función que reciba un grafo G devuelva un diccionario cuyas claves sean los vértices del grafo G y cuyos valores sean el grado de ese nodo, es decir, el número de aristas que salen de él.\n",
    "\n",
    "A continuación crear otras dos funciones, una que compruebe si existe un camino euleriano (un camino que recorra todos los nodos sin repetirlos, empezando y acabando en nodos distintos) y un ciclo euleriano (un camino euleriano que empiece y acabe en el mismo nodo)."
   ]
  },
  {
   "cell_type": "code",
   "execution_count": 213,
   "id": "5f5f09cc",
   "metadata": {},
   "outputs": [],
   "source": [
    "def grados(g):\n",
    "    dicc = {}\n",
    "    for i in range(g.n_vertices()):\n",
    "        dicc[str(g.obten_vertice(i))] = grado(g,i)\n",
    "    return dicc\n",
    "\n",
    "\n",
    "def camino_euleriano(g):\n",
    "    a = grados(g).values()\n",
    "    return len([x for x in a  if x %2 != 0]) ==2\n",
    "\n",
    "def ciclo_euleriano(g):\n",
    "    Ngrados = grados(g).values()\n",
    "    return all([x%2==0 for x in Ngrados])"
   ]
  },
  {
   "cell_type": "code",
   "execution_count": 128,
   "id": "5861e29c",
   "metadata": {},
   "outputs": [
    {
     "data": {
      "text/plain": [
       "{'<Vértice 0>': 1,\n",
       " '<Vértice 1>': 3,\n",
       " '<Vértice 2>': 3,\n",
       " '<Vértice 3>': 2,\n",
       " '<Vértice 4>': 1,\n",
       " '<Vértice 5>': 2}"
      ]
     },
     "execution_count": 128,
     "metadata": {},
     "output_type": "execute_result"
    }
   ],
   "source": [
    "grados(grafo)"
   ]
  },
  {
   "cell_type": "code",
   "execution_count": 129,
   "id": "494c99ff",
   "metadata": {},
   "outputs": [
    {
     "data": {
      "text/plain": [
       "False"
      ]
     },
     "execution_count": 129,
     "metadata": {},
     "output_type": "execute_result"
    }
   ],
   "source": [
    "camino_euleriano(grafo1)"
   ]
  },
  {
   "cell_type": "markdown",
   "id": "627af85f",
   "metadata": {},
   "source": [
    "5 Un mapa se puede representar mediante un grafo el cual, si dos regiones tienen frontera común su grafo tendrá una arista.\n",
    "Una coloración es un diccionario que a cada nodo le asigna un color, y esta se dirá válida si dos nodos conectados no tienen el mismo color.\n",
    "\n",
    "Crea una función que reciba una coloración y un grafo y compruebe si esta coloración es válida para el grafo"
   ]
  },
  {
   "cell_type": "code",
   "execution_count": 145,
   "id": "b2b3b560",
   "metadata": {},
   "outputs": [],
   "source": [
    "coloracion = {0:\"C\",1:\"B\",2:\"A\",3:\"B\",4:\"A\",5:\"B\",6:\"A\"}\n"
   ]
  },
  {
   "cell_type": "code",
   "execution_count": 150,
   "id": "f1f03fa1",
   "metadata": {},
   "outputs": [],
   "source": [
    "def coloracion_valida(col,g):\n",
    "    return all( [ (all([coloracion[i] != coloracion[j] for i in g.vertices_adyacentes(j)])) for j in range(g.n_vertices())])"
   ]
  },
  {
   "cell_type": "code",
   "execution_count": 151,
   "id": "c5fff68c",
   "metadata": {},
   "outputs": [
    {
     "data": {
      "text/plain": [
       "True"
      ]
     },
     "execution_count": 151,
     "metadata": {},
     "output_type": "execute_result"
    }
   ],
   "source": [
    "coloracion_valida(coloracion,rueda(7))"
   ]
  },
  {
   "cell_type": "markdown",
   "id": "346a843e",
   "metadata": {},
   "source": [
    "6 Crea una función que, dado un grafo, cree una copia de este"
   ]
  },
  {
   "cell_type": "code",
   "execution_count": 4,
   "id": "22bfe5c3",
   "metadata": {},
   "outputs": [],
   "source": [
    "def copia(g):\n",
    "    grafo_copia = Grafo()\n",
    "    for v in grafo.vertices():\n",
    "        grafo_copia.añade_vertice(grafo.obten_vertice(v))\n",
    "    for i, j in g.vertices():\n",
    "        print(i,j)"
   ]
  },
  {
   "cell_type": "code",
   "execution_count": 5,
   "id": "a7a5997b",
   "metadata": {},
   "outputs": [
    {
     "ename": "TypeError",
     "evalue": "cannot unpack non-iterable int object",
     "output_type": "error",
     "traceback": [
      "\u001b[1;31m---------------------------------------------------------------------------\u001b[0m",
      "\u001b[1;31mTypeError\u001b[0m                                 Traceback (most recent call last)",
      "Cell \u001b[1;32mIn[5], line 1\u001b[0m\n\u001b[1;32m----> 1\u001b[0m c \u001b[38;5;241m=\u001b[39m \u001b[43mcopia\u001b[49m\u001b[43m(\u001b[49m\u001b[43mgrafo1\u001b[49m\u001b[43m)\u001b[49m\n\u001b[0;32m      2\u001b[0m c\n",
      "Cell \u001b[1;32mIn[4], line 5\u001b[0m, in \u001b[0;36mcopia\u001b[1;34m(g)\u001b[0m\n\u001b[0;32m      3\u001b[0m \u001b[38;5;28;01mfor\u001b[39;00m v \u001b[38;5;129;01min\u001b[39;00m grafo\u001b[38;5;241m.\u001b[39mvertices():\n\u001b[0;32m      4\u001b[0m     grafo_copia\u001b[38;5;241m.\u001b[39mañade_vertice(grafo\u001b[38;5;241m.\u001b[39mobten_vertice(v))\n\u001b[1;32m----> 5\u001b[0m \u001b[38;5;28;01mfor\u001b[39;00m i, j \u001b[38;5;129;01min\u001b[39;00m g\u001b[38;5;241m.\u001b[39mvertices():\n\u001b[0;32m      6\u001b[0m     \u001b[38;5;28mprint\u001b[39m(i,j)\n",
      "\u001b[1;31mTypeError\u001b[0m: cannot unpack non-iterable int object"
     ]
    }
   ],
   "source": [
    "c = copia(grafo1)\n",
    "c"
   ]
  },
  {
   "cell_type": "markdown",
   "id": "886f30be",
   "metadata": {},
   "source": [
    "7 Crea una función que devuelva un conjunto con todas las aristas de un grafo"
   ]
  },
  {
   "cell_type": "code",
   "execution_count": 194,
   "id": "125a7702",
   "metadata": {},
   "outputs": [],
   "source": [
    "def aristas(g):\n",
    "    s = set()\n",
    "    for i in g.vertices():\n",
    "        for j in g.vertices():\n",
    "            if g.hay_arista(i,j):\n",
    "                s.add((i,j))\n",
    "    return s\n",
    "                "
   ]
  },
  {
   "cell_type": "code",
   "execution_count": 195,
   "id": "c41b0c8f",
   "metadata": {},
   "outputs": [
    {
     "data": {
      "text/plain": [
       "{(0, 1), (0, 3), (1, 0), (1, 2), (2, 1), (2, 3), (3, 0), (3, 2)}"
      ]
     },
     "execution_count": 195,
     "metadata": {},
     "output_type": "execute_result"
    }
   ],
   "source": [
    "aristas(grafo1)"
   ]
  },
  {
   "cell_type": "markdown",
   "id": "3ea9915b",
   "metadata": {},
   "source": [
    "8 Crea una función que reciba un grafo y, si es posible, devuelva una lista con los nodos que formen un camino euleriano"
   ]
  },
  {
   "cell_type": "code",
   "execution_count": 219,
   "id": "2580e126",
   "metadata": {},
   "outputs": [],
   "source": [
    "def generar_euleriano(grafo):\n",
    "    # Inicializar un camino vacío\n",
    "    camino = []\n",
    "    \n",
    "    # Verificar si el grafo tiene al menos un vértice\n",
    "    if grafo.n_vertices() == 0:\n",
    "        return camino\n",
    "\n",
    "    # Verificar si el grafo tiene un grado válido para un camino euleriano\n",
    "    # Es necesario que todos los vértices tengan grado par\n",
    "    if not ciclo_euleriano(grafo):\n",
    "            return camino\n",
    "\n",
    "    # Función auxiliar para recorrer el grafo y encontrar el camino euleriano\n",
    "    def dfs(v, aristas_no_visitadas):\n",
    "        \n",
    "        for u in grafo.vertices_adyacentes(v):\n",
    "            if (v, u) in aristas_no_visitadas or (u, v) in aristas_no_visitadas:\n",
    "                aristas_no_visitadas.remove((v, u))\n",
    "                aristas_no_visitadas.remove((u, v))\n",
    "                dfs(u, aristas_no_visitadas)\n",
    "        camino.append(v)\n",
    "\n",
    "    # Crear una copia de las aristas del grafo\n",
    "    aristas_visitadas = aristas(grafo)\n",
    "\n",
    "    # Iniciar la búsqueda desde el primer vértice\n",
    "    dfs(0, aristas_visitadas)\n",
    "\n",
    "    # Se devuelve en orden inverso, cuidao\n",
    "    return camino\n"
   ]
  },
  {
   "cell_type": "code",
   "execution_count": 221,
   "id": "8c592d9b",
   "metadata": {},
   "outputs": [
    {
     "data": {
      "text/plain": [
       "[0, 3, 2, 1, 0]"
      ]
     },
     "execution_count": 221,
     "metadata": {},
     "output_type": "execute_result"
    }
   ],
   "source": [
    "generar_euleriano(grafo1)"
   ]
  },
  {
   "cell_type": "markdown",
   "id": "b0a76344",
   "metadata": {},
   "source": [
    "9 Crea una funcion que compruebe si un grafo es regular, es decir, todos los nodos tengan el mismo número de vecinos"
   ]
  },
  {
   "cell_type": "code",
   "execution_count": 265,
   "id": "4ce36063",
   "metadata": {},
   "outputs": [],
   "source": [
    "def regular(g):\n",
    "    v = g.vertices()[0]\n",
    "    ej = grado(g,v)\n",
    "    return all([grado(g,x)==ej for x in g.vertices()])"
   ]
  },
  {
   "cell_type": "code",
   "execution_count": 266,
   "id": "2b71bfda",
   "metadata": {},
   "outputs": [
    {
     "data": {
      "text/plain": [
       "True"
      ]
     },
     "execution_count": 266,
     "metadata": {},
     "output_type": "execute_result"
    }
   ],
   "source": [
    "regular(grafo1)"
   ]
  },
  {
   "cell_type": "markdown",
   "id": "d30186aa",
   "metadata": {},
   "source": [
    "10 Crea una funcion llamada esCamino, que reciba una lista númerica y un grafo y compruebe si es posible realizar un camino en le grafo siguiendo los nodos de la lista"
   ]
  },
  {
   "cell_type": "code",
   "execution_count": 280,
   "id": "408783a1",
   "metadata": {},
   "outputs": [],
   "source": [
    "def esCamino(l,g):\n",
    "    if len(l)== 1:\n",
    "        return g.indice_valido(l[0])\n",
    "\n",
    "    else:\n",
    "        if l[0] in g.vertices() and l[1] in g.vertices():\n",
    "            return g.hay_arista(l[0],l[1]) and esCamino(l[1:],g)\n",
    "        else:\n",
    "            return False"
   ]
  },
  {
   "cell_type": "code",
   "execution_count": 285,
   "id": "16dcaf17",
   "metadata": {},
   "outputs": [
    {
     "data": {
      "text/plain": [
       "True"
      ]
     },
     "execution_count": 285,
     "metadata": {},
     "output_type": "execute_result"
    }
   ],
   "source": [
    "camino = [0,1,5]\n",
    "esCamino(camino,grafo)"
   ]
  },
  {
   "cell_type": "markdown",
   "id": "7a7c6341",
   "metadata": {},
   "source": [
    "11 Dar una función que nos diga si una grafo tiene un ciclo. Implementar esto mediante una búsqueda profunda por pilas."
   ]
  },
  {
   "cell_type": "code",
   "execution_count": 16,
   "id": "b29253fd",
   "metadata": {},
   "outputs": [],
   "source": [
    "def tiene_ciclo(grafo):\n",
    "    visitados = [False] * grafo.n_vertices()  # Lista para mantener los vértices visitados\n",
    "    for v in range(grafo.n_vertices()):\n",
    "        if not visitados[v]:\n",
    "            if _tiene_ciclo_dfs(grafo, v, visitados):\n",
    "                return True\n",
    "    return False\n",
    "\n",
    "def _tiene_ciclo_dfs(grafo, vertice, visitados):\n",
    "\n",
    "    pila = Pila()\n",
    "    pila.apila(vertice)# Inicializa la pila con el vértice inicial y su padre (-1 indica que no tiene padre)\n",
    "    actual = vertice\n",
    "    while not pila.esVacia():\n",
    "        anterior = actual\n",
    "        actual= pila.cima()\n",
    "        pila.desapila()\n",
    "        if not visitados[actual]:  # Si el vértice actual no ha sido visitado\n",
    "            visitados[actual] = True  # Marca el vértice como visitado\n",
    "            for adyacente in  [x for x in grafo.vertices_adyacentes(actual) if x != anterior]:\n",
    "                if not visitados[adyacente]:\n",
    "                    pila.apila(adyacente)  # Agrega el vértice adyacente a la pila junto con su padre\n",
    "                else:  # Si el vértice adyacente ya ha sido visitado y no es el padre del vértice actual\n",
    "                    return True  # Se ha encontrado un ciclo\n",
    "    return False\n",
    "\n",
    "\n"
   ]
  },
  {
   "cell_type": "code",
   "execution_count": 17,
   "id": "77c004c6",
   "metadata": {},
   "outputs": [],
   "source": [
    "g = rueda(5)\n",
    "g2 = Grafo()\n",
    "g2.añade_vertice(Vertice(1))\n",
    "g2.añade_vertice(Vertice(2))\n",
    "g2.añade_arista(0,1)"
   ]
  },
  {
   "cell_type": "code",
   "execution_count": 19,
   "id": "26d76d1f",
   "metadata": {},
   "outputs": [
    {
     "data": {
      "text/plain": [
       "True"
      ]
     },
     "execution_count": 19,
     "metadata": {},
     "output_type": "execute_result"
    }
   ],
   "source": [
    "tiene_ciclo(g)"
   ]
  },
  {
   "cell_type": "markdown",
   "id": "609adacc",
   "metadata": {},
   "source": [
    "12 Dar una función que, dado un grafo, nos devuelva un diccionario cuyas claves sean los nodos y cuyos valores sean listas de nodos, de forma que estas listas sean los caminos más largos posibles para cada nodo.\n",
    "\n",
    "Para ellos primero realizar una función auxiliar que, mediante busqueda en anchura por colas, encuentre el vértice más alejado de otro dado."
   ]
  },
  {
   "cell_type": "code",
   "execution_count": 75,
   "id": "7c884fc1",
   "metadata": {},
   "outputs": [],
   "source": [
    "def vertice_mas_lejano(grafo, vertice):\n",
    "    visitados = [False] * grafo.n_vertices()  # Lista para mantener los vértices visitados\n",
    "    distancia = [0] * grafo.n_vertices()  # Lista para mantener la distancia de cada vértice al vértice inicial\n",
    "    cola = Cola()  # Inicializa una cola para el recorrido BFS\n",
    "    cola.inserta(vertice)\n",
    "    visitados[vertice] = True  # Marca el vértice inicial como visitado\n",
    "    while not cola.esVacia():\n",
    "\n",
    "        actual = cola.primero()\n",
    "        cola.resto()# Obtiene el vértice actual de la cola\n",
    "        # Explora los vértices adyacentes al vértice actual\n",
    "        for adyacente in grafo.vertices_adyacentes(actual):\n",
    "            if not visitados[adyacente]:\n",
    "                visitados[adyacente] = True  # Marca el vértice adyacente como visitado\n",
    "                distancia[adyacente] = distancia[actual] + 1  # Actualiza la distancia del vértice adyacente\n",
    "                cola.inserta(adyacente)  # Agrega el vértice adyacente a la cola para explorarlo más tarde\n",
    "\n",
    "    # Encuentra el vértice con la mayor distancia (el más lejano)\n",
    "    max_distancia = max(distancia)\n",
    "    vertice_mas_lejano = distancia.index(max_distancia)\n",
    "    #print(distancia)\n",
    "    \n",
    "    return vertice_mas_lejano\n",
    "\n",
    "def distancias(grafo):\n",
    "    dic = {v:0 for v in grafo.vertices()}\n",
    "    for vertice in grafo.vertices():\n",
    "        dic[vertice] = vertice_mas_lejano(grafo,vertice)\n",
    "    return dic"
   ]
  },
  {
   "cell_type": "code",
   "execution_count": 76,
   "id": "ce87f4dd",
   "metadata": {},
   "outputs": [
    {
     "data": {
      "text/plain": [
       "3"
      ]
     },
     "execution_count": 76,
     "metadata": {},
     "output_type": "execute_result"
    }
   ],
   "source": [
    "vertice_mas_lejano(grafo, 0)"
   ]
  },
  {
   "cell_type": "code",
   "execution_count": 77,
   "id": "b2794155",
   "metadata": {},
   "outputs": [
    {
     "data": {
      "text/plain": [
       "{0: 3, 1: 3, 2: 0, 3: 0, 4: 0, 5: 4}"
      ]
     },
     "execution_count": 77,
     "metadata": {},
     "output_type": "execute_result"
    }
   ],
   "source": [
    "distancias(grafo)"
   ]
  },
  {
   "cell_type": "markdown",
   "id": "7ac20c3b",
   "metadata": {},
   "source": [
    "13 Vamos a recrear el algoritmo del surfista aleatorio. Para ello se dan los siguientes pasos:\n",
    "\n",
    "- Se comienza con una lista vacia\n",
    "- Por cada nodo de un grafo se realiza un surfeo aleatorio, es decir, partiendo del nodo original se escoge un vecino de forma aleatoria y se mueve a él, desde este se realiza otro surfeo aleatorio, y asi 10.000 veces. Cuando se ha terminado el nodo resultante es añadido a la lista.\n",
    "- Devolver la lista.\n",
    "\n",
    "Para poder realizar el movimiento aleatorio os he dejado la funcion movimiento que, dado un grafo y un nodo, devuelve un nodo vecino a este de forma aleatoria.\n"
   ]
  },
  {
   "cell_type": "code",
   "execution_count": 81,
   "id": "488b3a88",
   "metadata": {},
   "outputs": [],
   "source": [
    "from random import choice\n",
    "def movimiento(grafo,nodo):\n",
    "        \n",
    "    return choice([x for x in grafo.vertices_adyacentes(nodo)])"
   ]
  },
  {
   "cell_type": "code",
   "execution_count": 96,
   "id": "7f91af79",
   "metadata": {},
   "outputs": [
    {
     "data": {
      "text/plain": [
       "1"
      ]
     },
     "execution_count": 96,
     "metadata": {},
     "output_type": "execute_result"
    }
   ],
   "source": [
    "movimiento(grafo,2)"
   ]
  },
  {
   "cell_type": "code",
   "execution_count": 118,
   "id": "5dcfc90f",
   "metadata": {},
   "outputs": [],
   "source": [
    "def surfista(grafo):\n",
    "    l = []\n",
    "    for nodo in grafo.vertices():\n",
    "        for _ in range(10000):\n",
    "            nodo = movimiento(grafo,nodo)\n",
    "        l.append(nodo)\n",
    "    return l"
   ]
  },
  {
   "cell_type": "code",
   "execution_count": 123,
   "id": "f5053f8d",
   "metadata": {},
   "outputs": [
    {
     "data": {
      "text/plain": [
       "[2, 3, 2, 1, 1, 0]"
      ]
     },
     "execution_count": 123,
     "metadata": {},
     "output_type": "execute_result"
    }
   ],
   "source": [
    "surfista(grafo)"
   ]
  },
  {
   "cell_type": "markdown",
   "id": "b73f3b66",
   "metadata": {},
   "source": [
    "14 Se define la cercanía del nodo de un un grafo como la suma de las distancias de este nodo a todos los demas. Crea una función que nos devuelva la lista de cercanías de un grafo. Para ello crear una fnción auxliar que dado un grafo y dos nodos, usando colas, nos diga la distancia entre ambos nodos,"
   ]
  },
  {
   "cell_type": "code",
   "execution_count": 142,
   "id": "d7f0264a",
   "metadata": {},
   "outputs": [],
   "source": [
    "def distancia_entre_nodos(grafo, vertice, destino):\n",
    "    visitados = [False] * grafo.n_vertices()  # Lista para mantener los vértices visitados\n",
    "    distancia = [0] * grafo.n_vertices()  # Lista para mantener la distancia de cada vértice al vértice inicial\n",
    "    cola = Cola()  # Inicializa una cola para el recorrido BFS\n",
    "    cola.inserta(vertice)\n",
    "    visitados[vertice] = True  # Marca el vértice inicial como visitado\n",
    "    while not cola.esVacia():\n",
    "\n",
    "        actual = cola.primero()\n",
    "        cola.resto()# Obtiene el vértice actual de la cola\n",
    "        # Explora los vértices adyacentes al vértice actual\n",
    "        for adyacente in grafo.vertices_adyacentes(actual):\n",
    "            if not visitados[adyacente]:\n",
    "                visitados[adyacente] = True  # Marca el vértice adyacente como visitado\n",
    "                distancia[adyacente] = distancia[actual] + 1  # Actualiza la distancia del vértice adyacente\n",
    "                cola.inserta(adyacente)  # Agrega el vértice adyacente a la cola para explorarlo más tarde\n",
    "    return distancia[destino]\n",
    "\n",
    "\n",
    "def distancia(grafo):\n",
    "    l = []\n",
    "    for nodo1 in grafo.vertices():\n",
    "        suma = 0\n",
    "        for nodo2 in grafo.vertices():\n",
    "            suma += distancia_entre_nodos(grafo,nodo1,nodo2)\n",
    "        l.append(suma)\n",
    "    return l"
   ]
  },
  {
   "cell_type": "code",
   "execution_count": 144,
   "id": "fd0793cb",
   "metadata": {},
   "outputs": [
    {
     "data": {
      "text/plain": [
       "3"
      ]
     },
     "execution_count": 144,
     "metadata": {},
     "output_type": "execute_result"
    }
   ],
   "source": [
    "distancia_entre_nodos(grafo,0,4)"
   ]
  },
  {
   "cell_type": "code",
   "execution_count": 145,
   "id": "6dae215d",
   "metadata": {},
   "outputs": [
    {
     "data": {
      "text/plain": [
       "[11, 7, 7, 9, 11, 9]"
      ]
     },
     "execution_count": 145,
     "metadata": {},
     "output_type": "execute_result"
    }
   ],
   "source": [
    "distancia(grafo)"
   ]
  },
  {
   "cell_type": "code",
   "execution_count": null,
   "id": "02a4a1f3",
   "metadata": {},
   "outputs": [],
   "source": []
  },
  {
   "cell_type": "code",
   "execution_count": null,
   "id": "3175c531",
   "metadata": {},
   "outputs": [],
   "source": []
  },
  {
   "cell_type": "code",
   "execution_count": 1,
   "id": "2bf42188",
   "metadata": {},
   "outputs": [],
   "source": [
    "class Vertice(object):       \n",
    "    def __init__(self, nombre):\n",
    "        self.nombre = nombre      \n",
    "\n",
    "    def __str__(self):       \n",
    "        return '<Vértice {}>'.format(self.nombre)\n",
    "    \n",
    "    def __repr__(self):\n",
    "        return str(self)\n",
    "\n",
    "\n",
    "class Grafo(object):\n",
    "\n",
    "    def __init__(self):     \n",
    "        self._vertices = []  \n",
    "        self._mat_ady = {}    \n",
    "\n",
    "    def n_vertices(self):   \n",
    "        return len(self._vertices) \n",
    "\n",
    "    def n_aristas(self):       \n",
    "        return len(self._mat_ady) // 2\n",
    "\n",
    "    def __str__(self):      \n",
    "        nV = self.n_vertices()\n",
    "        nA = self.n_aristas()\n",
    "        return f\"<Grafo de {nV} vertices and {nA} aristas\"\n",
    "    \n",
    "    def __repr__(self):\n",
    "        self.imprime()\n",
    "        return \"\"\n",
    "\n",
    "    def añade_vertice(self, v): \n",
    "        self._vertices.append(v) \n",
    "\n",
    "    def indice_valido(self, i): \n",
    "        if i < 0 or self.n_vertices() <= i: \n",
    "            raise IndexError   \n",
    "        return True          \n",
    "\n",
    "    def obten_vertice(self, i):  \n",
    "        if self.indice_valido(i): \n",
    "            return self._vertices[i]\n",
    "\n",
    "    def añade_arista(self, i, j): \n",
    "        self.indice_valido(i)   \n",
    "        self.indice_valido(j)    \n",
    "        if i == j:            \n",
    "            raise ValueError   \n",
    "        self._mat_ady[i, j] = 1 \n",
    "        self._mat_ady[j, i] = 1 \n",
    "\n",
    "    def hay_arista(self, i, j): \n",
    "        self.indice_valido(i)    \n",
    "        self.indice_valido(j)    \n",
    "        return self._mat_ady.get((i, j), False)     \n",
    "\n",
    "    # Generador de los vértices\n",
    "    def vertices(self):      \n",
    "        return range(self.n_vertices())\n",
    "\n",
    "\n",
    "    # Generador de los vértices adyacentes a uno dado   \n",
    "    def vertices_adyacentes(self, n):   \n",
    "        self.indice_valido(n)    \n",
    "        for j in self.vertices(): \n",
    "            if j != n and self.hay_arista(n, j): \n",
    "                yield j         \n",
    "\n",
    "    # Función de impresión del grafo (informa de sus vértices y aristas) \n",
    "    def imprime(self,prefix=''):    \n",
    "        print(f'{prefix}{self}')                                   \n",
    "        for v in self.vertices():                                  \n",
    "            print(f'{prefix}{v}:',self.obten_vertice(v))        \n",
    "            for k in range(v+ 1, self.n_vertices()):           \n",
    "                if self.hay_arista(v, k):  \n",
    "                    print(prefix,self._vertices[v].nombre,'<->',self._vertices[k].nombre)"
   ]
  }
 ],
 "metadata": {
  "kernelspec": {
   "display_name": "Python 3 (ipykernel)",
   "language": "python",
   "name": "python3"
  },
  "language_info": {
   "codemirror_mode": {
    "name": "ipython",
    "version": 3
   },
   "file_extension": ".py",
   "mimetype": "text/x-python",
   "name": "python",
   "nbconvert_exporter": "python",
   "pygments_lexer": "ipython3",
   "version": "3.9.13"
  }
 },
 "nbformat": 4,
 "nbformat_minor": 5
}
