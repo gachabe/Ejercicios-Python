{
 "cells": [
  {
   "cell_type": "markdown",
   "id": "837bd6e4",
   "metadata": {},
   "source": [
    "# Ejercicio 1"
   ]
  },
  {
   "cell_type": "markdown",
   "id": "dc21e17d",
   "metadata": {},
   "source": [
    "Crea la clase Producto que recibirá como argumentos el nombre del producto y su precio, para ambos atributos crea el setter y getter correspondientes. Además del método str y repr."
   ]
  },
  {
   "cell_type": "code",
   "execution_count": 1,
   "id": "28fe296b",
   "metadata": {},
   "outputs": [],
   "source": [
    "class Producto:\n",
    "    def __init__(self, nombre, precio):\n",
    "        self.nombre = nombre\n",
    "        self.precio = precio\n",
    "        \n",
    "    \n",
    "    @property\n",
    "    def nombre(self):\n",
    "        return self._nombre\n",
    "    \n",
    "    @nombre.setter\n",
    "    def nombre(self, nombre):\n",
    "        if not nombre:\n",
    "            raise ValueError(\"El nombre no puede estar vacío\")\n",
    "        self._nombre = nombre\n",
    "    \n",
    "    @property\n",
    "    def precio(self):\n",
    "        return self._precio\n",
    "    \n",
    "    @precio.setter\n",
    "    def precio(self, precio):\n",
    "        if precio <= 0:\n",
    "            raise ValueError(\"El precio debe ser positivo\")\n",
    "        self._precio = precio\n",
    "\n",
    "    def __str__(self):\n",
    "        return f\"{self.nombre} - ${self.precio} \"\n",
    "\n",
    "    def __repr__(self):\n",
    "        return str(self.nombre)\n",
    "\n"
   ]
  },
  {
   "cell_type": "code",
   "execution_count": 2,
   "id": "fcb0f4aa",
   "metadata": {},
   "outputs": [
    {
     "data": {
      "text/plain": [
       "'asd'"
      ]
     },
     "execution_count": 2,
     "metadata": {},
     "output_type": "execute_result"
    }
   ],
   "source": [
    "A = Producto(\"asd\",27)\n",
    "A.nombre\n",
    "    \n"
   ]
  },
  {
   "cell_type": "markdown",
   "id": "0b821219",
   "metadata": {},
   "source": [
    "# Ejercicio 2"
   ]
  },
  {
   "cell_type": "markdown",
   "id": "2c95ef11",
   "metadata": {},
   "source": [
    "Crea la clase Cliente, que recibirá como argumento su nombre y tendrá como atributos su nombre y el carrito de la compra que será, inicialmente, un diccionario vacio. Para estos dos atributos crea los setter y getters correspondientes. Además:\n",
    "\n",
    "- Crea un método \"añade_al_carrito\" que recibirá un objeto de la clase Producto y la cantidad de este y lo introducirá al carrito\n",
    "- Crea un método \"limpiar_carrito\" que reinicia el carrito volviendo a ser un diccionario vacio."
   ]
  },
  {
   "cell_type": "code",
   "execution_count": 15,
   "id": "45e3e4f9",
   "metadata": {},
   "outputs": [],
   "source": [
    "class Cliente:\n",
    "    def __init__(self, nombre):\n",
    "        self.nombre = nombre\n",
    "        self.carrito = {}\n",
    "    \n",
    "    @property\n",
    "    def nombre(self):\n",
    "        return self._nombre\n",
    "    \n",
    "    @nombre.setter\n",
    "    def nombre(self, nombre):\n",
    "        if not nombre:\n",
    "            raise ValueError(\"El nombre no puede estar vacío\")\n",
    "        self._nombre = nombre\n",
    "    \n",
    "    @property\n",
    "    def carrito(self):\n",
    "        return self._carrito\n",
    "#     @property POR HACER \n",
    "#     def coste(self):\n",
    "#         return Suma(self.carrito)\n",
    "    @carrito.setter\n",
    "    def carrito(self, carrito):\n",
    "        if not isinstance(carrito, dict):\n",
    "            raise ValueError(\"El carrito debe ser un diccionario\")\n",
    "        self._carrito = carrito\n",
    "\n",
    "    def añadir_al_carrito(self, producto, cantidad):\n",
    "        if cantidad <= 0:\n",
    "            raise ValueError(\"La cantidad debe ser positiva\")\n",
    "        if producto in self.carrito:\n",
    "            self.carrito[producto] += cantidad\n",
    "        else:\n",
    "            self.carrito[producto] = cantidad\n",
    "\n",
    "    def vaciar_carrito(self):\n",
    "        self.carrito.clear()\n",
    "        # self.carrito = {}\n",
    "\n",
    "    def __str__(self):\n",
    "        return f\"Cliente: {self.nombre}, Carrito: {self.carrito}\"\n"
   ]
  },
  {
   "cell_type": "markdown",
   "id": "4f4e34e9",
   "metadata": {},
   "source": [
    "# Ejercicio 3"
   ]
  },
  {
   "cell_type": "markdown",
   "id": "ff5cf31b",
   "metadata": {},
   "source": [
    "Crea la clase Inventario que no recibirá ningún argumento y como parámetro tendrá stock, que será un diccionario, inicialmente vacio, cuyas claves son los articulos y cuyos valores las cantidades en stock de estos. Crea el método str de esta clase. Además:\n",
    "\n",
    "- Crea el método \"agrega_producto\" que recibirá un Producto nuevo y una cantidad y lo añadirá al stock, si ya hay producto de ese elemento aumentará la cantidad, si no, creará un valor nuevo en el diccionario.\n",
    "- Crea el método \"actualiza_stock\" que recibirá un Producto y una cantidad y cambiará el valor de ese producto en el diccionario stock por esa cantidad\n",
    "- Crea el método \"verificar_disponibilidad\" que reibirá un Producto y una cantidad y comprobará si hay, al menos, esa cantidad de ese Producto."
   ]
  },
  {
   "cell_type": "code",
   "execution_count": null,
   "id": "810ced80",
   "metadata": {},
   "outputs": [],
   "source": [
    "\n",
    "class Inventario:\n",
    "    def __init__(self):\n",
    "        self.productos = {}\n",
    "    \n",
    "    def agregar_producto(self, producto, cantidad):\n",
    "        if isinstance(producto,Producto):\n",
    "            if producto in self.productos:\n",
    "                self.productos[producto] += cantidad\n",
    "            else:\n",
    "                self.productos[producto] = cantidad\n",
    "        else:\n",
    "            raise Exception(\"eso no era un producto\")\n",
    "    \n",
    "    def actualizar_stock(self, producto, cantidad):\n",
    "        if cantidad < 0:\n",
    "            raise ValueError(\"La cantidad no puede ser negativa\")\n",
    "        self.productos[producto] = cantidad\n",
    "    \n",
    "    def verificar_disponibilidad(self, producto, cantidad):\n",
    "        return self.productos.get(producto, 0) >= cantidad\n",
    "\n",
    "    def __str__(self):\n",
    "        return f\"Inventario: {self.productos}\""
   ]
  },
  {
   "cell_type": "markdown",
   "id": "32264f38",
   "metadata": {},
   "source": [
    "# Ejercicio 4"
   ]
  },
  {
   "cell_type": "markdown",
   "id": "c8823ab0",
   "metadata": {},
   "source": [
    "Crea una clase SistemaDeVentas que reciba como argumento un Inventario y tenga como parámetros el inventario y una lista de clientes que será inicialmente vacia. Crea el método str. Además:\n",
    "\n",
    "- Crea un método \"agregar_cliente\" que recibirá un Cliente y lo añadirá a la lista de clientes.\n",
    "- Crea un método \"Procesar compra\" que recibirá como argumento un Cliente y gestionará la compra de su carrito, es decir, comprobará que en su inventario hay suficiente stock de cada producto y, de no ser así, devolverá un ValueError. En caso de si poderse realizar la compra devolverá la cuenta y vaciará el carrito del cliente."
   ]
  },
  {
   "cell_type": "code",
   "execution_count": null,
   "id": "b4dfb553",
   "metadata": {},
   "outputs": [],
   "source": [
    "\n",
    "\n",
    "class SistemaDeVentas:\n",
    "    def __init__(self, inventario):\n",
    "        self.clientes = []\n",
    "        self.inventario = inventario\n",
    "    \n",
    "    def agregar_cliente(self, cliente):\n",
    "        if not isinstance(cliente, Cliente):\n",
    "            raise ValueError(\"Solo se pueden agregar objetos de tipo Cliente\")\n",
    "        self.clientes.append(cliente)\n",
    "    \n",
    "    def procesar_compra(self, cliente):\n",
    "        total = 0\n",
    "        for producto, cantidad in cliente.carrito.items():\n",
    "            if self.inventario.verificar_disponibilidad(producto, cantidad):\n",
    "                self.inventario.productos[producto] -= cantidad\n",
    "                total += producto.precio * cantidad\n",
    "            else:\n",
    "                raise ValueError(f\"No hay suficiente stock de {producto.nombre}\")\n",
    "        cliente.vaciar_carrito()\n",
    "        return total\n",
    "\n",
    "    def __str__(self):\n",
    "        return f\"Sistema de Ventas: Clientes: {self.clientes}, Inventario: {self.inventario}\"\n",
    "\n"
   ]
  },
  {
   "cell_type": "markdown",
   "id": "1319f1c4",
   "metadata": {},
   "source": [
    "## Comprueba aqui tus soluciones"
   ]
  },
  {
   "cell_type": "code",
   "execution_count": 9,
   "id": "ef6da027",
   "metadata": {},
   "outputs": [
    {
     "name": "stdout",
     "output_type": "stream",
     "text": [
      "Total a pagar por Juan: $1540\n",
      "Inventario: {Laptop: 9, Mouse: 48, Teclado: 30}\n"
     ]
    }
   ],
   "source": [
    "# Prueba el sistema de ventas\n",
    "try:\n",
    "    # Crear productos\n",
    "    producto1 = Producto(\"Laptop\", 1500)\n",
    "    producto2 = Producto(\"Mouse\", 20)\n",
    "    producto3 = Producto(\"Teclado\", 30)\n",
    "    \n",
    "    # Crear inventario y agregar productos\n",
    "    inventario = Inventario()\n",
    "    inventario.agregar_producto(producto1, 10)\n",
    "    inventario.agregar_producto(producto2, 50)\n",
    "    inventario.agregar_producto(producto3, 30)\n",
    "    \n",
    "    # Crear sistema de ventas\n",
    "    sistema = SistemaDeVentas(inventario)\n",
    "    \n",
    "    # Crear cliente y agregar al sistema\n",
    "    cliente = Cliente(\"Juan\")\n",
    "    sistema.agregar_cliente(cliente)\n",
    "    \n",
    "    # Añadir productos al carrito del cliente\n",
    "    cliente.añadir_al_carrito(producto1, 1)\n",
    "    cliente.añadir_al_carrito(producto2, 2)\n",
    "    \n",
    "    # Procesar compra del cliente\n",
    "    total = sistema.procesar_compra(cliente)\n",
    "    print(f\"Total a pagar por {cliente.nombre}: ${total}\")\n",
    "\n",
    "    # Mostrar inventario después de la compra\n",
    "    print(inventario)\n",
    "    \n",
    "except ValueError as e:\n",
    "    print(e)\n"
   ]
  }
 ],
 "metadata": {
  "kernelspec": {
   "display_name": "Python 3 (ipykernel)",
   "language": "python",
   "name": "python3"
  },
  "language_info": {
   "codemirror_mode": {
    "name": "ipython",
    "version": 3
   },
   "file_extension": ".py",
   "mimetype": "text/x-python",
   "name": "python",
   "nbconvert_exporter": "python",
   "pygments_lexer": "ipython3",
   "version": "3.9.13"
  }
 },
 "nbformat": 4,
 "nbformat_minor": 5
}
