{
 "cells": [
  {
   "cell_type": "markdown",
   "id": "2233384e",
   "metadata": {
    "id": "2233384e"
   },
   "source": [
    "Un concensionario nos ha llamado para crear un registro de sus ventas, empezaremos creando una manera de llevar el inventario de las motos que hay. Crea una clase llamada motocicleta que tenga lo siguiente:\n",
    "- matricula\n",
    "- número de ruedas (podría ser un triciclo)\n",
    "- marca\n",
    "- color\n",
    "- tanque (lleno, medio, vacío)\n",
    "\n",
    "\n",
    "Cuando un valor pueda ser predefinido haz que sea el valor predeterminado"
   ]
  },
  {
   "cell_type": "code",
   "execution_count": 1,
   "id": "06d6dd75",
   "metadata": {
    "executionInfo": {
     "elapsed": 197,
     "status": "ok",
     "timestamp": 1693816283162,
     "user": {
      "displayName": "Gabriel ChavesBenítez",
      "userId": "10155876556175710393"
     },
     "user_tz": -120
    },
    "id": "06d6dd75"
   },
   "outputs": [],
   "source": [
    "#Ejercicio 1\n",
    "class moto:\n",
    "    def __init__(self,matricula,marca,color, tanque= \"lleno\",ruedas = 2):\n",
    "        self.matricula = matricula\n",
    "        self.ruedas = ruedas\n",
    "        self.color = color\n",
    "        self.marca = marca\n",
    "        if tanque in [\"lleno\", \"medio\",\"vacio\"]:\n",
    "            self.tanque = tanque\n",
    "        else:\n",
    "            raise Exception(\"Valor no válido\")\n",
    "            #Ejercicio 2\n",
    "    def arrancar(self):\n",
    "            if self.tanque == \"medio\":\n",
    "                print(\"Brum brum\")\n",
    "                self.tanque = \"vacio\"\n",
    "\n",
    "            elif self.tanque == \"lleno\":\n",
    "                print(\"Brum brum\")\n",
    "                self.tanque = \"medio\"\n",
    "    def repostar(self):\n",
    "        self.tanque = \"lleno\"\n",
    "        return\n",
    "\n",
    "\n",
    "\n",
    "\n",
    "moto1 = moto(\"123\",\"toyota\",\"verde\")\n"
   ]
  },
  {
   "cell_type": "code",
   "execution_count": 2,
   "id": "e73ad787",
   "metadata": {
    "id": "e73ad787",
    "outputId": "998b315c-409f-4d55-9778-10782bba52c3"
   },
   "outputs": [
    {
     "name": "stdout",
     "output_type": "stream",
     "text": [
      "lleno\n",
      "Brum brum\n"
     ]
    }
   ],
   "source": [
    "print(moto1.tanque)\n",
    "moto1.arrancar()"
   ]
  },
  {
   "cell_type": "markdown",
   "id": "aaa46115",
   "metadata": {
    "id": "aaa46115"
   },
   "source": [
    "Podría ser que algún cliente quiera probar una de las motos, crea un método que sea arrancar y, si tiene gasolina la moto, de una muestra que esta encendida, pero al ser probada debera pasar a tener menos gasolina, es decir, si esta llena pasa a medio y medio a vacia.\n",
    "De aqui podemos deducir que podría ser necesario repostar las motos, crea este metodo que nos rellene cualquier tanque al tope"
   ]
  },
  {
   "cell_type": "markdown",
   "id": "39e2d43a",
   "metadata": {
    "id": "39e2d43a"
   },
   "source": [
    "# Grupo de las matrices"
   ]
  },
  {
   "cell_type": "markdown",
   "id": "a3ebf00a",
   "metadata": {
    "id": "a3ebf00a"
   },
   "source": [
    "Definiremos ahora de forma mas o menos formal el grupo de las matrices de orden 2 con determinante no nulo, empezaremos creando la clase, esto será una clase que reciba 4 elementos a,b,c,d  que son los cuatro componente de nuestra matriz"
   ]
  },
  {
   "cell_type": "code",
   "execution_count": 8,
   "id": "f5f203d6",
   "metadata": {
    "id": "f5f203d6"
   },
   "outputs": [],
   "source": [
    "class matriz2:\n",
    "    def __init__(self,a,b,c,d):\n",
    "        if a*d -c*b !=0:\n",
    "            self.a=a\n",
    "            self.b=b\n",
    "            self.c=c\n",
    "            self.d=d\n",
    "        else:\n",
    "            raise Exception(\"Elementos no válidos\")\n",
    "    def __str__(self):\n",
    "        return \"(\"+str(self.a)+str(self.b)+\")\"+\"\\n\"+\"(\"+str(self.c)+str(self.d)+\")\"\n",
    "    def __repr__(self):\n",
    "        return str(self)\n",
    "    \n",
    "    def __add__(self,m2):\n",
    "        return matriz2(self.a+m2.a,self.b+m2.b,self.c+m2.c,self.d+m2.d)\n",
    "    \n",
    "        \n",
    "    \n",
    "\n"
   ]
  },
  {
   "cell_type": "code",
   "execution_count": 9,
   "id": "25409c43",
   "metadata": {
    "id": "25409c43",
    "outputId": "27184df6-c44b-40e7-895b-31e131638b9c"
   },
   "outputs": [
    {
     "data": {
      "text/plain": [
       "(12)\n",
       "(11)"
      ]
     },
     "execution_count": 9,
     "metadata": {},
     "output_type": "execute_result"
    }
   ],
   "source": [
    "M1 =matriz2(1,2,1,1)\n",
    "M2 = matriz2(1,2,3,4)\n",
    "\n",
    "M1"
   ]
  },
  {
   "cell_type": "code",
   "execution_count": 10,
   "id": "755e8dc9",
   "metadata": {
    "id": "755e8dc9",
    "outputId": "5181ed26-1f8e-4f5f-d6ee-ce78921d10b4"
   },
   "outputs": [
    {
     "data": {
      "text/plain": [
       "'(12)\\n(11)'"
      ]
     },
     "execution_count": 10,
     "metadata": {},
     "output_type": "execute_result"
    }
   ],
   "source": [
    "str(M1)"
   ]
  },
  {
   "cell_type": "code",
   "execution_count": null,
   "id": "5f15a22d",
   "metadata": {
    "id": "5f15a22d"
   },
   "outputs": [],
   "source": []
  },
  {
   "cell_type": "code",
   "execution_count": null,
   "id": "8343a9a0",
   "metadata": {
    "id": "8343a9a0",
    "outputId": "e3be197e-0aab-4f7b-d70a-641c3b082e33"
   },
   "outputs": [
    {
     "data": {
      "text/plain": [
       "(24)\n",
       "(45)"
      ]
     },
     "execution_count": 138,
     "metadata": {},
     "output_type": "execute_result"
    }
   ],
   "source": [
    "M1+M2"
   ]
  },
  {
   "cell_type": "markdown",
   "id": "6058a180",
   "metadata": {
    "id": "6058a180"
   },
   "source": [
    "Ahora tenemos que hacer que las matrices se puedan ver de forma comoda usa el metodo magico \"__str__\" para que se muestre la matriz de forma cuadrada"
   ]
  },
  {
   "cell_type": "markdown",
   "id": "7e3d79a5",
   "metadata": {
    "id": "7e3d79a5"
   },
   "source": [
    "Como habreis visto aun usando el metodo __str__ sigue sin verse, esto es porque ese metodo solo funcion cuando le digamos que la matriz es un string, pero no se lo hemos dicho, para arreglar esto usaremos el metodo __repr__"
   ]
  },
  {
   "cell_type": "markdown",
   "id": "e6af04c0",
   "metadata": {
    "id": "e6af04c0"
   },
   "source": [
    "Ya puedo representarlas de forma comoda veamos que ocurre con la suma"
   ]
  },
  {
   "cell_type": "markdown",
   "id": "d13dbdf4",
   "metadata": {
    "id": "d13dbdf4"
   },
   "source": [
    "A partir de ahora, crea los metodos para multiplicar matrices, hallar sus inversas y sus traspuestas. Puede que mas adelante retomemos este ejercicio con otro tipo de matrices..."
   ]
  },
  {
   "cell_type": "markdown",
   "id": "06892132",
   "metadata": {},
   "source": [
    "# Jugando con Dados"
   ]
  },
  {
   "cell_type": "markdown",
   "id": "da669f07",
   "metadata": {},
   "source": [
    "Para el siguiente ejercicio tienes que crear dos clases:\n",
    "\n",
    "- La primera se llamará \"Dado\", esta clase recibirá el número de caras del dado. Crea para esta clase un método llamado lanzar que \"tire\" una vez este dado. Debido a que no hemos visto aún como generar números aleatorios os dejo la función aleatorio(n) que devuelve un entero aleatorio entre 1 y n cada vez que se le llama.\n",
    "\n",
    "- Para el apartado dos crea ahora la clase Conjunto_Dados. Esta clase recibirá una lista de Dados. Para ellos en el init debes comprobar que todos los elementos que le pases en la lista son instancias de la clase Dado. Una vez hecho esto crea los siguientes métodos:\n",
    "            - lanzar: Devuelve una lista de tiradas de nuestro conjunto de Dados.\n",
    "            - maximo: Simula una tirada mediante el método anterior y nos devuelve el máximo valor.\n",
    "            - minimo: Análogo al caso anterior\n",
    "            - aumento: Este método recibirá, aparte obviamente de self, un entero, entonces simula una tirada sumándole a cada valor de la tirada el valor introducido.\n",
    "             - Une: Este método recibirá una instancia de un Dado y lo añadirá a nuestro Conjunto_Dados"
   ]
  },
  {
   "cell_type": "code",
   "execution_count": 11,
   "id": "52727690",
   "metadata": {},
   "outputs": [],
   "source": [
    "from random import randint\n",
    "def aleatorio(n):\n",
    "    return randint(1,n)"
   ]
  },
  {
   "cell_type": "code",
   "execution_count": 43,
   "id": "1f9ef29d",
   "metadata": {},
   "outputs": [
    {
     "data": {
      "text/plain": [
       "False"
      ]
     },
     "execution_count": 43,
     "metadata": {},
     "output_type": "execute_result"
    }
   ],
   "source": [
    "A = 2\n",
    "isinstance(A,float)"
   ]
  },
  {
   "cell_type": "code",
   "execution_count": 46,
   "id": "36b16a81",
   "metadata": {},
   "outputs": [
    {
     "data": {
      "text/plain": [
       "[<__main__.Dado at 0x226a34b3b20>,\n",
       " <__main__.Dado at 0x226a35980a0>,\n",
       " <__main__.Dado at 0x226a1ef5e50>,\n",
       " <__main__.Dado at 0x226a3650370>]"
      ]
     },
     "execution_count": 46,
     "metadata": {},
     "output_type": "execute_result"
    }
   ],
   "source": [
    "class Dado:\n",
    "    def __init__(self,Ncaras):\n",
    "        self.Ncaras = Ncaras\n",
    "    \n",
    "    def lanzar(self):\n",
    "        return aleatorio(self.Ncaras)\n",
    "      \n",
    "class Conjunto_Dados():\n",
    "    def __init__(self,lista_dados):\n",
    "        if all([isinstance(x,Dado) for x in lista_dados]):\n",
    "            self.lista_dados=lista_dados\n",
    "        else:\n",
    "            raise Exception(\"Esos no eran dados\")\n",
    "    \n",
    "    def lanzar =[]\n",
    "        for i in self.lista_dados:\n",
    "            lista.append(i.lanzar())\n",
    "        return lista\n",
    "    \n",
    "    def maximo(self):\n",
    "        return max(self.lanzar())\n",
    "    \n",
    "    def minimo(self):\n",
    "        return min(self.lanzar())\n",
    "    \n",
    "    def aumento(self,aum):\n",
    "        return [x+aum for x in self.lanzar()]\n",
    "    def une(self,dado):\n",
    "        if isinstance(dado,Dado):\n",
    "            self.lista_dados.append(dado)\n",
    "    \n",
    "\n",
    "        \n",
    "\n",
    "A = Dado(6)\n",
    "B = Dado(6)\n",
    "C = Dado(6)\n",
    "D = Conjunto_Dados([A,B,C])\n",
    "E = Dado(6)\n",
    "D.une(E)\n",
    "D.lista_dados"
   ]
  },
  {
   "cell_type": "code",
   "execution_count": 49,
   "id": "55825971",
   "metadata": {},
   "outputs": [
    {
     "data": {
      "text/plain": [
       "[7, 8, 3, 8]"
      ]
     },
     "execution_count": 49,
     "metadata": {},
     "output_type": "execute_result"
    }
   ],
   "source": [
    "D.aumento(2)"
   ]
  },
  {
   "cell_type": "markdown",
   "id": "12e871af",
   "metadata": {
    "id": "12e871af"
   },
   "source": [
    "# Árboles Binarios - Recursión"
   ]
  },
  {
   "cell_type": "markdown",
   "id": "f8895ead",
   "metadata": {
    "id": "f8895ead"
   },
   "source": [
    "Los árboles binarios son un tipo de representación de datos que en cada nodo puede tener o bien 2 o bien 0 hijos, por simplicidad consideremos los árboles que en cada nodo pueden tener cualquier tipo de valor (¿cómo se haría si no fuese válido cualquier valor?) y realizaremos la representación mediante recursión de la siguiente forma ![image.png](attachment:image.png)\n",
    "\n",
    "El árbol anterior lo expresaremos como A(4,A(3,A(1),A(6)),A(8,A(7),A(13)))\n",
    "Es decir, cada subárbol se denotará por A(nodo,Aizq,Ader)"
   ]
  },
  {
   "cell_type": "code",
   "execution_count": null,
   "id": "edd46a06",
   "metadata": {
    "id": "edd46a06"
   },
   "outputs": [],
   "source": [
    "class arbol:\n",
    "    numero = 0\n",
    "\n",
    "    def __init__(self,nodo,izq=None,der=None):\n",
    "\n",
    "\n",
    "        if (izq == None and der != None) or (der == None and izq != None):\n",
    "            raise Exception(\"Error, ese árbol no era binario\")\n",
    "        elif izq == None  and der == None:\n",
    "            self.nodo = nodo\n",
    "            self.izq = None\n",
    "            self.der = None\n",
    "        elif isinstance(izq,arbol) and isinstance(der,arbol) :\n",
    "            self.nodo = nodo\n",
    "            self.izq = izq\n",
    "            self.der = der\n",
    "        arbol.numero += 1\n",
    "\n",
    "\n",
    "\n",
    "    def __str__(self):\n",
    "        if self.izq == None:\n",
    "            return \"A\" +\"(\"+ str(self.nodo) + \")\"\n",
    "        else:\n",
    "             return f\"A({self.nodo},{str(self.izq)},{str(self.der)})\"\n",
    "\n",
    "    def __repr__(self):\n",
    "        if self.izq == None:\n",
    "            return \"A\" +\"(\"+str(self.nodo)+\")\"\n",
    "        else:\n",
    "            return f\"A({self.nodo},{str(self.izq)},{str(self.der)})\"\n",
    "\n",
    "    def profundidad(self):\n",
    "        prof = 0\n",
    "        if self.izq == None:\n",
    "            return prof\n",
    "        else:\n",
    "            return 1 + max([self.izq.profundidad(),self.der.profundidad()])\n",
    "    def nodos(self):\n",
    "        nodos = []\n",
    "        if self.izq == None:\n",
    "            return (nodos + [self.nodo])\n",
    "        else:\n",
    "             return nodos + [self.nodo] + self.izq.nodos() + self.der.nodos()\n",
    "\n",
    "    @classmethod\n",
    "    def cantidad(cls):  #cls es la clase\n",
    "        print(cls.numero)\n",
    "\n",
    "\n",
    "\n"
   ]
  },
  {
   "cell_type": "code",
   "execution_count": null,
   "id": "c4fb8cd4",
   "metadata": {
    "id": "c4fb8cd4",
    "outputId": "6637cb1c-0d18-436a-f9d9-bb4b2a292f0b"
   },
   "outputs": [
    {
     "name": "stdout",
     "output_type": "stream",
     "text": [
      "20\n"
     ]
    }
   ],
   "source": [
    "A = arbol(2,arbol(3),arbol(5))\n",
    "ejemplo =arbol(4, arbol(3,arbol(1),arbol(6)),arbol(8,arbol(7),arbol(13)))\n",
    "(ejemplo.profundidad())\n",
    "arbol.cantidad()"
   ]
  },
  {
   "cell_type": "markdown",
   "id": "7ac77e55",
   "metadata": {},
   "source": [
    "# Tribu"
   ]
  },
  {
   "cell_type": "markdown",
   "id": "cb50b115",
   "metadata": {},
   "source": [
    "Se ha descubierto una nueva tribu en el amazonas la cual sigue una extraña tradición para elegir el nombre de un hijo:\n",
    "El nombre de un niño consiste en la primera mitad del nombre del padre, seguido de la primera mitad del nombre de la madre, seguido de la segunda mitad del nombre del padre y acabado por la segunda mitad del nombre de la madre. Crea:\n",
    "\n",
    "    - Una función que dados dos string mezcle estos strings de la manera antes dicha.\n",
    "    - Una clase Tribu que reciba un string como nombre del elemento, y define su metodo __str__ y __repr__, finalmente crea dos instacia de miembros de esta tribu\n",
    "    - Una clase Hijo que sea hija de la clase Tribu que cree un hijo de los miembros anteriormente creados"
   ]
  },
  {
   "cell_type": "code",
   "execution_count": 1,
   "id": "1f095092",
   "metadata": {},
   "outputs": [
    {
     "data": {
      "text/plain": [
       "'pemaperia'"
      ]
     },
     "execution_count": 1,
     "metadata": {},
     "output_type": "execute_result"
    }
   ],
   "source": [
    "def mezclar_string(s1,s2):\n",
    "    s1_1,s1_2 = s1[:len(s1)//2],s1[len(s1)//2:]\n",
    "    s2_1,s2_2 = s2[:len(s1)//2],s2[len(s2)//2:]\n",
    "    return s1_1+s2_1+s1_2+s2_2\n",
    "mezclar_string(\"pepe\",\"maria\")\n"
   ]
  },
  {
   "cell_type": "code",
   "execution_count": 2,
   "id": "59653aaa",
   "metadata": {},
   "outputs": [],
   "source": [
    "class Tribu:\n",
    "    def __init__(self,nombre):\n",
    "        self.nombre = nombre\n",
    "        \n",
    "    def __str__(self):\n",
    "        return str(self.nombre)\n",
    "    def __repr__(self):\n",
    "        return f\"Mi nombre es {self.nombre}\""
   ]
  },
  {
   "cell_type": "code",
   "execution_count": 3,
   "id": "1b0168bc",
   "metadata": {},
   "outputs": [],
   "source": [
    "A = Tribu(\"tornero\")\n",
    "B = Tribu(\"meneses\")\n"
   ]
  },
  {
   "cell_type": "code",
   "execution_count": 4,
   "id": "8c52b64b",
   "metadata": {},
   "outputs": [],
   "source": [
    "class Hijo(Tribu):\n",
    "    def __init__(self,padre,madre):\n",
    "        super().__init__(mezclar_string(padre.nombre,madre.nombre))\n",
    "        "
   ]
  },
  {
   "cell_type": "code",
   "execution_count": 6,
   "id": "236e3cbd",
   "metadata": {},
   "outputs": [
    {
     "data": {
      "text/plain": [
       "Mi nombre es tormenneroeses"
      ]
     },
     "execution_count": 6,
     "metadata": {},
     "output_type": "execute_result"
    }
   ],
   "source": [
    "C = Hijo(A,B)\n",
    "C"
   ]
  },
  {
   "cell_type": "markdown",
   "id": "b5a83611",
   "metadata": {
    "id": "b5a83611"
   },
   "source": [
    "# Volviendo a los Vehículos"
   ]
  },
  {
   "cell_type": "markdown",
   "id": "892e3fb7",
   "metadata": {
    "id": "892e3fb7"
   },
   "source": [
    "El concesionario del primer ejercicio, gracias a nuestro trabajo, ha podido crecer y ahora no solo vende motos, sino coches, motos, caravanas, aviones...\n",
    "Entonces ahora nos han vuelto a llamar para poder crear una nueva base de datos.\n",
    "Crea una clase Vehiculo que será la super clase, teniendo esta los parámetros color, marca, ruedas y tanque. En ellos se definirán los métodos que ya practicamos en el ejercicio 1 (arrancar, rellenar tanque...)\n",
    "Después crearemos las clases coche y moto1 (el 1 es para evitar problemas con la clase anterior) y aqui el método repr nos deberá devolver que tipo de vehiculo es, esto es, si coche1 es un objeto coche print(coche1) = \"Esto es un coche\""
   ]
  },
  {
   "cell_type": "code",
   "execution_count": null,
   "id": "19ef0418",
   "metadata": {
    "id": "19ef0418"
   },
   "outputs": [],
   "source": [
    "class vehiculo:\n",
    "    def __init__(self,matricula,marca,color, ruedas,tanque= \"lleno\"):\n",
    "        self.matricula = matricula\n",
    "        self.ruedas = ruedas\n",
    "        self.color = color\n",
    "        self.marca = marca\n",
    "        if tanque in [\"lleno\", \"medio\",\"vacio\"]:\n",
    "            self.tanque = tanque\n",
    "        else:\n",
    "            raise Exception(\"Valor no válido\")\n",
    "            #Ejercicio 2\n",
    "    def arrancar(self):\n",
    "            if self.tanque == \"medio\":\n",
    "                print(\"Brum brum\")\n",
    "                self.tanque = \"vacio\"\n",
    "\n",
    "            elif self.tanque == \"lleno\":\n",
    "                print(\"Brum brum\")\n",
    "                self.tanque = \"medio\"\n",
    "    def repostar(self):\n",
    "        self.tanque = \"lleno\"\n",
    "        return\n",
    "\n",
    "class coche(vehiculo):\n",
    "    def __init__(self,matricula,marca,color, ruedas,tanque= \"lleno\"):\n",
    "        super().__init__(matricula,marca,color, ruedas,tanque= \"lleno\")\n",
    "\n",
    "    def __repr__(self):\n",
    "        return f\"Esto es un coche, cuya matricula es {self.matricula}\""
   ]
  },
  {
   "cell_type": "code",
   "execution_count": null,
   "id": "1bfdbd27",
   "metadata": {
    "id": "1bfdbd27",
    "outputId": "d5184aed-0ab4-4592-b01a-ca90388f5a20"
   },
   "outputs": [
    {
     "name": "stdout",
     "output_type": "stream",
     "text": [
      "Brum brum\n"
     ]
    }
   ],
   "source": [
    "coche1 = coche(\"as\",\"toyota\",\"rojo\",2)\n",
    "coche1.arrancar()"
   ]
  },
  {
   "cell_type": "code",
   "execution_count": 1,
   "id": "f9f3f67c",
   "metadata": {
    "id": "f9f3f67c"
   },
   "outputs": [],
   "source": [
    "def avisador(fun):\n",
    "    def wrap(*args):\n",
    "        print(f\"se ejecutó {fun}\")\n",
    "        return fun(*args)\n",
    "    return wrap\n",
    "\n",
    "@avisador\n",
    "def suma(a,b):\n",
    "    return a+b\n",
    "\n",
    "\n"
   ]
  },
  {
   "cell_type": "code",
   "execution_count": 2,
   "id": "ed89ecc9",
   "metadata": {
    "id": "ed89ecc9"
   },
   "outputs": [
    {
     "name": "stdout",
     "output_type": "stream",
     "text": [
      "se ejecutó <function suma at 0x000002842C2C2A60>\n"
     ]
    },
    {
     "data": {
      "text/plain": [
       "5"
      ]
     },
     "execution_count": 2,
     "metadata": {},
     "output_type": "execute_result"
    }
   ],
   "source": [
    "suma(2,3)"
   ]
  },
  {
   "cell_type": "code",
   "execution_count": null,
   "id": "985846e0",
   "metadata": {
    "id": "985846e0"
   },
   "outputs": [],
   "source": []
  }
 ],
 "metadata": {
  "colab": {
   "provenance": []
  },
  "kernelspec": {
   "display_name": "Python 3 (ipykernel)",
   "language": "python",
   "name": "python3"
  },
  "language_info": {
   "codemirror_mode": {
    "name": "ipython",
    "version": 3
   },
   "file_extension": ".py",
   "mimetype": "text/x-python",
   "name": "python",
   "nbconvert_exporter": "python",
   "pygments_lexer": "ipython3",
   "version": "3.9.13"
  }
 },
 "nbformat": 4,
 "nbformat_minor": 5
}
