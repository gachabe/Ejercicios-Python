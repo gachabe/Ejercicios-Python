{
 "cells": [
  {
   "cell_type": "markdown",
   "id": "63e60777",
   "metadata": {},
   "source": [
    "Hay un método para saber si un año será bisiesto o no, búscalo crea una función que dado un año nos diga si es bisiesto"
   ]
  },
  {
   "cell_type": "code",
   "execution_count": null,
   "id": "037ce85d",
   "metadata": {},
   "outputs": [],
   "source": [
    "def esBisiesto(n):\n",
    "    return (n%4 == 0 and n%100 != 0) or (n%400 == 0):\n",
    "        "
   ]
  },
  {
   "cell_type": "markdown",
   "id": "7d631a3e",
   "metadata": {},
   "source": [
    "Para saber si un número es divisible por 7 hay una forma que es la siguiente:\n",
    "si doblas la última cifra y la resta del resto del número, y el resultado es igual a 0 o divisible por 7.\n",
    "Cree una función que compruebe si un número es múltiplo de 7 (prohibido %)"
   ]
  },
  {
   "cell_type": "code",
   "execution_count": 3,
   "id": "50735ae0",
   "metadata": {},
   "outputs": [],
   "source": [
    "def div7(n):\n",
    "    cad = str(n)\n",
    "    ultimo = int(cad[-1])\n",
    "    cifra = int(cad[0:-1]) if  len(cad) > 1 else 0 #por n tuviera una unica cifra\n",
    "    v = cifra - 2*ultimo if cifra > 2*ultimo else 2*ultimo - cifra\n",
    "    if v == 0:\n",
    "        return True\n",
    "    else :\n",
    "        for i in range(v):\n",
    "            if i*7 == v:\n",
    "                \n",
    "                return True\n",
    "        return False\n",
    "                \n",
    "        \n",
    "def div7_2(n):\n",
    "    cad = str(n)\n",
    "    ultimo = int(cad[-1])\n",
    "    cifra = int(cad[0:-1]) if  len(cad) > 1 else 0 #por n tuviera una unica cifra\n",
    "    v = cifra - 2*ultimo if cifra > 2*ultimo else 2*ultimo - cifra\n",
    "    if v == 0 or v == 7:\n",
    "        return True\n",
    "    elif len(str(v)) > 1:\n",
    "        return div7_2(v)\n",
    "    else:\n",
    "        return False"
   ]
  },
  {
   "cell_type": "code",
   "execution_count": 4,
   "id": "60ad227e",
   "metadata": {},
   "outputs": [
    {
     "data": {
      "text/plain": [
       "[True,\n",
       " False,\n",
       " False,\n",
       " False,\n",
       " False,\n",
       " False,\n",
       " False,\n",
       " True,\n",
       " False,\n",
       " False,\n",
       " False,\n",
       " False,\n",
       " False,\n",
       " False,\n",
       " True,\n",
       " False,\n",
       " False,\n",
       " False,\n",
       " False,\n",
       " False,\n",
       " False]"
      ]
     },
     "execution_count": 4,
     "metadata": {},
     "output_type": "execute_result"
    }
   ],
   "source": [
    "\n",
    "[div7_2(i) for i in range(21)] #varias comprobaciones a la vez"
   ]
  },
  {
   "cell_type": "markdown",
   "id": "e626a735",
   "metadata": {},
   "source": [
    "(Muy Difícil) Un conjunto de vectores se puede expresar como una lista de listas de la misma longitud, cree una función que haga el algoritmo de grand-Schimdt para ortogonalizar vectores"
   ]
  },
  {
   "cell_type": "code",
   "execution_count": 32,
   "id": "093a9de7",
   "metadata": {},
   "outputs": [],
   "source": [
    "def sonvect(l): #comprobamos que el conjunto que nos ha dado son vectores de la misma longitud\n",
    "    lista = []\n",
    "    for i in l:\n",
    "        lista.append(len(i) == len(l[0]))\n",
    "    return all(lista)\n",
    "\n",
    "def prod_esc(v1,v2):\n",
    "    suma = 0\n",
    "    for i,j in zip(v1,v2):\n",
    "        suma += (i*j)\n",
    "    return suma\n",
    "\n",
    "def norma(v):\n",
    "    return (prod_esc(v,v))**(1/2)\n",
    "def mult_esc(a,v): \n",
    "    for i in range(len(v)):\n",
    "        v[i] = a*v[i]\n",
    "    return v\n",
    "def resta(u,v):\n",
    "    l = []\n",
    "    for i,j in zip(u,v):\n",
    "        l.append(i-j)\n",
    "    return l\n",
    "\n",
    "def coef_four(v,u):\n",
    "    return prod_esc(v,u)/(norma(u)**2)\n",
    "\n",
    "def GS(L):\n",
    "    ort = [L[0]]\n",
    "    for i in range(1,len(L)):\n",
    "        for j in ort:\n",
    "            nuevo = resta(L[i],mult_esc(coef_four(L[i],j),j))\n",
    "        ort.append(nuevo)\n",
    "    return ort\n",
    "    \n",
    "    "
   ]
  },
  {
   "cell_type": "code",
   "execution_count": 33,
   "id": "1432c2cc",
   "metadata": {},
   "outputs": [
    {
     "data": {
      "text/plain": [
       "[[0.3333333333333333, 0.3333333333333333, 0.3333333333333333],\n",
       " [0.16666666666666682, 0.16666666666666682, -0.3333333333333334],\n",
       " [0.8333333333333331, -0.16666666666666682, 0.3333333333333334]]"
      ]
     },
     "execution_count": 33,
     "metadata": {},
     "output_type": "execute_result"
    }
   ],
   "source": [
    "vectores =[[1,1,1],[1,1,2],[1,0,0]]\n",
    "\n",
    "GS(vectores)"
   ]
  },
  {
   "cell_type": "markdown",
   "id": "6532e650",
   "metadata": {},
   "source": [
    "Cree una función que, dada una lista, nos devuelva la misma lista quitando los repetidos"
   ]
  },
  {
   "cell_type": "code",
   "execution_count": 12,
   "id": "84e96239",
   "metadata": {},
   "outputs": [],
   "source": [
    "def quitaRepes(xs):\n",
    "    lista = []\n",
    "    for x in xs:\n",
    "        if x not in lista:\n",
    "            lista.append(x)\n",
    "    return lista\n",
    "\n",
    "def quitaRpes(xs):\n",
    "    \n",
    "    lista =[]\n",
    "    for x in xs:\n",
    "        for i in xs:\n",
    "            if x != i and x not in lista:\n",
    "                lista.append(x)\n",
    "                lista.append(i)\n",
    "            else:\n",
    "                lista.append(x)\n",
    "    return lista\n",
    "                "
   ]
  },
  {
   "cell_type": "markdown",
   "id": "aa8b4288",
   "metadata": {},
   "source": [
    "Una tripleta pitagórica son tres numeros a < b < c tales que a^2+b^=c^2. ¿Sabias que sólo hay una tripleta pitagórica dada que compla a+b+c = 1000? Hállala y sube aquí el producto abc https://t.ly/mwIiz"
   ]
  },
  {
   "cell_type": "code",
   "execution_count": null,
   "id": "28e7bb59",
   "metadata": {},
   "outputs": [],
   "source": [
    "def trip_pit(a,b,c):\n",
    "    return a**2+b**2 == c**2"
   ]
  },
  {
   "cell_type": "markdown",
   "id": "8f3b7aec",
   "metadata": {},
   "source": [
    "Cuando nos piden ingresar un correo electrónico en alguna web el servidor realiza un proceso parecido al siguiente:\n",
    "Comprueba que en algún lugar del String introducido aparezca el signo \"@\" y, posteriormente, el signo \".\"\n",
    "Cree una función que haga esta comprobación"
   ]
  },
  {
   "cell_type": "code",
   "execution_count": 22,
   "id": "f3a9df67",
   "metadata": {},
   "outputs": [],
   "source": [
    "def compruebaCorreo(string):\n",
    "    for i in range(len(string)):\n",
    "        if string[i] == \"@\":\n",
    "            for j in range(i+1,len(string)):\n",
    "                if string[j]==\".\":\n",
    "                    return True\n",
    "    return False\n",
    "                \n",
    "                \n",
    "            "
   ]
  },
  {
   "cell_type": "markdown",
   "id": "68491f30",
   "metadata": {},
   "source": [
    "(Dificil) En la relación anterior aprendimos a pasar un número de binario a notación decimal, ahora creemos una función que reciba una lista de números y un parámetro opcional que vaya del 2 al 5, este parametro opcional nos dirá cual será la nueva base para trabajar"
   ]
  },
  {
   "cell_type": "markdown",
   "id": "42f2722b",
   "metadata": {},
   "source": [
    "Escriba un programa que pregunte cuántos números se van a introducir, pida esos números y escriba cuántos negativos ha introducido."
   ]
  },
  {
   "cell_type": "code",
   "execution_count": 2,
   "id": "7a1cf3d6",
   "metadata": {},
   "outputs": [],
   "source": [
    "def cuentaNeg():\n",
    "    numero_veces = int(input(\"Dime un número: \"))\n",
    "    contador = 0\n",
    "    for _ in range(numero_veces):\n",
    "        y = int(input(\"Dime un número: \"))\n",
    "        if y <0:\n",
    "            contador += 1\n",
    "    return \"Has dicho, \" + str(contador)+ \" números negativos \"\n"
   ]
  },
  {
   "cell_type": "code",
   "execution_count": 3,
   "id": "e31a3e44",
   "metadata": {},
   "outputs": [
    {
     "name": "stdout",
     "output_type": "stream",
     "text": [
      "Dime un número: 5\n",
      "Dime un número: 6\n",
      "Dime un número: 5\n",
      "Dime un número: 5\n",
      "Dime un número: 5\n",
      "Dime un número: 5\n"
     ]
    },
    {
     "data": {
      "text/plain": [
       "'Has dicho, 0 números negativos '"
      ]
     },
     "execution_count": 3,
     "metadata": {},
     "output_type": "execute_result"
    }
   ],
   "source": [
    "cuentaNeg()"
   ]
  },
  {
   "cell_type": "markdown",
   "id": "38305d21",
   "metadata": {},
   "source": [
    "Crear un programa que acierte el número que piensa el jugador recibiendo solo si el número es mayor o menor que el intento actual"
   ]
  },
  {
   "cell_type": "markdown",
   "id": "f7110ac1",
   "metadata": {},
   "source": [
    "Aprendamos algo de teoría musical: Un acorde mayor se construye en función de la nota base, su tercera, es decir, la nota que está 4 notas por encima de ella y su quinta, la que esta 7 por encima. Por ejemplo Do mayor es Do - Mi - Sol.\n",
    "\n",
    "De forma análoga, un acorde menor se construye con la nota base, su tercera menor, la que esta 3 por encima y su quinta la que está 7 por encima. Así Do menor, será Do - Re# - Sol\n",
    "\n",
    "Contruya una función que reciba 2 parámetros, uno obligatorio y otro opcional. El obligatorio será la nota base y el opcional será M si queremos el acorde mayor y m si queremos el acorde menor. De manera predeterminada nos deberá dar el acorde mayor\n"
   ]
  },
  {
   "cell_type": "code",
   "execution_count": 11,
   "id": "6e282b1c",
   "metadata": {},
   "outputs": [],
   "source": [
    "cromatica = [\"Do\",\"Do#\",\"Re\",\"Re#\",\"Mi\",\"Fa\",\"Fa#\",\"Sol\",\"Sol#\",\"La\",\"La#\",\"Si\"]"
   ]
  },
  {
   "cell_type": "code",
   "execution_count": 19,
   "id": "6c5d1d0b",
   "metadata": {},
   "outputs": [],
   "source": [
    "cromatica += cromatica\n",
    "def acordeM(nota):\n",
    "     \n",
    "    raiz = nota\n",
    "    for j in range(len(cromatica)):\n",
    "        if cromatica[j] == nota:\n",
    "            i =j\n",
    "    tercera = cromatica[i+4]\n",
    "    quinta = cromatica[i+7]\n",
    "    return f\"{raiz}-{tercera}-{quinta}\"\n",
    "\n",
    "def acordem(nota):\n",
    "     \n",
    "    raiz = nota\n",
    "    for j in range(len(cromatica)):\n",
    "        if cromatica[j] == nota:\n",
    "            i =j\n",
    "    tercera = cromatica[i+3]\n",
    "    quinta = cromatica[i+7]\n",
    "    return f\"{raiz}-{tercera}-{quinta}\"\n",
    "    \n",
    "    \n",
    "def acorde(nota,modo=\"M\"):\n",
    "    if modo == \"M\":\n",
    "        return acordeM(nota)\n",
    "    elif modo == \"m\":\n",
    "        return acordem(nota)\n",
    "    else:\n",
    "        print(\"Error\")"
   ]
  },
  {
   "cell_type": "code",
   "execution_count": 20,
   "id": "e39234be",
   "metadata": {},
   "outputs": [
    {
     "data": {
      "text/plain": [
       "'Do-Re#-Sol'"
      ]
     },
     "execution_count": 20,
     "metadata": {},
     "output_type": "execute_result"
    }
   ],
   "source": [
    "acordem(\"Do\")"
   ]
  },
  {
   "cell_type": "code",
   "execution_count": 22,
   "id": "9ff91164",
   "metadata": {},
   "outputs": [
    {
     "data": {
      "text/plain": [
       "'Do-Re#-Sol'"
      ]
     },
     "execution_count": 22,
     "metadata": {},
     "output_type": "execute_result"
    }
   ],
   "source": [
    "acorde(\"Do\",\"m\")"
   ]
  },
  {
   "cell_type": "code",
   "execution_count": null,
   "id": "8da0f02c",
   "metadata": {},
   "outputs": [],
   "source": []
  }
 ],
 "metadata": {
  "kernelspec": {
   "display_name": "Python 3 (ipykernel)",
   "language": "python",
   "name": "python3"
  },
  "language_info": {
   "codemirror_mode": {
    "name": "ipython",
    "version": 3
   },
   "file_extension": ".py",
   "mimetype": "text/x-python",
   "name": "python",
   "nbconvert_exporter": "python",
   "pygments_lexer": "ipython3",
   "version": "3.9.13"
  }
 },
 "nbformat": 4,
 "nbformat_minor": 5
}
