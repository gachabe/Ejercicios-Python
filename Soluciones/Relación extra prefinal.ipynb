{
 "cells": [
  {
   "cell_type": "code",
   "execution_count": 13,
   "id": "c1cafc03",
   "metadata": {},
   "outputs": [],
   "source": [
    "from Pilas import Pila\n",
    "from copy import deepcopy\n",
    "from Grafos import *\n",
    "\n",
    "#Pilas\n",
    "\n",
    "p1, p2, p3, p4, p5, p6, p7 = Pila(), Pila(), Pila(), Pila(), Pila(), Pila(), Pila()\n",
    "for i in range(1,21)[::-1]: p1.apila(i)\n",
    "for i in range(2,19,3)[::-1]: p2.apila(i)\n",
    "for i in range(3,11)[::-1]: p3.apila(i)\n",
    "for i in (4,-1,7,3,8,10,0,3,3,4)[::-1]: p4.apila(i)\n",
    "for i in range(1,6)[::-1]: p5.apila(i)\n",
    "for i in range(2,21,2)[::-1]: p6.apila(i)    \n",
    "for i in range(8,28)[::-1]: p7.apila(i)\n",
    "    \n",
    "# Grafo\n",
    "grafo1 = Grafo()\n",
    "for i in range(6):\n",
    "    i = Vertice(i)\n",
    "    grafo1.añade_vertice(i)\n",
    "    \n",
    "grafo1.añade_arista(0,1)\n",
    "grafo1.añade_arista(1,2)\n",
    "grafo1.añade_arista(2,3)\n",
    "grafo1.añade_arista(3,4)\n",
    "grafo1.añade_arista(4,0)\n",
    "grafo1.añade_arista(0,5)\n",
    "grafo1.añade_arista(1,5)"
   ]
  },
  {
   "cell_type": "code",
   "execution_count": null,
   "id": "37c2fa76",
   "metadata": {},
   "outputs": [],
   "source": []
  },
  {
   "cell_type": "markdown",
   "id": "467ac0ce",
   "metadata": {},
   "source": [
    "1 Crea una función llamada cuadrado, que reciba un número n y devuelva una matriz como lista de listas de n filas y n columnas rellenas solo por el número n"
   ]
  },
  {
   "cell_type": "code",
   "execution_count": null,
   "id": "40d0b33b",
   "metadata": {},
   "outputs": [],
   "source": [
    "def cuadrado(n):\n",
    "    return [[n] * n] * n\n",
    "\n",
    "def cuadrado(n):\n",
    "    return [[n for _ in range(n)] for _ in range(n)]"
   ]
  },
  {
   "cell_type": "code",
   "execution_count": null,
   "id": "827241ee",
   "metadata": {},
   "outputs": [],
   "source": [
    "cuadrado(5)"
   ]
  },
  {
   "cell_type": "markdown",
   "id": "ea650b7d",
   "metadata": {},
   "source": [
    "2 Escribe una función ordena_positivos(lista), que dada una lista de números enteros, devuelva una nueva lista con los números positivos ordenados de menor a mayor, y mantenga los números negativos en la misma posición que la lista original."
   ]
  },
  {
   "cell_type": "code",
   "execution_count": null,
   "id": "9b00f7b2",
   "metadata": {},
   "outputs": [],
   "source": [
    "def ordena_positivos(lst):\n",
    "    positivos = sorted([i for i in lst if i > 0], reverse=True)\n",
    "    \n",
    "    for i, elem in enumerate(lst):\n",
    "        if elem > 0:\n",
    "            lst[i] = positivos.pop()\n",
    "    return lst"
   ]
  },
  {
   "cell_type": "code",
   "execution_count": null,
   "id": "8d070859",
   "metadata": {},
   "outputs": [],
   "source": [
    " ordena_positivos([6, 5, 4, -1, 3, 2, -1, 1])"
   ]
  },
  {
   "cell_type": "markdown",
   "id": "4fcae64b",
   "metadata": {},
   "source": [
    "3 Dada dos matrices vistas como listas de listas, crear una función que realice la multiplicación."
   ]
  },
  {
   "cell_type": "code",
   "execution_count": null,
   "id": "90e5c822",
   "metadata": {},
   "outputs": [],
   "source": [
    "def matrix_multiplication(A, B):\n",
    "    # Verifica si las matrices pueden ser multiplicadas\n",
    "    if len(A[0]) != len(B):\n",
    "        print(\"No se pueden multiplicar las matrices: dimensiones incompatibles\")\n",
    "        return None\n",
    "\n",
    "    # Creamos una mtriz de 0\n",
    "    result = [[0 for _ in range(len(B[0]))] for _ in range(len(A))]\n",
    "\n",
    "    # Multiplicación de matrices\n",
    "    for i in range(len(A)):\n",
    "        for j in range(len(B[0])):\n",
    "            for k in range(len(B)):\n",
    "                result[i][j] += A[i][k] * B[k][j]\n",
    "\n",
    "    return result\n",
    "\n",
    "\n"
   ]
  },
  {
   "cell_type": "code",
   "execution_count": null,
   "id": "aca51eb2",
   "metadata": {},
   "outputs": [],
   "source": [
    "\n",
    "A = [[1, 2, 3],\n",
    "     [4, 5, 6]]\n",
    "B = [[7, 8],\n",
    "     [9, 10],\n",
    "     [11, 12]]\n",
    "\n",
    "resultado = matrix_multiplication(A, B)\n",
    "if resultado:\n",
    "    print(\"El resultado de la multiplicación es:\")\n",
    "    for row in resultado:\n",
    "        print(row)"
   ]
  },
  {
   "cell_type": "markdown",
   "id": "9548dcdf",
   "metadata": {},
   "source": [
    "4 Dados dos números binarios, vistos como listas de 0's y 1's, devolver la lista resultante de sumar en binario."
   ]
  },
  {
   "cell_type": "code",
   "execution_count": null,
   "id": "cc22c200",
   "metadata": {},
   "outputs": [],
   "source": [
    "def binary_addition(bin1, bin2):\n",
    "    # Asegurarse de que las listas tengan la misma longitud\n",
    "    if len(bin1) != len(bin2):\n",
    "        raise Exception(\"No tienen la misma longitud\")\n",
    "\n",
    "    llevada = 0\n",
    "    result = []\n",
    "\n",
    "    # Iterar desde la derecha (menos significativo) al inicio (más significativo)\n",
    "    for i in range(len(bin1) - 1, -1, -1):\n",
    "        sum_bit = bin1[i] + bin2[i] + llevada\n",
    "        result.insert(0, sum_bit % 2)  # Insertar el bit sumado al principio\n",
    "        llevada = sum_bit // 2  # Actualizar el acarreo\n",
    "\n",
    "    if llevada:\n",
    "        result.insert(0, llevada)  # Si hay un llevada final, agregarlo al principio\n",
    "\n",
    "    return result\n",
    "\n",
    "# Ejemplo de uso:\n",
    "num1 = [1, 0, 1, 1]\n",
    "num2 = [1, 1, 0, 1]\n",
    "\n",
    "resultado = binary_addition(num1, num2)\n",
    "print(\"El resultado de la suma es:\", resultado)\n"
   ]
  },
  {
   "cell_type": "markdown",
   "id": "bfaf70f6",
   "metadata": {},
   "source": [
    "5 Usando pilas, crea una función que devuelva el factorial de un número."
   ]
  },
  {
   "cell_type": "code",
   "execution_count": null,
   "id": "945adbdd",
   "metadata": {},
   "outputs": [],
   "source": [
    "def fact_pilas(n):\n",
    "    def prod_pilas(p):\n",
    "        if p.esVacia():\n",
    "            return 1\n",
    "        else:\n",
    "            return p.cima()*prod_pilas(p.desapila())\n",
    "        \n",
    "    p = Pila()\n",
    "    j = 1\n",
    "    # Cargamos la pila de lo que vamos a multiplicar\n",
    "    while j != n+1:\n",
    "        p.apila(j)\n",
    "        j += 1\n",
    "    return prod_pilas(p)\n",
    "    \n",
    "    "
   ]
  },
  {
   "cell_type": "code",
   "execution_count": null,
   "id": "69db90a9",
   "metadata": {},
   "outputs": [],
   "source": [
    "fact_pilas(3)"
   ]
  },
  {
   "cell_type": "markdown",
   "id": "9c643cd1",
   "metadata": {},
   "source": [
    "6 Crea una función que dada una lista devuelva todos los subconjuntos posibles de esta."
   ]
  },
  {
   "cell_type": "code",
   "execution_count": 3,
   "id": "a29f7fab",
   "metadata": {},
   "outputs": [
    {
     "name": "stdout",
     "output_type": "stream",
     "text": [
      "[[], [3], [2], [2, 3], [1], [1, 3], [1, 2], [1, 2, 3]]\n"
     ]
    }
   ],
   "source": [
    "def obtener_subconjuntos(lista):\n",
    "    # Función auxiliar recursiva para generar subconjuntos\n",
    "    def generar_subconjuntos(subconjunto, indice):\n",
    "       \n",
    "        if indice == len(lista):\n",
    "            # Cuando alcancemos el final de la lista, agregamos el subconjunto actual\n",
    "            subconjuntos.append(subconjunto)\n",
    "        else:\n",
    "            # Generar subconjunto sin incluir el elemento en el índice actual\n",
    "            generar_subconjuntos(subconjunto, indice + 1)\n",
    "            # Generar subconjunto incluyendo el elemento en el índice actual\n",
    "            generar_subconjuntos(subconjunto + [lista[indice]], indice + 1)\n",
    "\n",
    "    subconjuntos = []\n",
    "    generar_subconjuntos([], 0)  # Llamada inicial con un subconjunto vacío y el índice 0\n",
    "    return subconjuntos\n",
    "\n",
    "# Ejemplo de uso:\n",
    "lista_ejemplo = [1, 2, 3]\n",
    "print(obtener_subconjuntos(lista_ejemplo))\n"
   ]
  },
  {
   "cell_type": "markdown",
   "id": "d92f63fc",
   "metadata": {},
   "source": [
    "7 Crea una función que dada una lista nos de todas sus permutaciones. Previamente crea una función auxiliar llamada coloca, que reciba un numero X, una lista L  y devuelva la lista de listas de colocar X en cada una de las posibles posiciones en L."
   ]
  },
  {
   "cell_type": "code",
   "execution_count": 4,
   "id": "2e586cd0",
   "metadata": {},
   "outputs": [],
   "source": [
    "def obtener_permutaciones(lista):\n",
    "    if len(lista) == 0:\n",
    "        return [[]]  # Si la lista está vacía, devolvemos una lista con una lista vacía\n",
    "\n",
    "    primer_elemento = lista[0]\n",
    "    restantes_elementos = lista[1:]\n",
    "\n",
    "    # Llamada recursiva para obtener las permutaciones de los elementos restantes\n",
    "    permutaciones_restantes = obtener_permutaciones(restantes_elementos)\n",
    "\n",
    "    todas_permutaciones = []\n",
    "    for permutacion in permutaciones_restantes:\n",
    "        \n",
    "        for i in range(len(permutacion) + 1):\n",
    "            # Insertar el primer elemento en todas las posiciones posibles de la permutación\n",
    "            nueva_permutacion = permutacion[:i] + [primer_elemento] + permutacion[i:]\n",
    "            todas_permutaciones.append(nueva_permutacion)\n",
    "\n",
    "    return todas_permutaciones\n",
    "\n",
    "\n",
    "\n"
   ]
  },
  {
   "cell_type": "code",
   "execution_count": 5,
   "id": "abf7ebc5",
   "metadata": {
    "scrolled": true
   },
   "outputs": [
    {
     "data": {
      "text/plain": [
       "[[1, 2, 4], [2, 1, 4], [2, 4, 1], [1, 4, 2], [4, 1, 2], [4, 2, 1]]"
      ]
     },
     "execution_count": 5,
     "metadata": {},
     "output_type": "execute_result"
    }
   ],
   "source": [
    "(obtener_permutaciones([1,2,4]))"
   ]
  },
  {
   "cell_type": "markdown",
   "id": "c2f9ddb5",
   "metadata": {},
   "source": [
    "8 Crea una función que reciba una lista, una posición de inicio y una posición final y devuelva la lista invirtiendo solo la sublista desde la posición de inicio hasta la posición final,"
   ]
  },
  {
   "cell_type": "code",
   "execution_count": null,
   "id": "22793fc0",
   "metadata": {},
   "outputs": [],
   "source": [
    "def reverse_lista_loc(lst, start, end):\n",
    "    while start < end:\n",
    "        lst[start], lst[end] = lst[end], lst[start]\n",
    "        start += 1\n",
    "        end -= 1\n",
    "    return lst"
   ]
  },
  {
   "cell_type": "code",
   "execution_count": null,
   "id": "1fb1c15c",
   "metadata": {},
   "outputs": [],
   "source": [
    "lista =[1,2,3,4,5,6,7]\n",
    "reverse_lista_loc(lista,3,5)"
   ]
  },
  {
   "cell_type": "markdown",
   "id": "44194c7f",
   "metadata": {},
   "source": [
    "9 Crea dos funciones, una que dado el código morse otorgado abajo, pida una palabra al usuario y devuelva su traducción al código morse. La segunda función debe ser la inversa, es decir, que reciba una palabra en código morse y devuelva su traducción"
   ]
  },
  {
   "cell_type": "code",
   "execution_count": null,
   "id": "8b73a761",
   "metadata": {},
   "outputs": [],
   "source": [
    "codigo = {\n",
    "    'A': '.-',     'B': '-...',    'C': '-.-.',\n",
    "    'D': '-..',    'E': '.',       'F': '..-.',\n",
    "    'G': '--.',    'H': '....',    'I': '..',\n",
    "    'J': '.---',   'K': '-.-',     'L': '.-..',\n",
    "    'M': '--',     'N': '-.',      'O': '---',\n",
    "    'P': '.--.',   'Q': '--.-',    'R': '.-.',\n",
    "    'S': '...',    'T': '-',       'U': '..-',\n",
    "    'V': '...-',   'W': '.--',     'X': '-..-',\n",
    "    'Y': '-.--',   'Z': '--..',    '1': '.----',\n",
    "    '2': '..---',  '3': '...--',   '4': '....-',\n",
    "    '5': '.....',  '6': '-....',   '7': '--...',\n",
    "    '8': '---..',  '9': '----.',   '0': '-----',\n",
    "    '.': '.-.-.-', ',': '--..--',  ':': '---...',\n",
    "    ';': '-.-.-.', '?': '..--..',  '!': '-.-.--',\n",
    "    '\"': '.-..-.', \"'\": '.----.',  '+': '.-.-.',\n",
    "    '-': '-....-', '/': '-..-.',   '=': '-...-',\n",
    "    '_': '..--.-', '$': '...-..-', '@': '.--.-.',\n",
    "    '&': '.-...',  '(': '-.--.',   ')': '-.--.-'\n",
    "}"
   ]
  },
  {
   "cell_type": "code",
   "execution_count": null,
   "id": "3abf9d99",
   "metadata": {},
   "outputs": [],
   "source": [
    "def morse2():\n",
    "    palabra = input(\"\")\n",
    "    for char in palabra:\n",
    "    \n",
    "        palabra = palabra.replace(char,codigo[char])\n",
    "    return palabra"
   ]
  },
  {
   "cell_type": "code",
   "execution_count": null,
   "id": "3da8cd1b",
   "metadata": {},
   "outputs": [],
   "source": [
    "morse2()"
   ]
  },
  {
   "cell_type": "code",
   "execution_count": null,
   "id": "9d98be93",
   "metadata": {},
   "outputs": [],
   "source": [
    "def traductor_morse():\n",
    "    palabra = input(\"Palabra:\")\n",
    "    lista_codigos = []\n",
    "    for caracter in palabra:\n",
    "        if caracter.islower():\n",
    "            caracter=caracter.upper()\n",
    "        lista_codigos.append(codigo[caracter])\n",
    "    print (\" \".join(lista_codigos))"
   ]
  },
  {
   "cell_type": "code",
   "execution_count": null,
   "id": "a5a67afc",
   "metadata": {},
   "outputs": [],
   "source": [
    "traductor_morse()"
   ]
  },
  {
   "cell_type": "code",
   "execution_count": null,
   "id": "1b6b2060",
   "metadata": {},
   "outputs": [],
   "source": [
    "def traductor_morse2(morse):\n",
    "    lista_morse=morse.split(\" \")\n",
    "    palabra = \"\"\n",
    "    for cod in lista_morse:\n",
    "        letra=[key for key,valor in codigo.items() if valor==cod][0]\n",
    "        palabra=palabra+letra\n",
    "    print (palabra)"
   ]
  },
  {
   "cell_type": "code",
   "execution_count": null,
   "id": "41bcbc3a",
   "metadata": {},
   "outputs": [],
   "source": [
    "traductor_morse2(\".--. .-. ..- . -... .-\")"
   ]
  },
  {
   "cell_type": "markdown",
   "id": "11da9b5a",
   "metadata": {},
   "source": [
    "10 Crea una función que, de forma recursiva, compruebe si un número es par."
   ]
  },
  {
   "cell_type": "code",
   "execution_count": null,
   "id": "c8d07615",
   "metadata": {},
   "outputs": [],
   "source": [
    "def pares_recursivo(n):\n",
    "    abs(n) # Para ampliar a ZZ\n",
    "    if n > 2:\n",
    "        return pares_recursivo(n-2)\n",
    "    else:\n",
    "        return n == 2"
   ]
  },
  {
   "cell_type": "code",
   "execution_count": null,
   "id": "c6831244",
   "metadata": {},
   "outputs": [],
   "source": [
    "pares_recursivo(1)"
   ]
  },
  {
   "cell_type": "markdown",
   "id": "976c2df0",
   "metadata": {},
   "source": [
    "11 Crea una función que compruebe si una matriz es diagonal dominante por filas, esto es, el valor de los elementos de la diagonal es mayor que la suma de los valores absolutos de su fila."
   ]
  },
  {
   "cell_type": "code",
   "execution_count": null,
   "id": "863d5540",
   "metadata": {},
   "outputs": [],
   "source": [
    "def es_diagonal_dominante_por_filas(matriz):\n",
    "    # Iterar sobre cada fila de la matriz\n",
    "    for i in range(len(matriz)):\n",
    "        suma_absoluta = sum(abs(matriz[i][j]) for j in range(len(matriz[i])) if j != i)\n",
    "        # Verificar si el valor absoluto del elemento en la diagonal es mayor o igual que la suma de los otros elementos\n",
    "        if abs(matriz[i][i]) < suma_absoluta:\n",
    "            return False\n",
    "    return True\n",
    "\n",
    "def es_diag_comp(matriz):\n",
    "    return all([abs(matriz[i][i])> sum([matriz[i][j] for j in range(len(matriz[i])) if j != i]) for i in range(len(matriz))])"
   ]
  },
  {
   "cell_type": "code",
   "execution_count": null,
   "id": "31ead343",
   "metadata": {},
   "outputs": [],
   "source": [
    "matriz = [[4, -1, 0],\n",
    "          [-1, 5, -1],\n",
    "          [0, -1, 4]]\n",
    "es_diag_comp(matriz)"
   ]
  },
  {
   "cell_type": "markdown",
   "id": "6f98cab3",
   "metadata": {},
   "source": [
    "12 En este ejercicio recrearemos el método para hallar el autovector dominante de forma iterativa. \n",
    "\n",
    "El primer paso será crear una función que, dado un vector visto comouna lista, tome su norma infinito, es decir, el valor máximo del vector y nos devuelva el vector dividido entre esta.\n",
    "\n",
    "Después crearemos una función que tomará una matriz y un vector y nos devolverá el producto de ambos.\n",
    "\n",
    "Finalmente crearemos el algoritmo, dados una matriz y un vector multiplicaremos el vector a la matriz, posteriormente dividiremos el resultado entre su norma infinito y repetimos el proceso un número lo suficientemente grande de veces. "
   ]
  },
  {
   "cell_type": "code",
   "execution_count": null,
   "id": "1c0d7fdc",
   "metadata": {},
   "outputs": [],
   "source": [
    "def normalizar(v):\n",
    "    v = list(map(abs,v))\n",
    "    norm = max(v)\n",
    "    for i in range(len(v)):\n",
    "        v[i] = v[i]/norm\n",
    "    return v\n",
    "def producto(matriz,vector):\n",
    "    resultado = []\n",
    "    for fila in matriz:\n",
    "        suma = 0\n",
    "        for i in range(len(fila)):\n",
    "            suma += fila[i] * vector[i]\n",
    "        resultado.append(suma)\n",
    "    \n",
    "    return resultado\n",
    "\n",
    "def algoritmo(m,v,ite):\n",
    "    for _ in range(ite):\n",
    "        w = producto(m,v)\n",
    "        v = normalizar(w)\n",
    "    return v"
   ]
  },
  {
   "cell_type": "code",
   "execution_count": null,
   "id": "491de38f",
   "metadata": {},
   "outputs": [],
   "source": [
    "matriz = [[1,2,3],[0,2,2],[0,0,4]]\n",
    "\n",
    "algoritmo(matriz,[1,1,1],10)\n",
    "\n",
    "normalizar([1,2,-3])"
   ]
  },
  {
   "cell_type": "markdown",
   "id": "1979b4be",
   "metadata": {},
   "source": [
    "13 Una matriz se dice totalmente unimodular (TUM) si esta compuesta unicamente por -1, 0 o 1. Crea una función que reciba una matriz vista como lista de listas y compruebe si es TUM"
   ]
  },
  {
   "cell_type": "code",
   "execution_count": null,
   "id": "05fb52bd",
   "metadata": {},
   "outputs": [],
   "source": [
    "def es_TUM(m):\n",
    "    p = (lambda x: x in[-1,0,1])\n",
    "    return all([p(m[i][j]) for i in range(len(m))for j in range(len(m[0]))])"
   ]
  },
  {
   "cell_type": "code",
   "execution_count": null,
   "id": "b7b0ff08",
   "metadata": {},
   "outputs": [],
   "source": [
    "matriz = [[-1, -1, 0, 0, 0, 1],\n",
    "          [1, 0, -1, -1, 0, 0],\n",
    "          [0, 1, 1, 0, -1, 0],\n",
    "          [0, 0, 0, 1, 1, -1]]\n",
    "\n",
    "es_TUM(matriz)\n"
   ]
  },
  {
   "cell_type": "markdown",
   "id": "d9db0223",
   "metadata": {},
   "source": [
    "14 Crea una función que elimine los elementos en la posición par de una pila."
   ]
  },
  {
   "cell_type": "code",
   "execution_count": null,
   "id": "deb817f3",
   "metadata": {},
   "outputs": [],
   "source": [
    "def elimina_pares(p):\n",
    "    p = deepcopy(p)\n",
    "    def aux(pila,n):\n",
    "        if pila.esVacia():\n",
    "            return pila\n",
    "        else:\n",
    "            if n%2 == 0:\n",
    "                return aux(pila.desapila(),n+1)\n",
    "            else:\n",
    "                r = pila.cima()\n",
    "                return aux(pila.desapila(),n+1).apila(r)\n",
    "    return aux(p,0)\n",
    "    "
   ]
  },
  {
   "cell_type": "code",
   "execution_count": null,
   "id": "83a0d1d9",
   "metadata": {},
   "outputs": [],
   "source": [
    "elimina_pares(p1)"
   ]
  },
  {
   "cell_type": "markdown",
   "id": "73884272",
   "metadata": {},
   "source": [
    "15 Queremos  ir al cine a ver los vengadores, pero el orden de las películas es un poco difuso, hemos preguntado a un amigo que sabe de Marvel y nos ha dicho lo siguiente:\n",
    "\n",
    "    1 La primera que hay que ver es Capitana Marvel.\n",
    "    2 Para ver el capitán America necesitas haber visto Capitana Marvel.\n",
    "    3 Para ver Iron Man I necesitas haber visto Capitán america.\n",
    "    4 Para ver Iron Man II necesitas haber visto Iron Man I.\n",
    "    5 Para ver Hulk necesitas haber visto  Iron Man II y Capitana Marvel.\n",
    "    6 Para ver Thor necesitas haber visto Capitana Marvel y Iron Man II.\n",
    "    7 finalmente para ver a los vengadores necesitas haber visto Thor, Hulk Iron Man II y Capitán America.\n",
    "Utiliza un grafo dirigido para resolver este problema."
   ]
  },
  {
   "cell_type": "code",
   "execution_count": null,
   "id": "ebedaf19",
   "metadata": {},
   "outputs": [],
   "source": [
    "g_marvel = Grafod()\n",
    "\n",
    "g_marvel.añade_vertice(Vertice(\"CM\")) #0\n",
    "g_marvel.añade_vertice(Vertice(\"CA\")) #1\n",
    "g_marvel.añade_vertice(Vertice(\"IMI\")) #2\n",
    "g_marvel.añade_vertice(Vertice(\"IMII\")) #3\n",
    "g_marvel.añade_vertice(Vertice(\"Thor\")) #4\n",
    "g_marvel.añade_vertice(Vertice(\"Hulk\")) #5\n",
    "g_marvel.añade_vertice(Vertice(\"Vengadores\")) #6\n",
    "\n",
    "g_marvel.añade_arista(0,1)\n",
    "g_marvel.añade_arista(0,4)\n",
    "g_marvel.añade_arista(0,5)\n",
    "g_marvel.añade_arista(1,2)\n",
    "g_marvel.añade_arista(1,6)\n",
    "g_marvel.añade_arista(2,3)\n",
    "g_marvel.añade_arista(2,4)\n",
    "g_marvel.añade_arista(2,6)\n",
    "g_marvel.añade_arista(4,5)\n",
    "g_marvel.añade_arista(5,6)\n",
    "\n",
    "\n",
    "vertices_camino(g_marvel,ordena_vertices_topologicamente(g_marvel))\n"
   ]
  },
  {
   "cell_type": "markdown",
   "id": "485b767e",
   "metadata": {},
   "source": [
    "16 Crea una función que dadas dos pilas, las una poniendo la segunda encima de la primera manteniendo el orden.\n"
   ]
  },
  {
   "cell_type": "code",
   "execution_count": null,
   "id": "05196e58",
   "metadata": {},
   "outputs": [],
   "source": [
    "def append_pilas(p1,p2):\n",
    "    p1 = deepcopy(p1)\n",
    "    p2 = deepcopy(p2)\n",
    "    if p2.esVacia():\n",
    "        return p1\n",
    "    else:\n",
    "        r = p2.cima()\n",
    "        return append_pilas(p1,p2.desapila()).apila(r)"
   ]
  },
  {
   "cell_type": "code",
   "execution_count": null,
   "id": "89afdb99",
   "metadata": {},
   "outputs": [],
   "source": [
    "append_pilas(p1,p2)"
   ]
  },
  {
   "cell_type": "markdown",
   "id": "198102cd",
   "metadata": {},
   "source": [
    "17 Dado un grafo no dirigido G, decimos que tres vértices (v1,v2,v3) de G forman un triángulo si hay en G una arista entre cada par de ellos. Crea una función que, dado un grafo, devuelva la lista de los vertices que no estan en ningun triangulo.\n",
    "\n",
    "Para ello realizar una función auxiliar que dado un grafo y un vertice compruebe si este pertenece a algun triangulo."
   ]
  },
  {
   "cell_type": "code",
   "execution_count": null,
   "id": "92e2e863",
   "metadata": {},
   "outputs": [],
   "source": [
    "def verticeSinTriangulo(g):\n",
    "    return [x for x in g.vertices() if sinTriangulo(g,x)]\n",
    "\n",
    "def sinTriangulo(g,x):\n",
    "    return (triangulos(g,x) == [])\n",
    "\n",
    "\n",
    "def triangulos(g,x):\n",
    "    return [(y,z) for y in  g.vertices_adyacentes(x) for z in g.vertices_adyacentes(x) if g.hay_arista(y,z)]"
   ]
  },
  {
   "cell_type": "code",
   "execution_count": null,
   "id": "ee644562",
   "metadata": {},
   "outputs": [],
   "source": [
    "verticeSinTriangulo(grafo1)"
   ]
  },
  {
   "cell_type": "markdown",
   "id": "8457fb0c",
   "metadata": {},
   "source": [
    "18 En el diccionario se ha dado una lista con fichas de colores, crear una función que resuelva el problema de crear una fila con todas las fichas de forma que dos fichas unidas compartan color. \n",
    "Para ello primero crea una función que cree todas las formas de combinar las fichas sin repetirlas. Posteriormente una función que, para una fila de 4 fichas, compruebe si es una solución de nuestro problema. Finalmente usa ambas funciones para dar una solución al problema."
   ]
  },
  {
   "attachments": {
    "image.png": {
     "image/png": "[encoded data removed]"
    }
   },
   "cell_type": "markdown",
   "id": "b238da9b",
   "metadata": {},
   "source": [
    "![image.png](attachment:image.png)"
   ]
  },
  {
   "cell_type": "code",
   "execution_count": 8,
   "id": "36af68e8",
   "metadata": {},
   "outputs": [],
   "source": [
    "fichas = {\n",
    "    \"ficha1\":{\"izq\":\"r\",\"der\":\"v\"},\n",
    "    \"ficha2\":{\"izq\":\"v\",\"der\":\"r\"},\n",
    "    \"ficha3\":{\"izq\":\"a\",\"der\":\"v\"},\n",
    "    \"ficha4\":{\"izq\":\"r\",\"der\":\"a\"},\n",
    "         \n",
    "         }"
   ]
  },
  {
   "cell_type": "code",
   "execution_count": 9,
   "id": "44bc9168",
   "metadata": {},
   "outputs": [],
   "source": [
    "def estados_posibles():\n",
    "    return obtener_permutaciones([\"ficha1\",\"ficha2\",\"ficha3\",\"ficha4\"])\n",
    "\n",
    "def respuesta_valida(estado):\n",
    "    c1 = fichas[estado[0]][\"der\"] == fichas[estado[1]][\"izq\"]\n",
    "    c2 = fichas[estado[1]][\"der\"] == fichas[estado[2]][\"izq\"]\n",
    "    c3 = fichas[estado[2]][\"der\"] == fichas[estado[3]][\"izq\"]\n",
    "\n",
    "    return all([c1,c2,c3])\n",
    "\n",
    "def respuesta():\n",
    "    resp = []\n",
    "    for solucion_posible in estados_posibles():\n",
    "        \n",
    "        if respuesta_valida(solucion_posible):\n",
    "            resp.append(solucion_posible)\n",
    "    return resp"
   ]
  },
  {
   "cell_type": "code",
   "execution_count": 10,
   "id": "c9dfbd20",
   "metadata": {},
   "outputs": [
    {
     "data": {
      "text/plain": [
       "[['ficha1', 'ficha2', 'ficha4', 'ficha3'],\n",
       " ['ficha4', 'ficha3', 'ficha2', 'ficha1']]"
      ]
     },
     "execution_count": 10,
     "metadata": {},
     "output_type": "execute_result"
    }
   ],
   "source": [
    "respuesta()"
   ]
  },
  {
   "cell_type": "markdown",
   "id": "94af5e55",
   "metadata": {},
   "source": [
    "19 Un 6-puzzle es un clásico pasatiempo en el que debemos ordenar una serie de fichas deslizables. En nuestra versión el puzzle será una matriz vista como lista de listas con los números del 1 al 5 para notar las fichas y el 0 para el hueco deslizable.\n",
    "\n",
    "Vamos a crear una función que dada una posición cualquiera del 6-puzzle lo resuelva. para ello:\n",
    "\n",
    "    1 Crea una lista con todos los estados posibles.\n",
    "    2 Crea una función para cada uno de los cuatro movimientos válidos, es decir, arriba, abajo, izquierda y derecha, para un cierto estado dado.\n",
    "    3 Crea una función que reciba un estado como argumento y devuelva la lista de estados posibles a los que se puede llegar a partir de este.\n",
    "    4 Crea una función para comprobar si un estado es el estado final, es decir, el  [1,2,3,4,5,0].\n",
    "    5 Finalmente crea una función que mediante un grafo dirigido resuelva el problema de forma similar a la vista en clase.\n",
    "    \n",
    "Importante: Debido al tipo de dato que usamos, para crear una copia de un estado no se puede hacer nuevo_estado = estado[:] sino nuevo_estado = deepcopy(estado)"
   ]
  },
  {
   "cell_type": "code",
   "execution_count": null,
   "id": "8eb0365c",
   "metadata": {},
   "outputs": [],
   "source": [
    "from copy import deepcopy\n",
    "L = [1,2,3]\n",
    "L1 = L[:]"
   ]
  },
  {
   "cell_type": "code",
   "execution_count": 14,
   "id": "30fe838c",
   "metadata": {},
   "outputs": [],
   "source": [
    "def estados_posibles():\n",
    "    perm = obtener_permutaciones([1,2,3,4,5,0])\n",
    "    for i,elem in enumerate(perm):\n",
    "        perm[i] = [[elem[0],elem[1],elem[2]],[elem[3],elem[4],elem[5]]]\n",
    "    return perm\n",
    "\n",
    "def es_sol(estado):\n",
    "    return estado == [[1,2,3],[4,5,0]]\n",
    "\n",
    "def subir(estado):\n",
    "    nestado = deepcopy(estado)\n",
    "    columna = estado[1].index(0)\n",
    "    nestado[0][columna],nestado[1][columna] =nestado[1][columna],nestado[0][columna]\n",
    "    return nestado\n",
    "\n",
    "\n",
    "def bajar(estado):\n",
    "    nestado = deepcopy(estado)\n",
    "    columna = estado[0].index(0)\n",
    "    nestado[0][columna],nestado[1][columna] =nestado[1][columna],nestado[0][columna]\n",
    "    return nestado\n",
    "\n",
    "def derecha(estado):\n",
    "    nestado = deepcopy(estado)\n",
    "    if 0 in estado[0]:\n",
    "        columna = estado[0].index(0)\n",
    "        nestado[0][columna],nestado[0][columna+1] =nestado[0][columna+1],nestado[0][columna]\n",
    "    else:\n",
    "        columna = estado[1].index(0)\n",
    "        nestado[1][columna],nestado[1][columna+1] =nestado[1][columna+1],nestado[1][columna]\n",
    "    return nestado\n",
    "\n",
    "def izquierda(estado):\n",
    "    nestado = deepcopy(estado)\n",
    "    if 0 in estado[0]:\n",
    "        columna = estado[0].index(0)\n",
    "        nestado[0][columna],nestado[0][columna-1] =nestado[0][columna-1],nestado[0][columna]\n",
    "    else:\n",
    "        columna = estado[1].index(0)\n",
    "        nestado[1][columna],nestado[1][columna-1] =nestado[1][columna-1],nestado[1][columna]\n",
    "    \n",
    "    return nestado\n",
    "\n",
    "def mov_posibles(estado):\n",
    "    ret = []\n",
    "    if 0 in estado[0]:\n",
    "        \n",
    "        if 0 < estado[0].index(0):\n",
    "            \n",
    "            ret.append(izquierda(estado))\n",
    "            \n",
    "        if estado[0].index(0) < 2:\n",
    "            \n",
    "            ret.append(derecha(estado))\n",
    "            \n",
    "        ret.append(bajar(estado))\n",
    "      \n",
    "    else:\n",
    "        if 0 < estado[1].index(0):\n",
    "            ret.append(izquierda(estado))\n",
    "        if estado[1].index(0) < 2:\n",
    "            ret.append(derecha(estado))\n",
    "        ret.append(subir(estado))\n",
    "    return ret\n",
    "\n",
    "\n",
    "def puzle6(inicio):\n",
    "    grafo = Grafod()\n",
    "    \n",
    "    estados = estados_posibles()\n",
    "    \n",
    "    for estado in estados:\n",
    "        grafo.añade_vertice(Vertice(estado))\n",
    "    for origen in estados:\n",
    "        for destino in mov_posibles(origen):\n",
    "            i = estados.index(origen)\n",
    "            j = estados.index(destino)\n",
    "            grafo.añade_arista(i, j)\n",
    "       \n",
    "    inicio = estados.index(inicio)\n",
    "    for camino in recorrido_anchura_caminos(grafo, inicio):\n",
    "        \n",
    "        ultimo = vertices_camino(grafo,camino)[-1]\n",
    "        if es_sol(ultimo):\n",
    "            return vertices_camino(grafo, camino)"
   ]
  },
  {
   "cell_type": "code",
   "execution_count": 15,
   "id": "57dfd46e",
   "metadata": {},
   "outputs": [
    {
     "name": "stdout",
     "output_type": "stream",
     "text": [
      "[[[1, 2, 3], [4, 0, 5]], [[1, 2, 3], [4, 5, 0]]]\n"
     ]
    }
   ],
   "source": [
    "print(puzle6([[1,2,3],[4,0,5]]))"
   ]
  },
  {
   "cell_type": "code",
   "execution_count": null,
   "id": "b5172e82",
   "metadata": {},
   "outputs": [],
   "source": [
    "mov_posibles([[1,0,3],[4,2,5]])"
   ]
  },
  {
   "cell_type": "markdown",
   "id": "72e50e16",
   "metadata": {},
   "source": [
    "20 Ahora volveremos a resolver el ejercicio 18, pero utilizando el método del ejercicio 19."
   ]
  },
  {
   "cell_type": "code",
   "execution_count": 16,
   "id": "fa69ff1b",
   "metadata": {},
   "outputs": [],
   "source": [
    "def estados_posibles():\n",
    "    l = [\"ficha1\",\"ficha2\",\"ficha3\",\"ficha4\"]\n",
    "    subconjuntos = obtener_subconjuntos(l)\n",
    "    perm = []\n",
    "    for subconjunto in subconjuntos:\n",
    "        perm += obtener_permutaciones(subconjunto)\n",
    "    return ((perm))\n",
    "\n",
    "def cambios_posibles(estado):\n",
    "    l = [\"ficha1\",\"ficha2\",\"ficha3\",\"ficha4\"]\n",
    "    aux = []\n",
    "    for ficha in l:\n",
    "        if estado != []:\n",
    "            if ficha not in estado and fichas[estado[-1]][\"der\"] == fichas[ficha][\"izq\"]:\n",
    "                aux.append(añade_ficha(estado,ficha))\n",
    "        else:\n",
    "            aux = [[\"ficha1\"],[\"ficha2\"],[\"ficha3\"],[\"ficha4\"]]\n",
    "    return aux\n",
    "    \n",
    "def añade_ficha(estado,ficha):\n",
    "    nestado = estado [:]\n",
    "    nestado.append(ficha)\n",
    "    return nestado\n",
    "\n",
    "def fila_fichas(inicio):\n",
    "    grafo = Grafod()\n",
    "    \n",
    "    estados = estados_posibles()\n",
    "    \n",
    "    for estado in estados:\n",
    "        grafo.añade_vertice(Vertice(estado))\n",
    "    for origen in estados:\n",
    "        for destino in cambios_posibles(origen):\n",
    "            i = estados.index(origen)\n",
    "            j = estados.index(destino)\n",
    "            grafo.añade_arista(i, j)\n",
    "       \n",
    "    inicio = estados.index(inicio)\n",
    "    for camino in recorrido_anchura_caminos(grafo, inicio):\n",
    "        \n",
    "        ultimo = vertices_camino(grafo,camino)[-1]\n",
    "        if len(ultimo) == 4:\n",
    "            return vertices_camino(grafo, camino)"
   ]
  },
  {
   "cell_type": "code",
   "execution_count": 17,
   "id": "14681f07",
   "metadata": {},
   "outputs": [
    {
     "data": {
      "text/plain": [
       "[[],\n",
       " ['ficha4'],\n",
       " ['ficha4', 'ficha3'],\n",
       " ['ficha4', 'ficha3', 'ficha2'],\n",
       " ['ficha4', 'ficha3', 'ficha2', 'ficha1']]"
      ]
     },
     "execution_count": 17,
     "metadata": {},
     "output_type": "execute_result"
    }
   ],
   "source": [
    "fila_fichas([])"
   ]
  },
  {
   "cell_type": "markdown",
   "id": "165eceb5",
   "metadata": {},
   "source": []
  },
  {
   "cell_type": "code",
   "execution_count": 2,
   "id": "38854cb9",
   "metadata": {},
   "outputs": [],
   "source": [
    "def fib_sol():\n",
    "    dic = {1:1,2:1}\n",
    "    i = 3\n",
    "    compr = len(str(dic[i-1]+dic[i-2])) < 1000\n",
    "    while compr:\n",
    "        dic[i] = dic[i-1]+dic[i-2]\n",
    "        \n",
    "        i += 1\n",
    "        compr = len(str(dic[i-1]+dic[i-2])) < 10000\n",
    "    return i"
   ]
  },
  {
   "cell_type": "code",
   "execution_count": null,
   "id": "0dc825e9",
   "metadata": {},
   "outputs": [],
   "source": [
    "fib_sol()"
   ]
  },
  {
   "cell_type": "code",
   "execution_count": null,
   "id": "a6833e46",
   "metadata": {},
   "outputs": [],
   "source": [
    "2+2"
   ]
  }
 ],
 "metadata": {
  "kernelspec": {
   "display_name": "Python 3 (ipykernel)",
   "language": "python",
   "name": "python3"
  },
  "language_info": {
   "codemirror_mode": {
    "name": "ipython",
    "version": 3
   },
   "file_extension": ".py",
   "mimetype": "text/x-python",
   "name": "python",
   "nbconvert_exporter": "python",
   "pygments_lexer": "ipython3",
   "version": "3.9.13"
  }
 },
 "nbformat": 4,
 "nbformat_minor": 5
}
