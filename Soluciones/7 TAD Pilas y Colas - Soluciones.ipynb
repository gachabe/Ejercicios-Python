{
 "cells": [
  {
   "cell_type": "code",
   "execution_count": 2,
   "id": "3b83af8d",
   "metadata": {},
   "outputs": [],
   "source": [
    "from Pilas import Pila\n",
    "from Colas import Cola\n",
    "from copy import deepcopy\n",
    "\n",
    "#Pilas\n",
    "\n",
    "p1, p2, p3, p4, p5, p6, p7 = Pila(), Pila(), Pila(), Pila(), Pila(), Pila(), Pila()\n",
    "for i in range(1,21)[::-1]: p1.apila(i)\n",
    "for i in range(2,19,3)[::-1]: p2.apila(i)\n",
    "for i in range(3,11)[::-1]: p3.apila(i)\n",
    "for i in (4,-1,7,3,8,10,0,3,3,4)[::-1]: p4.apila(i)\n",
    "for i in range(1,6)[::-1]: p5.apila(i)\n",
    "for i in range(2,21,2)[::-1]: p6.apila(i)    \n",
    "for i in range(8,28)[::-1]: p7.apila(i)\n",
    "    \n",
    "#Colas\n",
    "c1, c2, c3, c4, c5, c6 = Cola(), Cola(), Cola(), Cola(), Cola(), Cola()\n",
    "for i in range(1,21)[::-1]: c1.inserta(i)\n",
    "for i in range(2,19,3)[::-1]: c2.inserta(i)\n",
    "for i in range(3,11)[::-1]: c3.inserta(i)\n",
    "for i in (4,-1,7,3,8,10,0,3,3,4)[::-1]: c4.inserta(i)\n",
    "for i in range(15,20)[::-1]: c5.inserta(i)\n",
    "for i in range(2,21,2): c6.inserta(i)\n",
    "    \n",
    "def mayorQueCero(x):\n",
    "    return x > 0\n",
    "\n",
    "def menorQueCero(x):\n",
    "    return x < 0\n",
    "\n",
    "def esPar(x):\n",
    "    return x % 2 == 0"
   ]
  },
  {
   "cell_type": "code",
   "execution_count": 3,
   "id": "1a903131",
   "metadata": {},
   "outputs": [
    {
     "data": {
      "text/plain": [
       "1"
      ]
     },
     "execution_count": 3,
     "metadata": {},
     "output_type": "execute_result"
    }
   ],
   "source": [
    "p1.cima(º)"
   ]
  },
  {
   "cell_type": "markdown",
   "id": "909578cb",
   "metadata": {},
   "source": [
    "# Pilas"
   ]
  },
  {
   "cell_type": "markdown",
   "id": "20e5d4ad",
   "metadata": {},
   "source": [
    "Crea una función que, dada una pila, nos diga la profundidad de esta, es decir, la cantidad de elementos que esta tiene."
   ]
  },
  {
   "cell_type": "code",
   "execution_count": 39,
   "id": "ab81db8a",
   "metadata": {},
   "outputs": [
    {
     "data": {
      "text/plain": [
       "20"
      ]
     },
     "execution_count": 39,
     "metadata": {},
     "output_type": "execute_result"
    }
   ],
   "source": [
    "def profundidad(q):\n",
    "    p = deepcopy(q)\n",
    "    if p.esVacia():\n",
    "        return 0\n",
    "    else:\n",
    "        return 1+profundidad(p.desapila())\n",
    "profundidad(p1)"
   ]
  },
  {
   "cell_type": "markdown",
   "id": "91160ecc",
   "metadata": {},
   "source": [
    "Crea una función que nos diga la cantidad de elementos pares que tenga una pila dada"
   ]
  },
  {
   "cell_type": "code",
   "execution_count": 233,
   "id": "3ccf8265",
   "metadata": {},
   "outputs": [],
   "source": [
    "def cuentaPar(q):\n",
    "    p = deepcopy(q)\n",
    "    if p.esVacia():\n",
    "        return 0\n",
    "    elif p.cima()%2==0:\n",
    "        return 1+cuentaPar(p.desapila())\n",
    "    else:\n",
    "         return cuentaPar(p.desapila())\n",
    "    "
   ]
  },
  {
   "cell_type": "code",
   "execution_count": 32,
   "id": "77501f48",
   "metadata": {},
   "outputs": [
    {
     "data": {
      "text/plain": [
       "10"
      ]
     },
     "execution_count": 32,
     "metadata": {},
     "output_type": "execute_result"
    }
   ],
   "source": [
    "cuentaPar(p1)"
   ]
  },
  {
   "cell_type": "markdown",
   "id": "584e92e9",
   "metadata": {},
   "source": [
    "Crea una función que dada una pila ordenada y un elementos x inserte este elemento x en la pila manteniendo el orden."
   ]
  },
  {
   "cell_type": "code",
   "execution_count": 2,
   "id": "7026aa72",
   "metadata": {},
   "outputs": [],
   "source": [
    "def insertaOrdenada(q,x):\n",
    "    p = deepcopy(q)\n",
    "    if p.esVacia():\n",
    "        return p.apila(x)\n",
    "    elif x < p.cima():\n",
    "        return p.apila(x)\n",
    "    else:\n",
    "        r = p.cima()\n",
    "        return insertaOrdenada(p.desapila(),x).apila(r)\n",
    "                "
   ]
  },
  {
   "cell_type": "code",
   "execution_count": 5,
   "id": "13abce09",
   "metadata": {},
   "outputs": [
    {
     "data": {
      "text/plain": [
       "1|2|3|4|5|6|7|8|9|10|10|11|12|13|14|15|16|17|18|19|20 -"
      ]
     },
     "execution_count": 5,
     "metadata": {},
     "output_type": "execute_result"
    }
   ],
   "source": [
    "insertaOrdenada(p1,10)"
   ]
  },
  {
   "cell_type": "markdown",
   "id": "f2b5735e",
   "metadata": {},
   "source": [
    "Crea una función que, dada una pila, elimine los elementos repetidos de esta. PISTA: Puede ser necesaria una función previa que compruebe si un elemento x pertence a una pila p."
   ]
  },
  {
   "cell_type": "code",
   "execution_count": 298,
   "id": "7f3b3801",
   "metadata": {},
   "outputs": [],
   "source": [
    "\n",
    "def pertenecePila(x, q) -> bool:\n",
    "    p = deepcopy(q)\n",
    "    if p.esVacia():\n",
    "        return False\n",
    "    cp = deepcopy(p.cima())\n",
    "    dp = deepcopy(p.desapila())\n",
    "    return x == cp or pertenecePila(x, dp)\n",
    "    \n",
    "def nubPila(q):\n",
    "    p = deepcopy(q)\n",
    "    x = deepcopy(p.cima())\n",
    "    xs = deepcopy(p.desapila())\n",
    "    if p.esVacia():\n",
    "        print(0,p)\n",
    "        return Pila().apila(x)\n",
    "    elif pertenecePila(x,xs):\n",
    "        print(1,p)\n",
    "        return nubPila(xs)\n",
    "    else:\n",
    "        print(2,p)\n",
    "        return nubPila(xs).apila(x)"
   ]
  },
  {
   "cell_type": "code",
   "execution_count": 296,
   "id": "e4e2c9e2",
   "metadata": {},
   "outputs": [
    {
     "data": {
      "text/plain": [
       "4|-1|7|3|8|10|0|3|3|4 -"
      ]
     },
     "execution_count": 296,
     "metadata": {},
     "output_type": "execute_result"
    }
   ],
   "source": [
    "p4\n",
    "pertenecePila(4,p4)\n",
    "p4"
   ]
  },
  {
   "cell_type": "code",
   "execution_count": 299,
   "id": "e3019267",
   "metadata": {},
   "outputs": [
    {
     "name": "stdout",
     "output_type": "stream",
     "text": [
      "1 -1|7|3|8|10|0|3|3|4 -\n",
      "2 7|3|8|10|0|3|3|4 -\n",
      "2 3|8|10|0|3|3|4 -\n",
      "1 8|10|0|3|3|4 -\n",
      "2 10|0|3|3|4 -\n",
      "2 0|3|3|4 -\n",
      "2 3|3|4 -\n",
      "1 3|4 -\n",
      "2 4 -\n",
      "0  -\n"
     ]
    },
    {
     "data": {
      "text/plain": [
       "-1|7|8|10|0|3|4 -"
      ]
     },
     "execution_count": 299,
     "metadata": {},
     "output_type": "execute_result"
    }
   ],
   "source": [
    "nubPila(p4)\n"
   ]
  },
  {
   "cell_type": "markdown",
   "id": "4bbab83b",
   "metadata": {},
   "source": [
    "Crea una función que reciba una pila y devuelva la misma pila pero en sentido inverso."
   ]
  },
  {
   "cell_type": "code",
   "execution_count": 28,
   "id": "39ee7882",
   "metadata": {},
   "outputs": [
    {
     "data": {
      "text/plain": [
       "20|19|18|17|16|15|14|13|12|11|10|9|8|7|6|5|4|3|2|1 -"
      ]
     },
     "execution_count": 28,
     "metadata": {},
     "output_type": "execute_result"
    }
   ],
   "source": [
    "def inversaPilaAux(aux,p):\n",
    "    pila = deepcopy(p)\n",
    "    if not pila.esVacia():\n",
    "        return inversaPilaAux(aux.apila(pila.cima()), pila.desapila())\n",
    "    else:\n",
    "        return aux\n",
    "    \n",
    "    \n",
    "def inversaPila(p):\n",
    "    pila = deepcopy(p)\n",
    "    return inversaPilaAux(Pila(),pila)\n",
    "\n",
    "inversaPila(p1)\n"
   ]
  },
  {
   "cell_type": "markdown",
   "id": "0e8cd484",
   "metadata": {},
   "source": [
    "Crea una función que reciba dos pilas y las una intercalanado elementos de ambas"
   ]
  },
  {
   "cell_type": "code",
   "execution_count": 33,
   "id": "825c8956",
   "metadata": {},
   "outputs": [],
   "source": [
    "def mergePilas(p1,p2):\n",
    "    pila1 = deepcopy(p1)\n",
    "    pila2 = deepcopy(p2)\n",
    "    if pila1.esVacia():\n",
    "        return pila2\n",
    "    elif pila2.esVacia():\n",
    "        return pila1\n",
    "    else:\n",
    "        x1 = pila1.cima()\n",
    "        x2 = pila2.cima()\n",
    "        return ((mergePilas(pila1.desapila(),pila2.desapila())).apila(x2)).apila(x1)\n"
   ]
  },
  {
   "cell_type": "code",
   "execution_count": 34,
   "id": "1fbc640c",
   "metadata": {},
   "outputs": [
    {
     "name": "stdout",
     "output_type": "stream",
     "text": [
      "1|2|3|4|5|6|7|8|9|10|11|12|13|14|15|16|17|18|19|20 -\n",
      "2|5|8|11|14|17 -\n",
      "1|2|2|5|3|8|4|11|5|14|6|17|7|8|9|10|11|12|13|14|15|16|17|18|19|20 -\n"
     ]
    }
   ],
   "source": [
    "print(p1)\n",
    "print(p2)\n",
    "print(mergePilas(p1,p2))"
   ]
  },
  {
   "cell_type": "markdown",
   "id": "3607cd09",
   "metadata": {},
   "source": [
    "crea una función llamada particiones(p,n) que dada una pila p divida esta en subpilas de longitud n, almacena estas subpilas en una pila, es decir, esta función devuelve una pila de pilas."
   ]
  },
  {
   "cell_type": "code",
   "execution_count": 48,
   "id": "87834a5a",
   "metadata": {},
   "outputs": [],
   "source": [
    "def particiones(pila,n):\n",
    "    particiones = profundidad(pila)//n\n",
    "    aux = Pila()\n",
    "    p = deepcopy(pila)\n",
    "    for _ in range(particiones):\n",
    "            paux = Pila()\n",
    "            for _ in range(n):\n",
    "                paux.apila(p.cima())\n",
    "                p.desapila()\n",
    "            aux.apila(inversaPila(paux))\n",
    "    if not p.esVacia():\n",
    "        aux.apila(p)\n",
    "    return aux"
   ]
  },
  {
   "cell_type": "code",
   "execution_count": 52,
   "id": "6b3b2810",
   "metadata": {},
   "outputs": [
    {
     "data": {
      "text/plain": [
       "19|20 -|16|17|18 -|13|14|15 -|10|11|12 -|7|8|9 -|4|5|6 -|1|2|3 - -"
      ]
     },
     "execution_count": 52,
     "metadata": {},
     "output_type": "execute_result"
    }
   ],
   "source": [
    "particiones(p1,3)\n"
   ]
  },
  {
   "cell_type": "markdown",
   "id": "dbadbed9",
   "metadata": {},
   "source": [
    "# Colas"
   ]
  },
  {
   "cell_type": "markdown",
   "id": "9d039c49",
   "metadata": {},
   "source": [
    "Crea una función que, dada una cola, la convierta en una lista. No uses el método propio para ello\n"
   ]
  },
  {
   "cell_type": "code",
   "execution_count": 311,
   "id": "d6c6adb8",
   "metadata": {},
   "outputs": [],
   "source": [
    "def cola2Lista(c):\n",
    "    cola = deepcopy(c)\n",
    "    if cola.esVacia():\n",
    "        return []\n",
    "    else:\n",
    "        return [cola.primero()] + cola2Lista(cola.resto())\n",
    "        "
   ]
  },
  {
   "cell_type": "code",
   "execution_count": 317,
   "id": "815a6db6",
   "metadata": {},
   "outputs": [
    {
     "data": {
      "text/plain": [
       "[20, 19, 18, 17, 16, 15, 14, 13, 12, 11, 10, 9, 8, 7, 6, 5, 4, 3, 2, 1]"
      ]
     },
     "execution_count": 317,
     "metadata": {},
     "output_type": "execute_result"
    }
   ],
   "source": [
    "cola2Lista(c1)\n"
   ]
  },
  {
   "cell_type": "markdown",
   "id": "5ad9fe9f",
   "metadata": {},
   "source": [
    "###### Crea una función que dado una lista, convierta esta en cola"
   ]
  },
  {
   "cell_type": "code",
   "execution_count": 1,
   "id": "8f06bf75",
   "metadata": {},
   "outputs": [],
   "source": [
    "def lista2Cola(l):\n",
    "    c = Cola()\n",
    "    for i in l:\n",
    "        c.inserta(i)\n",
    "    return c\n",
    "\n",
    "def lista2colaRec(l):\n",
    "    c = Cola()\n",
    "    if l == []:\n",
    "        return c\n",
    "    else:\n",
    "        c.inserta(l[0])\n",
    "        lista2colaRec(l[:-1])"
   ]
  },
  {
   "cell_type": "code",
   "execution_count": 320,
   "id": "3a301dea",
   "metadata": {},
   "outputs": [
    {
     "data": {
      "text/plain": [
       "[1, 2, 3, 4]"
      ]
     },
     "execution_count": 320,
     "metadata": {},
     "output_type": "execute_result"
    }
   ],
   "source": [
    "cola2Lista(lista2Cola([1,2,3,4]))"
   ]
  },
  {
   "cell_type": "code",
   "execution_count": 3,
   "id": "abc75668",
   "metadata": {},
   "outputs": [],
   "source": [
    "lista2colaRec( [1,2,3])"
   ]
  },
  {
   "cell_type": "markdown",
   "id": "0d3fa858",
   "metadata": {},
   "source": [
    "Crea una función que dada una función booleana p y una cola c devuelva True si ningún elemento de c cumple p "
   ]
  },
  {
   "cell_type": "code",
   "execution_count": 326,
   "id": "eaa58a12",
   "metadata": {},
   "outputs": [
    {
     "data": {
      "text/plain": [
       "True"
      ]
     },
     "execution_count": 326,
     "metadata": {},
     "output_type": "execute_result"
    }
   ],
   "source": [
    "def ninguno_verifica(p,c):\n",
    "    cola = deepcopy(c)\n",
    "    if cola.esVacia():\n",
    "        return True\n",
    "    elif not p(cola.primero()):\n",
    "        return ninguno_verifica(p,cola.resto())\n",
    "    else:\n",
    "        return False\n",
    "        \n",
    "ninguno_verifica(menorQueCero,c1)   "
   ]
  },
  {
   "cell_type": "markdown",
   "id": "30794b73",
   "metadata": {},
   "source": [
    "Crea una función que dada una función booleana p y una cola c devuelva True si sólamente un elemento de c cumple p"
   ]
  },
  {
   "cell_type": "code",
   "execution_count": 328,
   "id": "1f1436c6",
   "metadata": {},
   "outputs": [],
   "source": [
    "def solo_uno_cumple(p,c):\n",
    "    cola = deepcopy(c)\n",
    "    if cola.esVacia():\n",
    "        return False\n",
    "    elif p(cola.primero()):\n",
    "        return ninguno_verifica(p,cola.resto())\n",
    "    else:\n",
    "        return solo_uno_cumple(p,cola.resto())\n",
    "        \n",
    "    "
   ]
  },
  {
   "cell_type": "markdown",
   "id": "ef41d51a",
   "metadata": {},
   "source": [
    "Crea una función que devuelva True si la cola que recibe es ordenada"
   ]
  },
  {
   "cell_type": "code",
   "execution_count": 341,
   "id": "9f420bd0",
   "metadata": {},
   "outputs": [
    {
     "data": {
      "text/plain": [
       "True"
      ]
     },
     "execution_count": 341,
     "metadata": {},
     "output_type": "execute_result"
    }
   ],
   "source": [
    "def ordenado_cola(c):\n",
    "\n",
    "    cola = deepcopy(c)\n",
    "    colaP1 = deepcopy(cola.primero())\n",
    "    colaR = deepcopy(cola.resto())\n",
    "    if not colaR.esVacia():\n",
    "        colaP2 = deepcopy(colaR.primero())\n",
    "    if cola.esVacia():\n",
    "        return True\n",
    "    elif colaR.esVacia():\n",
    "        return True\n",
    "    else:\n",
    "        return colaP1 >= colaP2 and ordenado_cola(colaR)\n",
    "ordenado_cola(c1)"
   ]
  },
  {
   "cell_type": "markdown",
   "id": "ab5baf1a",
   "metadata": {},
   "source": [
    "Crea una función que devuelva el máximo valor de una cola"
   ]
  },
  {
   "cell_type": "code",
   "execution_count": 30,
   "id": "0382ccd2",
   "metadata": {},
   "outputs": [],
   "source": [
    "def max_cola(c):\n",
    "    c= deepcopy(c)\n",
    "    p = c.primero()\n",
    "    r = c.resto()\n",
    "    print(\"cola=\",c)\n",
    "    print(\"r=\",r)\n",
    "    if c.esVacia():\n",
    "        raise Exception(\"Error\")\n",
    "    elif r.esVacia():\n",
    "        return p\n",
    "    else:\n",
    "        max(p,max_cola(r))"
   ]
  },
  {
   "cell_type": "code",
   "execution_count": 31,
   "id": "4df0b95d",
   "metadata": {},
   "outputs": [
    {
     "data": {
      "text/plain": [
       "C [20, 19, 18, 17, 16, 15, 14, 13, 12, 11, 10, 9, 8, 7, 6, 5, 4, 3, 2, 1]"
      ]
     },
     "execution_count": 31,
     "metadata": {},
     "output_type": "execute_result"
    }
   ],
   "source": [
    "c1"
   ]
  },
  {
   "cell_type": "code",
   "execution_count": 32,
   "id": "10fb3001",
   "metadata": {},
   "outputs": [
    {
     "name": "stdout",
     "output_type": "stream",
     "text": [
      "cola= C [19, 18, 17, 16, 15, 14, 13, 12, 11, 10, 9, 8, 7, 6, 5, 4, 3, 2, 1]\n",
      "r= C [19, 18, 17, 16, 15, 14, 13, 12, 11, 10, 9, 8, 7, 6, 5, 4, 3, 2, 1]\n",
      "cola= C [18, 17, 16, 15, 14, 13, 12, 11, 10, 9, 8, 7, 6, 5, 4, 3, 2, 1]\n",
      "r= C [18, 17, 16, 15, 14, 13, 12, 11, 10, 9, 8, 7, 6, 5, 4, 3, 2, 1]\n",
      "cola= C [17, 16, 15, 14, 13, 12, 11, 10, 9, 8, 7, 6, 5, 4, 3, 2, 1]\n",
      "r= C [17, 16, 15, 14, 13, 12, 11, 10, 9, 8, 7, 6, 5, 4, 3, 2, 1]\n",
      "cola= C [16, 15, 14, 13, 12, 11, 10, 9, 8, 7, 6, 5, 4, 3, 2, 1]\n",
      "r= C [16, 15, 14, 13, 12, 11, 10, 9, 8, 7, 6, 5, 4, 3, 2, 1]\n",
      "cola= C [15, 14, 13, 12, 11, 10, 9, 8, 7, 6, 5, 4, 3, 2, 1]\n",
      "r= C [15, 14, 13, 12, 11, 10, 9, 8, 7, 6, 5, 4, 3, 2, 1]\n",
      "cola= C [14, 13, 12, 11, 10, 9, 8, 7, 6, 5, 4, 3, 2, 1]\n",
      "r= C [14, 13, 12, 11, 10, 9, 8, 7, 6, 5, 4, 3, 2, 1]\n",
      "cola= C [13, 12, 11, 10, 9, 8, 7, 6, 5, 4, 3, 2, 1]\n",
      "r= C [13, 12, 11, 10, 9, 8, 7, 6, 5, 4, 3, 2, 1]\n",
      "cola= C [12, 11, 10, 9, 8, 7, 6, 5, 4, 3, 2, 1]\n",
      "r= C [12, 11, 10, 9, 8, 7, 6, 5, 4, 3, 2, 1]\n",
      "cola= C [11, 10, 9, 8, 7, 6, 5, 4, 3, 2, 1]\n",
      "r= C [11, 10, 9, 8, 7, 6, 5, 4, 3, 2, 1]\n",
      "cola= C [10, 9, 8, 7, 6, 5, 4, 3, 2, 1]\n",
      "r= C [10, 9, 8, 7, 6, 5, 4, 3, 2, 1]\n",
      "cola= C [9, 8, 7, 6, 5, 4, 3, 2, 1]\n",
      "r= C [9, 8, 7, 6, 5, 4, 3, 2, 1]\n",
      "cola= C [8, 7, 6, 5, 4, 3, 2, 1]\n",
      "r= C [8, 7, 6, 5, 4, 3, 2, 1]\n",
      "cola= C [7, 6, 5, 4, 3, 2, 1]\n",
      "r= C [7, 6, 5, 4, 3, 2, 1]\n",
      "cola= C [6, 5, 4, 3, 2, 1]\n",
      "r= C [6, 5, 4, 3, 2, 1]\n",
      "cola= C [5, 4, 3, 2, 1]\n",
      "r= C [5, 4, 3, 2, 1]\n",
      "cola= C [4, 3, 2, 1]\n",
      "r= C [4, 3, 2, 1]\n",
      "cola= C [3, 2, 1]\n",
      "r= C [3, 2, 1]\n",
      "cola= C [2, 1]\n",
      "r= C [2, 1]\n",
      "cola= C [1]\n",
      "r= C [1]\n",
      "cola= C []\n",
      "r= C []\n"
     ]
    },
    {
     "ename": "Exception",
     "evalue": "Error",
     "output_type": "error",
     "traceback": [
      "\u001b[1;31m---------------------------------------------------------------------------\u001b[0m",
      "\u001b[1;31mException\u001b[0m                                 Traceback (most recent call last)",
      "Cell \u001b[1;32mIn[32], line 1\u001b[0m\n\u001b[1;32m----> 1\u001b[0m \u001b[43mmax_cola\u001b[49m\u001b[43m(\u001b[49m\u001b[43mc1\u001b[49m\u001b[43m)\u001b[49m\n\u001b[0;32m      2\u001b[0m c1\n",
      "Cell \u001b[1;32mIn[30], line 12\u001b[0m, in \u001b[0;36mmax_cola\u001b[1;34m(c)\u001b[0m\n\u001b[0;32m     10\u001b[0m     \u001b[38;5;28;01mreturn\u001b[39;00m p\n\u001b[0;32m     11\u001b[0m \u001b[38;5;28;01melse\u001b[39;00m:\n\u001b[1;32m---> 12\u001b[0m     \u001b[38;5;28mmax\u001b[39m(p,\u001b[43mmax_cola\u001b[49m\u001b[43m(\u001b[49m\u001b[43mr\u001b[49m\u001b[43m)\u001b[49m)\n",
      "Cell \u001b[1;32mIn[30], line 12\u001b[0m, in \u001b[0;36mmax_cola\u001b[1;34m(c)\u001b[0m\n\u001b[0;32m     10\u001b[0m     \u001b[38;5;28;01mreturn\u001b[39;00m p\n\u001b[0;32m     11\u001b[0m \u001b[38;5;28;01melse\u001b[39;00m:\n\u001b[1;32m---> 12\u001b[0m     \u001b[38;5;28mmax\u001b[39m(p,\u001b[43mmax_cola\u001b[49m\u001b[43m(\u001b[49m\u001b[43mr\u001b[49m\u001b[43m)\u001b[49m)\n",
      "    \u001b[1;31m[... skipping similar frames: max_cola at line 12 (16 times)]\u001b[0m\n",
      "Cell \u001b[1;32mIn[30], line 12\u001b[0m, in \u001b[0;36mmax_cola\u001b[1;34m(c)\u001b[0m\n\u001b[0;32m     10\u001b[0m     \u001b[38;5;28;01mreturn\u001b[39;00m p\n\u001b[0;32m     11\u001b[0m \u001b[38;5;28;01melse\u001b[39;00m:\n\u001b[1;32m---> 12\u001b[0m     \u001b[38;5;28mmax\u001b[39m(p,\u001b[43mmax_cola\u001b[49m\u001b[43m(\u001b[49m\u001b[43mr\u001b[49m\u001b[43m)\u001b[49m)\n",
      "Cell \u001b[1;32mIn[30], line 8\u001b[0m, in \u001b[0;36mmax_cola\u001b[1;34m(c)\u001b[0m\n\u001b[0;32m      6\u001b[0m \u001b[38;5;28mprint\u001b[39m(\u001b[38;5;124m\"\u001b[39m\u001b[38;5;124mr=\u001b[39m\u001b[38;5;124m\"\u001b[39m,r)\n\u001b[0;32m      7\u001b[0m \u001b[38;5;28;01mif\u001b[39;00m c\u001b[38;5;241m.\u001b[39mesVacia():\n\u001b[1;32m----> 8\u001b[0m     \u001b[38;5;28;01mraise\u001b[39;00m \u001b[38;5;167;01mException\u001b[39;00m(\u001b[38;5;124m\"\u001b[39m\u001b[38;5;124mError\u001b[39m\u001b[38;5;124m\"\u001b[39m)\n\u001b[0;32m      9\u001b[0m \u001b[38;5;28;01melif\u001b[39;00m r\u001b[38;5;241m.\u001b[39mesVacia():\n\u001b[0;32m     10\u001b[0m     \u001b[38;5;28;01mreturn\u001b[39;00m p\n",
      "\u001b[1;31mException\u001b[0m: Error"
     ]
    }
   ],
   "source": [
    "max_cola(c1)\n",
    "c1"
   ]
  },
  {
   "cell_type": "markdown",
   "id": "a433942e",
   "metadata": {},
   "source": [
    "Crea una función que reciba una cola c y un número n y devuelva el elemento en la posicion n-ésima"
   ]
  },
  {
   "cell_type": "code",
   "execution_count": 7,
   "id": "49af1b43",
   "metadata": {},
   "outputs": [],
   "source": [
    "def getElem(c,n):\n",
    "    cola = deepcopy(c)\n",
    "    for _ in range(n):\n",
    "        if cola.esVacia():\n",
    "            raise Exception(\"Error\")\n",
    "        else:\n",
    "            cola.resto()\n",
    "    return cola.primero()\n",
    "def getElemRec(c,n):\n",
    "    cola = deepcopy(c)\n",
    "    if n ==0:\n",
    "        return cola.primero()\n",
    "    else:\n",
    "        return getElemRec(c.resto(),n-1)"
   ]
  },
  {
   "cell_type": "code",
   "execution_count": 8,
   "id": "e0025f3a",
   "metadata": {},
   "outputs": [
    {
     "data": {
      "text/plain": [
       "18"
      ]
     },
     "execution_count": 8,
     "metadata": {},
     "output_type": "execute_result"
    }
   ],
   "source": [
    "getElem(c1,1)"
   ]
  },
  {
   "cell_type": "code",
   "execution_count": 9,
   "id": "73112171",
   "metadata": {},
   "outputs": [
    {
     "data": {
      "text/plain": [
       "18"
      ]
     },
     "execution_count": 9,
     "metadata": {},
     "output_type": "execute_result"
    }
   ],
   "source": [
    "getElemRec(c1,1)"
   ]
  },
  {
   "cell_type": "code",
   "execution_count": null,
   "id": "e8ba8223",
   "metadata": {},
   "outputs": [],
   "source": []
  }
 ],
 "metadata": {
  "kernelspec": {
   "display_name": "Python 3 (ipykernel)",
   "language": "python",
   "name": "python3"
  },
  "language_info": {
   "codemirror_mode": {
    "name": "ipython",
    "version": 3
   },
   "file_extension": ".py",
   "mimetype": "text/x-python",
   "name": "python",
   "nbconvert_exporter": "python",
   "pygments_lexer": "ipython3",
   "version": "3.9.13"
  }
 },
 "nbformat": 4,
 "nbformat_minor": 5
}
