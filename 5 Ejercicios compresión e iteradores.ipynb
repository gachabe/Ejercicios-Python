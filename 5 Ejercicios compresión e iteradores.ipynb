{
 "cells": [
  {
   "cell_type": "markdown",
   "id": "59dfb150",
   "metadata": {},
   "source": [
    "Sin usar la función count y usando comprension dar una lista que, dado un String nos diga cuantas veces aparece cada letra del string"
   ]
  },
  {
   "cell_type": "markdown",
   "id": "913ae277",
   "metadata": {},
   "source": [
    "Supongamos que tienes una lista de palabras y quieres crear un diccionario que asigne a cada palabra su longitud. Por ejemplo, si la lista es ['perro', 'gato', 'elefante', 'jirafa'], el diccionario resultante sería {'perro': 5, 'gato': 4, 'elefante': 8, 'jirafa': 6}.\n",
    "\n",
    "Puedes resolver este problema utilizando comprensión de listas. ¿Te animas a intentarlo?"
   ]
  },
  {
   "cell_type": "markdown",
   "id": "55a44224",
   "metadata": {},
   "source": [
    "Escriba usando comprensión una función que nos devuelva cada elemento de una lista repetido"
   ]
  },
  {
   "cell_type": "markdown",
   "id": "edb77a2b",
   "metadata": {},
   "source": [
    "Vamos a demostrar que la sucesión armónica es una sucesión de Cauchy (Buen momento para repasar Cálculo infinitesimal). Para ello cree una función que reciba como argumento un epsilon y un natural y compruebe si para ese epsilon y ese natural esa sucesion es lo bastante pequeña"
   ]
  },
  {
   "cell_type": "code",
   "execution_count": null,
   "id": "f238a32a",
   "metadata": {},
   "outputs": [],
   "source": [
    "def armonica():\n",
    "    n = 1\n",
    "    while True:\n",
    "        yield n\n",
    "        n = 1/(n+1)\n",
    "        \n",
    "\n",
    "g = armonica()\n"
   ]
  },
  {
   "cell_type": "markdown",
   "id": "db209686",
   "metadata": {},
   "source": [
    "Se dice que el invetor del ajedrez pidió a su rey a cambio de su invención que le diera un grando de arroz por el primer hueco de su tablero, dos por su segundo hueco, cuatro por el tercero y asi, duplicando la cuantía cada vez. Si el rey solo disponía de 18 446 744 073 709 551 616 granos de arroz ¿Pudo pagar? resuelvelo usando comprensión"
   ]
  },
  {
   "cell_type": "markdown",
   "id": "1b633260",
   "metadata": {},
   "source": [
    "Vamos a intentar crear una versión más segura de la ruleta rusa. Usando el módulo random y la función shuffle que baraja una lista cree un iterador y una función que cada vez que lo llamemos nos devuelva bala o vacio aleatoriamente, el que le toque bala pierde"
   ]
  },
  {
   "cell_type": "markdown",
   "id": "3f299e9d",
   "metadata": {},
   "source": [
    "Habiendo practicado arriba, intentemos crear ahora una función que dado un épsilon, un natural y una función nos diga si la sucesión generada por esta función es de cauchy (EJ: cauchy2(0.5,20,lambda x : 1+(1/x+1)) == True)"
   ]
  },
  {
   "cell_type": "markdown",
   "id": "72752e22",
   "metadata": {},
   "source": [
    "Resuelve el problema del tablero de ajedrez usando iteradores"
   ]
  },
  {
   "cell_type": "markdown",
   "id": "176d5077",
   "metadata": {},
   "source": [
    "Escribir una función que tome dos listas y devuelva un iterador que genere los elementos comunes entre ambos sin repetir."
   ]
  },
  {
   "cell_type": "markdown",
   "id": "ab674375",
   "metadata": {},
   "source": [
    "Ejercicio 16 de la relación"
   ]
  },
  {
   "cell_type": "markdown",
   "id": "b64f3692",
   "metadata": {},
   "source": [
    "Dar una funcion que dada una lista cree un iterador que nos devuelva la lista en orden inverso, no vale usr reversed ni nada parecido"
   ]
  }
 ],
 "metadata": {
  "kernelspec": {
   "display_name": "Python 3 (ipykernel)",
   "language": "python",
   "name": "python3"
  },
  "language_info": {
   "codemirror_mode": {
    "name": "ipython",
    "version": 3
   },
   "file_extension": ".py",
   "mimetype": "text/x-python",
   "name": "python",
   "nbconvert_exporter": "python",
   "pygments_lexer": "ipython3",
   "version": "3.9.13"
  }
 },
 "nbformat": 4,
 "nbformat_minor": 5
}
