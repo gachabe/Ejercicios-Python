{
 "cells": [
  {
   "cell_type": "markdown",
   "id": "0b43bcbe",
   "metadata": {},
   "source": [
    "Cree una función que reciba un conjunto y otra función y nos devuelva el conjunto de imagen Ej. imagen({1,2},lambda x: x**2) ={1, 4}"
   ]
  },
  {
   "cell_type": "markdown",
   "id": "9eaa05cb",
   "metadata": {},
   "source": [
    "a) Cree una función que reciba un conjunto y una función y nos devuelva una lista compuesto por conjuntos de los elementos que comparten imagen\n",
    "\n",
    "\n",
    "b) cree otra función que nos devuelva un conjunto con un representante de cada conjunto anterior, esta función recibirá tres parametros, uno de ellos opcional. El primer parametro será el conjunto a trabajr, el segundo la función y el tercero será \"m\" o \"M\", si recibe \"m\" el representante será el menor de su clase y si recibe \"M\" el Mayor"
   ]
  },
  {
   "cell_type": "markdown",
   "id": "0ad42401",
   "metadata": {},
   "source": [
    "Una relación se puede expresar como un conjunto de pares, donde x esta relacionado con y si hay un par (x,y) en el conjunto. Cree una función que recibido un numero nos de la relacion total, es decir todos estan relacionados con todos, de n elementos"
   ]
  },
  {
   "cell_type": "markdown",
   "id": "fc250ade",
   "metadata": {},
   "source": [
    "Cree una función que, recibiendo una relación, diga si es una relación de equivalencia. Consejo: recuerda que puedes crear todas las funciones auxiliares necesarias"
   ]
  },
  {
   "cell_type": "markdown",
   "id": "1d8025b0",
   "metadata": {},
   "source": [
    "Cree una función que reciba dos parámretro. El primer parámetro será un conjunto, y el segundo una función de dos variables. Nuestra función debe comprobar si el conjunto dado con nuestra función es un grupo\n",
    "\n"
   ]
  },
  {
   "cell_type": "markdown",
   "id": "33212260",
   "metadata": {},
   "source": [
    "(Dificil) Usando diccionarios cree una funcion que diga cuantas veces se repite cada palabra de la variable gloria:trevi presentada abajo"
   ]
  },
  {
   "cell_type": "code",
   "execution_count": 2,
   "id": "1c61afa0",
   "metadata": {},
   "outputs": [],
   "source": [
    "gloria_trevi = 'tu me hiciste sentir que no valia y mis lagrimas cayeron a tus pies me miraba en el espejo y no me hallaba yo era solo lo que tu querias ver  y me solte el cabello, me vesti de reina me puse tacones, me pinte y era bella y camine hacia la puerta, te escuche gritarme pero tus cadenas ya no pueden pararme y mire la noche y ya no era oscura, era de lentejuelas  y todos me miran, me miran, me miran porque se que soy linda, porque todos me admiran y todos me miran, me miran, me miran porque hago lo que pocos se atreveran y todos me miran, me miran, me miran algunos con envidia pero al final, pero al final pero al final, todos me amaran  tu me hiciste sentir que no valia y mis lagrimas cayeron a tus pies me miraba en el espejo y no me hallaba yo era solo lo que tu querias ver  y me solte el cabello, me vesti de reina me puse tacones, me pinte y era bella y camine hacia la puerta, te escuche gritarme pero tus cadenas ya no pueden pararme y mire la noche y ya no era oscura, era de lentejuelas  y todos me miran, me miran, me miran porque se que soy linda, porque todos me admiran y todos me miran, me miran, me miran porque hago lo que pocos se atreveran y todos me miran, me miran, me miran algunos con envidia pero al final, pero al final pero al final, todos me amaran  y me solte el cabello, me vesti de reina me puse tacones, me pinte y era bella y camine hacia la puerta, te escuche gritarme pero tus cadenas ya no pueden pararme y mire la noche y ya no era oscura, era de lentejuelas'\n"
   ]
  },
  {
   "cell_type": "markdown",
   "id": "b6f29098",
   "metadata": {},
   "source": [
    "Cree una funcion merge, que reciba un numero variable de diccionarios y cree uno nuevo donde las claves sea la unión de las claves y los valores la lista de los valores con clave en común"
   ]
  },
  {
   "cell_type": "markdown",
   "id": "4ada36b6",
   "metadata": {},
   "source": [
    "Una señora quiere que vayamos a hacer la compra por ella, como es algo olvidadiza suele repetir varias veces los productos que quiere, para poder entendernos mejor con ella vamos a crear un programa llamado lista_compra que vaya preguntando que producto quiere añadir a la cesta y si es repetido no lo añade, si la señora mete por pantalla \"Fin\" se debe proceder a preguntar la cantidad de cada producto y al acabar mostrarlo en pantalla diciendo que producto y cuanta cantidad, recuerda que solo puedes usar diccionarios y conjuntos"
   ]
  },
  {
   "cell_type": "code",
   "execution_count": null,
   "id": "72c614d6",
   "metadata": {},
   "outputs": [],
   "source": []
  },
  {
   "cell_type": "code",
   "execution_count": null,
   "id": "458702c2",
   "metadata": {},
   "outputs": [],
   "source": []
  },
  {
   "cell_type": "code",
   "execution_count": null,
   "id": "fce3797e",
   "metadata": {},
   "outputs": [],
   "source": []
  }
 ],
 "metadata": {
  "kernelspec": {
   "display_name": "Python 3 (ipykernel)",
   "language": "python",
   "name": "python3"
  },
  "language_info": {
   "codemirror_mode": {
    "name": "ipython",
    "version": 3
   },
   "file_extension": ".py",
   "mimetype": "text/x-python",
   "name": "python",
   "nbconvert_exporter": "python",
   "pygments_lexer": "ipython3",
   "version": "3.9.13"
  }
 },
 "nbformat": 4,
 "nbformat_minor": 5
}
