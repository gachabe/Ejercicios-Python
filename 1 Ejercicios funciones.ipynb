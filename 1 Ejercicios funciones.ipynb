{
 "cells": [
  {
   "cell_type": "markdown",
   "id": "6c29f511",
   "metadata": {},
   "source": [
    "# Ejercicios de Funciones y bucles"
   ]
  },
  {
   "cell_type": "markdown",
   "id": "86a4de67",
   "metadata": {},
   "source": [
    "### Escriba un programa que pida la anchura y altura de un rectángulo y lo dibuje con caracteres producto (*):"
   ]
  },
  {
   "cell_type": "code",
   "execution_count": null,
   "id": "bdccd8d8",
   "metadata": {},
   "outputs": [],
   "source": []
  },
  {
   "cell_type": "markdown",
   "id": "bed6c6f6",
   "metadata": {},
   "source": [
    "### Definir una función que calcule la longitud de una lista o una cadena dada."
   ]
  },
  {
   "cell_type": "code",
   "execution_count": 1,
   "id": "634bfa4e",
   "metadata": {},
   "outputs": [],
   "source": [
    "def fun1(l):\n",
    "    contador=0\n",
    "    while l !=[]:\n",
    "        contador += 1\n",
    "        l=l[0:-1]\n",
    "    return contador\n",
    "\n",
    "\n",
    "        "
   ]
  },
  {
   "cell_type": "code",
   "execution_count": null,
   "id": "788aad7c",
   "metadata": {},
   "outputs": [],
   "source": [
    "fun1(\"hola\")"
   ]
  },
  {
   "cell_type": "markdown",
   "id": "f07242a9",
   "metadata": {},
   "source": [
    "### Definir un histograma procedimiento() que tome una lista de números enteros e imprima un histograma en la pantalla"
   ]
  },
  {
   "cell_type": "markdown",
   "id": "b2d95632",
   "metadata": {},
   "source": [
    "### Definir una función que dados dos números compruebe si el primero es más pequeño que el segundo y, si así fuera,  dar una lista con todos los números desde el primero hasta el segundo"
   ]
  },
  {
   "cell_type": "markdown",
   "id": "8952567d",
   "metadata": {},
   "source": [
    "### Definir una función que reciba tres argumentos x,y,m que devuelva True si x es inverso de y en módulo m y False en caso contrario"
   ]
  },
  {
   "cell_type": "markdown",
   "id": "40ef7201",
   "metadata": {},
   "source": [
    "### Definir una función que dado un número n nos devuelva el n-ésimo número primo"
   ]
  },
  {
   "cell_type": "code",
   "execution_count": 2,
   "id": "de1d5194",
   "metadata": {},
   "outputs": [
    {
     "name": "stdout",
     "output_type": "stream",
     "text": [
      "range(2, 5)\n"
     ]
    }
   ],
   "source": [
    "print(range(2,5))"
   ]
  },
  {
   "cell_type": "markdown",
   "id": "ff9a7362",
   "metadata": {},
   "source": [
    "### Definir una función que dado un número n nos devuelva el n-ésimo número de Fibonacci"
   ]
  },
  {
   "cell_type": "markdown",
   "id": "aaa34ad0",
   "metadata": {},
   "source": [
    "### (Difícil) Definir una función que dados dos números nos devuelva el mínimo común múltiplo, intenta implementar el algortimo de Euclides que vimos en Álgebra Básica "
   ]
  },
  {
   "cell_type": "markdown",
   "id": "3c413c50",
   "metadata": {},
   "source": [
    "### Definir una función que dada una lista la ordene (Este ejercicio es clásico de entrevista de empresa)"
   ]
  },
  {
   "cell_type": "markdown",
   "id": "e052b7e9",
   "metadata": {},
   "source": [
    "### Calcular todas las ternas pitagóricas cuya suma sea menor que 100"
   ]
  },
  {
   "cell_type": "markdown",
   "id": "814d6f21",
   "metadata": {},
   "source": [
    "### Calcular la suma de todos los múltiplos de 3 o 5 menores que 1000"
   ]
  },
  {
   "cell_type": "markdown",
   "id": "7d683a75",
   "metadata": {},
   "source": [
    "### Se define la función órbita de Collatz como: $f(n)= \\left\\{ \\begin{array}{lcc}n/2 &   si  & es~par \\\\ \\\\ 3x+1 &  si  &es~impar\\end{array}\\right. $ definir una función que dado un número natural nos de su órbita. La conjetura de Collatz (aun por demostrar) nos dice que para todo número natural su órbita es finita "
   ]
  },
  {
   "cell_type": "markdown",
   "id": "e875531e",
   "metadata": {},
   "source": [
    "### (MUY DIFÍCIL)  Definir una (o varias) función(es) que dado tres números a, b y m haga:\n",
    "###  1 - Imprima ax = b mod m\n",
    "###  2 - Compruebe y nos diga si esta ecuación de congruencia tiene solución\n",
    "###  3 -  Nos devuelva la solución de mi x"
   ]
  },
  {
   "cell_type": "markdown",
   "id": "3bfe6a8a",
   "metadata": {},
   "source": [
    "### Busca información sobre el algoritmo de la bisección (o preguntale a tu profesor) e intenta implementarlo para resolver la ecuación $y=2x+1$"
   ]
  }
 ],
 "metadata": {
  "kernelspec": {
   "display_name": "Python 3 (ipykernel)",
   "language": "python",
   "name": "python3"
  },
  "language_info": {
   "codemirror_mode": {
    "name": "ipython",
    "version": 3
   },
   "file_extension": ".py",
   "mimetype": "text/x-python",
   "name": "python",
   "nbconvert_exporter": "python",
   "pygments_lexer": "ipython3",
   "version": "3.9.13"
  }
 },
 "nbformat": 4,
 "nbformat_minor": 5
}
