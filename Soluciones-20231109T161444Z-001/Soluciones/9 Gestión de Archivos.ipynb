{
 "cells": [
  {
   "cell_type": "markdown",
   "id": "fdb0f8c0",
   "metadata": {},
   "source": [
    "En el archivo adjunto pesonas tenemos una base de datos de furiosos maleantes, crea una función que habrá el archivo y muestre sus datos de forma más visual. Es decir, elimina los punto y coma y dique dato vas a presentar"
   ]
  },
  {
   "cell_type": "code",
   "execution_count": 4,
   "id": "ad791eb3",
   "metadata": {},
   "outputs": [
    {
     "name": "stdout",
     "output_type": "stream",
     "text": [
      "id=1, nombre : Carlos, apellido : Horcas, Fecha nacimiento : 05/01/1989\n",
      "id=2, nombre : Manuel, apellido : Heredia, Fecha nacimiento : 26/12/1973\n",
      "id=3, nombre : Rosa, apellido : Campos, Fecha nacimiento : 12/06/1961\n",
      "id=4, nombre : David, apellido : Perez, Fecha nacimiento : 25/07/2006\n",
      "id=5, nombre : Gabriel, apellido : Chaves, Fecha nacimiento : 14/06/1997\n",
      "id=6, nombre : Maria, apellido : Caballero, Fecha nacimiento : 5/05/2004\n",
      "id=7, nombre : Pepe, apellido : Trashorras, Fecha nacimiento : 6/06/2004\n"
     ]
    }
   ],
   "source": [
    "archivo=open(\"personas.txt\",encoding=\"utf-8\")\n",
    "lineas=archivo.readlines()\n",
    "archivo.close()\n",
    "personas=[]\n",
    "for linea in lineas:\n",
    "    campo=linea.replace(\"\\n\",\"\").split(\";\")\n",
    "    persona={\"id\":campo[0],\"nombre\":campo[1],\"apellido\":campo[2],\"nacimiento\":campo[3]}\n",
    "    personas.append(persona)\n",
    "for persona in personas:\n",
    "    print(f\"id={persona['id']}, nombre : {persona['nombre']}, apellido : {persona['apellido']}, Fecha nacimiento : {persona['nacimiento']}\")"
   ]
  },
  {
   "cell_type": "markdown",
   "id": "d4ae8529",
   "metadata": {},
   "source": [
    "Crea una función que reciba el nombre de un archivo y devuelva la palabra de mayor longitud del archivo"
   ]
  },
  {
   "cell_type": "code",
   "execution_count": 10,
   "id": "f1c171f4",
   "metadata": {},
   "outputs": [
    {
     "name": "stdout",
     "output_type": "stream",
     "text": [
      "['Andaluces,', 'Levantaos,', 'Andaluces,', 'Levantaos,']\n"
     ]
    }
   ],
   "source": [
    "def palabra_mas_larga(filename):\n",
    "    with open(filename, 'r') as infile:\n",
    "              words = infile.read().split()\n",
    "    max_len = len(max(words, key=len))\n",
    "    return [word for word in words if len(word) == max_len]\n",
    "\n",
    "print(palabra_mas_larga('andalucia.txt'))\n",
    "\n"
   ]
  },
  {
   "cell_type": "markdown",
   "id": "a6b5a7f2",
   "metadata": {},
   "source": [
    "Una empresa nos ha pedido un programa para buscar erratas en guiones, para ello recibiremos un texto, lo abriremos y le pedeiremos al usuario que nos de una palabra a buscar. El programa debe buscar cada incidencia de esa palabra en el texto, guardar en que linea del texto se encuentra y devolver un archivo llamado result.txt donde aparezcan tanto el número de la linea donde aparece como el texto de la linea donde aparece"
   ]
  },
  {
   "cell_type": "code",
   "execution_count": 4,
   "id": "d0eb74d1",
   "metadata": {},
   "outputs": [
    {
     "name": "stdout",
     "output_type": "stream",
     "text": [
      "Ingresa búsqueda: Fiona\n"
     ]
    }
   ],
   "source": [
    "archivo = \"Shrek.txt\"\n",
    "salida = \"result.txt\"\n",
    "busqueda = input(\"Ingresa búsqueda: \")\n",
    "lineas_escribir = []\n",
    "with open(archivo, \"r\") as archivo_lectura:\n",
    "    numero_linea = 0\n",
    "    for linea in archivo_lectura:\n",
    "        numero_linea += 1\n",
    "        linea = linea.rstrip() #Elimina el \\n artifical que crea los txt\n",
    "        separado = linea.split(\" \")\n",
    "        if busqueda in separado:\n",
    "            lineas_escribir.append(str(numero_linea) + \" - \" + linea)\n",
    "\n",
    "with open(salida, \"w\") as archivo_salida:\n",
    "    for linea in lineas_escribir:\n",
    "        archivo_salida.write(linea + \"\\n\")"
   ]
  },
  {
   "cell_type": "code",
   "execution_count": 1,
   "id": "8c3e5a6c",
   "metadata": {},
   "outputs": [
    {
     "data": {
      "text/plain": [
       "True"
      ]
     },
     "execution_count": 1,
     "metadata": {},
     "output_type": "execute_result"
    }
   ],
   "source": [
    "\"sit\" in \"-sit\""
   ]
  }
 ],
 "metadata": {
  "kernelspec": {
   "display_name": "Python 3 (ipykernel)",
   "language": "python",
   "name": "python3"
  },
  "language_info": {
   "codemirror_mode": {
    "name": "ipython",
    "version": 3
   },
   "file_extension": ".py",
   "mimetype": "text/x-python",
   "name": "python",
   "nbconvert_exporter": "python",
   "pygments_lexer": "ipython3",
   "version": "3.9.13"
  }
 },
 "nbformat": 4,
 "nbformat_minor": 5
}
