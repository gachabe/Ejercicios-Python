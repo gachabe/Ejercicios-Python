{
 "cells": [
  {
   "cell_type": "markdown",
   "id": "b0095ad3",
   "metadata": {},
   "source": [
    "# Ejercicio 1- Mapas"
   ]
  },
  {
   "cell_type": "markdown",
   "id": "db3096e0",
   "metadata": {},
   "source": [
    "Dado un mapa representado por una matriz donde el valor 0 representa agua y el valor 1 representa tierra, crea una función en Python llamada accesible_areas que reciba las coordenadas (x, y) de una posición en el mapa. La función debe devolver una lista de todas las casillas adyacentes (horizontal y verticalmente) que tienen el mismo valor (tierra o agua) que la casilla de las coordenadas dadas, sin cambiar de número."
   ]
  },
  {
   "cell_type": "code",
   "execution_count": 5,
   "id": "a4066ad9",
   "metadata": {},
   "outputs": [
    {
     "data": {
      "text/plain": [
       "[(0, 0)]"
      ]
     },
     "execution_count": 5,
     "metadata": {},
     "output_type": "execute_result"
    }
   ],
   "source": [
    "def obtener_casillas_accesibles(mapa, fila, columna):\n",
    "    def dfs(mapa, fila, columna, visitados, valor_actual):\n",
    "        if fila < 0 or columna < 0 or fila >= len(mapa) or columna >= len(mapa[0]) or (fila, columna) in visitados or mapa[fila][columna] != valor_actual:\n",
    "            return []\n",
    "        \n",
    "        visitados.add((fila, columna))\n",
    "        casillas_accesibles = [(fila, columna)]\n",
    "        \n",
    "        movimientos = [(0, 1), (1, 0), (0, -1), (-1, 0)]\n",
    "        for movimiento in movimientos:\n",
    "            fila_nueva = fila + movimiento[0]\n",
    "            columna_nueva = columna + movimiento[1]\n",
    "            casillas_accesibles += dfs(mapa, fila_nueva, columna_nueva, visitados, valor_actual)\n",
    "        \n",
    "        return casillas_accesibles\n",
    "    \n",
    "    valor_actual = mapa[fila][columna]\n",
    "    visitados = set()\n",
    "    \n",
    "    return dfs(mapa, fila, columna, visitados, valor_actual)\n",
    "\n",
    "# Ejemplo de uso\n",
    "mapa = [\n",
    " [1, 0, 0, 1, 1, 0, 1, 0, 0, 1],\n",
    " [0, 1, 1, 0, 0, 1, 1, 1, 0, 0],\n",
    " [1, 0, 0, 1, 1, 1, 0, 0, 1, 1],\n",
    " [1, 0, 1, 0, 0, 1, 1, 0, 0, 1],\n",
    " [0, 1, 1, 0, 1, 0, 0, 1, 1, 1],\n",
    " [1, 1, 0, 0, 0, 1, 1, 0, 0, 1],\n",
    " [0, 1, 1, 1, 1, 0, 0, 0, 1, 0],\n",
    " [1, 0, 0, 1, 0, 1, 1, 1, 0, 1],\n",
    " [1, 1, 0, 1, 1, 0, 0, 1, 1, 1],\n",
    " [0, 0, 1, 0, 1, 0, 1, 0, 1, 1]\n",
    "]\n",
    "\n",
    "fila = 0\n",
    "columna = 0\n",
    "casillas_accesibles = obtener_casillas_accesibles(mapa, fila, columna)\n",
    "casillas_accesibles\n"
   ]
  },
  {
   "cell_type": "markdown",
   "id": "e9eeef91",
   "metadata": {},
   "source": [
    "# Ejercicio 2 - Cifrado Gödel"
   ]
  },
  {
   "cell_type": "markdown",
   "id": "6b13c11b",
   "metadata": {},
   "source": [
    "El cifrado Gödel es un método de codificación que asocia a cada símbolo de un alfabeto un número primo diferente. Luego, dada una secuencia de símbolos, se calcula el producto de los números primos correspondientes a cada símbolo elevado a su posición en la secuencia. Este proceso convierte una cadena de texto en un número único que representa el mensaje cifrado.\n",
    "\n",
    "Enunciado:\n",
    "\n",
    "Implemente una función en Python llamada es_primo(n) que determine si un número n es primo. La función debe retornar True si n es primo y False en caso contrario.\n",
    "\n",
    "Implemente una función en Python llamada n_primos(n) que genere una lista de los primeros n números primos.\n",
    "\n",
    "Implemente una función en Python llamada cifrado_godel(texto) que reciba una cadena de texto y la cifre utilizando el método de cifrado Gödel. La función debe retornar el mensaje cifrado como un número entero. El alfabeto utilizado debe incluir letras mayúsculas y minúsculas, números y algunos signos de puntuación y espacios."
   ]
  },
  {
   "cell_type": "code",
   "execution_count": 2,
   "id": "0f5ae524",
   "metadata": {},
   "outputs": [
    {
     "name": "stdout",
     "output_type": "stream",
     "text": [
      "Texto cifrado: 8\n"
     ]
    }
   ],
   "source": [
    "def es_primo(n):\n",
    "    if n <= 1:\n",
    "        return False\n",
    "    for i in range(2, int(n**0.5) + 1):\n",
    "        if n % i == 0:\n",
    "            return False\n",
    "    return True\n",
    "\n",
    "def n_primos(n):\n",
    "    primos = []\n",
    "    i = 2\n",
    "    while len(primos) < n:\n",
    "        if es_primo(i):\n",
    "            primos.append(i)\n",
    "        i += 1\n",
    "    return primos\n",
    "\n",
    "def cifrado_godel(texto):\n",
    "    alfabeto = \"abcdefghijklmnopqrstuvwxyzABCDEFGHIJKLMNOPQRSTUVWXYZ0123456789 .,;?!-\"\n",
    "    primos = n_primos(len(alfabeto))\n",
    "    diccionario = dict(zip(alfabeto, primos))\n",
    "\n",
    "    resultado = 1\n",
    "    for i, char in enumerate(texto):\n",
    "        if char in diccionario:\n",
    "            resultado *= diccionario[char] ** (i + 1)\n",
    "        else:\n",
    "            raise ValueError(f\"Carácter no permitido: {char}\")\n",
    "\n",
    "    return resultado\n",
    "\n",
    "texto = \"aa\"\n",
    "cifrado = cifrado_godel(texto)\n",
    "print(f\"Texto cifrado: {cifrado}\")\n"
   ]
  },
  {
   "cell_type": "markdown",
   "id": "f8274dbe",
   "metadata": {},
   "source": [
    "# Ejercicio 3 -  Generación y análisis de secuencias de ADN\n",
    "\n",
    "En este ejercicio, trabajaremos con secuencias de ADN generadas aleatoriamente y analizaremos su contenido para determinar la frecuencia de los diferentes nucleótidos.\n",
    "\n",
    "Enunciado:\n",
    "\n",
    "Implemente una función en Python llamada generar_secuencia_adn(longitud) que genere una secuencia de ADN aleatoria con una longitud dada. La secuencia de ADN debe incluir los cuatro nucleótidos: adenina (A), timina (T), citosina (C) y guanina (G). La función debe devolver la secuencia generada como una cadena.\n",
    "\n",
    "Implemente una función en Python llamada analizar_secuencia_adn(secuencia) que reciba una secuencia de ADN y devuelva un diccionario con la siguiente información: cantidad de adenina (A), cantidad de timina (T), cantidad de citosina (C) y cantidad de guanina (G). Además, incluya una clave 'frecuencia' en el diccionario que muestre la frecuencia de cada nucleótido en la secuencia en forma de porcentaje.\n",
    "\n",
    "Escriba un programa en Python que utilice las funciones anteriores para generar secuencias de ADN aleatorias de diferentes longitudes y analizar su contenido. Muestre los resultados en la consola para verificar si las secuencias generadas y sus frecuencias coinciden con las expectativas de distribución aleatoria de los nucleótidos."
   ]
  },
  {
   "cell_type": "code",
   "execution_count": 7,
   "id": "92c81984",
   "metadata": {},
   "outputs": [
    {
     "name": "stdout",
     "output_type": "stream",
     "text": [
      "Longitud: 10\n",
      "Secuencia: TACGTGTAAC\n",
      "Análisis: {'A': 3, 'T': 3, 'C': 2, 'G': 2, 'frecuencia': {'A': 30.0, 'T': 30.0, 'C': 20.0, 'G': 20.0}}\n",
      "\n",
      "Longitud: 50\n",
      "Secuencia: CTCTGATATCTGAACACTCAACAAGTTCTCCCACGCCGACTTAATCCGCC\n",
      "Análisis: {'A': 13, 'T': 12, 'C': 19, 'G': 6, 'frecuencia': {'A': 26.0, 'T': 24.0, 'C': 38.0, 'G': 12.0}}\n",
      "\n",
      "Longitud: 100\n",
      "Secuencia: GTCCGCACTGGCGCGATGGCTGAATGCCGGCATACAGTGAAACTGGCCTGTTCTACAACTGATACGTCGGGACCAAATCTGGATTAATACCAGTATGATC\n",
      "Análisis: {'A': 26, 'T': 23, 'C': 25, 'G': 26, 'frecuencia': {'A': 26.0, 'T': 23.0, 'C': 25.0, 'G': 26.0}}\n",
      "\n",
      "Longitud: 500\n",
      "Secuencia: CATTGGACCTAAGTTCTAGTTGCTTGCCTCGTCGATGCACCCGGTGCGTGTTAAGAGGCTAAAGTAGTGGGTGCTAGGGAATAGCGTCGGATCGTAGACCTTTGACGAACTGCGCCTTATGCTGATTCCAGAGTAATGCATCAGGTGACACATCGCAGGCAAGAGTGCCAGGGCGCGGTAGTCCCCATGTTGGAACCCGTTCACCCCATGGTTCATATCACGTCAGAGATGGACAGTTCTGCCCGCCATGCGTTTACGGGCAGGCGCACATCCGAGCAACTGATACCCGTAATGCAACGACCAGGCCCCGCCGCCGTTGTATGCCTGTGATTATGGTACCACGTAGAACGCGCATGTATTCGTGGATGCGTTGCGAGGAGAAATGTACAGGATATTTGCCAAGTCTTTAACGGTAGGAAGTAGTACGCGGAGTGGACGTGATGTAGGTCCCCAGGCCAGTGGCGCAACAACAAATGTCACACTGTTCAACGCGTAGTCCG\n",
      "Análisis: {'A': 117, 'T': 113, 'C': 125, 'G': 145, 'frecuencia': {'A': 23.400000000000002, 'T': 22.6, 'C': 25.0, 'G': 28.999999999999996}}\n",
      "\n",
      "Longitud: 1000\n",
      "Secuencia: TGGTCCTCTTCCCCAAATACAATCTTCAAGTTAACTGTCTCCTGAACGACTGCCAACGGCACACTGCGATTTATGGAGTACAAATAGCCGATTTGCTCGGCTCTGGCCCGCCAGAACAATCGAAGACCCAGTTTCCTTCTTTTGTATTCAATCCTGAGTCCGCGTGTGGCCTTTCGCAACACCTAGGCATGCCAGTTAGTTGTTACCTCAAGTCAGGTGAACAACAGGGTGAAGATCAATAGCCCCTCTGACCAACGGAGGATCAGCTTCATTATTAAATAAACATATCTCATCCTGGACTAGCGCGCCATACCTACCCACAAAATTATTGTTAAGAAATCATTGGGTCACTGGTCCAGGGTCAATTGGCCACGATTAACCGTGAAATGCAGTACTCCGCGTACTAATGCACGGAGGACCGCATTCCGCGGTTTAGAACCGGATCGTATGGCACGGGATCGCGCATTTTCCGTGCGGTAAGCCTTAGTCGGAGCTGCCGACTGAGCCCTTTCCCTAAGAGATGCTGTGATGTAGCTAGAGTTATGAAATCCTAATACGGCAAGATCAATTCTCCGACTTACTGCGTTGTATGGTACCCTGTGACGACTGAATATGCCTGGTAAGCGCCCGCATGTGGATGTGTTCGGCCATACTCGGCTTTCCCTTATTCGGTATTTAGGAGGTGCGTGATGTCACGACGACCCAGAATCCCGTATAGAGAGTTCACCGTAGGCTGAATACGCAAGAGGGATGTCTATTGGTTGTAAAAGCACATCGAACCTGTTCGGATATTATATGCGAGAGCCGCGGCCGGGTGCTCAATCTGGTTACTGCCCTAGCAGCGTGACCGTTATTTGTTATATGGTACGTATGCACACACCTGGCTCCGAAGGTTGGCAGCTTATATACCGTGTCCTGTACCGTACCGGACGGTACGTTCAGATAGTCGAACAACTCGCTAGAAAGAAGCCAAATAATGGCTCCTGGCTAACTGCCGTGG\n",
      "Análisis: {'A': 247, 'T': 257, 'C': 253, 'G': 243, 'frecuencia': {'A': 24.7, 'T': 25.7, 'C': 25.3, 'G': 24.3}}\n",
      "\n"
     ]
    }
   ],
   "source": [
    "import random\n",
    "\n",
    "def generar_secuencia_adn(longitud):\n",
    "    nucleotidos = ['A', 'T', 'C', 'G']\n",
    "    secuencia = ''.join(random.choice(nucleotidos) for _ in range(longitud))\n",
    "    return secuencia\n",
    "\n",
    "def analizar_secuencia_adn(secuencia):\n",
    "    conteo = {'A': 0, 'T': 0, 'C': 0, 'G': 0}\n",
    "    total = len(secuencia)\n",
    "\n",
    "    for nucleotido in secuencia:\n",
    "        conteo[nucleotido] += 1\n",
    "\n",
    "    frecuencia = {k: (v / total) * 100 for k, v in conteo.items()}\n",
    "    conteo['frecuencia'] = frecuencia\n",
    "\n",
    "    return conteo\n",
    "\n",
    "longitudes = [10, 50, 100, 500, 1000]\n",
    "for longitud in longitudes:\n",
    "        secuencia = generar_secuencia_adn(longitud)\n",
    "        analisis = analizar_secuencia_adn(secuencia)\n",
    "        print(f\"Longitud: {longitud}\")\n",
    "        print(f\"Secuencia: {secuencia}\")\n",
    "        print(f\"Análisis: {analisis}\")\n",
    "        print()\n",
    "\n",
    "\n"
   ]
  },
  {
   "cell_type": "markdown",
   "id": "5c162fd8",
   "metadata": {},
   "source": [
    "# Ejercicio 4 - Creación de objetos - Sistema de gestión de estudiantes\n",
    "\n",
    "Crea una clase llamada Estudiante y otra llamada Curso. Estas clases modelarán un sistema simple de gestión de estudiantes y cursos.\n",
    "\n",
    "La clase Estudiante debe tener las siguientes características:\n",
    "\n",
    "Atributos:\n",
    "\n",
    "nombre (string): El nombre del estudiante.\n",
    "edad (int): La edad del estudiante.\n",
    "cursos (list): Una lista de cursos en los que está inscrito el estudiante.\n",
    "Métodos:\n",
    "\n",
    "inscribir_curso(curso: Curso): Inscribir al estudiante en un curso. Añade el curso a la lista de cursos en los que está inscrito el estudiante.\n",
    "desinscribir_curso(curso: Curso): Desinscribir al estudiante de un curso. Elimina el curso de la lista de cursos en los que está inscrito el estudiante.\n",
    "__str__(): Devolver una representación en cadena del estudiante, incluyendo su nombre, edad y los cursos en los que está inscrito.\n",
    "La clase Curso debe tener las siguientes características:\n",
    "\n",
    "Atributos:\n",
    "\n",
    "nombre (string): El nombre del curso.\n",
    "profesor (string): El nombre del profesor del curso.\n",
    "estudiantes (list): Una lista de estudiantes inscritos en el curso.\n",
    "Métodos:\n",
    "\n",
    "inscribir_estudiante(estudiante: Estudiante): Inscribir a un estudiante en el curso. Añade al estudiante a la lista de estudiantes inscritos en el curso.\n",
    "desinscribir_estudiante(estudiante: Estudiante): Desinscribir a un estudiante del curso. Elimina al estudiante de la lista de estudiantes inscritos en el curso.\n",
    "__str__(): Devolver una representación en cadena del curso, incluyendo su nombre, profesor y la lista de estudiantes inscritos.\n",
    "Después de crear las clases, crea una instancia de la clase Estudiante y varias instancias de la clase Curso. Utiliza los métodos definidos en ambas clases para inscribir y desinscribir estudiantes en los cursos y para mostrar la información de los estudiantes y cursos en la consola."
   ]
  },
  {
   "cell_type": "code",
   "execution_count": 10,
   "id": "90593ea3",
   "metadata": {},
   "outputs": [
    {
     "name": "stdout",
     "output_type": "stream",
     "text": [
      "Estudiante: Juan, Edad: 20, Cursos: Matemáticas, Física\n",
      "Curso: Matemáticas, Profesor: Profesor X, Estudiantes: Juan\n",
      "Curso: Física, Profesor: Profesor Y, Estudiantes: Juan\n",
      "Estudiante: Juan, Edad: 20, Cursos: Matemáticas\n",
      "Curso: Matemáticas, Profesor: Profesor X, Estudiantes: Juan\n",
      "Curso: Física, Profesor: Profesor Y, Estudiantes: \n"
     ]
    }
   ],
   "source": [
    "class Estudiante:\n",
    "    def __init__(self, nombre: str, edad: int):\n",
    "        self.nombre = nombre\n",
    "        self.edad = edad\n",
    "        self.cursos = []\n",
    "\n",
    "    def inscribir_curso(self, curso):\n",
    "        if curso not in self.cursos:\n",
    "            self.cursos.append(curso)\n",
    "            curso.inscribir_estudiante(self)\n",
    "\n",
    "    def desinscribir_curso(self, curso):\n",
    "        if curso in self.cursos:\n",
    "            self.cursos.remove(curso)\n",
    "            curso.desinscribir_estudiante(self)\n",
    "\n",
    "    def __str__(self):\n",
    "        return f\"Estudiante: {self.nombre}, Edad: {self.edad}, Cursos: {', '.join([curso.nombre for curso in self.cursos])}\"\n",
    "\n",
    "\n",
    "class Curso:\n",
    "    def __init__(self, nombre: str, profesor: str):\n",
    "        self.nombre = nombre\n",
    "        self.profesor = profesor\n",
    "        self.estudiantes = []\n",
    "\n",
    "    def inscribir_estudiante(self, estudiante: Estudiante):\n",
    "        if estudiante not in self.estudiantes:\n",
    "            self.estudiantes.append(estudiante)\n",
    "\n",
    "    def desinscribir_estudiante(self, estudiante: Estudiante):\n",
    "        if estudiante in self.estudiantes:\n",
    "            self.estudiantes.remove(estudiante)\n",
    "\n",
    "    def __str__(self):\n",
    "        return f\"Curso: {self.nombre}, Profesor: {self.profesor}, Estudiantes: {', '.join([estudiante.nombre for estudiante in self.estudiantes])}\"\n",
    "\n",
    "\n",
    "# Creando instancias de Estudiante y Curso\n",
    "estudiante1 = Estudiante(\"Juan\", 20)\n",
    "curso1 = Curso(\"Matemáticas\", \"Profesor X\")\n",
    "curso2 = Curso(\"Física\", \"Profesor Y\")\n",
    "\n",
    "# Inscribiendo al estudiante en los cursos\n",
    "estudiante1.inscribir_curso(curso1)\n",
    "estudiante1.inscribir_curso(curso2)\n",
    "\n",
    "# Mostrando la información del estudiante y los cursos\n",
    "print(estudiante1)\n",
    "print(curso1)\n",
    "print(curso2)\n",
    "\n",
    "# Desinscribiendo al estudiante de un curso\n",
    "estudiante1.desinscribir_curso(curso2)\n",
    "\n",
    "# Mostrando la información del estudiante y los cursos después de la desinscripción\n",
    "print(estudiante1)\n",
    "print(curso1)\n",
    "print(curso2)\n"
   ]
  }
 ],
 "metadata": {
  "kernelspec": {
   "display_name": "Python 3 (ipykernel)",
   "language": "python",
   "name": "python3"
  },
  "language_info": {
   "codemirror_mode": {
    "name": "ipython",
    "version": 3
   },
   "file_extension": ".py",
   "mimetype": "text/x-python",
   "name": "python",
   "nbconvert_exporter": "python",
   "pygments_lexer": "ipython3",
   "version": "3.9.13"
  }
 },
 "nbformat": 4,
 "nbformat_minor": 5
}
