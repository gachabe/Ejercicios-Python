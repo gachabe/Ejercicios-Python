{
 "cells": [
  {
   "cell_type": "markdown",
   "id": "e926fc50",
   "metadata": {},
   "source": [
    "Ya tenemos los conocimientos básicos en bucles While y for. Así que intentaremos crear el clásico juego del ahorcado.\n",
    "Comenzamos con una función fácil, esconder la palabra.\n",
    "Crea una función que dado un  String nos devuelva el string \"escondido\", es decir, un string de la misma longitud pero compuesto por un simbolo cualquiera."
   ]
  },
  {
   "cell_type": "code",
   "execution_count": 4,
   "id": "8ff14adf",
   "metadata": {},
   "outputs": [
    {
     "data": {
      "text/plain": [
       "'****'"
      ]
     },
     "execution_count": 4,
     "metadata": {},
     "output_type": "execute_result"
    }
   ],
   "source": [
    "def esconde(string):\n",
    "    return \"*\"*len(string)\n",
    "\n",
    "#Ahora usando bucle for\n",
    "def esconde2(string):\n",
    "    palabra = \"\"\n",
    "    for i in range(len(string)):\n",
    "        palabra+=\"*\"\n",
    "    return palabra\n",
    "\n",
    "esconde2(\"hola\")\n",
    "        "
   ]
  },
  {
   "cell_type": "markdown",
   "id": "c8a1bd16",
   "metadata": {},
   "source": [
    "Ahora cuando el usuario nos de una letra tenemos que devolver la palabra escondida pero con las letras descubiertas en su posición.\n",
    "Para facilitar esto lo dividiremos en 2 tareas:\n",
    "\n",
    "    1 - Primero, dada una String y una letra devuelve una lista con las posiciones de la letra en esa palabra\n",
    "    \n",
    "    2 - Dada una palabra \"escondida\" devuelve una palabra \"semiescondida\", es decir, una palabra cambiando el signo \"*\" por la letra dada en la posiciones de la lista"
   ]
  },
  {
   "cell_type": "code",
   "execution_count": 15,
   "id": "66825ee8",
   "metadata": {},
   "outputs": [
    {
     "data": {
      "text/plain": [
       "'abcaa**'"
      ]
     },
     "execution_count": 15,
     "metadata": {},
     "output_type": "execute_result"
    }
   ],
   "source": [
    "def posiciones(a,string):\n",
    "    lista = []\n",
    "    for i in range(len(string)):\n",
    "        if string[i] == a:\n",
    "            lista.append(i)\n",
    "    return lista\n",
    "\n",
    "def semiescondida(a,pos,string):\n",
    "    cadena = \"\"\n",
    "    for i in range(len(string)):\n",
    "        if i in pos:\n",
    "            cadena +=a\n",
    "        else:\n",
    "            cadena += string[i]\n",
    "    return cadena\n",
    "    \n",
    "\n"
   ]
  },
  {
   "cell_type": "markdown",
   "id": "73266121",
   "metadata": {},
   "source": [
    "Ya finalmente podemos crear el núcleo central del juego.\n",
    "Así vamos a crear una función que se llama ahorcado que nos pida una palabra a esconder y haga funcionar el juego.\n",
    "Puedes poner que el juego funcione con vidas o que siga jugando hasta que se acierte la palabra"
   ]
  },
  {
   "cell_type": "code",
   "execution_count": 21,
   "id": "de00554d",
   "metadata": {},
   "outputs": [
    {
     "ename": "KeyboardInterrupt",
     "evalue": "Interrupted by user",
     "output_type": "error",
     "traceback": [
      "\u001b[1;31m---------------------------------------------------------------------------\u001b[0m",
      "\u001b[1;31mKeyboardInterrupt\u001b[0m                         Traceback (most recent call last)",
      "\u001b[1;32m~\\AppData\\Local\\Temp\\ipykernel_3296\\3619354547.py\u001b[0m in \u001b[0;36m<module>\u001b[1;34m\u001b[0m\n\u001b[0;32m      8\u001b[0m     \u001b[1;32mreturn\u001b[0m \u001b[1;34m\"Felicidades, has ganado\"\u001b[0m\u001b[1;33m\u001b[0m\u001b[1;33m\u001b[0m\u001b[0m\n\u001b[0;32m      9\u001b[0m \u001b[1;33m\u001b[0m\u001b[0m\n\u001b[1;32m---> 10\u001b[1;33m \u001b[0mahorcado\u001b[0m\u001b[1;33m(\u001b[0m\u001b[1;33m)\u001b[0m\u001b[1;33m\u001b[0m\u001b[1;33m\u001b[0m\u001b[0m\n\u001b[0m",
      "\u001b[1;32m~\\AppData\\Local\\Temp\\ipykernel_3296\\3619354547.py\u001b[0m in \u001b[0;36mahorcado\u001b[1;34m()\u001b[0m\n\u001b[0;32m      1\u001b[0m \u001b[1;32mdef\u001b[0m \u001b[0mahorcado\u001b[0m\u001b[1;33m(\u001b[0m\u001b[1;33m)\u001b[0m\u001b[1;33m:\u001b[0m\u001b[1;33m\u001b[0m\u001b[1;33m\u001b[0m\u001b[0m\n\u001b[1;32m----> 2\u001b[1;33m     \u001b[0mpalabra\u001b[0m \u001b[1;33m=\u001b[0m \u001b[0minput\u001b[0m\u001b[1;33m(\u001b[0m\u001b[1;34m\"Escoge una palabra \\n\"\u001b[0m\u001b[1;33m)\u001b[0m\u001b[1;33m\u001b[0m\u001b[1;33m\u001b[0m\u001b[0m\n\u001b[0m\u001b[0;32m      3\u001b[0m     \u001b[0mescondida\u001b[0m \u001b[1;33m=\u001b[0m \u001b[0mesconde\u001b[0m\u001b[1;33m(\u001b[0m\u001b[0mpalabra\u001b[0m\u001b[1;33m)\u001b[0m\u001b[1;33m\u001b[0m\u001b[1;33m\u001b[0m\u001b[0m\n\u001b[0;32m      4\u001b[0m     \u001b[1;32mwhile\u001b[0m \u001b[0mescondida\u001b[0m \u001b[1;33m!=\u001b[0m \u001b[0mpalabra\u001b[0m\u001b[1;33m:\u001b[0m\u001b[1;33m\u001b[0m\u001b[1;33m\u001b[0m\u001b[0m\n\u001b[0;32m      5\u001b[0m         \u001b[0mprint\u001b[0m\u001b[1;33m(\u001b[0m\u001b[1;34m\"Así esta la partida \\n\"\u001b[0m\u001b[1;33m,\u001b[0m \u001b[0mescondida\u001b[0m\u001b[1;33m)\u001b[0m\u001b[1;33m\u001b[0m\u001b[1;33m\u001b[0m\u001b[0m\n",
      "\u001b[1;32m~\\anaconda3\\lib\\site-packages\\ipykernel\\kernelbase.py\u001b[0m in \u001b[0;36mraw_input\u001b[1;34m(self, prompt)\u001b[0m\n\u001b[0;32m   1175\u001b[0m                 \u001b[1;34m\"raw_input was called, but this frontend does not support input requests.\"\u001b[0m\u001b[1;33m\u001b[0m\u001b[1;33m\u001b[0m\u001b[0m\n\u001b[0;32m   1176\u001b[0m             )\n\u001b[1;32m-> 1177\u001b[1;33m         return self._input_request(\n\u001b[0m\u001b[0;32m   1178\u001b[0m             \u001b[0mstr\u001b[0m\u001b[1;33m(\u001b[0m\u001b[0mprompt\u001b[0m\u001b[1;33m)\u001b[0m\u001b[1;33m,\u001b[0m\u001b[1;33m\u001b[0m\u001b[1;33m\u001b[0m\u001b[0m\n\u001b[0;32m   1179\u001b[0m             \u001b[0mself\u001b[0m\u001b[1;33m.\u001b[0m\u001b[0m_parent_ident\u001b[0m\u001b[1;33m[\u001b[0m\u001b[1;34m\"shell\"\u001b[0m\u001b[1;33m]\u001b[0m\u001b[1;33m,\u001b[0m\u001b[1;33m\u001b[0m\u001b[1;33m\u001b[0m\u001b[0m\n",
      "\u001b[1;32m~\\anaconda3\\lib\\site-packages\\ipykernel\\kernelbase.py\u001b[0m in \u001b[0;36m_input_request\u001b[1;34m(self, prompt, ident, parent, password)\u001b[0m\n\u001b[0;32m   1217\u001b[0m             \u001b[1;32mexcept\u001b[0m \u001b[0mKeyboardInterrupt\u001b[0m\u001b[1;33m:\u001b[0m\u001b[1;33m\u001b[0m\u001b[1;33m\u001b[0m\u001b[0m\n\u001b[0;32m   1218\u001b[0m                 \u001b[1;31m# re-raise KeyboardInterrupt, to truncate traceback\u001b[0m\u001b[1;33m\u001b[0m\u001b[1;33m\u001b[0m\u001b[0m\n\u001b[1;32m-> 1219\u001b[1;33m                 \u001b[1;32mraise\u001b[0m \u001b[0mKeyboardInterrupt\u001b[0m\u001b[1;33m(\u001b[0m\u001b[1;34m\"Interrupted by user\"\u001b[0m\u001b[1;33m)\u001b[0m \u001b[1;32mfrom\u001b[0m \u001b[1;32mNone\u001b[0m\u001b[1;33m\u001b[0m\u001b[1;33m\u001b[0m\u001b[0m\n\u001b[0m\u001b[0;32m   1220\u001b[0m             \u001b[1;32mexcept\u001b[0m \u001b[0mException\u001b[0m\u001b[1;33m:\u001b[0m\u001b[1;33m\u001b[0m\u001b[1;33m\u001b[0m\u001b[0m\n\u001b[0;32m   1221\u001b[0m                 \u001b[0mself\u001b[0m\u001b[1;33m.\u001b[0m\u001b[0mlog\u001b[0m\u001b[1;33m.\u001b[0m\u001b[0mwarning\u001b[0m\u001b[1;33m(\u001b[0m\u001b[1;34m\"Invalid Message:\"\u001b[0m\u001b[1;33m,\u001b[0m \u001b[0mexc_info\u001b[0m\u001b[1;33m=\u001b[0m\u001b[1;32mTrue\u001b[0m\u001b[1;33m)\u001b[0m\u001b[1;33m\u001b[0m\u001b[1;33m\u001b[0m\u001b[0m\n",
      "\u001b[1;31mKeyboardInterrupt\u001b[0m: Interrupted by user"
     ]
    }
   ],
   "source": [
    "def ahorcado():\n",
    "    palabra = input(\"Escoge una palabra \\n\")\n",
    "    escondida = esconde(palabra)\n",
    "    while escondida != palabra:\n",
    "        print(\"Así esta la partida \\n\", escondida)\n",
    "        letra = input(\"Escoge una letra \\n\")\n",
    "        escondida  = semiescondida(letra,posiciones(letra,palabra), escondida)\n",
    "    return \"Felicidades, has ganado\"\n",
    "\n",
    "ahorcado()"
   ]
  }
 ],
 "metadata": {
  "kernelspec": {
   "display_name": "Python 3 (ipykernel)",
   "language": "python",
   "name": "python3"
  },
  "language_info": {
   "codemirror_mode": {
    "name": "ipython",
    "version": 3
   },
   "file_extension": ".py",
   "mimetype": "text/x-python",
   "name": "python",
   "nbconvert_exporter": "python",
   "pygments_lexer": "ipython3",
   "version": "3.9.13"
  }
 },
 "nbformat": 4,
 "nbformat_minor": 5
}
