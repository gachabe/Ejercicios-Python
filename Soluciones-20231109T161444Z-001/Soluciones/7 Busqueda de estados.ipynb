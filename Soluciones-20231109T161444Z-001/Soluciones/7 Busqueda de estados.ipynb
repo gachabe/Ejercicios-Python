{
 "cells": [
  {
   "cell_type": "markdown",
   "id": "cd48c7af",
   "metadata": {},
   "source": [
    "# Búsqueda de estados"
   ]
  },
  {
   "cell_type": "markdown",
   "id": "f24b73a1",
   "metadata": {},
   "source": [
    "## El problema del lobo, el granjero y la cabra"
   ]
  },
  {
   "cell_type": "markdown",
   "id": "9b8f6d54",
   "metadata": {},
   "source": [
    "Intentaremos resolver el clásico problema por python"
   ]
  },
  {
   "cell_type": "markdown",
   "id": "7d0b2691",
   "metadata": {},
   "source": [
    "Enunciado: Definir un conjunto de estados que serán inválidos en este problema. Un estado inválido es aquel donde el lobo y la cabra están juntos sin el granjero, o la cabra y la col están juntas sin el granjero."
   ]
  },
  {
   "cell_type": "code",
   "execution_count": 7,
   "id": "155c6351",
   "metadata": {},
   "outputs": [],
   "source": [
    "invalidos = [ set(['lobo', 'cabra']), set(['cabra', 'col'])]\n"
   ]
  },
  {
   "cell_type": "markdown",
   "id": "4270671f",
   "metadata": {},
   "source": [
    "Definir los posibles movimientos\n",
    "\n",
    "Enunciado: Definir una lista de los posibles movimientos que puede hacer el granjero. El granjero siempre se moverá de una orilla a la otra, y puede llevar a otro pasajero o no llevar a nadie."
   ]
  },
  {
   "cell_type": "code",
   "execution_count": 5,
   "id": "c11fdc8b",
   "metadata": {},
   "outputs": [],
   "source": [
    "movimientos = [['granjero'], ['granjero', 'lobo'], ['granjero', 'cabra'], ['granjero', 'col']]\n"
   ]
  },
  {
   "cell_type": "markdown",
   "id": "d17010a9",
   "metadata": {},
   "source": [
    "Definir una función para verificar si un estado es válido\n",
    "\n",
    "Enunciado: Definir una función que tome un estado como entrada y verifique si es válido. Un estado es válido si no está en la lista de estados inválidos y si el granjero está presente o si el estado está vacío."
   ]
  },
  {
   "cell_type": "code",
   "execution_count": 2,
   "id": "bb6660d7",
   "metadata": {},
   "outputs": [],
   "source": [
    "def es_valido(estado):\n",
    "    return estado not in invalidos and (estado == set(['granjero']) or estado == set([]) or 'granjero' in estado)\n"
   ]
  },
  {
   "cell_type": "markdown",
   "id": "62716ae0",
   "metadata": {},
   "source": [
    "Definir la función de búsqueda\n",
    "\n",
    "Enunciado: Definir una función que realice una búsqueda en profundidad para encontrar una secuencia de movimientos que lleve a todos al otro lado del río de manera segura. La función debe explorar todos los posibles movimientos desde cada estado y verificar si cada nuevo estado es válido antes de explorarlo."
   ]
  },
  {
   "cell_type": "code",
   "execution_count": 8,
   "id": "08da57ab",
   "metadata": {},
   "outputs": [
    {
     "name": "stdout",
     "output_type": "stream",
     "text": [
      "False\n"
     ]
    }
   ],
   "source": [
    "def buscar_solucion():\n",
    "    # Inicio y final\n",
    "    inicio = set(['granjero', 'lobo', 'cabra', 'col'])\n",
    "    final = set([])\n",
    "\n",
    "    # Pila para la búsqueda en profundidad\n",
    "    pila = [(inicio, final)]\n",
    "    while pila:\n",
    "        (orilla1, orilla2) = pila.pop()\n",
    "        if orilla2 == set(['granjero', 'lobo', 'cabra', 'col']):\n",
    "            return True\n",
    "        for movimiento in movimientos:\n",
    "            if set(movimiento).issubset(orilla1):\n",
    "                nueva_orilla1 = orilla1.difference(movimiento)\n",
    "                nueva_orilla2 = orilla2.union(movimiento)\n",
    "                if es_valido(nueva_orilla1) and es_valido(nueva_orilla2):\n",
    "                    pila.append((deepcopy(nueva_orilla1), deepcopy(nueva_orilla2)))\n",
    "    return False\n",
    "\n",
    "print(buscar_solucion())\n"
   ]
  },
  {
   "cell_type": "markdown",
   "id": "720fdc58",
   "metadata": {},
   "source": [
    "## Laberinto"
   ]
  },
  {
   "cell_type": "markdown",
   "id": "b336d6b0",
   "metadata": {},
   "source": [
    "En este ejercicio crearemos un laberinto mediante una matriz de 0's y 1's con 0 camino libre y 1 una pared. Después crearemos una función que nos de la salida del laberinto desde un punto incial dado"
   ]
  },
  {
   "cell_type": "markdown",
   "id": "db59b3c3",
   "metadata": {},
   "source": [
    "Representar el laberinto: Primero, necesitamos una representación del laberinto. Crea una matriz de 0's y 1's que represente el laberinto."
   ]
  },
  {
   "cell_type": "markdown",
   "id": "2c70583e",
   "metadata": {},
   "source": [
    "Movimientos posibles: Necesitamos una forma de representar los movimientos posibles desde una celda. Crea una lista de tuplas que representen las posibles direcciones en las que podemos movernos desde una celda (derecha, izquierda, arriba, abajo)."
   ]
  },
  {
   "cell_type": "markdown",
   "id": "7ad43d08",
   "metadata": {},
   "source": [
    "Verificar movimientos: Ahora necesitamos una función que verifique si un movimiento es válido. Esta función debe tomar la matriz del laberinto, una celda y un conjunto de celdas visitadas como entrada, y debe devolver True si podemos movernos a esa celda (es decir, si la celda está dentro del laberinto, no es una pared y no se ha visitado antes) y False en caso contrario."
   ]
  },
  {
   "cell_type": "markdown",
   "id": "b59b3591",
   "metadata": {},
   "source": [
    "Función de búsqueda: Ahora estamos listos para crear nuestra función de búsqueda. Esta función debería tomar la matriz del laberinto, el punto de inicio y el punto final como entrada, y debería usar una búsqueda en profundidad para encontrar un camino desde el inicio hasta el final. Debería devolver este camino como una lista de celdas."
   ]
  },
  {
   "cell_type": "markdown",
   "id": "60988355",
   "metadata": {},
   "source": [
    "Recorrido completo del laberinto: Ahora que tenemos nuestra función de búsqueda, podemos usarla para encontrar un camino en el laberinto. Define los puntos de inicio y final y usa la función de búsqueda para encontrar un camino."
   ]
  },
  {
   "cell_type": "code",
   "execution_count": 2,
   "id": "48a409a3",
   "metadata": {},
   "outputs": [
    {
     "name": "stdout",
     "output_type": "stream",
     "text": [
      "(0, 0)\n",
      "(1, 0)\n",
      "(2, 0)\n",
      "(3, 0)\n",
      "(4, 0)\n",
      "(4, 1)\n",
      "(4, 2)\n",
      "(4, 3)\n",
      "(4, 4)\n"
     ]
    }
   ],
   "source": [
    "# Tarea 2: Representar el laberinto\n",
    "laberinto = [[0, 1, 0, 0, 0],\n",
    "             [0, 1, 0, 1, 0],\n",
    "             [0, 0, 0, 0, 0],\n",
    "             [0, 1, 1, 1, 1],\n",
    "             [0, 0, 0, 0, 0]]\n",
    "\n",
    "# Tarea 3: Definir los movimientos posibles\n",
    "direcciones = [(0, 1), (0, -1), (1, 0), (-1, 0)] # Derecha, Izquierda, Abajo, Arriba\n",
    "\n",
    "# Tarea 4: Verificar los movimientos\n",
    "def es_movimiento_valido(laberinto, punto, visitados):\n",
    "    (x, y) = punto\n",
    "    if (0 <= x < len(laberinto)) and (0 <= y < len(laberinto[0])) and (laberinto[x][y] == 0) and (punto not in visitados):\n",
    "        return True\n",
    "    return False\n",
    "\n",
    "# Tarea 5: Función de búsqueda\n",
    "def dfs(laberinto, punto, fin, visitados):\n",
    "    if punto == fin:\n",
    "        return [punto]\n",
    "    visitados.add(punto)\n",
    "    for dx, dy in direcciones:\n",
    "        nueva_x, nueva_y = punto[0] + dx, punto[1] + dy\n",
    "        if es_movimiento_valido(laberinto, (nueva_x, nueva_y), visitados):\n",
    "            camino = dfs(laberinto, (nueva_x, nueva_y), fin, visitados)\n",
    "            if camino is not None:\n",
    "                return [punto] + camino\n",
    "    return None\n",
    "\n",
    "# Tarea 6: Recorrido completo del laberinto\n",
    "inicio = (0, 0) # punto de inicio\n",
    "fin = (4, 4) # punto final\n",
    "visitados = set() # Conjunto de celdas visitadas\n",
    "camino = dfs(laberinto, inicio, fin, visitados)\n",
    "\n",
    "for paso in camino:\n",
    "        print(paso)"
   ]
  },
  {
   "cell_type": "markdown",
   "id": "625edd57",
   "metadata": {},
   "source": [
    "## El problema de las N reinas "
   ]
  },
  {
   "cell_type": "markdown",
   "id": "7b27ed69",
   "metadata": {},
   "source": [
    "Un problema típico dedicado en la busqueda de estados es el problema de las N Reinas, donde, en un tablero de NxN, debemos colocar N reinas sin que estas se coman entre si."
   ]
  },
  {
   "cell_type": "code",
   "execution_count": 1,
   "id": "ea874d73",
   "metadata": {},
   "outputs": [
    {
     "name": "stdout",
     "output_type": "stream",
     "text": [
      "1 0 0 0 0 0 0 0 \n",
      "0 0 0 0 0 0 1 0 \n",
      "0 0 0 0 1 0 0 0 \n",
      "0 0 0 0 0 0 0 1 \n",
      "0 1 0 0 0 0 0 0 \n",
      "0 0 0 1 0 0 0 0 \n",
      "0 0 0 0 0 1 0 0 \n",
      "0 0 1 0 0 0 0 0 \n"
     ]
    },
    {
     "data": {
      "text/plain": [
       "True"
      ]
     },
     "execution_count": 1,
     "metadata": {},
     "output_type": "execute_result"
    }
   ],
   "source": [
    "def resolver_n_reinas(N):\n",
    "    # Inicializar el tablero con 0's\n",
    "    tablero = [[0]*N for _ in range(N)]\n",
    " \n",
    "    # Llamamos a la función de backtracking\n",
    "    if resolver_n_reinas_aux(tablero, 0) == False:\n",
    "        print(\"No hay solución\")\n",
    "        return False\n",
    " \n",
    "    # Si hay una solución, imprimimos el tablero\n",
    "    imprimir_tablero(tablero)\n",
    "    return True\n",
    "\n",
    "def resolver_n_reinas_aux(tablero, col):\n",
    "    # Si todas las reinas están colocadas correctamente, retornamos True\n",
    "    if col >= len(tablero):\n",
    "        return True\n",
    " \n",
    "    # Iteramos sobre cada fila en la columna actual\n",
    "    for i in range(len(tablero)):\n",
    " \n",
    "        # Verificamos si podemos colocar una reina aquí\n",
    "        if es_seguro(tablero, i, col):\n",
    "            # Si es seguro, colocamos una reina\n",
    "            tablero[i][col] = 1\n",
    " \n",
    "            # Recursivamente colocamos el resto de las reinas\n",
    "            if resolver_n_reinas_aux(tablero, col + 1) == True:\n",
    "                return True\n",
    " \n",
    "            # Si no podemos colocar una reina, hacemos backtracking\n",
    "            tablero[i][col] = 0\n",
    " \n",
    "    # Si no podemos colocar una reina en ninguna fila en esta columna, retornamos False\n",
    "    return False\n",
    "\n",
    "def es_seguro(tablero, fila, col):\n",
    "    # Verificamos si hay una reina en la misma fila hacia la izquierda\n",
    "    for i in range(col):\n",
    "        if tablero[fila][i] == 1:\n",
    "            return False\n",
    " \n",
    "    # Verificamos si hay una reina en la diagonal superior izquierda\n",
    "    for i, j in zip(range(fila, -1, -1), range(col, -1, -1)):\n",
    "        if tablero[i][j] == 1:\n",
    "            return False\n",
    " \n",
    "    # Verificamos si hay una reina en la diagonal inferior izquierda\n",
    "    for i, j in zip(range(fila, len(tablero), 1), range(col, -1, -1)):\n",
    "        if tablero[i][j] == 1:\n",
    "            return False\n",
    " \n",
    "    return True\n",
    " \n",
    "def imprimir_tablero(tablero):\n",
    "    for i in range(len(tablero)):\n",
    "        for j in range(len(tablero)):\n",
    "            print(tablero[i][j], end = ' ')\n",
    "        print()\n",
    "\n",
    "# Prueba del algoritmo\n",
    "resolver_n_reinas(8)\n"
   ]
  }
 ],
 "metadata": {
  "kernelspec": {
   "display_name": "Python 3 (ipykernel)",
   "language": "python",
   "name": "python3"
  },
  "language_info": {
   "codemirror_mode": {
    "name": "ipython",
    "version": 3
   },
   "file_extension": ".py",
   "mimetype": "text/x-python",
   "name": "python",
   "nbconvert_exporter": "python",
   "pygments_lexer": "ipython3",
   "version": "3.9.13"
  }
 },
 "nbformat": 4,
 "nbformat_minor": 5
}
