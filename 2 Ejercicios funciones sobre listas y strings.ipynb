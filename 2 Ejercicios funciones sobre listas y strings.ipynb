{
 "cells": [
  {
   "cell_type": "markdown",
   "id": "cc9259d5",
   "metadata": {},
   "source": [
    "Cree una función que dado un String nos devuelva cuántas veces aparece cada letra"
   ]
  },
  {
   "cell_type": "markdown",
   "id": "284b502a",
   "metadata": {},
   "source": [
    "Cree una función que dado un String nos devuelva ese mismo String, pero intercalando mayúsculas y minúsculas.\n",
    "EsTo eS Un eJeMpLo"
   ]
  },
  {
   "cell_type": "markdown",
   "id": "fd042aa5",
   "metadata": {},
   "source": [
    "Cree una función eco, que dado un String y un numero repita ese todas las letras del String ese numero de veces.\n",
    "Ejemplo eco(\"Hola\",3) = HHHooolllaaa"
   ]
  },
  {
   "cell_type": "markdown",
   "id": "c12ade49",
   "metadata": {},
   "source": [
    "Cree una función que, dada dos Strings, nos devuelva True si la primera es una subcadena de la segunda"
   ]
  },
  {
   "cell_type": "markdown",
   "id": "5c5ab9ef",
   "metadata": {},
   "source": [
    "Cree una función que dado un String y un caracter nos devuelva ese mismo String sustituyendo todas las apariciones de ese caracter por \" * \", por ejemplo, ahorcado(\"paraguas\",\"a\") = \"p\\*r\\*gu*s. ¿Te ves capaz de hacer la función inversa?"
   ]
  },
  {
   "cell_type": "markdown",
   "id": "10779a92",
   "metadata": {},
   "source": [
    "(Idea para proyecto aparte) Si has conseguido hacer el ejercicio anterior en ambas versiones deberias intentar crear tu propia versión del juego del ahorcado, es un proyecto típico para aprender python"
   ]
  },
  {
   "cell_type": "markdown",
   "id": "a1df7b28",
   "metadata": {},
   "source": [
    "Cree una función que dada una lista de 1's y 0's devolver su ese número en versión decimal."
   ]
  },
  {
   "cell_type": "markdown",
   "id": "9da54a82",
   "metadata": {},
   "source": [
    "Crea tu propia versión del método .split()"
   ]
  },
  {
   "cell_type": "markdown",
   "id": "c961ce00",
   "metadata": {},
   "source": [
    "(Dificil) Cree una función llamada Cesar() que reciba un String y un número y devuelva el cifrado césar de ese String en base el número recibido"
   ]
  },
  {
   "cell_type": "markdown",
   "id": "e59c23aa",
   "metadata": {},
   "source": [
    "Cree una función que reciba dos Strings y compruebe si el primero es un anagrama del segundo, ejemplo anagrama(\"soy lord voldemort\", \"tom sorvolo ryddle\") == True"
   ]
  },
  {
   "cell_type": "markdown",
   "id": "e9c17258",
   "metadata": {},
   "source": [
    "Cree una función que compruebe si un String dado es un pangrama"
   ]
  },
  {
   "cell_type": "markdown",
   "id": "a1c85857",
   "metadata": {},
   "source": [
    "En un clásico acertijo para niños se plantea el problema de como pasar de la lista [1,2,1,1,3,2,2] a [1,1,1,2,2,1,1,3,2,2], como buen programador cree una función que resuleva este acertijo para cualquiera lista dada"
   ]
  },
  {
   "cell_type": "markdown",
   "id": "17161096",
   "metadata": {},
   "source": [
    "(Dificil) Una matriz se puede expresar como una lista de listas, cree una funciñon que, dada una matriz nos devuelva su matriz traspuesta"
   ]
  },
  {
   "cell_type": "markdown",
   "id": "d8c896b3",
   "metadata": {},
   "source": [
    "Un tablero de 3 en raya se podría expresar como [[X,O,X],[O,X,O],[O,X,O]]\n",
    "Cree una función que dado un tablero compruebe si han ganado las x (PISTA: Haz primero el ejercicio anterior)"
   ]
  },
  {
   "cell_type": "markdown",
   "id": "6a613066",
   "metadata": {},
   "source": [
    "Si a la letra a le asociamos el valor 0 , a la b el 1 y asi sucesivamente, y aparte, dado un String le asociamos el valor de su posicion de forma decreciente en función a la distancia del centro, entonces para la palabra hola, tendriamos \\\n",
    "h\\*0+o\\*1+l\\*1+a\\*0 = 7\\*0+15\\*1+11\\*1+0\\*0 = 26 \n",
    "Cree una función que realice este proceso\n"
   ]
  },
  {
   "cell_type": "markdown",
   "id": "95db8d48",
   "metadata": {},
   "source": [
    "Cree una función llamada atleta que recibirá 2 Strings, el primer strins solo contendrá las letras C (corre) o S (salta) y el segundo string representará la pista de atletismo y estará compuesta por \"_\" (suelo) o \"|\" (valla), si el atleta corre sobre suelo este añadirá 1 segundo a su cronometro, de igual manera que si salta sobre valla, pero si salta sobre suelo añadirá 5 segundos a su cronometro y, si corre sobre valla este se caerá añadiendo 10 segundos. Nuestra función debe:\n",
    "1 - Comprobar que las ordenes del atleta y la longitud de la pista miden lo mismo\n",
    "2 - Devolver cuando ha tardado el atleta en acabar la carrera"
   ]
  }
 ],
 "metadata": {
  "kernelspec": {
   "display_name": "Python 3 (ipykernel)",
   "language": "python",
   "name": "python3"
  },
  "language_info": {
   "codemirror_mode": {
    "name": "ipython",
    "version": 3
   },
   "file_extension": ".py",
   "mimetype": "text/x-python",
   "name": "python",
   "nbconvert_exporter": "python",
   "pygments_lexer": "ipython3",
   "version": "3.9.13"
  }
 },
 "nbformat": 4,
 "nbformat_minor": 5
}
