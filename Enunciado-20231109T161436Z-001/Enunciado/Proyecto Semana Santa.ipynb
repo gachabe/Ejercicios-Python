{
 "cells": [
  {
   "cell_type": "markdown",
   "id": "0a77e873",
   "metadata": {},
   "source": [
    "# Proyecto I - Las Torres de Hanoi\n",
    "El juego de Las Torres de Hanoi es un antiguo juego que todos los alumnos de programación odian. Hoy vamos a implementarlo. La representación será una lista con 3 sublistas donde el lado izquierdo de cada lista representará la ficha que está abajo del todo y la más a la derecha la ficha superior, en todo momento la ficha superior debe ser menor o igual a sus inferiores. Por Ejemplo [[5,4,2],[3],[1]] sería la torre con las dos fichas mas grandes en la columna izquierda y encima de ellas la segunda menor, en la columna central la ficha intermedia y en la columna de la derecha la ficha menor.\n",
    "\n",
    "El juego consiste en ir cambiando las fichas en cada momento de una en una hasta tener todas las fichas en el lado derecho\n",
    "\n",
    "Primero creemos una función llamada TorreInicio() que no reciba ningún argumento y nos devuelva una torre con todas las fichas en el lado izquierda ordenadas"
   ]
  },
  {
   "cell_type": "code",
   "execution_count": null,
   "id": "6523412a",
   "metadata": {},
   "outputs": [],
   "source": []
  },
  {
   "cell_type": "markdown",
   "id": "2d89b2cf",
   "metadata": {},
   "source": [
    "Creemos ahora una función que compruebe si hemos ganado, es decir, si una torre dada es una torre final"
   ]
  },
  {
   "cell_type": "code",
   "execution_count": null,
   "id": "577fe380",
   "metadata": {},
   "outputs": [],
   "source": []
  },
  {
   "cell_type": "markdown",
   "id": "9e5157fa",
   "metadata": {},
   "source": [
    "Aqui crearemos una función que, dado un estado de la torre, un número de posición de columna de partida y otro de llegada haga \n",
    "el movimiento correspondiente, ten cuidado que no todos los movimientos son válidos, recuerda que:\n",
    "- El número que vaya a colocarse debe ser menor que el colocado previamente\n",
    "- Es imposible sacar nada de una columna vacía\n",
    "- Una columna vacía siempre podrá recibir un nuevo número"
   ]
  },
  {
   "cell_type": "code",
   "execution_count": 1,
   "id": "ac73e161",
   "metadata": {},
   "outputs": [],
   "source": [
    " def movimiento(torre,inicio,fin):\n",
    "        pass\n",
    "    \n",
    "    #movimiento([[5, 4, 3, 2], [1], []],0,1) == \"Lo siento, movimiento no válido\"\n",
    " #movimiento(TorreInicio(),0,1) == [[5, 4, 3, 2], [1], []]"
   ]
  },
  {
   "cell_type": "markdown",
   "id": "a2c67dfb",
   "metadata": {},
   "source": [
    "Ya casi tenemos la lógica interna del juego, parémonos ahora para ver como podríamos visualizar las columnas, ya que el sistema de lista de listas es incómodo. Intenta crear una función que, dada una torre, nos de su representación colocando los números unos encima de otros y, en caso de no tener número a esa altura colocar el caracter \"|\". Recuerda que las listas son elementos mutables"
   ]
  },
  {
   "cell_type": "code",
   "execution_count": null,
   "id": "8329eeef",
   "metadata": {},
   "outputs": [],
   "source": [
    "        \n",
    "#repr_torre([[5, 4, 3, 2], [1], []]) ==\n",
    "#2 | |\n",
    "#3 | |\n",
    "#4 | |\n",
    "#5 1 |"
   ]
  },
  {
   "cell_type": "markdown",
   "id": "61ea1d6d",
   "metadata": {},
   "source": [
    "Usando todas las funciones anteriores cree una función llamada turno que nos pregunte de que columna queremos mover, a qué otra columna y en caso de ser el estado final nos avise de que hemos ganado, en caso de no serlo continue la partida."
   ]
  },
  {
   "cell_type": "code",
   "execution_count": null,
   "id": "91effca9",
   "metadata": {},
   "outputs": [],
   "source": []
  },
  {
   "cell_type": "markdown",
   "id": "4dee9803",
   "metadata": {},
   "source": [
    "El juego de las torres de Hanoi es una buena práctica de programación en muchos sentidos, a parte de su implementación como hicimos hoy podrías hacer los siguientes ejercicios para darle un poco de desarrollo:\n",
    "\n",
    " - El minínimo de pasos para solucionar la torre de Hanoi es 2^n-1 donde n es el número de discos, podrías añadir a este programa un selector de dificultad que según el nivel que elija te deje dar un número límite de pasos\n",
    " \n",
    " - En Wikipedia hay una idea del algoritmo de resolución de las Torres de Hanoi, podrías, después de un par de intentos a mano, hacer que el ordenador lo resuelva automáticamente\n",
    " \n",
    " - Como se ha dicho antes, el orden de solución es 2^n-1, esto se puede comprobar con programación dinámica, abre Haskell e intenta ver varios casos con varios discos a ver si consigues que el orden de la solución de la implementación anterior cuadre con la fórmula"
   ]
  },
  {
   "cell_type": "markdown",
   "id": "9c1b7c78",
   "metadata": {},
   "source": [
    "# Proyecto II - Tres en raya\n",
    "Procedamos ahora con el siguiente proyecto, en este caso programaremos de manera básica el tres en raya. Siendo este representado por una lista de listas que serán las filas del tablero de juego y en vez de cruces, círculos y vacíos (Puedes intentar hacer tu propia versión) usaremos el 0 como el blanco, y los número 1 y 2 para representar las casillas tomadas por los jugador 1 y 2 respectivamente.\n",
    "\n",
    "Empezaremos de manera análoga al proyecto anterior preparando el tablero de juego."
   ]
  },
  {
   "cell_type": "markdown",
   "id": "81db3975",
   "metadata": {},
   "source": [
    "Cree una funcion TableroInicial() que nos devuelva un tablero con todos 0's"
   ]
  },
  {
   "cell_type": "code",
   "execution_count": null,
   "id": "d1c863ff",
   "metadata": {},
   "outputs": [],
   "source": []
  },
  {
   "cell_type": "markdown",
   "id": "ae318c7c",
   "metadata": {},
   "source": [
    "Ahora crearemos el movimiento básico del juego, cree una función llamada turno_jugador que reciba el jugador, siendo este 1 o 2, fila, columna y un tablero y nos devuelva un nuevo tablero con la nueva casilla puesta tomada por el jugador, debe también comprobar que esa casilla está disponible, si no fuera así avisarlo y volver a iniciar la elección"
   ]
  },
  {
   "cell_type": "code",
   "execution_count": null,
   "id": "a94daf7c",
   "metadata": {},
   "outputs": [],
   "source": []
  },
  {
   "cell_type": "markdown",
   "id": "273f978a",
   "metadata": {},
   "source": [
    "Ahora deberíamos comprobar si tras un movimiento este jugador ha ganado, así que crearemos una función que dado un tablero nos devuelva un Booleano que será True si hay alguna raya y False en caso contrario, recuerda mirar las diagonales, filas y columnas"
   ]
  },
  {
   "cell_type": "code",
   "execution_count": null,
   "id": "05166c06",
   "metadata": {},
   "outputs": [],
   "source": []
  },
  {
   "cell_type": "markdown",
   "id": "1730fc22",
   "metadata": {},
   "source": [
    "En este juego se admite empate, así que crearemos ahora una función que dado un tablero nos deuelva True si ya no es posible rellenarlo más, ten cuidado porque puede que el profesor haya puesto una implementación que ahora entorpezca este ejercicio"
   ]
  },
  {
   "cell_type": "code",
   "execution_count": null,
   "id": "1e2ebd64",
   "metadata": {},
   "outputs": [],
   "source": []
  },
  {
   "cell_type": "markdown",
   "id": "45726c17",
   "metadata": {},
   "source": [
    "Aunque ya nos estamos acostumbrando a ver una lista de listas es mejor mostrar el tablero en pantalla de una mejor manera, cree una función que dado un tablero lo represente de una manera más asequible, como es algo arbitrario esta forma os dejo como lo puse yo"
   ]
  },
  {
   "cell_type": "code",
   "execution_count": null,
   "id": "e873525a",
   "metadata": {},
   "outputs": [],
   "source": []
  },
  {
   "cell_type": "markdown",
   "id": "321e2486",
   "metadata": {},
   "source": [
    "Ya lo tenemos todo para poder preparar el juego, si el proyecto anterior lo hiciste por llamada recursiva en este ejercicio no puedes usar la recursividad, si no DEBES usar la recursividad. Suerte"
   ]
  },
  {
   "cell_type": "code",
   "execution_count": null,
   "id": "79c79a82",
   "metadata": {},
   "outputs": [],
   "source": []
  },
  {
   "cell_type": "markdown",
   "id": "0481f708",
   "metadata": {},
   "source": [
    "Disfruta echándote tus partidas mientras descansas de ver pasos en Semana Santa"
   ]
  }
 ],
 "metadata": {
  "kernelspec": {
   "display_name": "Python 3 (ipykernel)",
   "language": "python",
   "name": "python3"
  },
  "language_info": {
   "codemirror_mode": {
    "name": "ipython",
    "version": 3
   },
   "file_extension": ".py",
   "mimetype": "text/x-python",
   "name": "python",
   "nbconvert_exporter": "python",
   "pygments_lexer": "ipython3",
   "version": "3.9.13"
  }
 },
 "nbformat": 4,
 "nbformat_minor": 5
}
