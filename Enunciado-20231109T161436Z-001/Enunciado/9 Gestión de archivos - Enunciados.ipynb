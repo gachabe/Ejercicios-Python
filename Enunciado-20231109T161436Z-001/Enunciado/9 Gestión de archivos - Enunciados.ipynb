{
 "cells": [
  {
   "cell_type": "markdown",
   "id": "a55a03ed",
   "metadata": {},
   "source": [
    "En el archivo adjunto pesonas tenemos una base de datos de furiosos maleantes, crea una función que habrá el archivo y muestre sus datos de forma más visual. Es decir, elimina los punto y coma y dique dato vas a presentar"
   ]
  },
  {
   "cell_type": "markdown",
   "id": "90fca7c3",
   "metadata": {},
   "source": [
    "Crea una función que reciba el nombre de un archivo y devuelva la palabra de mayor longitud del archivo"
   ]
  },
  {
   "cell_type": "markdown",
   "id": "14c95074",
   "metadata": {},
   "source": [
    "Una empresa nos ha pedido un programa para buscar erratas en guiones, para ello recibiremos un texto, lo abriremos y le pedeiremos al usuario que nos de una palabra a buscar. El programa debe buscar cada incidencia de esa palabra en el texto, guardar en que linea del texto se encuentra y devolver un archivo llamado result.txt donde aparezcan tanto el número de la linea donde aparece como el texto de la linea donde aparece"
   ]
  }
 ],
 "metadata": {
  "kernelspec": {
   "display_name": "Python 3 (ipykernel)",
   "language": "python",
   "name": "python3"
  },
  "language_info": {
   "codemirror_mode": {
    "name": "ipython",
    "version": 3
   },
   "file_extension": ".py",
   "mimetype": "text/x-python",
   "name": "python",
   "nbconvert_exporter": "python",
   "pygments_lexer": "ipython3",
   "version": "3.9.13"
  }
 },
 "nbformat": 4,
 "nbformat_minor": 5
}
