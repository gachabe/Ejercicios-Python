{
 "cells": [
  {
   "cell_type": "markdown",
   "id": "2233384e",
   "metadata": {},
   "source": [
    "Un concensionario nos ha llamado para crear un registro de sus ventas, empezaremos creando una manera de llevar el inventario de las motos que hay. Crea una clase llamada motocicleta que tenga lo siguiente:\n",
    "- matricula\n",
    "- número de ruedas (podría ser un triciclo)\n",
    "- marca\n",
    "- color\n",
    "- tanque (lleno, medio, vacío)\n",
    "\n",
    "\n",
    "Cuando un valor pueda ser predefinido haz que sea el valor predeterminado"
   ]
  },
  {
   "cell_type": "code",
   "execution_count": 5,
   "id": "06d6dd75",
   "metadata": {},
   "outputs": [],
   "source": [
    "#Ejercicio 1\n",
    "class moto:\n",
    "    def __init__(self,matricula,marca,color, tanque= \"lleno\",ruedas = 2):\n",
    "        self.matricula = matricula\n",
    "        self.ruedas = ruedas\n",
    "        self.color = color\n",
    "        self.marca = marca\n",
    "        if tanque in [\"lleno\", \"medio\",\"vacio\"]:\n",
    "            self.tanque = tanque\n",
    "        else: \n",
    "            raise Exception(\"Valor no válido\")\n",
    "            #Ejercicio 2\n",
    "    def arrancar(self):\n",
    "            if self.tanque == \"medio\":\n",
    "                print(\"Brum brum\")\n",
    "                self.tanque = \"vacio\"\n",
    "            \n",
    "            elif self.tanque == \"lleno\": \n",
    "                print(\"Brum brum\")\n",
    "                self.tanque = \"medio\"\n",
    "    def repostar(self):\n",
    "        self.tanque = \"lleno\"\n",
    "        return\n",
    "            \n",
    "        \n",
    "        \n",
    "        \n",
    "moto1 = moto(\"123\",\"toyota\",\"verde\")\n"
   ]
  },
  {
   "cell_type": "code",
   "execution_count": 63,
   "id": "e73ad787",
   "metadata": {},
   "outputs": [
    {
     "name": "stdout",
     "output_type": "stream",
     "text": [
      "Brum brum\n"
     ]
    }
   ],
   "source": [
    "moto1.tanque\n",
    "moto1.arrancar()"
   ]
  },
  {
   "cell_type": "markdown",
   "id": "aaa46115",
   "metadata": {},
   "source": [
    "Podría ser que algún cliente quiera probar una de las motos, crea un método que sea arrancar y, si tiene gasolina la moto, de una muestra que esta encendida, pero al ser probada debera pasar a tener menos gasolina, es decir, si esta llena pasa a medio y medio a vacia. \n",
    "De aqui podemos deducir que podría ser necesario repostar las motos, crea este metodo que nos rellene cualquier tanque al tope"
   ]
  },
  {
   "cell_type": "markdown",
   "id": "39e2d43a",
   "metadata": {},
   "source": [
    "# Grupo de las matrices"
   ]
  },
  {
   "cell_type": "markdown",
   "id": "a3ebf00a",
   "metadata": {},
   "source": [
    "Definiremos ahora de forma mas o menos formal el grupo de las matrices de orden 2 con determinante no nulo, empezaremos creando la clase, esto será una clase que reciba 4 elementos a,b,c,d  que son los cuatro componente de nuestra matriz"
   ]
  },
  {
   "cell_type": "code",
   "execution_count": 8,
   "id": "f5f203d6",
   "metadata": {},
   "outputs": [],
   "source": [
    "class matriz2:\n",
    "    def __init__(self,a,b,c,d):\n",
    "        if a*d -c*b !=0:\n",
    "            self.a=a\n",
    "            self.b=b\n",
    "            self.c=c\n",
    "            self.d=d\n",
    "        else: \n",
    "            raise Exception(\"Elementos no válidos\")\n",
    "    def __str__(self):\n",
    "        return \"(\"+str(self.a)+str(self.b)+\")\"+\"\\n\"+\"(\"+str(self.c)+str(self.d)+\")\"\n",
    "    def __repr__(self):\n",
    "        return str(self)\n",
    "    def __add__(self,m2):\n",
    "        return matriz2(self.a+m2.a,self.b+m2.b,self.c+m2.c,self.d+m2.d)\n",
    "    \n",
    "    "
   ]
  },
  {
   "cell_type": "code",
   "execution_count": 10,
   "id": "25409c43",
   "metadata": {},
   "outputs": [
    {
     "name": "stdout",
     "output_type": "stream",
     "text": [
      "(12)\n",
      "(11)\n"
     ]
    },
    {
     "data": {
      "text/plain": [
       "(12)\n",
       "(11)"
      ]
     },
     "execution_count": 10,
     "metadata": {},
     "output_type": "execute_result"
    }
   ],
   "source": [
    "M1 =matriz2(1,2,1,1)\n",
    "M2 = matriz2(1,2,3,4)\n",
    "print(M1)\n",
    "M1"
   ]
  },
  {
   "cell_type": "code",
   "execution_count": 6,
   "id": "755e8dc9",
   "metadata": {},
   "outputs": [
    {
     "data": {
      "text/plain": [
       "'1 \\n2 '"
      ]
     },
     "execution_count": 6,
     "metadata": {},
     "output_type": "execute_result"
    }
   ],
   "source": [
    "str(M1)"
   ]
  },
  {
   "cell_type": "code",
   "execution_count": null,
   "id": "5f15a22d",
   "metadata": {},
   "outputs": [],
   "source": []
  },
  {
   "cell_type": "code",
   "execution_count": 138,
   "id": "8343a9a0",
   "metadata": {},
   "outputs": [
    {
     "data": {
      "text/plain": [
       "(24)\n",
       "(45)"
      ]
     },
     "execution_count": 138,
     "metadata": {},
     "output_type": "execute_result"
    }
   ],
   "source": [
    "M1+M2"
   ]
  },
  {
   "cell_type": "markdown",
   "id": "6058a180",
   "metadata": {},
   "source": [
    "Ahora tenemos que hacer que las matrices se puedan ver de forma comoda usa el metodo magico \"__str__\" para que se muestre la matriz de forma cuadrada"
   ]
  },
  {
   "cell_type": "markdown",
   "id": "7e3d79a5",
   "metadata": {},
   "source": [
    "Como habreis visto aun usando el metodo __str__ sigue sin verse, esto es porque ese metodo solo funcion cuando le digamos que la matriz es un string, pero no se lo hemos dicho, para arreglar esto usaremos el metodo __repr__"
   ]
  },
  {
   "cell_type": "markdown",
   "id": "e6af04c0",
   "metadata": {},
   "source": [
    "Ya puedo representarlas de forma comoda veamos que ocurre con la suma"
   ]
  },
  {
   "cell_type": "markdown",
   "id": "d13dbdf4",
   "metadata": {},
   "source": [
    "A partir de ahora, crea los metodos para multiplicar matrices, hallar sus inversas y sus traspuestas. Puede que mas adelante retomemos este ejercicio con otro tipo de matrices..."
   ]
  },
  {
   "cell_type": "markdown",
   "id": "12e871af",
   "metadata": {},
   "source": [
    "# Árboles Binarios - Recursión"
   ]
  },
  {
   "attachments": {
    "image.png": {
     "image/png": "[encoded data removed]"
    }
   },
   "cell_type": "markdown",
   "id": "f8895ead",
   "metadata": {},
   "source": [
    "Los árboles binarios son un tipo de representación de datos que en cada nodo puede tener o bien 2 o bien 0 hijos, por simplicidad consideremos los árboles que en cada nodo pueden tener cualquier tipo de valor (¿cómo se haría si no fuese válido cualquier valor?) y realizaremos la representación mediante recursión de la siguiente forma ![image.png](attachment:image.png)\n",
    "\n",
    "El árbol anterior lo expresaremos como A(4,A(3,A(1),A(6)),A(8,A(7),A(13)))\n",
    "Es decir, cada subárbol se denotará por A(nodo,Aizq,Ader)"
   ]
  },
  {
   "cell_type": "code",
   "execution_count": 38,
   "id": "edd46a06",
   "metadata": {},
   "outputs": [],
   "source": [
    "class arbol:\n",
    "    numero = 0\n",
    "    \n",
    "    def __init__(self,nodo,izq=None,der=None):\n",
    "        \n",
    "        \n",
    "        if (izq == None and der != None) or (der == None and izq != None):\n",
    "            raise Exception(\"Error, ese árbol no era binario\")\n",
    "        elif izq == None  and der == None:\n",
    "            self.nodo = nodo\n",
    "            self.izq = None\n",
    "            self.der = None\n",
    "        elif isinstance(izq,arbol) and isinstance(der,arbol) :\n",
    "            self.nodo = nodo\n",
    "            self.izq = izq\n",
    "            self.der = der\n",
    "        arbol.numero += 1\n",
    "      \n",
    "   \n",
    "            \n",
    "    def __str__(self):\n",
    "        if self.izq == None:\n",
    "            return \"A\" +\"(\"+ str(self.nodo) + \")\"\n",
    "        else:\n",
    "             return f\"A({self.nodo},{str(self.izq)},{str(self.der)})\"\n",
    "        \n",
    "    def __repr__(self):\n",
    "        if self.izq == None:\n",
    "            return \"A\" +\"(\"+str(self.nodo)+\")\"\n",
    "        else:\n",
    "            return f\"A({self.nodo},{str(self.izq)},{str(self.der)})\"\n",
    "        \n",
    "    def profundidad(self):\n",
    "        prof = 0\n",
    "        if self.izq == None:\n",
    "            return prof\n",
    "        else:\n",
    "            return 1 + max([self.izq.profundidad(),self.der.profundidad()])\n",
    "    def nodos(self):\n",
    "        nodos = []\n",
    "        if self.izq == None:\n",
    "            return (nodos + [self.nodo])\n",
    "        else:\n",
    "             return nodos + [self.nodo] + self.izq.nodos() + self.der.nodos()\n",
    "            \n",
    "    @classmethod\n",
    "    def cantidad(cls):  #cls es la clase\n",
    "        print(cls.numero)\n",
    "   \n",
    "            \n",
    "    \n",
    "            "
   ]
  },
  {
   "cell_type": "code",
   "execution_count": 40,
   "id": "c4fb8cd4",
   "metadata": {},
   "outputs": [
    {
     "name": "stdout",
     "output_type": "stream",
     "text": [
      "20\n"
     ]
    }
   ],
   "source": [
    "A = arbol(2,arbol(3),arbol(5))\n",
    "ejemplo =arbol(4, arbol(3,arbol(1),arbol(6)),arbol(8,arbol(7),arbol(13)))\n",
    "(ejemplo.profundidad())\n",
    "arbol.cantidad()"
   ]
  },
  {
   "cell_type": "markdown",
   "id": "b5a83611",
   "metadata": {},
   "source": [
    "# Volviendo a los Vehículos"
   ]
  },
  {
   "cell_type": "markdown",
   "id": "892e3fb7",
   "metadata": {},
   "source": [
    "El concesionario del primer ejercicio, gracias a nuestro trabajo, ha podido crecer y ahora no solo vende motos, sino coches, motos, caravanas, aviones...\n",
    "Entonces ahora nos han vuelto a llamar para poder crear una nueva base de datos.\n",
    "Crea una clase Vehiculo que será la super clase, teniendo esta los parámetros color, marca, ruedas y tanque. En ellos se definirán los métodos que ya practicamos en el ejercicio 1 (arrancar, rellenar tanque...)\n",
    "Después crearemos las clases coche y moto1 (el 1 es para evitar problemas con la clase anterior) y aqui el método repr nos deberá devolver que tipo de vehiculo es, esto es, si coche1 es un objeto coche print(coche1) = \"Esto es un coche\""
   ]
  },
  {
   "cell_type": "code",
   "execution_count": 5,
   "id": "19ef0418",
   "metadata": {},
   "outputs": [],
   "source": [
    "class vehiculo:\n",
    "    def __init__(self,matricula,marca,color, ruedas,tanque= \"lleno\"):\n",
    "        self.matricula = matricula\n",
    "        self.ruedas = ruedas\n",
    "        self.color = color\n",
    "        self.marca = marca\n",
    "        if tanque in [\"lleno\", \"medio\",\"vacio\"]:\n",
    "            self.tanque = tanque\n",
    "        else: \n",
    "            raise Exception(\"Valor no válido\")\n",
    "            #Ejercicio 2\n",
    "    def arrancar(self):\n",
    "            if self.tanque == \"medio\":\n",
    "                print(\"Brum brum\")\n",
    "                self.tanque = \"vacio\"\n",
    "            \n",
    "            elif self.tanque == \"lleno\": \n",
    "                print(\"Brum brum\")\n",
    "                self.tanque = \"medio\"\n",
    "    def repostar(self):\n",
    "        self.tanque = \"lleno\"\n",
    "        return\n",
    "            \n",
    "class coche(vehiculo):\n",
    "    def __init__(self,matricula,marca,color, ruedas,tanque= \"lleno\"):\n",
    "        super().__init__(matricula,marca,color, ruedas,tanque= \"lleno\")\n",
    "        \n",
    "    def __repr__(self):\n",
    "        return f\"Esto es un coche, cuya matricula es {self.matricula}\""
   ]
  },
  {
   "cell_type": "code",
   "execution_count": 6,
   "id": "1bfdbd27",
   "metadata": {},
   "outputs": [
    {
     "name": "stdout",
     "output_type": "stream",
     "text": [
      "Brum brum\n"
     ]
    }
   ],
   "source": [
    "coche1 = coche(\"as\",\"toyota\",\"rojo\",2)\n",
    "coche1.arrancar()"
   ]
  },
  {
   "cell_type": "code",
   "execution_count": 13,
   "id": "f9f3f67c",
   "metadata": {},
   "outputs": [],
   "source": [
    "def avisador(fun):\n",
    "    def wrap(*args):\n",
    "        print(f\"se ejecutó {fun}\")\n",
    "        return fun(*args)\n",
    "    return wrap\n",
    "\n",
    "@avisador    \n",
    "def suma(a,b):\n",
    "    return a+b\n",
    "\n",
    "\n"
   ]
  },
  {
   "cell_type": "code",
   "execution_count": null,
   "id": "ed89ecc9",
   "metadata": {},
   "outputs": [],
   "source": []
  },
  {
   "cell_type": "code",
   "execution_count": null,
   "id": "985846e0",
   "metadata": {},
   "outputs": [],
   "source": []
  }
 ],
 "metadata": {
  "kernelspec": {
   "display_name": "Python 3 (ipykernel)",
   "language": "python",
   "name": "python3"
  },
  "language_info": {
   "codemirror_mode": {
    "name": "ipython",
    "version": 3
   },
   "file_extension": ".py",
   "mimetype": "text/x-python",
   "name": "python",
   "nbconvert_exporter": "python",
   "pygments_lexer": "ipython3",
   "version": "3.9.13"
  }
 },
 "nbformat": 4,
 "nbformat_minor": 5
}
