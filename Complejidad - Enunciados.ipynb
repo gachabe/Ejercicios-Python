{
 "cells": [
  {
   "cell_type": "markdown",
   "id": "68986148",
   "metadata": {},
   "source": [
    "# Utilidad para el examen - Decorador timeit¶"
   ]
  },
  {
   "cell_type": "markdown",
   "id": "d87beb04",
   "metadata": {},
   "source": [
    "Crea un decorador que nos diga cuanto tiempo a tardado en ejecutarse una función"
   ]
  },
  {
   "cell_type": "code",
   "execution_count": 1,
   "id": "97e7ebd5",
   "metadata": {},
   "outputs": [],
   "source": [
    "import time\n",
    "\n",
    "\n",
    "def timeit(func):\n",
    "    @wraps(func)\n",
    "    def timeit_wrapper(*args, **kwargs):\n",
    "        start_time = time.perf_counter()\n",
    "        result = func(*args, **kwargs)\n",
    "        end_time = time.perf_counter()\n",
    "        total_time = end_time - start_time\n",
    "        print(f'Function {func.__name__}{args} {kwargs} Took {total_time:.4f} seconds')\n",
    "        return result\n",
    "    return timeit_wrapper"
   ]
  },
  {
   "cell_type": "markdown",
   "id": "8ec3f9ef",
   "metadata": {},
   "source": [
    "# Complejidad de algoritmos"
   ]
  },
  {
   "cell_type": "markdown",
   "id": "f28117f1",
   "metadata": {},
   "source": [
    "## Algoritmo de búsqueda lineal"
   ]
  },
  {
   "cell_type": "code",
   "execution_count": 2,
   "id": "bb6086c6",
   "metadata": {},
   "outputs": [],
   "source": [
    "def busqueda_lineal(lista, objetivo):\n",
    "    for i in range(len(lista)):\n",
    "        if lista[i] == objetivo:\n",
    "            return i\n",
    "    return -1\n"
   ]
  },
  {
   "cell_type": "markdown",
   "id": "ea15c285",
   "metadata": {},
   "source": [
    "## Algoritmo de ordenamiento por burbuja"
   ]
  },
  {
   "cell_type": "code",
   "execution_count": 3,
   "id": "c62d9ab5",
   "metadata": {},
   "outputs": [],
   "source": [
    "def burbuja(lista):\n",
    "    for i in range(len(lista)):\n",
    "        for j in range(len(lista) - 1):\n",
    "            if lista[j] > lista[j + 1]:\n",
    "                lista[j], lista[j + 1] = lista[j + 1], lista[j]\n",
    "    return lista"
   ]
  },
  {
   "cell_type": "markdown",
   "id": "fcc19713",
   "metadata": {},
   "source": [
    "## Algoritmo de Fibonacci recursivo:"
   ]
  },
  {
   "cell_type": "code",
   "execution_count": 4,
   "id": "946eb5bc",
   "metadata": {},
   "outputs": [],
   "source": [
    "def fibonacci(n):\n",
    "    if n <= 1:\n",
    "       return n\n",
    "    else:\n",
    "       return(fibonacci(n-1) + fibonacci(n-2))"
   ]
  },
  {
   "cell_type": "markdown",
   "id": "30b5832c",
   "metadata": {},
   "source": [
    "## Comprobar si un número es primo"
   ]
  },
  {
   "cell_type": "code",
   "execution_count": 5,
   "id": "b85f27a0",
   "metadata": {},
   "outputs": [],
   "source": [
    "def es_primo(n):\n",
    "    if n <= 1:\n",
    "        return False\n",
    "    for i in range(2, n):\n",
    "        if n % i == 0:\n",
    "            return False\n",
    "    return True"
   ]
  }
 ],
 "metadata": {
  "kernelspec": {
   "display_name": "Python 3 (ipykernel)",
   "language": "python",
   "name": "python3"
  },
  "language_info": {
   "codemirror_mode": {
    "name": "ipython",
    "version": 3
   },
   "file_extension": ".py",
   "mimetype": "text/x-python",
   "name": "python",
   "nbconvert_exporter": "python",
   "pygments_lexer": "ipython3",
   "version": "3.9.13"
  }
 },
 "nbformat": 4,
 "nbformat_minor": 5
}
