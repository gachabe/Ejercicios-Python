{
 "cells": [
  {
   "cell_type": "markdown",
   "id": "92ddb6fc",
   "metadata": {},
   "source": [
    "# Utilidad para el examen - Decorador timeit"
   ]
  },
  {
   "cell_type": "markdown",
   "id": "c3cbcf80",
   "metadata": {},
   "source": [
    "Crea un decorador que nos diga cuanto tiempo a tardado en ejecutarse una función"
   ]
  },
  {
   "cell_type": "code",
   "execution_count": 1,
   "id": "59ef08e5",
   "metadata": {},
   "outputs": [],
   "source": [
    "import time\n",
    "\n",
    "\n",
    "def timeit(func):\n",
    "    @wraps(func)\n",
    "    def timeit_wrapper(*args, **kwargs):\n",
    "        start_time = time.perf_counter()\n",
    "        result = func(*args, **kwargs)\n",
    "        end_time = time.perf_counter()\n",
    "        total_time = end_time - start_time\n",
    "        print(f'Function {func.__name__}{args} {kwargs} Took {total_time:.4f} seconds')\n",
    "        return result\n",
    "    return timeit_wrapper"
   ]
  },
  {
   "cell_type": "markdown",
   "id": "114f519b",
   "metadata": {},
   "source": [
    "# Complejidad de algoritmos"
   ]
  },
  {
   "cell_type": "markdown",
   "id": "5e0591ec",
   "metadata": {},
   "source": [
    "## Algoritmo de búsqueda lineal"
   ]
  },
  {
   "cell_type": "code",
   "execution_count": 2,
   "id": "94d9a5a9",
   "metadata": {},
   "outputs": [],
   "source": [
    "def busqueda_lineal(lista, objetivo):\n",
    "    for i in range(len(lista)):\n",
    "        if lista[i] == objetivo:\n",
    "            return i\n",
    "    return -1\n"
   ]
  },
  {
   "cell_type": "markdown",
   "id": "1227a721",
   "metadata": {},
   "source": [
    "En este caso, el algoritmo tiene que recorrer cada elemento de la lista. Si la lista tiene n elementos, en el peor caso (cuando el elemento buscado está al final de la lista o no está en la lista), el algoritmo realizará n operaciones. Por lo tanto, la complejidad de tiempo del algoritmo es O(n)."
   ]
  },
  {
   "cell_type": "markdown",
   "id": "437e8c70",
   "metadata": {},
   "source": [
    "## Algoritmo de ordenamiento por burbuja"
   ]
  },
  {
   "cell_type": "code",
   "execution_count": null,
   "id": "257f3f75",
   "metadata": {},
   "outputs": [],
   "source": [
    "def burbuja(lista):\n",
    "    for i in range(len(lista)):\n",
    "        for j in range(len(lista) - 1):\n",
    "            if lista[j] > lista[j + 1]:\n",
    "                lista[j], lista[j + 1] = lista[j + 1], lista[j]\n",
    "    return lista\n"
   ]
  },
  {
   "cell_type": "markdown",
   "id": "bd671036",
   "metadata": {},
   "source": [
    "Este algoritmo tiene dos bucles anidados que recorren la lista, lo que significa que realiza n * n = n^2 operaciones en el peor de los casos. Por lo tanto, la complejidad de tiempo del algoritmo es O(n^2)."
   ]
  },
  {
   "cell_type": "markdown",
   "id": "a9b7d265",
   "metadata": {},
   "source": [
    "## Algoritmo de Fibonacci recursivo:"
   ]
  },
  {
   "cell_type": "code",
   "execution_count": 3,
   "id": "12e5073a",
   "metadata": {},
   "outputs": [],
   "source": [
    "def fibonacci(n):\n",
    "    if n <= 1:\n",
    "       return n\n",
    "    else:\n",
    "       return(fibonacci(n-1) + fibonacci(n-2))\n"
   ]
  },
  {
   "cell_type": "markdown",
   "id": "d1b68535",
   "metadata": {},
   "source": [
    "La complejidad de tiempo de este algoritmo es O(2^n). Esto es debido a que cada función llama a dos nuevas funciones, creando un árbol binario de llamadas.º"
   ]
  },
  {
   "cell_type": "markdown",
   "id": "ea4a518c",
   "metadata": {},
   "source": [
    "## Comprobar si un número es primo"
   ]
  },
  {
   "cell_type": "code",
   "execution_count": null,
   "id": "1e0a6ecf",
   "metadata": {},
   "outputs": [],
   "source": [
    "def es_primo(n):\n",
    "    if n <= 1:\n",
    "        return False\n",
    "    for i in range(2, n):\n",
    "        if n % i == 0:\n",
    "            return False\n",
    "    return True\n"
   ]
  },
  {
   "cell_type": "markdown",
   "id": "6f628099",
   "metadata": {},
   "source": [
    "La complejidad de tiempo de este algoritmo es O(n), donde n es el número de entrada. En el peor de los casos, el bucle se ejecutará n-2 veces. Sin embargo, este algoritmo se puede optimizar para tener una complejidad de tiempo de O(sqrt(n)) comprobando sólo hasta la raíz cuadrada de n, ya que un factor más grande de n debe ser un múltiplo de un factor más pequeño que ya ha sido comprobado."
   ]
  }
 ],
 "metadata": {
  "kernelspec": {
   "display_name": "Python 3 (ipykernel)",
   "language": "python",
   "name": "python3"
  },
  "language_info": {
   "codemirror_mode": {
    "name": "ipython",
    "version": 3
   },
   "file_extension": ".py",
   "mimetype": "text/x-python",
   "name": "python",
   "nbconvert_exporter": "python",
   "pygments_lexer": "ipython3",
   "version": "3.9.13"
  }
 },
 "nbformat": 4,
 "nbformat_minor": 5
}
