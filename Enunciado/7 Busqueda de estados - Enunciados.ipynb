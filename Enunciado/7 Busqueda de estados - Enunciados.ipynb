{
 "cells": [
  {
   "cell_type": "markdown",
   "id": "42999afa",
   "metadata": {},
   "source": [
    "# Búsqueda de estados"
   ]
  },
  {
   "cell_type": "markdown",
   "id": "9be2dda6",
   "metadata": {},
   "source": [
    "## El problema del lobo, el granjero y la cabra"
   ]
  },
  {
   "cell_type": "markdown",
   "id": "b7661271",
   "metadata": {},
   "source": [
    "Intentaremos resolver el clásico problema por python\n",
    "\n",
    "Enunciado: Definir un conjunto de estados que serán inválidos en este problema. Un estado inválido es aquel donde el lobo y la cabra están juntos sin el granjero, o la cabra y la col están juntas sin el granjero."
   ]
  },
  {
   "cell_type": "markdown",
   "id": "d0d830eb",
   "metadata": {},
   "source": [
    "Definir los posibles movimientos\n",
    "\n",
    "Enunciado: Definir una lista de los posibles movimientos que puede hacer el granjero. El granjero siempre se moverá de una orilla a la otra, y puede llevar a otro pasajero o no llevar a nadie."
   ]
  },
  {
   "cell_type": "markdown",
   "id": "4fb7fd5b",
   "metadata": {},
   "source": [
    "Definir una función para verificar si un estado es válido\n",
    "\n",
    "Enunciado: Definir una función que tome un estado como entrada y verifique si es válido. Un estado es válido si no está en la lista de estados inválidos y si el granjero está presente o si el estado está vacío."
   ]
  },
  {
   "cell_type": "markdown",
   "id": "27173565",
   "metadata": {},
   "source": [
    "Definir la función de búsqueda\n",
    "\n",
    "Enunciado: Definir una función que realice una búsqueda en profundidad para encontrar una secuencia de movimientos que lleve a todos al otro lado del río de manera segura. La función debe explorar todos los posibles movimientos desde cada estado y verificar si cada nuevo estado es válido antes de explorarlo"
   ]
  },
  {
   "cell_type": "markdown",
   "id": "60d4a5d2",
   "metadata": {},
   "source": [
    "## Laberinto"
   ]
  },
  {
   "cell_type": "markdown",
   "id": "87763566",
   "metadata": {},
   "source": [
    "En este ejercicio crearemos un laberinto mediante una matriz de 0's y 1's con 0 camino libre y 1 una pared. Después crearemos una función que nos de la salida del laberinto desde un punto incial dado\n",
    "\n",
    "Representar el laberinto: Primero, necesitamos una representación del laberinto. Crea una matriz de 0's y 1's que represente el laberinto.\n",
    "\n",
    "Movimientos posibles: Necesitamos una forma de representar los movimientos posibles desde una celda. Crea una lista de tuplas que representen las posibles direcciones en las que podemos movernos desde una celda (derecha, izquierda, arriba, abajo).\n",
    "\n",
    "Verificar movimientos: Ahora necesitamos una función que verifique si un movimiento es válido. Esta función debe tomar la matriz del laberinto, una celda y un conjunto de celdas visitadas como entrada, y debe devolver True si podemos movernos a esa celda (es decir, si la celda está dentro del laberinto, no es una pared y no se ha visitado antes) y False en caso contrario.\n",
    "\n",
    "Función de búsqueda: Ahora estamos listos para crear nuestra función de búsqueda. Esta función debería tomar la matriz del laberinto, el punto de inicio y el punto final como entrada, y debería usar una búsqueda en profundidad para encontrar un camino desde el inicio hasta el final. Debería devolver este camino como una lista de celdas.\n",
    "\n",
    "Recorrido completo del laberinto: Ahora que tenemos nuestra función de búsqueda, podemos usarla para encontrar un camino en el laberinto. Define los puntos de inicio y final y usa la función de búsqueda para encontrar un camino."
   ]
  },
  {
   "cell_type": "markdown",
   "id": "b3591393",
   "metadata": {},
   "source": [
    "## El problema de las N reinas"
   ]
  },
  {
   "cell_type": "markdown",
   "id": "70c3d710",
   "metadata": {},
   "source": [
    "Un problema típico dedicado en la busqueda de estados es el problema de las N Reinas, donde, en un tablero de NxN, debemos colocar N reinas sin que estas se coman entre si."
   ]
  }
 ],
 "metadata": {
  "kernelspec": {
   "display_name": "Python 3 (ipykernel)",
   "language": "python",
   "name": "python3"
  },
  "language_info": {
   "codemirror_mode": {
    "name": "ipython",
    "version": 3
   },
   "file_extension": ".py",
   "mimetype": "text/x-python",
   "name": "python",
   "nbconvert_exporter": "python",
   "pygments_lexer": "ipython3",
   "version": "3.9.13"
  }
 },
 "nbformat": 4,
 "nbformat_minor": 5
}
