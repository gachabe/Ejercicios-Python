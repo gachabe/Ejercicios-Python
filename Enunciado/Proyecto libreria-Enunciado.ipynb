{
 "cells": [
  {
   "cell_type": "markdown",
   "id": "f8515364",
   "metadata": {},
   "source": [
    "# Creación objeto libro"
   ]
  },
  {
   "cell_type": "markdown",
   "id": "cd00981d",
   "metadata": {},
   "source": [
    "En esta relación vamos a realizar un resumen de POO y gestión de archivos.\n",
    "\n",
    "El objetivo es crear una base de datos y un sistema para una librería. Para ello crearemos un objeto llamado libro que deberá recibir como argumentos el titulo, el autor y el precio. Además se deberán implementar los siguientes métodos:\n",
    "\n",
    "    `__str__ `: Nos dará el título.\n",
    "    `__repr__`:  De la forma usual"
   ]
  },
  {
   "cell_type": "markdown",
   "id": "fb8c45f8",
   "metadata": {},
   "source": [
    "# Creación objeto librería"
   ]
  },
  {
   "cell_type": "markdown",
   "id": "e6e87f76",
   "metadata": {},
   "source": [
    "Ahora crearemos un objeto librería, este recibirá como argumentos: una ruta que guardaremos en la variable self.ruta, os adjunto el ejemplo \"libros.txt\", que será un archivo de texto externo con los datos de los libros actuales de la libería. Y debe guardarlos en la variable self.stock, que será una lista de objetos libro. También tendrá una variable, que empezará en 0 llamada self.ventas, que será la cantidad de ventas realizadas.\n",
    "Además se deberá implementar los siguientes métodos:\n",
    "\n",
    "    actualizar_base: Que dada la variable self.stock actualizará la base de datos libros.txt. A partir de ahora cada cambio que se realice sobre self.stock deberá reflejarse en libros.txt\n",
    "    \n",
    "    addLibro: Que recibirá el título, autor y  precio de un libro y lo añadirá a self.stock, y debe actualizar el archivo de texto sin eliminar los previos\n",
    "    \n",
    "    eliminarLibro: Elimina  un libro del stock\n",
    "    \n",
    "    carritoPrecio: Que recibirá una cantidad de dinero y una lista de titulos de libros y deberá crear una factura llamada factura_n.txt donde n será el numero de la venta. En esta factura se deberá ver una lista de los libros comprados,(podría ocurrir que alguno no estuviese en stock) el precio de cada uno, el coste final y la diferencia entre el coste total y lo pagado. En caso de no poderse realizar la compra devolver un mensaje en pantalla de error\n",
    "\n",
    "    buscarAutor: REcibirá un autor y devolverá por pantalla todos sus libros"
   ]
  }
 ],
 "metadata": {
  "kernelspec": {
   "display_name": "Python 3 (ipykernel)",
   "language": "python",
   "name": "python3"
  },
  "language_info": {
   "codemirror_mode": {
    "name": "ipython",
    "version": 3
   },
   "file_extension": ".py",
   "mimetype": "text/x-python",
   "name": "python",
   "nbconvert_exporter": "python",
   "pygments_lexer": "ipython3",
   "version": "3.9.13"
  }
 },
 "nbformat": 4,
 "nbformat_minor": 5
}
