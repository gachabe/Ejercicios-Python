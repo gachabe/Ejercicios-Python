{
 "cells": [
  {
   "cell_type": "markdown",
   "id": "a96b37f1",
   "metadata": {},
   "source": [
    "# Ejercicio 1\n"
   ]
  },
  {
   "cell_type": "markdown",
   "id": "49ccc839",
   "metadata": {},
   "source": [
    "Crea la función sustituyeEnCola(c,x,y) que devuelva la cola formada por los mismo elementos de la cola c cambiando cada aparición de x por y"
   ]
  },
  {
   "cell_type": "code",
   "execution_count": 35,
   "id": "a177bc6e",
   "metadata": {},
   "outputs": [
    {
     "name": "stdout",
     "output_type": "stream",
     "text": [
      "C [4, 3, 3, 0, 10, 8, 3, 7, -1, 4]\n"
     ]
    },
    {
     "data": {
      "text/plain": [
       "C [4, 0, 0, 0, 10, 8, 0, 7, -1, 4]"
      ]
     },
     "execution_count": 35,
     "metadata": {},
     "output_type": "execute_result"
    }
   ],
   "source": [
    "# EJEMPLO\n",
    "print(c1)\n",
    "sustituyeEnCola(c1,3,0)"
   ]
  },
  {
   "cell_type": "markdown",
   "id": "85d1ce82",
   "metadata": {},
   "source": [
    "# Ejercicio 2"
   ]
  },
  {
   "cell_type": "markdown",
   "id": "61116bcb",
   "metadata": {},
   "source": [
    "Vamos a crear el objeto Pol(coef), que será un polinomio cuyos coeficientes vienen dados en la lista coef y su exponente sería su posición en orden inverso. Así se tendría la siguiente relación:\n",
    "$$\n",
    "\\text{Pol}\\left(\\left[1,0,2,3\\right]\\right)~=~x^3+2x+3\n",
    "$$\n",
    "\n",
    "Para crear tal clase debes implementar los siguientes métodos:\n",
    "* `__str__`\n",
    "* `__repr__`\n",
    "* `__getitem__(self,i)`: Este método devuelve el coeficiente i-ésimo, tened en cuenta que los coeficientes vienen en orden inverso \n",
    "* `__len__`: Este método devuelve la longitud del polinomio, es decir, el grado más uno\n",
    "* `__add__`\n",
    "* `__setitem__(i,x)`: Este método reasigna el valor i-ésimo del polinomio\n",
    "* `derivada`: Este método debe devolver otro polinomio que sea la derivada del polinomio original"
   ]
  },
  {
   "cell_type": "code",
   "execution_count": 21,
   "id": "5edae3c0",
   "metadata": {},
   "outputs": [
    {
     "data": {
      "text/plain": [
       "1x^2+1x^1+1"
      ]
     },
     "execution_count": 21,
     "metadata": {},
     "output_type": "execute_result"
    }
   ],
   "source": [
    "A = Pol([1,0,2])\n",
    "B = Pol([6,5,4,5])\n",
    "C = Pol([1,1,1])\n",
    "C"
   ]
  },
  {
   "cell_type": "code",
   "execution_count": 16,
   "id": "988d0004",
   "metadata": {},
   "outputs": [
    {
     "data": {
      "text/plain": [
       "2"
      ]
     },
     "execution_count": 16,
     "metadata": {},
     "output_type": "execute_result"
    }
   ],
   "source": [
    "A[0]"
   ]
  },
  {
   "cell_type": "code",
   "execution_count": 17,
   "id": "b2139911",
   "metadata": {},
   "outputs": [
    {
     "data": {
      "text/plain": [
       "4"
      ]
     },
     "execution_count": 17,
     "metadata": {},
     "output_type": "execute_result"
    }
   ],
   "source": [
    "len(B)"
   ]
  },
  {
   "cell_type": "code",
   "execution_count": 19,
   "id": "f23a4680",
   "metadata": {},
   "outputs": [
    {
     "data": {
      "text/plain": [
       "2x^2+1x^1+3"
      ]
     },
     "execution_count": 19,
     "metadata": {},
     "output_type": "execute_result"
    }
   ],
   "source": [
    "A+C"
   ]
  },
  {
   "cell_type": "code",
   "execution_count": 20,
   "id": "2fa03d51",
   "metadata": {},
   "outputs": [
    {
     "data": {
      "text/plain": [
       "18x^3+10x^2+4x^1+0"
      ]
     },
     "execution_count": 20,
     "metadata": {},
     "output_type": "execute_result"
    }
   ],
   "source": [
    "B.derivada()"
   ]
  },
  {
   "cell_type": "markdown",
   "id": "76cae893",
   "metadata": {},
   "source": [
    "Escribir un programa que cree un diccionario simulando una cesta de la compra. El programa debe preguntar primero cuántos artículos pensamos crompar, depués nos preguntará uno a uno el artículo y su precio y añadir el par al diccionario, hasta que el usuario decida terminar. Después se debe mostrar por pantalla la lista de la compra y el coste total."
   ]
  },
  {
   "cell_type": "code",
   "execution_count": null,
   "id": "84ba3b5e",
   "metadata": {},
   "outputs": [
    {
     "name": "stdout",
     "output_type": "stream",
     "text": [
      "¿Cuántos artículos piensa comprar? 3\n",
      "Introduce un artículo: Lechuga\n",
      "Introduce el precio de Lechuga: 10\n",
      "Introduce un artículo: Patatas\n"
     ]
    }
   ],
   "source": [
    "compra()"
   ]
  },
  {
   "cell_type": "code",
   "execution_count": 3,
   "id": "9c412296",
   "metadata": {},
   "outputs": [
    {
     "name": "stdout",
     "output_type": "stream",
     "text": [
      "[1, 2, 3]\n"
     ]
    },
    {
     "data": {
      "text/plain": [
       "[3, 2, 1]"
      ]
     },
     "execution_count": 3,
     "metadata": {},
     "output_type": "execute_result"
    }
   ],
   "source": [
    "A = [1,2,3]\n",
    "print(A)\n",
    "A.reverse()\n",
    "A"
   ]
  }
 ],
 "metadata": {
  "kernelspec": {
   "display_name": "Python 3 (ipykernel)",
   "language": "python",
   "name": "python3"
  },
  "language_info": {
   "codemirror_mode": {
    "name": "ipython",
    "version": 3
   },
   "file_extension": ".py",
   "mimetype": "text/x-python",
   "name": "python",
   "nbconvert_exporter": "python",
   "pygments_lexer": "ipython3",
   "version": "3.9.13"
  }
 },
 "nbformat": 4,
 "nbformat_minor": 5
}
