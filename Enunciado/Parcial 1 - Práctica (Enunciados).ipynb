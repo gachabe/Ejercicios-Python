{
 "cells": [
  {
   "cell_type": "markdown",
   "id": "4d255a4d",
   "metadata": {},
   "source": [
    "# Ejercicio 1"
   ]
  },
  {
   "cell_type": "markdown",
   "id": "0290a8af",
   "metadata": {},
   "source": [
    "Un grafo rueda es un grafo en forma de rueda en el que un nodo central está conectado a todos los demás nodos. Cree una función, usando diccionarios, que genere el grafo rueda de  𝑛\n",
    "  nodos."
   ]
  },
  {
   "cell_type": "markdown",
   "id": "ce0562ff",
   "metadata": {},
   "source": [
    "# Ejercicio 2\n",
    "Hallaremos el valor de raíz de 2 mediante el método de bisección por el siguiente proceso:\n",
    "\n",
    "Definir el intervalo inicial: Comenzar con un intervalo inicial que contiene la raíz de la función. En este caso, el intervalo es [1, 2] ya que sabemos que la raíz cuadrada de 2 está en este rango.\n",
    "\n",
    "Establecer una precisión deseada: Elegir una precisión deseada (epsilon) que determina cuán cerca queremos estar de la raíz real. Cuanto más pequeño sea el valor de epsilon, más precisa será la aproximación.\n",
    "\n",
    "Iterar hasta alcanzar la precisión deseada:\n",
    "\n",
    "Calcular el punto medio del intervalo: mid = (a + b) / 2. Evaluar la función en el punto medio: En este caso, evaluamos mid^2 (el cuadrado del punto medio). Comprobar en qué mitad del intervalo se encuentra la raíz. Si mid^2 es menor que 2, significa que la raíz está en la mitad derecha del intervalo. En caso contrario, está en la mitad izquierda. Actualizar el intervalo: Si la raíz está en la mitad derecha, actualizar a a mid. Si está en la mitad izquierda, actualizar b a mid. Repetir el proceso hasta que el tamaño del intervalo (b - a) sea menor que la precisión epsilon. Obtener la aproximación de la raíz: Una vez que la diferencia entre a y b sea menor que epsilon, habremos encontrado una aproximación suficientemente precisa de la raíz cuadrada de 2. La aproximación final se obtiene tomando el punto medio del intervalo final, es decir, (a + b) / 2.\n",
    "\n",
    "Este proceso se repite iterativamente, reduciendo el intervalo en cada paso, hasta que se alcance la precisión deseada. El resultado final es una aproximación de la raíz cuadrada de 2 con la precisión especificada."
   ]
  },
  {
   "cell_type": "markdown",
   "id": "1028b30c",
   "metadata": {},
   "source": [
    "# Ejercicio 3"
   ]
  },
  {
   "cell_type": "markdown",
   "id": "a1435d7c",
   "metadata": {},
   "source": [
    "El cifrado Vigenère es un cifrado polialfabético que se utiliza para cifrar mensajes de texto. A diferencia del cifrado César, que usa un solo desplazamiento para todas las letras, el cifrado Vigenère utiliza una palabra clave para cambiar el desplazamiento en cada letra del mensaje. La clave se repite cíclicamente para cifrar todo el mensaje.\n",
    "\n",
    "Ejemplo: Supongamos que queremos cifrar el mensaje \"Lo primero de todo como están los máquinas\" con la clave \"turing\". Primero, convertimos el mensaje y la clave a letras mayúsculas y eliminamos los espacios y caracteres especiales, manteniendo solo letras y números.\n",
    "\n",
    "Mensaje: \"LOPRIMERODETODOCOMOESTANLOSMQUINAS\" Clave: \"TURINGTURINGTURINGTURINGTURINGTURIN\"\n",
    "\n",
    "Ahora, realizamos el cifrado letra por letra. Para cada letra del mensaje, tomamos la letra correspondiente de la clave y usamos su posición en el alfabeto para calcular el desplazamiento. Luego, sumamos el valor de la letra del mensaje y el valor de la letra de la clave, y tomamos el resultado módulo 26 para obtener la letra cifrada.\n",
    "\n",
    "Por ejemplo, para la primera letra \"L\" (valor 11) con la primera letra de la clave \"T\" (valor 19):\n",
    "\n",
    "Cifrado = (11 + 19) % 26 = 4, que corresponde a la letra \"E\".\n",
    "\n",
    "Así, ciframos todas las letras del mensaje. La respuesta cifrada sería:\n",
    "\n",
    "Texto cifrado: \"ETULGMVGRNQGQZZMSSZVHQQMIE\"\n",
    "\n",
    "### Enunciado\n",
    "Implementa el cifrado Vigenère en Python. Deben escribir una función que tome como entrada un mensaje y una clave, y devuelva el mensaje cifrado utilizando el cifrado Vigenère. Asegúrate de que la función maneje tanto letras mayúsculas como minúsculas y que conserve los espacios y caracteres especiales sin cifrar. Los estudiantes deben utilizar el alfabeto inglés (26 letras) y asegurarse de que la clave se repita cíclicamente a medida que se cifra el mensaje."
   ]
  }
 ],
 "metadata": {
  "kernelspec": {
   "display_name": "Python 3 (ipykernel)",
   "language": "python",
   "name": "python3"
  },
  "language_info": {
   "codemirror_mode": {
    "name": "ipython",
    "version": 3
   },
   "file_extension": ".py",
   "mimetype": "text/x-python",
   "name": "python",
   "nbconvert_exporter": "python",
   "pygments_lexer": "ipython3",
   "version": "3.9.13"
  }
 },
 "nbformat": 4,
 "nbformat_minor": 5
}
