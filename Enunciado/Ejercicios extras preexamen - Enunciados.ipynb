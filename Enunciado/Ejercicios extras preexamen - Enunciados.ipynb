{
 "cells": [
  {
   "cell_type": "markdown",
   "id": "61421f01",
   "metadata": {},
   "source": [
    "1 Escribe una función llamada umbral, que reciba un número y devuelva True si este es mayor que 0"
   ]
  },
  {
   "cell_type": "markdown",
   "id": "ef0f2ce2",
   "metadata": {},
   "source": [
    "2 Escribe una función que reciba dos vectores en forma de lista y devuelva su producto escalar"
   ]
  },
  {
   "cell_type": "markdown",
   "id": "3c04dcfa",
   "metadata": {},
   "source": [
    "3 Escribe una función que, devuelva una lista con todos los números entre -1 y 1 con un paso de 0,1 entre cada uno."
   ]
  },
  {
   "cell_type": "code",
   "execution_count": 66,
   "id": "71f8494c",
   "metadata": {},
   "outputs": [
    {
     "data": {
      "text/plain": [
       "[-1.0,\n",
       " -0.9,\n",
       " -0.8,\n",
       " -0.7,\n",
       " -0.6,\n",
       " -0.5,\n",
       " -0.4,\n",
       " -0.3,\n",
       " -0.2,\n",
       " -0.1,\n",
       " 0.0,\n",
       " 0.1,\n",
       " 0.2,\n",
       " 0.3,\n",
       " 0.4,\n",
       " 0.5,\n",
       " 0.6,\n",
       " 0.7,\n",
       " 0.8,\n",
       " 0.9,\n",
       " 1.0]"
      ]
     },
     "execution_count": 66,
     "metadata": {},
     "output_type": "execute_result"
    }
   ],
   "source": [
    "listaN()"
   ]
  },
  {
   "cell_type": "markdown",
   "id": "ced25676",
   "metadata": {},
   "source": [
    "4 Crea una función que devuelva una lista de pares compuesta por:\n",
    " - El primer elemento del par es otro par, este par es una todas las posibles combinacion de pares binarios.\n",
    " - El segundo elemento del par es su imagen respecto de la puerta lógica AND\n",
    " \n",
    " \n",
    " EJEMPLO: conjuntoEnt() ==  [((0, 0), 0), ((0, 1), 0), ((1, 0), 0), ((1, 1), 1)]"
   ]
  },
  {
   "cell_type": "code",
   "execution_count": 68,
   "id": "c292fad8",
   "metadata": {},
   "outputs": [
    {
     "data": {
      "text/plain": [
       "[((0, 0), 0), ((0, 1), 0), ((1, 0), 0), ((1, 1), 1)]"
      ]
     },
     "execution_count": 68,
     "metadata": {},
     "output_type": "execute_result"
    }
   ],
   "source": [
    "conjuntoEnt()"
   ]
  },
  {
   "cell_type": "markdown",
   "id": "1cc3c8d6",
   "metadata": {},
   "source": [
    "5 Vamos a construir una neurona artificial o perceptrón. Una neurona esta compuesta por varias entradas, en nuestro caso serán 2, X e Y, y una entrada imaginaria llamada sesgo o bias que siempre vale 1. A cada una de estas entradas se les multiplica por un número, llamado peso, y se suman las entradas multiplicadas por los respectivos pesos. Finalmente, al resultado se le aplica una función llamada función umbral. En nuestro caso la función será 1 si es un número positivo y 0 en caso contrario.\n",
    "\n",
    "Vamos a crear estas neuronas de la siguiente forma:\n",
    " - Primero crearemos una hipótesis, esto es, escogeremos 3 posibles valores (entre -1 y 1) para los 3 pesos.\n",
    " - Después comprobaremos si, esos pesos son válidos para nuestro conjunto de entrenamiento, esto es:\n",
    " - Introduciremos los datos de nuestro conjunto de entrenamiento y aplicaremos la función umbral.\n",
    " - Si la imagen para todo el conjunto coincide con la conocida entonces acpetamos como válidos esos pesos y paramos\n",
    " - En caso contrario le daremos otros posibles pesos a nuestra neurona y repetiremos el proceso\n",
    " \n",
    "Crea una función que cree una neurona capaz de crear la puerta lógica AND y nos devuelva la función lambda asociada\n"
   ]
  },
  {
   "cell_type": "markdown",
   "id": "57f497f4",
   "metadata": {},
   "source": [
    "IDEA PRÁCTICA. Intenta recrearlo para la función NOT y para la función OR.\n",
    "También puede intentar encontrar todos los pesos válidos"
   ]
  },
  {
   "cell_type": "markdown",
   "id": "63e27607",
   "metadata": {},
   "source": [
    "6 Una secuencia de números es de signo alternado si en ella se alternan los números positivos y negativos. Se pueden dar dos\n",
    " casos de secuencias de signo alternado: \n",
    "+ El primer término es positivo, el segundo es negativo, el tercero\n",
    "   es positivo, el cuarto es negativo, y así sucesivamente.\n",
    "+ El primer término es negativo, el segundo es positivo, el tercero\n",
    "  es negativo, el cuarto es positivo, y así sucesivamente.\n",
    "+ La series que tengan un 0 nunca serán de signo alternado.\n",
    "\n",
    "Crea una función que reciba una lista de número y diga si es una serie de signo alternados."
   ]
  },
  {
   "cell_type": "markdown",
   "id": "5917b773",
   "metadata": {},
   "source": [
    "7 Un número es defectivo si es mayor que la suma de sus divisores propios.\n",
    "Crea una función para ver si un número es defectivo. El 15 es defectivo"
   ]
  }
 ],
 "metadata": {
  "kernelspec": {
   "display_name": "Python 3 (ipykernel)",
   "language": "python",
   "name": "python3"
  },
  "language_info": {
   "codemirror_mode": {
    "name": "ipython",
    "version": 3
   },
   "file_extension": ".py",
   "mimetype": "text/x-python",
   "name": "python",
   "nbconvert_exporter": "python",
   "pygments_lexer": "ipython3",
   "version": "3.9.13"
  }
 },
 "nbformat": 4,
 "nbformat_minor": 5
}
