{
 "cells": [
  {
   "cell_type": "markdown",
   "metadata": {},
   "source": [
    "# Informática. Grado en Matemáticas. Universidad de Sevilla\n",
    "\n",
    "# Ejercicios tema 5: Conjuntos, diccionarios\n"
   ]
  },
  {
   "cell_type": "markdown",
   "metadata": {},
   "source": [
    "#### Ejercicio 1\n",
    "Definir, sin usar las operaciones predefinidas, la intersección, unión, diferencia y diferencia simétrica de conjuntos."
   ]
  },
  {
   "cell_type": "code",
   "execution_count": null,
   "metadata": {},
   "outputs": [],
   "source": [
    "# Solución:\n",
    "\n",
    "def interseccion(s1,s2):\n",
    "    res=set()\n",
    "    for x in s1:\n",
    "        if x in s2:\n",
    "            res.add(x)\n",
    "    return res\n",
    "\n",
    "def union(s1,s2):\n",
    "    res=s1.copy()\n",
    "    for x in s2:\n",
    "        res.add(x)\n",
    "    return res\n",
    "\n",
    "def diferencia(s1,s2):\n",
    "    res=set()\n",
    "    for x in s1:\n",
    "        if x not in s2:\n",
    "            res.add(x)\n",
    "    return res\n",
    "\n",
    "def diferencia_2(s1,s2):\n",
    "    res = s1.copy()\n",
    "    for x in s2:\n",
    "        res.discard(x)\n",
    "    return res\n",
    "\n",
    "def diferencia_simetrica(s1,s2):\n",
    "    res=set()\n",
    "    for x in s1:\n",
    "        if x not in s2:\n",
    "            res.add(x)\n",
    "    for x in s2:\n",
    "        if x not in s1:\n",
    "            res.add(x)\n",
    "    return res\n",
    "\n",
    "def diferencia_simetrica_2(s1,s2):\n",
    "    res = s1.copy()\n",
    "    for x in s2:\n",
    "        if x in s1:\n",
    "            res.remove(x)\n",
    "        else:\n",
    "            res.add(x)\n",
    "    return res"
   ]
  },
  {
   "cell_type": "code",
   "execution_count": null,
   "metadata": {},
   "outputs": [],
   "source": [
    "# Ejemplos:\n",
    "\n",
    "s1={1,3,4,6,7}\n",
    "s2={2,3,6,8,9}\n",
    "\n",
    "# >>> interseccion(s1,s2)\n",
    "# {3, 6}\n",
    "# >>> union(s1,s2)\n",
    "# {1, 2, 3, 4, 6, 7, 8, 9}\n",
    "# >>> diferencia(s1,s2)\n",
    "# {1, 4, 7}\n",
    "# >>> diferencia_simetrica(s1,s2)\n",
    "# {1, 2, 4, 7, 8, 9}"
   ]
  },
  {
   "cell_type": "markdown",
   "metadata": {},
   "source": [
    "#### Ejercicio 2\n",
    "Usando operaciones de conjuntos, definir una función `vocales_distintas(s)` que recibiendo un string, devuelve el conjunto de las vocales que aparecen en ese string (sin distinguir entre mayúsculas y minúsculas). \n"
   ]
  },
  {
   "cell_type": "code",
   "execution_count": null,
   "metadata": {},
   "outputs": [],
   "source": [
    "# Solución:\n",
    "\n",
    "def vocales_distintas(s):\n",
    "    pass"
   ]
  },
  {
   "cell_type": "code",
   "execution_count": null,
   "metadata": {},
   "outputs": [],
   "source": [
    "# Ejemplos:\n",
    "# >>> vocales_distintas(\"Abanico\")\n",
    "# {'a', 'i', 'o'}\n",
    "# >>> vocales_distintas(\"Otorrinolaringologo\")\n",
    "# {'a', 'i', 'o'}\n",
    "# >>> vocales_distintas(\"Abadesa del convento\")\n",
    "# {'a', 'e', 'o'}"
   ]
  },
  {
   "cell_type": "markdown",
   "metadata": {},
   "source": [
    "#### Ejercicio 3\n",
    "\n",
    "Definir una función `pares_de_suma_k(s,k)` tal que dado un conjunto `s` de números enteros y un número entero `k`, devuelve el conjunto de los pares de números distintos del conjunto, cuya suma sea igual a k. Considerar que una tupla y su inversa son la misma. \n",
    "\n",
    "$$ S \\subset \\mathbb{Z}, \\ k\\in \\mathbb{Z}, \\ X = \\{(a,b)\\ | \\ a,b\\in S, a< b , a+b = k\\}$$"
   ]
  },
  {
   "cell_type": "code",
   "execution_count": null,
   "metadata": {},
   "outputs": [],
   "source": [
    "# Solución:\n",
    "def pares_de_suma_k(conjunto, k):\n",
    "    pass"
   ]
  },
  {
   "cell_type": "code",
   "execution_count": null,
   "metadata": {},
   "outputs": [],
   "source": [
    "# Ejemplo:\n",
    "\n",
    "# >>> pares_de_suma_k({1, 2, 3, 4, 5, 6, 7, 8, 9}, 10)\n",
    "# {(1, 9), (2, 8), (3, 7), (4, 6)}\n",
    "\n",
    "\n",
    "# >>> pares_de_suma_k({10, 20, 30, 40, 50}, 60)\n",
    "# {(10, 50), (20, 40)}\n",
    "\n"
   ]
  },
  {
   "cell_type": "markdown",
   "metadata": {},
   "source": [
    "#### Ejercicio 4\n",
    "\n",
    "Definir una función recursiva `subconjuntos(s)` que devuelve una lista con todos los subconjuntos del conjunto `s`."
   ]
  },
  {
   "cell_type": "code",
   "execution_count": null,
   "metadata": {},
   "outputs": [],
   "source": [
    "# === Solución:\n",
    "\n",
    "def subconjuntos(s):\n",
    "    pass"
   ]
  },
  {
   "cell_type": "code",
   "execution_count": null,
   "metadata": {},
   "outputs": [],
   "source": [
    "# Ejemplos:\n",
    "\n",
    "# >>> subconjuntos({1,2,3})\n",
    "# [{1, 2, 3}, {1, 2}, {1, 3}, {1}, {2, 3}, {2}, {3}, set()]\n",
    "\n",
    "# >>> subconjuntos({\"blanco\",\"rojo\",\"azul\",\"verde\"})\n",
    "\n",
    "# [{'azul', 'blanco', 'rojo', 'verde'},\n",
    "#  {'azul', 'blanco', 'verde'},\n",
    "#  {'azul', 'rojo', 'verde'},\n",
    "#  {'azul', 'verde'},\n",
    "#  {'azul', 'blanco', 'rojo'},\n",
    "#  {'azul', 'blanco'},\n",
    "#  {'azul', 'rojo'},\n",
    "#  {'azul'},\n",
    "#  {'blanco', 'rojo', 'verde'},\n",
    "#  {'blanco', 'verde'},\n",
    "#  {'rojo', 'verde'},\n",
    "#  {'verde'},\n",
    "#  {'blanco', 'rojo'},\n",
    "#  {'blanco'},\n",
    "#  {'rojo'},\n",
    "#  set()]"
   ]
  },
  {
   "cell_type": "markdown",
   "metadata": {},
   "source": [
    "#### Ejercicio 5\n",
    "\n"
   ]
  },
  {
   "cell_type": "markdown",
   "metadata": {},
   "source": [
    "Definir la funcion `dic_posiciones_coincidentes(l,m)` que dadas dos listas de la\n",
    "misma longitud `l` `m`, devolver un diccionario que tiene como claves las posiciones\n",
    "en las que coinciden los elementos de ambas listas, y como valor de esas\n",
    "claves, el elemento coincidente."
   ]
  },
  {
   "cell_type": "code",
   "execution_count": null,
   "metadata": {},
   "outputs": [],
   "source": [
    "# Solución:\n",
    "\n",
    "def dic_posiciones_coincidentes(l,m):\n",
    "    pass"
   ]
  },
  {
   "cell_type": "code",
   "execution_count": null,
   "metadata": {},
   "outputs": [],
   "source": [
    "# Ejemplos:\n",
    "\n",
    "# >>> dic_posiciones_coincidentes([4,2,6,8,9,3],[3,2,1,8,9,6])\n",
    "# {1: 2, 3: 8, 4: 9}\n",
    "# >>> dic_posiciones_coincidentes([2,8,1,2,1,3],[1,8,1,2,1,6])\n",
    "# {1: 8, 2: 1, 3: 2, 4: 1}\n"
   ]
  },
  {
   "cell_type": "markdown",
   "metadata": {},
   "source": [
    "#### Ejercicio 6\n",
    "\n",
    "Supongamos que recibimos un diccionario cuyas claves son cadenas de\n",
    "caracteres de longitud uno y los valores asociados son números enteros \n",
    "entre 0 y 50. \n",
    "Definir una función `histograma_horizontal(d)`, que recibiendo un diccionario \n",
    "de ese tipo, escribe un histograma de barras horizontales asociado, \n",
    "como se ilustra en el siguiente ejemplo. Imprimir las barras de arriba a abajo, en el orden que determina la\n",
    "función `sorted` sobre las claves. \n"
   ]
  },
  {
   "cell_type": "code",
   "execution_count": null,
   "metadata": {},
   "outputs": [],
   "source": [
    "# Solución:\n",
    "\n",
    "def histograma_horizontal(d):\n",
    "    pass"
   ]
  },
  {
   "cell_type": "code",
   "execution_count": null,
   "metadata": {},
   "outputs": [],
   "source": [
    "# Ejemplos:\n",
    "\n",
    "# >>> d1={\"a\":5,\"b\":10,\"c\":12,\"d\":11,\"e\":15,\"f\":20,\n",
    "#          \"g\":15,\"h\":9,\"i\":7,\"j\":2}\n",
    "# >>> histograma_horizontal(d1)\n",
    "# a: *****\n",
    "# b: **********\n",
    "# c: ************\n",
    "# d: ***********\n",
    "# e: ***************\n",
    "# f: ********************\n",
    "# g: ***************\n",
    "# h: *********\n",
    "# i: *******\n",
    "# j: **\n",
    "#\n",
    "# ---------------------------------------------------------------------------\n"
   ]
  },
  {
   "cell_type": "markdown",
   "metadata": {},
   "source": [
    "#### Ejercicio 7\n",
    "\n",
    "Con la misma entrada que el ejercicio anterior, definir una función\n",
    "histograma_vertical(d) que imprime el mismo histograma pero con las barras\n",
    "en vertical. Igualmente, imprimir la barras en el orden que determina la\n",
    "función `sorted` sobre las claves. \n"
   ]
  },
  {
   "cell_type": "code",
   "execution_count": null,
   "metadata": {},
   "outputs": [],
   "source": [
    "# Solución:\n",
    "\n",
    "def histograma_vertical(d):\n",
    "    pass"
   ]
  },
  {
   "cell_type": "code",
   "execution_count": null,
   "metadata": {},
   "outputs": [],
   "source": [
    "# Ejemplo:\n",
    "\n",
    "# >>> d2={\"a\":5,\"b\":7,\"c\":9,\"d\":12,\"e\":15,\"f\":20,\n",
    "#          \"g\":15,\"h\":9,\"i\":7,\"j\":2}\n",
    "# >>> histograma_vertical(d2)\n",
    "#           *         \n",
    "#           *         \n",
    "#           *         \n",
    "#           *         \n",
    "#           *         \n",
    "#         * * *       \n",
    "#         * * *       \n",
    "#         * * *       \n",
    "#       * * * *       \n",
    "#       * * * *       \n",
    "#       * * * *       \n",
    "#     * * * * * *     \n",
    "#     * * * * * *     \n",
    "#   * * * * * * * *   \n",
    "#   * * * * * * * *   \n",
    "# * * * * * * * * *   \n",
    "# * * * * * * * * *   \n",
    "# * * * * * * * * *   \n",
    "# * * * * * * * * * * \n",
    "# * * * * * * * * * * \n",
    "# a b c d e f g h i j"
   ]
  },
  {
   "cell_type": "markdown",
   "metadata": {},
   "source": [
    "#### Ejercicio 8\n",
    "\n",
    "Supongamos que tenemos almacenada, usando un diccionario, la información sobre\n",
    "el grupo de los alumnos de un curso. Para ello, usamos como clave el nombre\n",
    "de los alumnos de un grupo y como valor el grupo que tienen asignado. \n",
    "\n",
    "Definir una función `alumnos_grupo(d)` que a partir de un diccionario\n",
    "de ese tipo, devuelve otro diccionario cuyas claves son los nombres de los\n",
    "grupos y cuyo valor asignado a cada clave es la lista los alumnos que\n",
    "forman parte del grupo.\n",
    "\n"
   ]
  },
  {
   "cell_type": "code",
   "execution_count": null,
   "metadata": {},
   "outputs": [],
   "source": [
    "# Solución:\n",
    "def alumnos_grupo(d):\n",
    "    pass"
   ]
  },
  {
   "cell_type": "code",
   "execution_count": null,
   "metadata": {},
   "outputs": [],
   "source": [
    "# Ejemplo:\n",
    "\n",
    "# >>> alum={\"Juan\":\"G1\", \"Rosa\":\"G2\"  , \"Joaquín\":\"G1\"   ,\"Carmen\":\"G2\"  , \n",
    "#            \"Isabel\":\"G1\" , \"Rocío\":\"G3\" , \"Bernardo\":\"G3\", \"Jesús\":\"G2\"}\n",
    "# >>> grupos=alumnos_grupo(alum)\n",
    "# >>> grupos\n",
    "# {'G3': ['Rocío', 'Bernardo'], 'G2': ['Jesús', 'Carmen', 'Rosa'], \n",
    "#  'G1': ['Isabel', 'Juan', 'Joaquín']}\n"
   ]
  },
  {
   "cell_type": "markdown",
   "metadata": {},
   "source": [
    "#### Ejercicio 9\n",
    "\n",
    "Continuando con el ejercicio anterior, definir una función `nuevo_alumno(dict_n,dict_g,nombre,grupo)` tal que\n",
    "supuesto que `dict_n` y `dict_g` son dos variables conteniendo respectivamente\n",
    "el grupo de cada alumno y los alumnos de cada grupo, introduce un nuevo\n",
    "alumno con su nombre y grupo, modificando adecuadamente tanto `dict_n` como\n",
    "`dict_g`. Si el alumno ya está en los diccionarios, modificar el dato\n",
    "existente (en ese caso, si además el grupo que se quiere asignar no coincide\n",
    "que el que ya tiene se mostrará un mensaje de advertencia). Si se asigna un\n",
    "grupo que no está dado de alta, la correspondiente entrada se debe añadir al\n",
    "diccionario de grupos."
   ]
  },
  {
   "cell_type": "code",
   "execution_count": null,
   "metadata": {},
   "outputs": [],
   "source": [
    "# Solución:\n",
    "\n",
    "def nuevo_alumno(dict_n,dict_g,nombre,grupo):\n",
    "    pass"
   ]
  },
  {
   "cell_type": "code",
   "execution_count": null,
   "metadata": {},
   "outputs": [],
   "source": [
    "# Ejemplos:\n",
    "\n",
    "# >>> nuevo_alumno(alum,grupos,\"Bernardo\",\"G3\")\n",
    "# No actualizado. El alumno Bernardo ya está dado de alta en el grupo G3\n",
    "\n",
    "# >>> alum\n",
    "# {'Isabel': 'G1', 'Jesús': 'G2', 'Rocío': 'G3', 'Juan': 'G1', 'Carmen': 'G2', \n",
    "#  'Rosa': 'G2', 'Joaquín': 'G1', 'Bernardo': 'G3'}\n",
    "\n",
    "# >>> nuevo_alumno(alum,grupos,\"Bernardo\",\"G1\")\n",
    "# El alumno Bernardo ya está dado de alta. Se cambia al grupo G1\n",
    "\n",
    "# >>> alum\n",
    "# {'Isabel': 'G1', 'Jesús': 'G2', 'Rocío': 'G3', 'Juan': 'G1', 'Carmen': 'G2', \n",
    "#  'Rosa': 'G2', 'Joaquín': 'G1', 'Bernardo': 'G1'}\n",
    "\n",
    "# >>> grupos\n",
    "# {'G3': ['Rocío'], 'G2': ['Jesús', 'Carmen', 'Rosa'], \n",
    "#  'G1': ['Isabel', 'Juan', 'Joaquín', 'Bernardo']}\n",
    "\n",
    "# >>> nuevo_alumno(alum,grupos,\"Ana\",\"G3\")\n",
    "# Nuevo alumno Ana. Incluido en el grupo G3\n",
    "\n",
    "# >>> nuevo_alumno(alum,grupos,\"Juan\",\"G4\")\n",
    "# El alumno Juan ya está dado de alta. Se cambia al grupo G4\n",
    "\n",
    "# >>> alum\n",
    "# {'Isabel': 'G1', 'Jesús': 'G2', 'Rocío': 'G3', 'Ana': 'G3', 'Juan': 'G4', 'Carmen': 'G2', \n",
    "#  'Rosa': 'G2', 'Joaquín': 'G1', 'Bernardo': 'G1'}\n",
    "\n",
    "# >>> grupos\n",
    "# {'G4': ['Juan'], 'G3': ['Rocío', 'Ana'], 'G2': ['Jesús', 'Carmen', 'Rosa'], \n",
    "#  'G1': ['Isabel', 'Joaquín', 'Bernardo']}"
   ]
  },
  {
   "cell_type": "markdown",
   "metadata": {},
   "source": [
    "#### Ejercicio 10\n",
    "\n"
   ]
  },
  {
   "cell_type": "markdown",
   "metadata": {},
   "source": [
    "\n",
    "Representaremos un grafo dirigido como un diccionario que a cada nodo le asigna la lista de sus descendientes. Por ejemplo:\n",
    "    \n",
    "```\n",
    "grafo1={\"A\":[\"C\",\"E\"] , \"B\":[\"A\",\"C\",\"D\"]  , \n",
    "        \"C\":[\"B\",\"C\",\"D\"], \"D\":[] , \"E\":[\"C\"]}\n",
    "```\n",
    "Definir una función `grafo_inverso(g)` que devuelve el grafo inverso\n",
    "de un grafo dirigido (entendiendo por tal el obtenido al revertir las aristas). "
   ]
  },
  {
   "cell_type": "code",
   "execution_count": null,
   "metadata": {},
   "outputs": [],
   "source": [
    "# Solución:\n",
    "    \n",
    "def grafo_inverso(g):\n",
    "    pass"
   ]
  },
  {
   "cell_type": "code",
   "execution_count": null,
   "metadata": {},
   "outputs": [],
   "source": [
    "# Ejemplo:\n",
    "#\n",
    "\n",
    "# grafo1={\"A\":[\"C\",\"E\"] , \"B\":[\"A\",\"C\",\"D\"]  , \n",
    "#         \"C\":[\"B\",\"C\",\"D\"], \"D\":[] , \"E\":[\"C\"]}\n",
    "\n",
    "# >>> grafo_inverso(grafo1)\n",
    "\n",
    "# {'A': ['B'],\n",
    "#  'B': ['C'],\n",
    "#  'C': ['A', 'B', 'C', 'E'],\n",
    "#  'D': ['B', 'C'],\n",
    "#  'E': ['A']}"
   ]
  },
  {
   "cell_type": "markdown",
   "metadata": {},
   "source": [
    "#### Ejercicio 11\n",
    "\n",
    "Con la misma representación que en el ejercicio anterior, definir una función `alcanzables(g,n)`, que devuelve la lista de nodos alcanzables en un grafo `g` a partir de un nodo `n`.    "
   ]
  },
  {
   "cell_type": "code",
   "execution_count": null,
   "metadata": {},
   "outputs": [],
   "source": [
    "# Solución:\n",
    "def alcanzables(g,n):\n",
    "    pass"
   ]
  },
  {
   "cell_type": "code",
   "execution_count": null,
   "metadata": {},
   "outputs": [],
   "source": [
    "# grafo1={\"A\":[\"C\",\"E\"] , \"B\":[\"A\",\"C\",\"D\"]  , \"C\":[\"B\",\"C\",\"D\"], \"D\":[] , \"E\":[\"C\"]}\n",
    "# alcanzables(grafo1,\"A\")"
   ]
  },
  {
   "cell_type": "code",
   "execution_count": null,
   "metadata": {},
   "outputs": [],
   "source": [
    "# Ejemplos:\n",
    "# >>> alcanzables(grafo1,\"A\")\n",
    "# ['A', 'C', 'E', 'B', 'D']\n",
    "# >>> alcanzables(grafo1,\"D\")\n",
    "# ['D']"
   ]
  },
  {
   "cell_type": "markdown",
   "metadata": {},
   "source": [
    "#### Ejercicio 12"
   ]
  },
  {
   "cell_type": "markdown",
   "metadata": {},
   "source": [
    "Continuando con el ejercicio anterior, definir la clausura reflexiva y transitiva de un grafo."
   ]
  },
  {
   "cell_type": "code",
   "execution_count": null,
   "metadata": {},
   "outputs": [],
   "source": [
    "# Solución:\n",
    "\n",
    "def grafo_reflexivo_transitivo(g):\n",
    "    pass"
   ]
  },
  {
   "cell_type": "code",
   "execution_count": null,
   "metadata": {},
   "outputs": [],
   "source": [
    "# Ejemplo:\n",
    "# >>> grafo_reflexivo_transitivo(grafo1)\n",
    "\n",
    "# {'A': ['A', 'C', 'E', 'B', 'D'],\n",
    "#  'B': ['B', 'A', 'C', 'D', 'E'],\n",
    "#  'C': ['C', 'B', 'D', 'A', 'E'],\n",
    "#  'D': ['D'],\n",
    "#  'E': ['E', 'C', 'B', 'D', 'A']}\n"
   ]
  }
 ],
 "metadata": {
  "kernelspec": {
   "display_name": "Python 3 (ipykernel)",
   "language": "python",
   "name": "python3"
  },
  "language_info": {
   "codemirror_mode": {
    "name": "ipython",
    "version": 3
   },
   "file_extension": ".py",
   "mimetype": "text/x-python",
   "name": "python",
   "nbconvert_exporter": "python",
   "pygments_lexer": "ipython3",
   "version": "3.9.13"
  }
 },
 "nbformat": 4,
 "nbformat_minor": 2
}
