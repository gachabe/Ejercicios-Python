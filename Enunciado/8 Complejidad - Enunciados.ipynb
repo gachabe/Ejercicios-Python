{
 "cells": [
  {
   "cell_type": "markdown",
   "id": "68986148",
   "metadata": {},
   "source": [
    "# Utilidad para el examen - Decorador timeit¶"
   ]
  },
  {
   "cell_type": "markdown",
   "id": "d87beb04",
   "metadata": {},
   "source": [
    "Crea un decorador que nos diga cuanto tiempo a tardado en ejecutarse una función"
   ]
  },
  {
   "cell_type": "code",
   "execution_count": 1,
   "id": "97e7ebd5",
   "metadata": {},
   "outputs": [],
   "source": [
    "import time\n",
    "\n",
    "\n",
    "def timeit(func):\n",
    "    def timeit_wrapper(*args, **kwargs):\n",
    "        start_time = time.perf_counter()\n",
    "        result = func(*args, **kwargs)\n",
    "        end_time = time.perf_counter()\n",
    "        total_time = end_time - start_time\n",
    "        print(f'Function {func.__name__}{args} {kwargs} Took {total_time:.4f} seconds')\n",
    "        return result\n",
    "    return timeit_wrapper"
   ]
  },
  {
   "cell_type": "markdown",
   "id": "8ec3f9ef",
   "metadata": {},
   "source": [
    "# Complejidad de algoritmos"
   ]
  },
  {
   "cell_type": "markdown",
   "id": "f28117f1",
   "metadata": {},
   "source": [
    "## Algoritmo de búsqueda lineal"
   ]
  },
  {
   "cell_type": "code",
   "execution_count": 2,
   "id": "bb6086c6",
   "metadata": {},
   "outputs": [],
   "source": [
    "def busqueda_lineal(lista, objetivo):\n",
    "    for i in range(len(lista)):\n",
    "        if lista[i] == objetivo:\n",
    "            return i\n",
    "    return -1\n"
   ]
  },
  {
   "cell_type": "markdown",
   "id": "ea15c285",
   "metadata": {},
   "source": [
    "## Algoritmo de ordenamiento por burbuja"
   ]
  },
  {
   "cell_type": "code",
   "execution_count": 3,
   "id": "c62d9ab5",
   "metadata": {},
   "outputs": [],
   "source": [
    "def burbuja(lista):\n",
    "    for i in range(len(lista)):\n",
    "        for j in range(len(lista) - 1):\n",
    "            if lista[j] > lista[j + 1]:\n",
    "                lista[j], lista[j + 1] = lista[j + 1], lista[j]\n",
    "    return lista"
   ]
  },
  {
   "cell_type": "markdown",
   "id": "fcc19713",
   "metadata": {},
   "source": [
    "## Algoritmo de Fibonacci recursivo:"
   ]
  },
  {
   "cell_type": "code",
   "execution_count": 4,
   "id": "946eb5bc",
   "metadata": {},
   "outputs": [],
   "source": [
    "def fibonacci(n):\n",
    "    if n <= 1:\n",
    "        return n\n",
    "    else:\n",
    "        return(fibonacci(n-1) + fibonacci(n-2))"
   ]
  },
  {
   "cell_type": "markdown",
   "id": "769dd007",
   "metadata": {},
   "source": [
    "# Exponencial recursivo"
   ]
  },
  {
   "cell_type": "code",
   "execution_count": null,
   "id": "e15c64c2",
   "metadata": {},
   "outputs": [],
   "source": [
    "def exp(n):\n",
    "    if n == 1:\n",
    "        return n\n",
    "    else:\n",
    "        return n*exp(n-1)"
   ]
  },
  {
   "cell_type": "markdown",
   "id": "30b5832c",
   "metadata": {},
   "source": [
    "## Comprobar si un número es primo"
   ]
  },
  {
   "cell_type": "code",
   "execution_count": 5,
   "id": "b85f27a0",
   "metadata": {},
   "outputs": [],
   "source": [
    "def es_primo(n):\n",
    "    if n <= 1:\n",
    "        return False\n",
    "    for i in range(2, n):\n",
    "        if n % i == 0:\n",
    "            return False\n",
    "    return True"
   ]
  },
  {
   "cell_type": "markdown",
   "id": "c9fbcfa8",
   "metadata": {},
   "source": [
    "# Algoritmo búsqueda binaria"
   ]
  },
  {
   "cell_type": "code",
   "execution_count": 1,
   "id": "6963d3c6",
   "metadata": {},
   "outputs": [
    {
     "name": "stdout",
     "output_type": "stream",
     "text": [
      "El índice del elemento 11 en la lista es: 5\n"
     ]
    }
   ],
   "source": [
    "def busqueda_binaria(lista, elemento):\n",
    "    izquierda = 0\n",
    "    derecha = len(lista) - 1\n",
    "\n",
    "    while izquierda <= derecha:\n",
    "        medio = (izquierda + derecha) // 2\n",
    "        if lista[medio] == elemento:\n",
    "            return medio\n",
    "        elif lista[medio] < elemento:\n",
    "            izquierda = medio + 1\n",
    "        else:\n",
    "            derecha = medio - 1\n",
    "    \n",
    "    return -1\n",
    "\n",
    "lista = [1, 3, 5, 7, 9, 11, 13, 15, 17, 19]\n",
    "elemento = 11\n",
    "print(\"El índice del elemento\", elemento, \"en la lista es:\", busqueda_binaria(lista, elemento))\n"
   ]
  },
  {
   "cell_type": "markdown",
   "id": "707008b7",
   "metadata": {},
   "source": [
    "# Busqueda por diccionario"
   ]
  },
  {
   "cell_type": "code",
   "execution_count": 1,
   "id": "a267742f",
   "metadata": {},
   "outputs": [],
   "source": [
    "def busqueda_dic(dic,clave):\n",
    "    return dic[clave]"
   ]
  },
  {
   "cell_type": "markdown",
   "id": "9ee5b083",
   "metadata": {},
   "source": [
    "# Encontrar un número par"
   ]
  },
  {
   "cell_type": "code",
   "execution_count": null,
   "id": "59eed20f",
   "metadata": {},
   "outputs": [],
   "source": [
    "\n",
    "def buscar_par(l):\n",
    "    for i in l:\n",
    "        if i % 2 == 0:\n",
    "            return True\n",
    "    return False"
   ]
  },
  {
   "cell_type": "markdown",
   "id": "90472c52",
   "metadata": {},
   "source": [
    "# Sumar las cifras de un número"
   ]
  },
  {
   "cell_type": "code",
   "execution_count": null,
   "id": "a3251baf",
   "metadata": {},
   "outputs": [],
   "source": [
    "def suma_digitos(numero):\n",
    "    suma = 0\n",
    "    while numero:\n",
    "        suma += numero % 10\n",
    "        numero //= 10\n",
    "    return suma"
   ]
  },
  {
   "cell_type": "markdown",
   "id": "de64786f",
   "metadata": {},
   "source": [
    "# Producto de matrices"
   ]
  },
  {
   "cell_type": "code",
   "execution_count": 4,
   "id": "b4461574",
   "metadata": {},
   "outputs": [
    {
     "name": "stdout",
     "output_type": "stream",
     "text": [
      "El resultado de la multiplicación de las matrices es:\n",
      "[7, 8]\n",
      "[9, 10]\n"
     ]
    }
   ],
   "source": [
    "def multiplicar_matrices(matriz1, matriz2):\n",
    "    if len(matriz1[0]) != len(matriz2):\n",
    "        raise ValueError(\"El número de columnas de la primera matriz debe ser igual al número de filas de la segunda matriz\")\n",
    "\n",
    "    filas_matriz1 = len(matriz1)\n",
    "    columnas_matriz2 = len(matriz2[0])\n",
    "    producto = [[0] * columnas_matriz2 for _ in range(filas_matriz1)]\n",
    "\n",
    "    for i in range(filas_matriz1):\n",
    "        for j in range(columnas_matriz2):\n",
    "            for k in range(len(matriz2)):\n",
    "                producto[i][j] += matriz1[i][k] * matriz2[k][j]\n",
    "\n",
    "    return producto\n",
    "\n",
    "# Ejemplo de uso\n",
    "matriz1 = [[1, 0],\n",
    "           [0, 1]]\n",
    "\n",
    "matriz2 = [[7, 8],\n",
    "           [9, 10]]\n",
    "\n",
    "resultado = multiplicar_matrices(matriz1, matriz2)\n",
    "print(\"El resultado de la multiplicación de las matrices es:\")\n",
    "for fila in resultado:\n",
    "    print(fila)\n"
   ]
  },
  {
   "cell_type": "markdown",
   "id": "b97af2de",
   "metadata": {},
   "source": [
    "# De decimal a binario"
   ]
  },
  {
   "cell_type": "markdown",
   "id": "4dfb6c15",
   "metadata": {},
   "source": [
    "Crea una función que, de forma recursiva pase un número de decimal a notación binaria,y calcula su complejidad"
   ]
  },
  {
   "cell_type": "markdown",
   "id": "630a70d6",
   "metadata": {},
   "source": []
  },
  {
   "cell_type": "markdown",
   "id": "e9879938",
   "metadata": {},
   "source": [
    "# Torre de Hanoi"
   ]
  },
  {
   "cell_type": "markdown",
   "id": "478eb974",
   "metadata": {},
   "source": [
    "Se sabe que el número de pasos de la torre de Hanoi es: Si tiene un disco, solo es necesario un único paso. Si, por el contrario, tiene  𝑛\n",
    "  discos, serán necesarios 2*f(n-1)+1 pasos, donde f(n) es el número de pasos necesario para resolver la tore de hanoi de n-1 discos. Calcular su complejidad mediante polinomio caracteristico"
   ]
  }
 ],
 "metadata": {
  "kernelspec": {
   "display_name": "Python 3 (ipykernel)",
   "language": "python",
   "name": "python3"
  },
  "language_info": {
   "codemirror_mode": {
    "name": "ipython",
    "version": 3
   },
   "file_extension": ".py",
   "mimetype": "text/x-python",
   "name": "python",
   "nbconvert_exporter": "python",
   "pygments_lexer": "ipython3",
   "version": "3.9.13"
  }
 },
 "nbformat": 4,
 "nbformat_minor": 5
}
