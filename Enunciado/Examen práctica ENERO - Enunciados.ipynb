{
 "cells": [
  {
   "cell_type": "markdown",
   "id": "ed7f45f7",
   "metadata": {},
   "source": [
    "# Ejercicio 1"
   ]
  },
  {
   "cell_type": "markdown",
   "id": "26ef5d5c",
   "metadata": {},
   "source": [
    "Crea una función que dada una matriz, dada como una lista de listas, nos devuelva su determinante."
   ]
  },
  {
   "cell_type": "code",
   "execution_count": 37,
   "id": "29a22a3c",
   "metadata": {},
   "outputs": [
    {
     "data": {
      "text/plain": [
       "0"
      ]
     },
     "execution_count": 37,
     "metadata": {},
     "output_type": "execute_result"
    }
   ],
   "source": [
    "determinante([[1,2],[1,2]])"
   ]
  },
  {
   "cell_type": "markdown",
   "id": "22431ff3",
   "metadata": {},
   "source": [
    "# Ejercicio 2"
   ]
  },
  {
   "cell_type": "markdown",
   "id": "83c7dc26",
   "metadata": {},
   "source": [
    "Escribe una función que reciba una lista de la compra, dada en forma de diccionario, {\"producto\":cantidad} y un número que será el dinero que tiene. Esta función debe:\n",
    "- Comprobar si no se tiene dinero suficiente para realizar toda la compra. En caso contrario dar un mensaje que lo avise\n",
    "- Comprobar si no hay stock suficiente de producto. En caso contrario dar un mensaje que lo avise, comprar aun asi el máximo producto posible\n",
    "- Devolver cuánto dinero ha sobrado, si sobra algo"
   ]
  },
  {
   "cell_type": "code",
   "execution_count": 42,
   "id": "4d45dbd4",
   "metadata": {},
   "outputs": [],
   "source": [
    "base = {\n",
    "    \"frutas\":{\n",
    "        \"manzanas\":{\"precio\":1,\"cantidad\":2},\n",
    "        \"peras\":{\"precio\":3,\"cantidad\":5},\n",
    "        \"platanos\":{\"precio\":5,\"cantidad\":2}},\n",
    "    \"verduras\":{\n",
    "        \"lechuga\":{\"precio\":3,\"cantidad\":5},\n",
    "        \"col\":{\"precio\":6,\"cantidad\":2},\n",
    "        \"habichuelas\":{\"precio\":10,\"cantidad\":1}\n",
    "    },\n",
    "    \"lacteos\":{\n",
    "        \"yogur\":{\"precio\":2,\"cantidad\":5},\n",
    "        \"leche\":{\"precio\":6,\"cantidad\":3}\n",
    "    }\n",
    "}"
   ]
  },
  {
   "cell_type": "code",
   "execution_count": 54,
   "id": "3eeb1a8c",
   "metadata": {},
   "outputs": [
    {
     "name": "stdout",
     "output_type": "stream",
     "text": [
      "Te ha sobrado 98\n"
     ]
    }
   ],
   "source": [
    "compra({\"manzanas\":2},100)"
   ]
  },
  {
   "cell_type": "markdown",
   "id": "09624868",
   "metadata": {},
   "source": [
    "# Ejercicio 3"
   ]
  },
  {
   "cell_type": "markdown",
   "id": "564bfa9e",
   "metadata": {},
   "source": [
    "El problema de las N torres es un clásico problema en el que se busca colocar N torres en un tablero de ajedrez de NxN de manera que ninguna mate a otra.\n",
    "Escribe una función que reciba un tablero de dimensión variable y diga si es una solución válida al problema. Tienes que comprobar que:\n",
    "\n",
    "- Hay efectivamente N torres\n",
    "- El tablero tiene las dimensiones adecuadas\n",
    "- Es solución válida, es decir, las torres no se matan.\n",
    "\n",
    "El tablero que recibirá la función será una lista de listas con 0 en los huecos y 1 para las reinas"
   ]
  },
  {
   "cell_type": "code",
   "execution_count": 18,
   "id": "d7a253b2",
   "metadata": {},
   "outputs": [
    {
     "data": {
      "text/plain": [
       "True"
      ]
     },
     "execution_count": 18,
     "metadata": {},
     "output_type": "execute_result"
    }
   ],
   "source": [
    "esSol([[1,0,0],[0,1,0],[0,0,1]])"
   ]
  }
 ],
 "metadata": {
  "kernelspec": {
   "display_name": "Python 3 (ipykernel)",
   "language": "python",
   "name": "python3"
  },
  "language_info": {
   "codemirror_mode": {
    "name": "ipython",
    "version": 3
   },
   "file_extension": ".py",
   "mimetype": "text/x-python",
   "name": "python",
   "nbconvert_exporter": "python",
   "pygments_lexer": "ipython3",
   "version": "3.9.13"
  }
 },
 "nbformat": 4,
 "nbformat_minor": 5
}
