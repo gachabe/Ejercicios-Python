{
 "cells": [
  {
   "cell_type": "markdown",
   "id": "a59b4e0b",
   "metadata": {},
   "source": [
    "# Introducción a la complejidad"
   ]
  },
  {
   "cell_type": "markdown",
   "id": "58e10b20",
   "metadata": {},
   "source": [
    "En las siguientes lineas se pedirán funciones python \"sencillas\" y después debeis dar su complejidad."
   ]
  },
  {
   "cell_type": "markdown",
   "id": "ced7eef3",
   "metadata": {},
   "source": [
    "Crea una función que devuelva el último elemento de una lista"
   ]
  },
  {
   "cell_type": "code",
   "execution_count": null,
   "id": "8193927e",
   "metadata": {},
   "outputs": [],
   "source": [
    "#Complejidad O(1)\n",
    "\n",
    "def obtener_ultimo_elemento(lista):\n",
    "    if lista:\n",
    "        return lista[-1]\n",
    "    else:\n",
    "        return None\n",
    "\n",
    "lista = [1, 2, 3, 4, 5]\n",
    "print(\"El último elemento de la lista es:\", obtener_ultimo_elemento(lista))\n"
   ]
  },
  {
   "cell_type": "markdown",
   "id": "184a01c6",
   "metadata": {},
   "source": [
    "Crea una función que compruebe si un número es par"
   ]
  },
  {
   "cell_type": "code",
   "execution_count": 4,
   "id": "390be2c1",
   "metadata": {},
   "outputs": [],
   "source": [
    "#Complejidad O(1)\n",
    "def es_par(n):\n",
    "    return n %2 == 0"
   ]
  },
  {
   "cell_type": "markdown",
   "id": "6247df96",
   "metadata": {},
   "source": [
    "Crea una función que calcule la suma de los primero N numeros naturales."
   ]
  },
  {
   "cell_type": "code",
   "execution_count": null,
   "id": "02776697",
   "metadata": {},
   "outputs": [],
   "source": [
    "#Complejidad O(N)\n",
    "def suma_naturales(n):\n",
    "    suma = 0\n",
    "    for i in range(1, n+1):\n",
    "        suma += i\n",
    "    return suma\n",
    "\n",
    "n = 10\n",
    "print(\"La suma de los primeros\", n, \"números naturales es:\", suma_naturales(n))\n"
   ]
  },
  {
   "cell_type": "markdown",
   "id": "40e40ae5",
   "metadata": {},
   "source": [
    "Crea una función que cuente cuántos caracteres tiene una cadena dada"
   ]
  },
  {
   "cell_type": "code",
   "execution_count": 3,
   "id": "79928c83",
   "metadata": {},
   "outputs": [],
   "source": [
    "#complejidad O(N)\n",
    "def contar_caracteres(cadena):\n",
    "    frecuencia = {}\n",
    "    for char in cadena:\n",
    "        if char in frecuencia:\n",
    "            frecuencia[char] += 1\n",
    "        else:\n",
    "            frecuencia[char] = 1\n",
    "    return frecuencia\n",
    "\n",
    "\n"
   ]
  }
 ],
 "metadata": {
  "kernelspec": {
   "display_name": "Python 3 (ipykernel)",
   "language": "python",
   "name": "python3"
  },
  "language_info": {
   "codemirror_mode": {
    "name": "ipython",
    "version": 3
   },
   "file_extension": ".py",
   "mimetype": "text/x-python",
   "name": "python",
   "nbconvert_exporter": "python",
   "pygments_lexer": "ipython3",
   "version": "3.9.13"
  }
 },
 "nbformat": 4,
 "nbformat_minor": 5
}
