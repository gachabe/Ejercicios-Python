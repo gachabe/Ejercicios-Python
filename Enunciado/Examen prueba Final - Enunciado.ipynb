{
 "cells": [
  {
   "cell_type": "code",
   "execution_count": 32,
   "id": "fcd02a51",
   "metadata": {},
   "outputs": [],
   "source": [
    "from Pilas import *\n",
    "from Colas import *\n",
    "from Arboles import *\n",
    "\n",
    "\n",
    "\n",
    "\n",
    "class Vertice(object):       \n",
    "    def __init__(self, nombre):\n",
    "        self.nombre = nombre      \n",
    "\n",
    "    def __str__(self):       \n",
    "        return '<Vértice {}>'.format(self.nombre)\n",
    "    \n",
    "    def __repr__(self):\n",
    "        return str(self)\n",
    "\n",
    "\n",
    "class Grafo(object):\n",
    "\n",
    "    def __init__(self):     \n",
    "        self._vertices = []  \n",
    "        self._mat_ady = {}    \n",
    "\n",
    "    def n_vertices(self):   \n",
    "        return len(self._vertices) \n",
    "\n",
    "    def n_aristas(self):       \n",
    "        return len(self._mat_ady) // 2\n",
    "\n",
    "    def __str__(self):      \n",
    "        nV = self.n_vertices()\n",
    "        nA = self.n_aristas()\n",
    "        return f\"<Grafo de {nV} vertices and {nA} aristas\"\n",
    "    \n",
    "    def __repr__(self):\n",
    "        self.imprime()\n",
    "        return \"\"\n",
    "\n",
    "    def añade_vertice(self, v): \n",
    "        self._vertices.append(v) \n",
    "\n",
    "    def indice_valido(self, i): \n",
    "        if i < 0 or self.n_vertices() <= i: \n",
    "            raise IndexError   \n",
    "        return True          \n",
    "\n",
    "    def obten_vertice(self, i):  \n",
    "        if self.indice_valido(i): \n",
    "            return self._vertices[i]\n",
    "\n",
    "    def añade_arista(self, i, j): \n",
    "        self.indice_valido(i)   \n",
    "        self.indice_valido(j)    \n",
    "        if i == j:            \n",
    "            raise ValueError   \n",
    "        self._mat_ady[i, j] = 1 \n",
    "        self._mat_ady[j, i] = 1 \n",
    "\n",
    "    def hay_arista(self, i, j): \n",
    "        self.indice_valido(i)    \n",
    "        self.indice_valido(j)    \n",
    "        return self._mat_ady.get((i, j), False)     \n",
    "\n",
    "    # Generador de los vértices\n",
    "    def vertices(self):      \n",
    "        return range(self.n_vertices())\n",
    "\n",
    "\n",
    "    # Generador de los vértices adyacentes a uno dado   \n",
    "    def vertices_adyacentes(self, n):   \n",
    "        self.indice_valido(n)    \n",
    "        for j in self.vertices(): \n",
    "            if j != n and self.hay_arista(n, j): \n",
    "                yield j         \n",
    "\n",
    "    # Función de impresión del grafo (informa de sus vértices y aristas) \n",
    "    def imprime(self,prefix=''):    \n",
    "        print(f'{prefix}{self}')                                   \n",
    "        for v in self.vertices():                                  \n",
    "            print(f'{prefix}{v}:',self.obten_vertice(v))        \n",
    "            for k in range(v+ 1, self.n_vertices()):           \n",
    "                if self.hay_arista(v, k):  \n",
    "                    print(prefix,self._vertices[v].nombre,'<->',self._vertices[k].nombre)\n",
    "                    \n",
    "                    \n",
    "grafo = Grafo()\n",
    "for i in range(6):\n",
    "    i = Vertice(i)\n",
    "    grafo.añade_vertice(i)\n",
    "grafo.añade_arista(0,1)   \n",
    "grafo.añade_arista(2,3)   \n",
    "grafo.añade_arista(1,2)   \n",
    "grafo.añade_arista(3,5)   \n",
    "grafo.añade_arista(4,2)   \n",
    "grafo.añade_arista(5,1)   \n",
    "grafo\n",
    "\n",
    "grafo1 = Grafo()\n",
    "for i in range(4):\n",
    "    i = Vertice(i)\n",
    "    grafo1.añade_vertice(i)\n",
    "grafo1.añade_arista(0,1)   \n",
    "grafo1.añade_arista(1,2)   \n",
    "grafo1.añade_arista(2,3)   \n",
    "grafo1.añade_arista(3,0)     \n",
    "grafo1"
   ]
  },
  {
   "cell_type": "markdown",
   "id": "839fec8d",
   "metadata": {},
   "source": [
    "# Ejercicio 1 - Coloración de Grafos"
   ]
  },
  {
   "cell_type": "markdown",
   "id": "cc29f5bc",
   "metadata": {},
   "source": [
    "En este ejercicio, se te pide implementar un algoritmo para la coloración de grafos utilizando la búsqueda en anchura (BFS). \n",
    "\n",
    "El algoritmo de coloración debe seguir estas pautas:\n",
    "\n",
    "1. Utiliza la estructura de grafo proporcionada para representar el grafo de entrada.\n",
    "2. Debes implementar un algoritmo de búsqueda en anchura (BFS) para recorrer el grafo.\n",
    "3. Asigna un color a cada vértice del grafo de manera que ningún vértice adyacente tenga el mismo color.\n",
    "4. Puedes asumir que el grafo de entrada es no dirigido y que no tiene aristas múltiples ni bucles.\n",
    "\n",
    "Para realizar la implementación, ten en cuenta lo siguiente:\n",
    "\n",
    "- Comienza desde cualquier vértice del grafo.\n",
    "- Utiliza una cola para realizar la búsqueda en anchura.\n",
    "- Asigna un color a cada vértice visitado asegurándote de que no coincida con el color de ninguno de sus vértices adyacentes.\n"
   ]
  },
  {
   "cell_type": "code",
   "execution_count": null,
   "id": "f2fba01b",
   "metadata": {},
   "outputs": [],
   "source": [
    " colores = ['Rojo', 'Verde', 'Azul', 'Amarillo', 'Naranja', 'Morado']"
   ]
  },
  {
   "cell_type": "code",
   "execution_count": 19,
   "id": "d010066d",
   "metadata": {},
   "outputs": [
    {
     "name": "stdout",
     "output_type": "stream",
     "text": [
      "1\n",
      "C [0]\n",
      "C [1]\n",
      "C [0, 2, 5]\n",
      "C [2, 5]\n",
      "C [5, 3, 4]\n",
      "C [3, 4]\n",
      "C [4]\n"
     ]
    },
    {
     "data": {
      "text/plain": [
       "{0: 'Rojo', 1: 'Verde', 2: 'Rojo', 5: 'Rojo', 3: 'Verde', 4: 'Verde'}"
      ]
     },
     "execution_count": 19,
     "metadata": {},
     "output_type": "execute_result"
    }
   ],
   "source": [
    "colorear_grafo(grafo)"
   ]
  },
  {
   "cell_type": "markdown",
   "id": "4bd15f88",
   "metadata": {},
   "source": [
    "# Ejercicio 2 - Correción de paréntesis"
   ]
  },
  {
   "cell_type": "markdown",
   "id": "32b73279",
   "metadata": {},
   "source": [
    "Las pilas pueden utilizarse para comprobar que los paréntesis de una expresión son correctos. Para ello cada vez que un paréntesis se abre este se introduce en una pila y, si se cierra un paréntesis desapila el anterior.\n",
    "\n",
    "Crea una función que dada una expresión en forma de String, nos diga si tiene los paréntesis correctos\n"
   ]
  },
  {
   "cell_type": "code",
   "execution_count": 28,
   "id": "69e16a57",
   "metadata": {},
   "outputs": [
    {
     "data": {
      "text/plain": [
       "True"
      ]
     },
     "execution_count": 28,
     "metadata": {},
     "output_type": "execute_result"
    }
   ],
   "source": [
    "# parentesis(\"(()))\") == False\n",
    "# parentesis(\"((()))\") == True"
   ]
  },
  {
   "cell_type": "markdown",
   "id": "cdaac832",
   "metadata": {},
   "source": [
    "# Ejercicio 3 - Árboles Maestros\n"
   ]
  },
  {
   "cell_type": "markdown",
   "id": "b4c706d9",
   "metadata": {},
   "source": [
    "Apartado a):\n",
    "\n",
    "Un árbol se dirá Maestro si para cada nodo el valor de su dato es igual a la cantidad de hijos que tenga.\n",
    "Crea dos funciones, una para ver si un árbol es un árbol maestro y otra que, dado un árbol maestro nos de el nodo con el valor mayor."
   ]
  },
  {
   "cell_type": "code",
   "execution_count": 42,
   "id": "1a553563",
   "metadata": {},
   "outputs": [],
   "source": [
    "arbol_maestro =AG.crea_arbol_desde_lista( (3, [\n",
    "    (2, [\n",
    "        (1, [0]), 0]), \n",
    "        (1, [0]), 0]))\n",
    "\n",
    "potencias2 =AG.crea_arbol_desde_lista( (16, [\n",
    "    (8, [\n",
    "        (4, [2]), 2]), \n",
    "        (4, [2]), 2]))"
   ]
  },
  {
   "cell_type": "code",
   "execution_count": 44,
   "id": "71ec10cb",
   "metadata": {},
   "outputs": [],
   "source": [
    "#es_Maestro(arbol_maestro) == True\n",
    "#es_Maestro(potencias2) == False"
   ]
  },
  {
   "cell_type": "code",
   "execution_count": 46,
   "id": "48a84607",
   "metadata": {},
   "outputs": [
    {
     "data": {
      "text/plain": [
       "3"
      ]
     },
     "execution_count": 46,
     "metadata": {},
     "output_type": "execute_result"
    }
   ],
   "source": [
    "encontrar_maximo(arbol_maestro)"
   ]
  },
  {
   "cell_type": "markdown",
   "id": "6e8ecf19",
   "metadata": {},
   "source": [
    "Apartado b) \n",
    "\n",
    "Dada la implentación presentada para AG, crear una para AM (Árbol Maestro). Esta implementación no debe poder crear árboles desde lista, sino solo mediante el método añade hijo, y cuando se llame a este método se debe aumentar en uno el valor del dato del padre. \n",
    "\n",
    "Un hijo del un AM, solo puede ser AM"
   ]
  },
  {
   "cell_type": "code",
   "execution_count": 29,
   "id": "d50a7fcf",
   "metadata": {},
   "outputs": [],
   "source": [
    "class AG():\n",
    "    \n",
    "    def __init__(self,dato):\n",
    "        self.dato=dato\n",
    "        self.padre=None\n",
    "        self.hijos=[]\n",
    "        \n",
    "    def añade_hijo(self,nodo):\n",
    "        self.hijos.append(nodo)\n",
    "        nodo.padre=self\n",
    "        \n",
    "    def es_hoja(self):\n",
    "        return self.hijos==[]\n",
    "    \n",
    "    def __repr__(self):\n",
    "        return self._imprime_arbol()\n",
    "\n",
    "    def _imprime_arbol(self, prof = 0):  # A es un (sub)árbol y prof la profundidad del mismo \n",
    "\n",
    "        def tabula(prof):\n",
    "            return (\"\" if prof == 0 else \"|     \" * (prof - 1) + \"|-----\")\n",
    "\n",
    "        def espacios(prof):\n",
    "            return \"|     \" * prof + \"|\"\n",
    "\n",
    "        ret = \"\"\n",
    "        if self.hijos != []:\n",
    "            ret += tabula(prof) + str(self.dato) + \"\\n\"\n",
    "            for H in self.hijos:\n",
    "                ret += espacios(prof) + \"\\n\"\n",
    "                ret += H._imprime_arbol(prof + 1)\n",
    "            return ret\n",
    "        else:\n",
    "            return tabula(prof) + str(self.dato) + \"\\n\" "
   ]
  },
  {
   "cell_type": "code",
   "execution_count": 48,
   "id": "3ca4422d",
   "metadata": {},
   "outputs": [
    {
     "data": {
      "text/plain": [
       "2\n",
       "|\n",
       "|-----0\n",
       "|\n",
       "|-----2\n",
       "|     |\n",
       "|     |-----0\n",
       "|     |\n",
       "|     |-----0"
      ]
     },
     "execution_count": 48,
     "metadata": {},
     "output_type": "execute_result"
    }
   ],
   "source": [
    "a1 = AM()\n",
    "a2 = AM()\n",
    "a3 = AM()\n",
    "a4 = AM()\n",
    "\n",
    "a1.añade_hijo(a2)\n",
    "a3.añade_hijo(a2)\n",
    "a3.añade_hijo(a4)\n",
    "a1.añade_hijo(a3)\n",
    "a1"
   ]
  }
 ],
 "metadata": {
  "kernelspec": {
   "display_name": "Python 3 (ipykernel)",
   "language": "python",
   "name": "python3"
  },
  "language_info": {
   "codemirror_mode": {
    "name": "ipython",
    "version": 3
   },
   "file_extension": ".py",
   "mimetype": "text/x-python",
   "name": "python",
   "nbconvert_exporter": "python",
   "pygments_lexer": "ipython3",
   "version": "3.9.13"
  }
 },
 "nbformat": 4,
 "nbformat_minor": 5
}
