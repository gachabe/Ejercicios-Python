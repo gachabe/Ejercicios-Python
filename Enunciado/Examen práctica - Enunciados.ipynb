{
 "cells": [
  {
   "cell_type": "markdown",
   "id": "ed7a74a9",
   "metadata": {},
   "source": [
    "# Ejercicio 1- Mapas\n",
    "Dado un mapa representado por una matriz donde el valor 0 representa agua y el valor 1 representa tierra, crea una función en Python llamada accesible_areas que reciba las coordenadas (x, y) de una posición en el mapa. La función debe devolver una lista de todas las casillas adyacentes (horizontal y verticalmente) que tienen el mismo valor (tierra o agua) que la casilla de las coordenadas dadas, sin cambiar de número."
   ]
  },
  {
   "cell_type": "code",
   "execution_count": 1,
   "id": "6a6692ec",
   "metadata": {},
   "outputs": [
    {
     "data": {
      "text/plain": [
       "'\\n\\n# Ejemplo de uso\\nmapa = [\\n [1, 0, 0, 1, 1, 0, 1, 0, 0, 1],\\n [0, 1, 1, 0, 0, 1, 1, 1, 0, 0],\\n [1, 0, 0, 1, 1, 1, 0, 0, 1, 1],\\n [1, 0, 1, 0, 0, 1, 1, 0, 0, 1],\\n [0, 1, 1, 0, 1, 0, 0, 1, 1, 1],\\n [1, 1, 0, 0, 0, 1, 1, 0, 0, 1],\\n [0, 1, 1, 1, 1, 0, 0, 0, 1, 0],\\n [1, 0, 0, 1, 0, 1, 1, 1, 0, 1],\\n [1, 1, 0, 1, 1, 0, 0, 1, 1, 1],\\n [0, 0, 1, 0, 1, 0, 1, 0, 1, 1]\\n]\\n\\nfila = 0\\ncolumna = 0\\ncasillas_accesibles = obtener_casillas_accesibles(mapa, fila, columna)\\ncasillas_accesibles'"
      ]
     },
     "execution_count": 1,
     "metadata": {},
     "output_type": "execute_result"
    }
   ],
   "source": [
    "\n",
    "\"\"\"\n",
    "\n",
    "# Ejemplo de uso\n",
    "mapa = [\n",
    " [1, 0, 0, 1, 1, 0, 1, 0, 0, 1],\n",
    " [0, 1, 1, 0, 0, 1, 1, 1, 0, 0],\n",
    " [1, 0, 0, 1, 1, 1, 0, 0, 1, 1],\n",
    " [1, 0, 1, 0, 0, 1, 1, 0, 0, 1],\n",
    " [0, 1, 1, 0, 1, 0, 0, 1, 1, 1],\n",
    " [1, 1, 0, 0, 0, 1, 1, 0, 0, 1],\n",
    " [0, 1, 1, 1, 1, 0, 0, 0, 1, 0],\n",
    " [1, 0, 0, 1, 0, 1, 1, 1, 0, 1],\n",
    " [1, 1, 0, 1, 1, 0, 0, 1, 1, 1],\n",
    " [0, 0, 1, 0, 1, 0, 1, 0, 1, 1]\n",
    "]\n",
    "\n",
    "fila = 0\n",
    "columna = 0\n",
    "casillas_accesibles = obtener_casillas_accesibles(mapa, fila, columna)\n",
    "casillas_accesibles\"\"\""
   ]
  },
  {
   "cell_type": "markdown",
   "id": "023362dc",
   "metadata": {},
   "source": [
    "# Ejercicio 2 - Cifrado Gödel\n",
    "El cifrado Gödel es un método de codificación que asocia a cada símbolo de un alfabeto un número primo diferente. Luego, dada una secuencia de símbolos, se calcula el producto de los números primos correspondientes a cada símbolo elevado a su posición en la secuencia. Este proceso convierte una cadena de texto en un número único que representa el mensaje cifrado.\n",
    "\n",
    "Enunciado:\n",
    "\n",
    "Implemente una función en Python llamada es_primo(n) que determine si un número n es primo. La función debe retornar True si n es primo y False en caso contrario.\n",
    "\n",
    "Implemente una función en Python llamada n_primos(n) que genere una lista de los primeros n números primos.\n",
    "\n",
    "Implemente una función en Python llamada cifrado_godel(texto) que reciba una cadena de texto y la cifre utilizando el método de cifrado Gödel. La función debe retornar el mensaje cifrado como un número entero. El alfabeto utilizado debe incluir letras mayúsculas y minúsculas, números y algunos signos de puntuación y espacios."
   ]
  },
  {
   "cell_type": "markdown",
   "id": "19ac0d4e",
   "metadata": {},
   "source": [
    "# Ejercicio 3 - Generación y análisis de secuencias de ADN\n",
    "En este ejercicio, trabajaremos con secuencias de ADN generadas aleatoriamente y analizaremos su contenido para determinar la frecuencia de los diferentes nucleótidos.\n",
    "\n",
    "Enunciado:\n",
    "\n",
    "Implemente una función en Python llamada generar_secuencia_adn(longitud) que genere una secuencia de ADN aleatoria con una longitud dada. La secuencia de ADN debe incluir los cuatro nucleótidos: adenina (A), timina (T), citosina (C) y guanina (G). La función debe devolver la secuencia generada como una cadena.\n",
    "\n",
    "Implemente una función en Python llamada analizar_secuencia_adn(secuencia) que reciba una secuencia de ADN y devuelva un diccionario con la siguiente información: cantidad de adenina (A), cantidad de timina (T), cantidad de citosina (C) y cantidad de guanina (G). Además, incluya una clave 'frecuencia' en el diccionario que muestre la frecuencia de cada nucleótido en la secuencia en forma de porcentaje.\n"
   ]
  },
  {
   "cell_type": "code",
   "execution_count": 1,
   "id": "bfae4f3c",
   "metadata": {},
   "outputs": [],
   "source": [
    "from random import choice\n",
    "def rndm_ADN():\n",
    "    N = ['G','C','T','A']\n",
    "    return choice(N)"
   ]
  },
  {
   "cell_type": "markdown",
   "id": "83e3bd2c",
   "metadata": {},
   "source": [
    "# Ejercicio 4 - Creación de objetos - Sistema de gestión de estudiantes\n",
    "Crea una clase llamada Estudiante y otra llamada Curso. Estas clases modelarán un sistema simple de gestión de estudiantes y cursos.\n",
    "\n",
    "La clase Estudiante debe tener las siguientes características:\n",
    "\n",
    "Atributos:\n",
    "\n",
    "nombre (string): El nombre del estudiante. edad (int): La edad del estudiante. cursos (list): Una lista de cursos en los que está inscrito el estudiante. Métodos:\n",
    "\n",
    "inscribir_curso(curso: Curso): Inscribir al estudiante en un curso. Añade el curso a la lista de cursos en los que está inscrito el estudiante. desinscribir_curso(curso: Curso): Desinscribir al estudiante de un curso. Elimina el curso de la lista de cursos en los que está inscrito el estudiante. str(): Devolver una representación en cadena del estudiante, incluyendo su nombre, edad y los cursos en los que está inscrito. La clase Curso debe tener las siguientes características:\n",
    "\n",
    "Atributos:\n",
    "\n",
    "nombre (string): El nombre del curso. profesor (string): El nombre del profesor del curso. estudiantes (list): Una lista de estudiantes inscritos en el curso. Métodos:\n",
    "\n",
    "inscribir_estudiante(estudiante: Estudiante): Inscribir a un estudiante en el curso. Añade al estudiante a la lista de estudiantes inscritos en el curso. desinscribir_estudiante(estudiante: Estudiante): Desinscribir a un estudiante del curso. Elimina al estudiante de la lista de estudiantes inscritos en el curso. str(): Devolver una representación en cadena del curso, incluyendo su nombre, profesor y la lista de estudiantes inscritos. Después de crear las clases, crea una instancia de la clase Estudiante y varias instancias de la clase Curso. Utiliza los métodos definidos en ambas clases para inscribir y desinscribir estudiantes en los cursos y para mostrar la información de los estudiantes y cursos en la consola."
   ]
  }
 ],
 "metadata": {
  "kernelspec": {
   "display_name": "Python 3 (ipykernel)",
   "language": "python",
   "name": "python3"
  },
  "language_info": {
   "codemirror_mode": {
    "name": "ipython",
    "version": 3
   },
   "file_extension": ".py",
   "mimetype": "text/x-python",
   "name": "python",
   "nbconvert_exporter": "python",
   "pygments_lexer": "ipython3",
   "version": "3.9.13"
  }
 },
 "nbformat": 4,
 "nbformat_minor": 5
}
