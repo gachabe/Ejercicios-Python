{
 "cells": [
  {
   "cell_type": "code",
   "execution_count": 110,
   "id": "53b0c089",
   "metadata": {},
   "outputs": [
    {
     "data": {
      "text/plain": [
       "True"
      ]
     },
     "execution_count": 110,
     "metadata": {},
     "output_type": "execute_result"
    }
   ],
   "source": [
    "from Arboles import AG,ABB\n",
    "\n",
    "a1=AG.crea_arbol_desde_lista((\"A\",[\"B\",\n",
    "                               (\"C\",[\"H\"]),\n",
    "                               (\"D\",[\"I\",\"J\"]),\n",
    "                                \"E\",\n",
    "                                \"F\",\n",
    "                                (\"G\",[\"K\"])]))\n",
    "\n",
    "generos_musicales=AG.crea_arbol_desde_lista(('Música Pop/Rock', [\n",
    "    ('Rock', [\n",
    "        ('Rock and Roll', [\n",
    "            'Rockabilly',\n",
    "            'Doo Wop'\n",
    "        ]),\n",
    "        ('Rock Clásico', [\n",
    "            'Blues Rock',\n",
    "            ('Rock Psicodélico', [\n",
    "                'Rock Progresivo',\n",
    "                'Hard Rock',\n",
    "                'Garage Rock'\n",
    "            ]),\n",
    "            ('Rock Alternativo', [\n",
    "                'Grunge',\n",
    "                'Indie Rock'\n",
    "            ])\n",
    "        ]),\n",
    "        ('Heavy Metal', [\n",
    "            'Thrash Metal',\n",
    "            'Power Metal',\n",
    "            'Metal Alternativo'\n",
    "        ])\n",
    "    ]),\n",
    "    ('Pop', [\n",
    "        'Pop Rock',\n",
    "        'Dance Pop',\n",
    "        'Synthpop',\n",
    "        'Electropop'\n",
    "    ])\n",
    "]))\n",
    "\n",
    "potencias2 =AG.crea_arbol_desde_lista( (16, [\n",
    "    (8, [\n",
    "        (4, [2]), 2]), \n",
    "        (4, [2]), 2]))\n",
    "\n",
    "binario = AG.crea_arbol_desde_lista( (16, [\n",
    "    (\"Hijo1\", [\n",
    "        (\"Hijo11\"),\"Hijo12\"])\n",
    "        , \"Hijo2\"]))\n",
    "\n",
    "\n",
    "arbolABB1 = ABB()\n",
    "arbolABB1.inserta(10)\n",
    "arbolABB1.inserta(5)\n",
    "arbolABB1.inserta(15)\n",
    "arbolABB1.inserta(3)\n",
    "arbolABB1.inserta(7)\n",
    "arbolABB1.inserta(12)\n",
    "arbolABB1.inserta(18)\n",
    "\n",
    "\n",
    "arbolABB2 = ABB()\n",
    "arbolABB2.inserta(10)\n",
    "arbolABB2.inserta(5)\n",
    "arbolABB2.inserta(15)\n",
    "arbolABB2.inserta(3)\n",
    "arbolABB2.inserta(7)\n",
    "arbolABB2.inserta(2)\n",
    "arbolABB2.inserta(1)\n",
    "\n"
   ]
  },
  {
   "cell_type": "code",
   "execution_count": 4,
   "id": "3fbd9b1c",
   "metadata": {},
   "outputs": [],
   "source": [
    "todosPares = (lambda x: x%2==0)\n",
    "mayoresDos = (lambda x: x>2)"
   ]
  },
  {
   "cell_type": "code",
   "execution_count": 5,
   "id": "56abf39b",
   "metadata": {},
   "outputs": [
    {
     "data": {
      "text/plain": [
       "True"
      ]
     },
     "execution_count": 5,
     "metadata": {},
     "output_type": "execute_result"
    }
   ],
   "source": [
    "all([todosPares(x) for x in range(0,10,2) ])"
   ]
  },
  {
   "cell_type": "markdown",
   "id": "cb5332c4",
   "metadata": {},
   "source": [
    "1 Crea la función aplana_arbol que, recorriendo el árbol en profundidad, nos devuelva una lista con sus nodos."
   ]
  },
  {
   "cell_type": "code",
   "execution_count": 6,
   "id": "79147f5e",
   "metadata": {},
   "outputs": [
    {
     "data": {
      "text/plain": [
       "['A', 'B', 'C', 'H', 'D', 'I', 'J', 'E', 'F', 'G', 'K']"
      ]
     },
     "execution_count": 6,
     "metadata": {},
     "output_type": "execute_result"
    }
   ],
   "source": [
    "aplana_arbol(a1)"
   ]
  },
  {
   "cell_type": "markdown",
   "id": "cf7a0bc9",
   "metadata": {},
   "source": [
    "2 Crea una función que ahora aplane el árbol pero usando la busqueda en anchura."
   ]
  },
  {
   "cell_type": "code",
   "execution_count": 9,
   "id": "ba2b3371",
   "metadata": {},
   "outputs": [
    {
     "data": {
      "text/plain": [
       "['A', 'B', 'C', 'D', 'E', 'F', 'G', 'H', 'I', 'J', 'K']"
      ]
     },
     "execution_count": 9,
     "metadata": {},
     "output_type": "execute_result"
    }
   ],
   "source": [
    "aplana_arbol_anchura(a1)"
   ]
  },
  {
   "cell_type": "markdown",
   "id": "82f58bad",
   "metadata": {},
   "source": [
    "3 Crea una función sumaArbol(A) que devuelva el valor de las suma de sus nodos"
   ]
  },
  {
   "cell_type": "code",
   "execution_count": 130,
   "id": "cae27d98",
   "metadata": {},
   "outputs": [
    {
     "data": {
      "text/plain": [
       "40"
      ]
     },
     "execution_count": 130,
     "metadata": {},
     "output_type": "execute_result"
    }
   ],
   "source": [
    "sumaArbol(potencias2)"
   ]
  },
  {
   "cell_type": "markdown",
   "id": "525dbd35",
   "metadata": {},
   "source": [
    "4 Crea la función todos_cumplen(p,A) tal que A es un árbol que todos sus nodos cumplen la propiedad p."
   ]
  },
  {
   "cell_type": "code",
   "execution_count": 11,
   "id": "b57a2a96",
   "metadata": {},
   "outputs": [
    {
     "data": {
      "text/plain": [
       "True"
      ]
     },
     "execution_count": 11,
     "metadata": {},
     "output_type": "execute_result"
    }
   ],
   "source": [
    "todos_cumplen(todosPares,potencias2)"
   ]
  },
  {
   "cell_type": "markdown",
   "id": "56840c8e",
   "metadata": {},
   "source": [
    "5 Crea la función mapArbol(f,A) tal que devuelva el arbol A, aplicando f a todos sus nodos"
   ]
  },
  {
   "cell_type": "code",
   "execution_count": 13,
   "id": "6e007716",
   "metadata": {},
   "outputs": [],
   "source": [
    "suma1 = (lambda x: x+1)"
   ]
  },
  {
   "cell_type": "code",
   "execution_count": 20,
   "id": "2f1b3e7b",
   "metadata": {},
   "outputs": [
    {
     "data": {
      "text/plain": [
       "18\n",
       "|\n",
       "|-----10\n",
       "|     |\n",
       "|     |-----6\n",
       "|     |     |\n",
       "|     |     |-----4\n",
       "|     |\n",
       "|     |-----4\n",
       "|\n",
       "|-----6\n",
       "|     |\n",
       "|     |-----4\n",
       "|\n",
       "|-----4"
      ]
     },
     "execution_count": 20,
     "metadata": {},
     "output_type": "execute_result"
    }
   ],
   "source": [
    "mapArbol(suma1,potencias2)\n",
    "potencias2"
   ]
  },
  {
   "cell_type": "markdown",
   "id": "33e4f2e2",
   "metadata": {},
   "source": [
    "6 Crea la función crea_lista_arbol(A) que nos devuelva la lista original del árbol A"
   ]
  },
  {
   "cell_type": "code",
   "execution_count": 12,
   "id": "fb246986",
   "metadata": {},
   "outputs": [
    {
     "data": {
      "text/plain": [
       "('A', ['B', ('C', ['H']), ('D', ['I', 'J']), 'E', 'F', ('G', ['K'])])"
      ]
     },
     "execution_count": 12,
     "metadata": {},
     "output_type": "execute_result"
    }
   ],
   "source": [
    "crea_lista_arbol(a1)"
   ]
  },
  {
   "cell_type": "markdown",
   "id": "86af5139",
   "metadata": {},
   "source": [
    "7 Crea la función borde(A) que devuelva el borde del árbol A, es decir, la lista de sus hojas"
   ]
  },
  {
   "cell_type": "code",
   "execution_count": 14,
   "id": "d8e832a9",
   "metadata": {},
   "outputs": [
    {
     "data": {
      "text/plain": [
       "['B', 'H', 'I', 'J', 'E', 'F', 'K']"
      ]
     },
     "execution_count": 14,
     "metadata": {},
     "output_type": "execute_result"
    }
   ],
   "source": [
    "borde(a1)"
   ]
  },
  {
   "cell_type": "markdown",
   "id": "820a3f07",
   "metadata": {},
   "source": [
    "8 Crea la función ramifica(A1,A2,p) que devuelva una copia del arbol A1 pero a cada nodo que cumpla la propiedad p se le añadira como sub árbol A2"
   ]
  },
  {
   "cell_type": "code",
   "execution_count": 100,
   "id": "027501cb",
   "metadata": {},
   "outputs": [],
   "source": [
    "a2 =AG.crea_arbol_desde_lista((2,[]))"
   ]
  },
  {
   "cell_type": "code",
   "execution_count": 101,
   "id": "2df5f96e",
   "metadata": {},
   "outputs": [
    {
     "data": {
      "text/plain": [
       "16\n",
       "|\n",
       "|-----8\n",
       "|     |\n",
       "|     |-----4\n",
       "|     |     |\n",
       "|     |     |-----2\n",
       "|     |     |     |\n",
       "|     |     |     |-----2\n",
       "|     |     |\n",
       "|     |     |-----2\n",
       "|     |\n",
       "|     |-----2\n",
       "|     |     |\n",
       "|     |     |-----2\n",
       "|     |\n",
       "|     |-----2\n",
       "|\n",
       "|-----4\n",
       "|     |\n",
       "|     |-----2\n",
       "|     |     |\n",
       "|     |     |-----2\n",
       "|     |\n",
       "|     |-----2\n",
       "|\n",
       "|-----2\n",
       "|     |\n",
       "|     |-----2\n",
       "|\n",
       "|-----2"
      ]
     },
     "execution_count": 101,
     "metadata": {},
     "output_type": "execute_result"
    }
   ],
   "source": [
    "ramifica(potencias2,a2,todosPares)"
   ]
  },
  {
   "cell_type": "markdown",
   "id": "9b4c1818",
   "metadata": {},
   "source": [
    "9 Crea la función mismaForma(A1,A2) que devuelva True si los dos árboles tienen la misma forma"
   ]
  },
  {
   "cell_type": "code",
   "execution_count": 112,
   "id": "cdd876b6",
   "metadata": {},
   "outputs": [
    {
     "data": {
      "text/plain": [
       "True"
      ]
     },
     "execution_count": 112,
     "metadata": {},
     "output_type": "execute_result"
    }
   ],
   "source": [
    "mismaForma(potencias2,potencias2)"
   ]
  },
  {
   "cell_type": "markdown",
   "id": "69a9afa1",
   "metadata": {},
   "source": [
    "10 La máxima ramificación de un árbol general es el mayor número de hijos que tienen los nodos de dicho árbol. Crea la función maxRam(A), que devuelva la máxima ramificación de este."
   ]
  },
  {
   "cell_type": "code",
   "execution_count": 123,
   "id": "26567d5e",
   "metadata": {},
   "outputs": [
    {
     "data": {
      "text/plain": [
       "4"
      ]
     },
     "execution_count": 123,
     "metadata": {},
     "output_type": "execute_result"
    }
   ],
   "source": [
    "maxRam(generos_musicales)"
   ]
  },
  {
   "cell_type": "markdown",
   "id": "f3ccae37",
   "metadata": {},
   "source": [
    "11 Crea una función cuentaAparece(A,x) que devuelva el número de apariciones de x en el árbol A."
   ]
  },
  {
   "cell_type": "code",
   "execution_count": 134,
   "id": "658d2bd9",
   "metadata": {},
   "outputs": [
    {
     "data": {
      "text/plain": [
       "4"
      ]
     },
     "execution_count": 134,
     "metadata": {},
     "output_type": "execute_result"
    }
   ],
   "source": [
    "cuentaAparece(potencias2,2)"
   ]
  },
  {
   "cell_type": "markdown",
   "id": "e600871d",
   "metadata": {},
   "source": [
    "12 Crea una caminos(x,A) tal que devuelva una lista con todos los caminos desde la raiz de A hasta x"
   ]
  },
  {
   "cell_type": "code",
   "execution_count": 137,
   "id": "66da608c",
   "metadata": {},
   "outputs": [
    {
     "data": {
      "text/plain": [
       "[[16, 8, 4, 2], [16, 8, 2], [16, 4, 2], [16, 2]]"
      ]
     },
     "execution_count": 137,
     "metadata": {},
     "output_type": "execute_result"
    }
   ],
   "source": [
    "caminos(2,potencias2)"
   ]
  },
  {
   "cell_type": "markdown",
   "id": "e94bf2d4",
   "metadata": {},
   "source": [
    "13 Un árbol se dirá ordenado si para todos los nodos, el valor de los nodos de sus hijos están ordenados, es decir, el valor de los nodos de una misma altura van ordenados de mayor a menor. Crea una función que compruebe que un árbol es ordenado\n",
    "\n"
   ]
  },
  {
   "cell_type": "code",
   "execution_count": 14,
   "id": "2a08be2b",
   "metadata": {},
   "outputs": [
    {
     "data": {
      "text/plain": [
       "True"
      ]
     },
     "execution_count": 14,
     "metadata": {},
     "output_type": "execute_result"
    }
   ],
   "source": [
    "es_ordenado(potencias2)"
   ]
  },
  {
   "cell_type": "markdown",
   "id": "3cf28798",
   "metadata": {},
   "source": [
    "14 crea la función rama izquierda que, mediante pilas, nos devuelva la rama izquierda del arbol.\n"
   ]
  },
  {
   "cell_type": "code",
   "execution_count": 30,
   "id": "80741cac",
   "metadata": {},
   "outputs": [
    {
     "data": {
      "text/plain": [
       "B|A -"
      ]
     },
     "execution_count": 30,
     "metadata": {},
     "output_type": "execute_result"
    }
   ],
   "source": [
    "rama_izq(a1)"
   ]
  },
  {
   "cell_type": "markdown",
   "id": "b7f99362",
   "metadata": {},
   "source": [
    "15 Un árbol se dirá binario si, o bien tiene exactamente dos hijos, o bien ninguno.\n",
    "Crea una función que compruebe si un árbol es binario"
   ]
  },
  {
   "cell_type": "code",
   "execution_count": 56,
   "id": "85186904",
   "metadata": {},
   "outputs": [
    {
     "data": {
      "text/plain": [
       "True"
      ]
     },
     "execution_count": 56,
     "metadata": {},
     "output_type": "execute_result"
    }
   ],
   "source": [
    "es_binario(binario)"
   ]
  },
  {
   "cell_type": "markdown",
   "id": "eea4de95",
   "metadata": {},
   "source": [
    "16 Crea la función profundidades que devuelva la profundidades de todas las hojas de un árbol"
   ]
  },
  {
   "cell_type": "code",
   "execution_count": 88,
   "id": "a0bf2626",
   "metadata": {
    "scrolled": true
   },
   "outputs": [
    {
     "data": {
      "text/plain": [
       "[1, 2, 2, 2, 1, 1, 2]"
      ]
     },
     "execution_count": 88,
     "metadata": {},
     "output_type": "execute_result"
    }
   ],
   "source": [
    "(profundidades(a1))"
   ]
  },
  {
   "cell_type": "markdown",
   "id": "4e2259f7",
   "metadata": {},
   "source": [
    "17 Un árbol se dirá balanceado se la diferntecia de profundidad entre su hoja más profunda y la segunda es, a lo sumo, uno."
   ]
  },
  {
   "cell_type": "code",
   "execution_count": 91,
   "id": "2cbafe35",
   "metadata": {},
   "outputs": [
    {
     "data": {
      "text/plain": [
       "True"
      ]
     },
     "execution_count": 91,
     "metadata": {},
     "output_type": "execute_result"
    }
   ],
   "source": [
    "balanceado(a1)"
   ]
  },
  {
   "cell_type": "markdown",
   "id": "02c2b8c4",
   "metadata": {},
   "source": [
    "18 Crea una función que reciba un árbol de tipo ABB y devuelva el mismo pero expresado como AG"
   ]
  },
  {
   "cell_type": "code",
   "execution_count": 119,
   "id": "dd41f0fe",
   "metadata": {},
   "outputs": [
    {
     "data": {
      "text/plain": [
       "10\n",
       "|\n",
       "|-----5\n",
       "|     |\n",
       "|     |-----3\n",
       "|     |\n",
       "|     |-----7\n",
       "|\n",
       "|-----15\n",
       "|     |\n",
       "|     |-----12\n",
       "|     |\n",
       "|     |-----18"
      ]
     },
     "execution_count": 119,
     "metadata": {},
     "output_type": "execute_result"
    }
   ],
   "source": [
    "abb_a_ag(arbolABB1)\n"
   ]
  },
  {
   "cell_type": "markdown",
   "id": "f71b4179",
   "metadata": {},
   "source": [
    "19 Ahora la función inversa, que pase de árbol tipo AG a tipo ABB"
   ]
  },
  {
   "cell_type": "code",
   "execution_count": 124,
   "id": "f2caf31a",
   "metadata": {},
   "outputs": [
    {
     "data": {
      "text/plain": [
       "\n",
       "|16|<\n",
       "     |8|<\n",
       "          |4|<\n",
       "               |2|<"
      ]
     },
     "execution_count": 124,
     "metadata": {},
     "output_type": "execute_result"
    }
   ],
   "source": [
    "ag_a_abb(potencias2)"
   ]
  },
  {
   "cell_type": "markdown",
   "id": "4056dd13",
   "metadata": {},
   "source": [
    "20 Este ejercicio consistirá en crear el árbol de divisores de un número. Para ello se han de crear las siguientes funciones.\n",
    "\n",
    "    -Primero una función que dado un número n nos devuelva la lista de sus divisores inclusyendo el mismo y el 1.\n",
    "    -Después otra función que nos devuelva los dos elementos centrales de una lista\n",
    "    -Finalmente una función que dado un número n cree un arbol de tipo AG binario tal que cada nodo sus hijos serán los divisores centrales de su lista de divisores. Los nodos hoja serán los primos o el 1\n",
    "    \n",
    " Recuerda que puedes crear las funciones auxiliares que necesites"
   ]
  },
  {
   "cell_type": "code",
   "execution_count": 179,
   "id": "62827c43",
   "metadata": {},
   "outputs": [
    {
     "data": {
      "text/plain": [
       "12000\n",
       "|\n",
       "|-----100\n",
       "|     |\n",
       "|     |-----5\n",
       "|     |\n",
       "|     |-----10\n",
       "|     |     |\n",
       "|     |     |-----2\n",
       "|     |     |\n",
       "|     |     |-----5\n",
       "|\n",
       "|-----120\n",
       "|     |\n",
       "|     |-----10\n",
       "|     |     |\n",
       "|     |     |-----2\n",
       "|     |     |\n",
       "|     |     |-----5\n",
       "|     |\n",
       "|     |-----12\n",
       "|     |     |\n",
       "|     |     |-----3\n",
       "|     |     |\n",
       "|     |     |-----4\n",
       "|     |     |     |\n",
       "|     |     |     |-----1\n",
       "|     |     |     |\n",
       "|     |     |     |-----2"
      ]
     },
     "execution_count": 179,
     "metadata": {},
     "output_type": "execute_result"
    }
   ],
   "source": [
    "arbol = AG.crea_arbol_desde_lista(crear_abb(12000))\n",
    "prueba"
   ]
  }
 ],
 "metadata": {
  "kernelspec": {
   "display_name": "Python 3 (ipykernel)",
   "language": "python",
   "name": "python3"
  },
  "language_info": {
   "codemirror_mode": {
    "name": "ipython",
    "version": 3
   },
   "file_extension": ".py",
   "mimetype": "text/x-python",
   "name": "python",
   "nbconvert_exporter": "python",
   "pygments_lexer": "ipython3",
   "version": "3.9.13"
  }
 },
 "nbformat": 4,
 "nbformat_minor": 5
}
