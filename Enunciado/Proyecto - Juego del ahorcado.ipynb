{
 "cells": [
  {
   "cell_type": "markdown",
   "id": "e926fc50",
   "metadata": {},
   "source": [
    "Ya tenemos los conocimientos básicos en bucles While y for. Así que intentaremos crear el clásico juego del ahorcado.\n",
    "Comenzamos con una función fácil, esconder la palabra.\n",
    "Crea una función que dado un  String nos devuelva el string \"escondido\", es decir, un string de la misma longitud pero compuesto por un simbolo cualquiera."
   ]
  },
  {
   "cell_type": "code",
   "execution_count": null,
   "id": "8ff14adf",
   "metadata": {},
   "outputs": [],
   "source": [
    "\n",
    "        "
   ]
  },
  {
   "cell_type": "markdown",
   "id": "c8a1bd16",
   "metadata": {},
   "source": [
    "Ahora cuando el usuario nos de una letra tenemos que devolver la palabra escondida pero con las letras descubiertas en su posición.\n",
    "Para facilitar esto lo dividiremos en 2 tareas:\n",
    "\n",
    "    1 - Primero, dada una String y una letra devuelve una lista con las posiciones de la letra en esa palabra\n",
    "    \n",
    "    2 - Dada una palabra \"escondida\" devuelve una palabra \"semiescondida\", es decir, una palabra cambiando el signo \"*\" por la letra dada en la posiciones de la lista"
   ]
  },
  {
   "cell_type": "code",
   "execution_count": null,
   "id": "66825ee8",
   "metadata": {},
   "outputs": [],
   "source": []
  },
  {
   "cell_type": "markdown",
   "id": "73266121",
   "metadata": {},
   "source": [
    "Ya finalmente podemos crear el núcleo central del juego.\n",
    "Así vamos a crear una función que se llama ahorcado que nos pida una palabra a esconder y haga funcionar el juego.\n",
    "Puedes poner que el juego funcione con vidas o que siga jugando hasta que se acierte la palabra"
   ]
  },
  {
   "cell_type": "code",
   "execution_count": null,
   "id": "de00554d",
   "metadata": {},
   "outputs": [],
   "source": []
  }
 ],
 "metadata": {
  "kernelspec": {
   "display_name": "Python 3 (ipykernel)",
   "language": "python",
   "name": "python3"
  },
  "language_info": {
   "codemirror_mode": {
    "name": "ipython",
    "version": 3
   },
   "file_extension": ".py",
   "mimetype": "text/x-python",
   "name": "python",
   "nbconvert_exporter": "python",
   "pygments_lexer": "ipython3",
   "version": "3.9.13"
  }
 },
 "nbformat": 4,
 "nbformat_minor": 5
}
