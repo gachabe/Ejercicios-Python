{
 "cells": [
  {
   "cell_type": "code",
   "execution_count": 12,
   "id": "c1cafc03",
   "metadata": {},
   "outputs": [],
   "source": [
    "from Pilas import Pila\n",
    "from copy import deepcopy\n",
    "from Grafos import *\n",
    "\n",
    "#Pilas\n",
    "\n",
    "p1, p2, p3, p4, p5, p6, p7 = Pila(), Pila(), Pila(), Pila(), Pila(), Pila(), Pila()\n",
    "for i in range(1,21)[::-1]: p1.apila(i)\n",
    "for i in range(2,19,3)[::-1]: p2.apila(i)\n",
    "for i in range(3,11)[::-1]: p3.apila(i)\n",
    "for i in (4,-1,7,3,8,10,0,3,3,4)[::-1]: p4.apila(i)\n",
    "for i in range(1,6)[::-1]: p5.apila(i)\n",
    "for i in range(2,21,2)[::-1]: p6.apila(i)    \n",
    "for i in range(8,28)[::-1]: p7.apila(i)\n",
    "    \n",
    "# Grafo\n",
    "grafo1 = Grafo()\n",
    "for i in range(6):\n",
    "    i = Vertice(i)\n",
    "    grafo1.añade_vertice(i)\n",
    "    \n",
    "grafo1.añade_arista(0,1)\n",
    "grafo1.añade_arista(1,2)\n",
    "grafo1.añade_arista(2,3)\n",
    "grafo1.añade_arista(3,4)\n",
    "grafo1.añade_arista(4,0)\n",
    "grafo1.añade_arista(0,5)\n",
    "grafo1.añade_arista(1,5)"
   ]
  },
  {
   "cell_type": "code",
   "execution_count": null,
   "id": "37c2fa76",
   "metadata": {},
   "outputs": [],
   "source": []
  },
  {
   "cell_type": "markdown",
   "id": "467ac0ce",
   "metadata": {},
   "source": [
    "1 Crea una función llamada cuadrado, que reciba un número n y devuelva una matriz como lista de listas de n filas y n columnas rellenas solo por el número n"
   ]
  },
  {
   "cell_type": "code",
   "execution_count": 2,
   "id": "827241ee",
   "metadata": {},
   "outputs": [
    {
     "data": {
      "text/plain": [
       "[[5, 5, 5, 5, 5],\n",
       " [5, 5, 5, 5, 5],\n",
       " [5, 5, 5, 5, 5],\n",
       " [5, 5, 5, 5, 5],\n",
       " [5, 5, 5, 5, 5]]"
      ]
     },
     "execution_count": 2,
     "metadata": {},
     "output_type": "execute_result"
    }
   ],
   "source": [
    "cuadrado(5)"
   ]
  },
  {
   "cell_type": "markdown",
   "id": "ea650b7d",
   "metadata": {},
   "source": [
    "2 Escribe una función ordena_positivos(lista), que dada una lista de números enteros, devuelva una nueva lista con los números positivos ordenados de menor a mayor, y mantenga los números negativos en la misma posición que la lista original."
   ]
  },
  {
   "cell_type": "code",
   "execution_count": 34,
   "id": "af45f3db",
   "metadata": {},
   "outputs": [
    {
     "data": {
      "text/plain": [
       "[4, 3, 2, 1]"
      ]
     },
     "execution_count": 34,
     "metadata": {},
     "output_type": "execute_result"
    }
   ],
   "source": [
    "A =[1,2,3,4]\n",
    "A.reverse()\n",
    "A"
   ]
  },
  {
   "cell_type": "code",
   "execution_count": 4,
   "id": "8d070859",
   "metadata": {},
   "outputs": [
    {
     "data": {
      "text/plain": [
       "[1, 2, 3, -1, 4, 5, -1, 6]"
      ]
     },
     "execution_count": 4,
     "metadata": {},
     "output_type": "execute_result"
    }
   ],
   "source": [
    " ordena_positivos([6, 5, 4, -1, 3, 2, -1, 1])"
   ]
  },
  {
   "cell_type": "markdown",
   "id": "4fcae64b",
   "metadata": {},
   "source": [
    "3 Dada dos matrices vistas como listas de listas, crear una función que realice la multiplicación."
   ]
  },
  {
   "cell_type": "code",
   "execution_count": 36,
   "id": "aca51eb2",
   "metadata": {},
   "outputs": [
    {
     "name": "stdout",
     "output_type": "stream",
     "text": [
      "El resultado de la multiplicación es:\n",
      "[58, 64]\n",
      "[139, 154]\n"
     ]
    }
   ],
   "source": [
    "\n",
    "A = [[1, 2, 3],\n",
    "     [4, 5, 6]]\n",
    "B = [[7, 8],\n",
    "     [9, 10],\n",
    "     [11, 12]]\n",
    "\n",
    "resultado = matrix_multiplication(A, B)\n",
    "if resultado:\n",
    "    print(\"El resultado de la multiplicación es:\")\n",
    "    for row in resultado:\n",
    "        print(row)"
   ]
  },
  {
   "cell_type": "markdown",
   "id": "9548dcdf",
   "metadata": {},
   "source": [
    "4 Dados dos números binarios, vistos como listas de 0's y 1's, devolver la lista resultante de sumar en binario."
   ]
  },
  {
   "cell_type": "markdown",
   "id": "bfaf70f6",
   "metadata": {},
   "source": [
    "5 Usando pilas, crea una función que devuelva el factorial de un número."
   ]
  },
  {
   "cell_type": "code",
   "execution_count": 18,
   "id": "69db90a9",
   "metadata": {},
   "outputs": [
    {
     "data": {
      "text/plain": [
       "6"
      ]
     },
     "execution_count": 18,
     "metadata": {},
     "output_type": "execute_result"
    }
   ],
   "source": [
    "fact_pilas(3)"
   ]
  },
  {
   "cell_type": "markdown",
   "id": "9c643cd1",
   "metadata": {},
   "source": [
    "6 Crea una función que dada una lista devuelva todos los subconjuntos posibles de esta."
   ]
  },
  {
   "cell_type": "markdown",
   "id": "d92f63fc",
   "metadata": {},
   "source": [
    "7 Crea una función que dada una lista nos de todas sus permutaciones. Previamente crea una función auxiliar llamada coloca, que reciba un numero X, una lista L  y devuelva la lista de listas de colocar X en cada una de las posibles posiciones en L."
   ]
  },
  {
   "cell_type": "code",
   "execution_count": 26,
   "id": "abf7ebc5",
   "metadata": {},
   "outputs": [
    {
     "data": {
      "text/plain": [
       "[[1, 2, 4], [2, 1, 4], [2, 4, 1], [1, 4, 2], [4, 1, 2], [4, 2, 1]]"
      ]
     },
     "execution_count": 26,
     "metadata": {},
     "output_type": "execute_result"
    }
   ],
   "source": [
    "(obtener_permutaciones([1,2,4]))"
   ]
  },
  {
   "cell_type": "markdown",
   "id": "c2f9ddb5",
   "metadata": {},
   "source": [
    "8 Crea una función que reciba una lista, una posición de inicio y una posición final y devuelva la lista invirtiendo solo la sublista desde la posición de inicio hasta la posición final,"
   ]
  },
  {
   "cell_type": "code",
   "execution_count": 29,
   "id": "1fb1c15c",
   "metadata": {},
   "outputs": [
    {
     "data": {
      "text/plain": [
       "[1, 2, 3, 6, 5, 4, 7]"
      ]
     },
     "execution_count": 29,
     "metadata": {},
     "output_type": "execute_result"
    }
   ],
   "source": [
    "lista =[1,2,3,4,5,6,7]\n",
    "reverse_lista_loc(lista,3,5)"
   ]
  },
  {
   "cell_type": "markdown",
   "id": "44194c7f",
   "metadata": {},
   "source": [
    "9 Crea dos funciones, una que dado el código morse otorgado abajo, pida una palabra al usuario y devuelva su traducción al código morse. La segunda función debe ser la inversa, es decir, que reciba una palabra en código morse y devuelva su traducción"
   ]
  },
  {
   "cell_type": "code",
   "execution_count": 1,
   "id": "8b73a761",
   "metadata": {},
   "outputs": [],
   "source": [
    "codigo = {\n",
    "    'A': '.-',     'B': '-...',    'C': '-.-.',\n",
    "    'D': '-..',    'E': '.',       'F': '..-.',\n",
    "    'G': '--.',    'H': '....',    'I': '..',\n",
    "    'J': '.---',   'K': '-.-',     'L': '.-..',\n",
    "    'M': '--',     'N': '-.',      'O': '---',\n",
    "    'P': '.--.',   'Q': '--.-',    'R': '.-.',\n",
    "    'S': '...',    'T': '-',       'U': '..-',\n",
    "    'V': '...-',   'W': '.--',     'X': '-..-',\n",
    "    'Y': '-.--',   'Z': '--..',    '1': '.----',\n",
    "    '2': '..---',  '3': '...--',   '4': '....-',\n",
    "    '5': '.....',  '6': '-....',   '7': '--...',\n",
    "    '8': '---..',  '9': '----.',   '0': '-----',\n",
    "    '.': '.-.-.-', ',': '--..--',  ':': '---...',\n",
    "    ';': '-.-.-.', '?': '..--..',  '!': '-.-.--',\n",
    "    '\"': '.-..-.', \"'\": '.----.',  '+': '.-.-.',\n",
    "    '-': '-....-', '/': '-..-.',   '=': '-...-',\n",
    "    '_': '..--.-', '$': '...-..-', '@': '.--.-.',\n",
    "    '&': '.-...',  '(': '-.--.',   ')': '-.--.-'\n",
    "}"
   ]
  },
  {
   "cell_type": "code",
   "execution_count": 39,
   "id": "41bcbc3a",
   "metadata": {},
   "outputs": [
    {
     "name": "stdout",
     "output_type": "stream",
     "text": [
      "PRUEBA\n"
     ]
    }
   ],
   "source": [
    "traductor_morse2(\".--. .-. ..- . -... .-\")"
   ]
  },
  {
   "cell_type": "markdown",
   "id": "11da9b5a",
   "metadata": {},
   "source": [
    "10 Crea una función que, de forma recursiva, compruebe si un número es par."
   ]
  },
  {
   "cell_type": "code",
   "execution_count": 2,
   "id": "c6831244",
   "metadata": {},
   "outputs": [
    {
     "data": {
      "text/plain": [
       "True"
      ]
     },
     "execution_count": 2,
     "metadata": {},
     "output_type": "execute_result"
    }
   ],
   "source": [
    "pares_recursivo(30)"
   ]
  },
  {
   "cell_type": "markdown",
   "id": "976c2df0",
   "metadata": {},
   "source": [
    "11 Crea una función que compruebe si una matriz es diagonal dominante por filas, esto es, el valor de los elementos de la diagonal es mayor que la suma de los valores absolutos de su fila."
   ]
  },
  {
   "cell_type": "code",
   "execution_count": 6,
   "id": "31ead343",
   "metadata": {},
   "outputs": [
    {
     "data": {
      "text/plain": [
       "True"
      ]
     },
     "execution_count": 6,
     "metadata": {},
     "output_type": "execute_result"
    }
   ],
   "source": [
    "matriz = [[4, -1, 0],\n",
    "          [-1, 5, -1],\n",
    "          [0, -1, 4]]\n",
    "es_diag_comp(matriz)"
   ]
  },
  {
   "cell_type": "markdown",
   "id": "6f98cab3",
   "metadata": {},
   "source": [
    "12 En este ejercicio recrearemos el método para hallar el autovector dominante de forma iterativa. \n",
    "\n",
    "El primer paso será crear una función que, dado un vector visto comouna lista, tome su norma infinito, es decir, el valor máximo del vector y nos devuelva el vector dividido entre esta.\n",
    "\n",
    "Después crearemos una función que tomará una matriz y un vector y nos devolverá el producto de ambos.\n",
    "\n",
    "Finalmente crearemos el algoritmo, dados una matriz y un vector multiplicaremos el vector a la matriz, posteriormente dividiremos el resultado entre su norma infinito y repetimos el proceso un número lo suficientemente grande de veces. "
   ]
  },
  {
   "cell_type": "code",
   "execution_count": 24,
   "id": "491de38f",
   "metadata": {},
   "outputs": [
    {
     "data": {
      "text/plain": [
       "[1.0, 0.6000000000000001, 0.6000000000000001]"
      ]
     },
     "execution_count": 24,
     "metadata": {},
     "output_type": "execute_result"
    }
   ],
   "source": [
    "matriz = [[1,2,3],[0,2,2],[0,0,4]]\n",
    "\n",
    "algoritmo(matriz,[1,1,1],1000000)\n"
   ]
  },
  {
   "cell_type": "markdown",
   "id": "1979b4be",
   "metadata": {},
   "source": [
    "13 Una matriz se dice totalmente unimodular (TUM) si esta compuesta unicamente por -1, 0 o 1. Crea una función que reciba una matriz vista como lista de listas y compruebe si es TUM"
   ]
  },
  {
   "cell_type": "code",
   "execution_count": 32,
   "id": "b7b0ff08",
   "metadata": {},
   "outputs": [
    {
     "data": {
      "text/plain": [
       "True"
      ]
     },
     "execution_count": 32,
     "metadata": {},
     "output_type": "execute_result"
    }
   ],
   "source": [
    "matriz = [[-1, -1, 0, 0, 0, 1],\n",
    "          [1, 0, -1, -1, 0, 0],\n",
    "          [0, 1, 1, 0, -1, 0],\n",
    "          [0, 0, 0, 1, 1, -1]]\n",
    "\n",
    "es_TUM(matriz)\n"
   ]
  },
  {
   "cell_type": "markdown",
   "id": "d9db0223",
   "metadata": {},
   "source": [
    "14 Crea una función que elimine los elementos en la posición par de una pila."
   ]
  },
  {
   "cell_type": "code",
   "execution_count": 5,
   "id": "83a0d1d9",
   "metadata": {},
   "outputs": [
    {
     "data": {
      "text/plain": [
       "2|4|6|8|10|12|14|16|18|20 -"
      ]
     },
     "execution_count": 5,
     "metadata": {},
     "output_type": "execute_result"
    }
   ],
   "source": [
    "elimina_pares(p1)"
   ]
  },
  {
   "cell_type": "markdown",
   "id": "73884272",
   "metadata": {},
   "source": [
    "15 Queremos  ir al cine a ver los vengadores, pero el orden de las películas es un poco difuso, hemos preguntado a un amigo que sabe de Marvel y nos ha dicho lo siguiente:\n",
    "\n",
    "    1 La primera que hay que ver es Capitana Marvel.\n",
    "    2 Para ver el capitán America necesitas haber visto Capitana Marvel.\n",
    "    3 Para ver Iron Man I necesitas haber visto Capitán america.\n",
    "    4 Para ver Iron Man II necesitas haber visto Iron Man I.\n",
    "    5 Para ver Hulk necesitas haber visto  Iron Man II y Capitana Marvel.\n",
    "    6 Para ver Thor necesitas haber visto Capitana Marvel y Iron Man II.\n",
    "    7 finalmente para ver a los vengadores necesitas haber visto Thor, Hulk Iron Man II y Capitán America.\n",
    "Utiliza un grafo dirigido para resolver este problema."
   ]
  },
  {
   "cell_type": "markdown",
   "id": "485b767e",
   "metadata": {},
   "source": [
    "16 Crea una función que dadas dos pilas, las una poniendo la segunda encima de la primera manteniendo el orden.\n"
   ]
  },
  {
   "cell_type": "code",
   "execution_count": 8,
   "id": "89afdb99",
   "metadata": {},
   "outputs": [
    {
     "data": {
      "text/plain": [
       "2|5|8|11|14|17|1|2|3|4|5|6|7|8|9|10|11|12|13|14|15|16|17|18|19|20 -"
      ]
     },
     "execution_count": 8,
     "metadata": {},
     "output_type": "execute_result"
    }
   ],
   "source": [
    "append_pilas(p1,p2)"
   ]
  },
  {
   "cell_type": "markdown",
   "id": "198102cd",
   "metadata": {},
   "source": [
    "17 Dado un grafo no dirigido G, decimos que tres vértices (v1,v2,v3) de G forman un triángulo si hay en G una arista entre cada par de ellos. Crea una función que, dado un grafo, devuelva la lista de los vertices que no estan en ningun triangulo.\n",
    "\n",
    "Para ello realizar una función auxiliar que dado un grafo y un vertice compruebe si este pertenece a algun triangulo."
   ]
  },
  {
   "cell_type": "code",
   "execution_count": 19,
   "id": "ee644562",
   "metadata": {},
   "outputs": [
    {
     "data": {
      "text/plain": [
       "[2, 3, 4]"
      ]
     },
     "execution_count": 19,
     "metadata": {},
     "output_type": "execute_result"
    }
   ],
   "source": [
    "verticeSinTriangulo(grafo1)"
   ]
  },
  {
   "cell_type": "markdown",
   "id": "f7fd3196",
   "metadata": {},
   "source": [
    "18 En el diccionario se ha dado una lista con fichas de colores, crear una función que resuelva el problema de crear una fila con todas las fichas de forma que dos fichas unidas compartan color. Para ello primero crea una función que cree todas las formas de combinar las fichas sin repetirlas. Posteriormente una función que, para una fila de 4 fichas, compruebe si es una solución de nuestro problema. Finalmente usa ambas funciones para dar una solución al problema."
   ]
  },
  {
   "attachments": {
    "image.png": {
     "image/png": "[encoded data removed]"
    }
   },
   "cell_type": "markdown",
   "id": "fec42aaf",
   "metadata": {},
   "source": [
    "![image.png](attachment:image.png)"
   ]
  },
  {
   "cell_type": "code",
   "execution_count": 1,
   "id": "fe89eace",
   "metadata": {},
   "outputs": [],
   "source": [
    "fichas = {\n",
    "    \"ficha1\":{\"izq\":\"r\",\"der\":\"v\"},\n",
    "    \"ficha2\":{\"izq\":\"v\",\"der\":\"r\"},\n",
    "    \"ficha3\":{\"izq\":\"a\",\"der\":\"v\"},\n",
    "    \"ficha4\":{\"izq\":\"r\",\"der\":\"a\"},\n",
    "         \n",
    "         }"
   ]
  },
  {
   "cell_type": "markdown",
   "id": "3420eca4",
   "metadata": {},
   "source": [
    "19 Un 6-puzzle es un clásico pasatiempo en el que debemos ordenar una serie de fichas deslizables. En nuestra versión el puzzle será una matriz vista como lista de listas con los números del 1 al 5 para notar las fichas y el 0 para el hueco deslizable.\n",
    "\n",
    "Vamos a crear una función que dada una posición cualquiera del 6-puzzle lo resuelva. para ello:\n",
    "\n",
    "    1 Crea una lista con todos los estados posibles.\n",
    "    2 Crea una función para cada uno de los cuatro movimientos válidos, es decir, arriba, abajo, izquierda y derecha, para un cierto estado dado.\n",
    "    3 Crea una función que reciba un estado como argumento y devuelva la lista de estados posibles a los que se puede llegar a partir de este.\n",
    "    4 Crea una función para comprobar si un estado es el estado final, es decir, el  [1,2,3,4,5,0].\n",
    "    5 Finalmente crea una función que mediante un grafo dirigido resuelva el problema de forma similar a la vista en clase.\n",
    "    \n",
    "Importante: Debido al tipo de dato que usamos, para crear una copia de un estado no se puede hacer nuevo_estado = estado[:] sino nuevo_estado = deepcopy(estado)"
   ]
  },
  {
   "cell_type": "code",
   "execution_count": 2,
   "id": "6a9b4e6e",
   "metadata": {},
   "outputs": [],
   "source": [
    "from copy import deepcopy"
   ]
  },
  {
   "cell_type": "code",
   "execution_count": null,
   "id": "db6faec8",
   "metadata": {},
   "outputs": [],
   "source": []
  },
  {
   "cell_type": "markdown",
   "id": "60a3812d",
   "metadata": {},
   "source": [
    "20 Ahora volveremos a resolver el ejercicio 18, pero utilizando el método del ejercicio 19."
   ]
  }
 ],
 "metadata": {
  "kernelspec": {
   "display_name": "Python 3 (ipykernel)",
   "language": "python",
   "name": "python3"
  },
  "language_info": {
   "codemirror_mode": {
    "name": "ipython",
    "version": 3
   },
   "file_extension": ".py",
   "mimetype": "text/x-python",
   "name": "python",
   "nbconvert_exporter": "python",
   "pygments_lexer": "ipython3",
   "version": "3.9.13"
  }
 },
 "nbformat": 4,
 "nbformat_minor": 5
}
