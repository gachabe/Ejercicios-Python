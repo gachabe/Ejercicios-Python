{
 "cells": [
  {
   "cell_type": "code",
   "execution_count": 20,
   "id": "3b83af8d",
   "metadata": {},
   "outputs": [],
   "source": [
    "from Pilas import Pila\n",
    "from Colas import Cola\n",
    "from copy import deepcopy\n",
    "\n",
    "#Pilas\n",
    "\n",
    "p1, p2, p3, p4, p5, p6, p7 = Pila(), Pila(), Pila(), Pila(), Pila(), Pila(), Pila()\n",
    "for i in range(1,21)[::-1]: p1.apila(i)\n",
    "for i in range(2,19,3)[::-1]: p2.apila(i)\n",
    "for i in range(3,11)[::-1]: p3.apila(i)\n",
    "for i in (4,-1,7,3,8,10,0,3,3,4)[::-1]: p4.apila(i)\n",
    "for i in range(1,6)[::-1]: p5.apila(i)\n",
    "for i in range(2,21,2)[::-1]: p6.apila(i)    \n",
    "for i in range(8,28)[::-1]: p7.apila(i)\n",
    "    \n",
    "#Colas\n",
    "c1, c2, c3, c4, c5, c6 = Cola(), Cola(), Cola(), Cola(), Cola(), Cola()\n",
    "for i in range(1,21)[::-1]: c1.inserta(i)\n",
    "for i in range(2,19,3)[::-1]: c2.inserta(i)\n",
    "for i in range(3,11)[::-1]: c3.inserta(i)\n",
    "for i in (4,-1,7,3,8,10,0,3,3,4)[::-1]: c4.inserta(i)\n",
    "for i in range(15,20)[::-1]: c5.inserta(i)\n",
    "for i in range(2,21,2): c6.inserta(i)\n",
    "    \n",
    "def mayorQueCero(x):\n",
    "    return x > 0\n",
    "\n",
    "def menorQueCero(x):\n",
    "    return x < 0\n",
    "\n",
    "def esPar(x):\n",
    "    return x % 2 == 0"
   ]
  },
  {
   "cell_type": "markdown",
   "id": "909578cb",
   "metadata": {},
   "source": [
    "# Pilas"
   ]
  },
  {
   "cell_type": "markdown",
   "id": "20e5d4ad",
   "metadata": {},
   "source": [
    "Crea una función que, dada una pila, nos diga la profundidad de esta, es decir, la cantidad de elementos que esta tiene."
   ]
  },
  {
   "cell_type": "markdown",
   "id": "91160ecc",
   "metadata": {},
   "source": [
    "Crea una función que nos diga la cantidad de elementos pares que tenga una pila dada"
   ]
  },
  {
   "cell_type": "code",
   "execution_count": 32,
   "id": "77501f48",
   "metadata": {},
   "outputs": [
    {
     "data": {
      "text/plain": [
       "10"
      ]
     },
     "execution_count": 32,
     "metadata": {},
     "output_type": "execute_result"
    }
   ],
   "source": [
    "cuentaPar(p1)"
   ]
  },
  {
   "cell_type": "markdown",
   "id": "584e92e9",
   "metadata": {},
   "source": [
    "Crea una función que dada una pila ordenada y un elementos x inserte este elemento x en la pila manteniendo el orden."
   ]
  },
  {
   "cell_type": "markdown",
   "id": "f2b5735e",
   "metadata": {},
   "source": [
    "Crea una función que, dada una pila, elimine los elementos repetidos de esta. PISTA: Puede ser necesaria una función previa que compruebe si un elemento x pertence a una pila p."
   ]
  },
  {
   "cell_type": "markdown",
   "id": "1e45eeba",
   "metadata": {},
   "source": [
    "Crea una función que reciba una pila y devuelva la misma pila pero en sentido inverso."
   ]
  },
  {
   "cell_type": "markdown",
   "id": "f8d0ce4e",
   "metadata": {},
   "source": [
    "Crea una función que reciba dos pilas y las una intercalanado elementos de ambas"
   ]
  },
  {
   "cell_type": "code",
   "execution_count": 34,
   "id": "35716f99",
   "metadata": {},
   "outputs": [
    {
     "name": "stdout",
     "output_type": "stream",
     "text": [
      "1|2|3|4|5|6|7|8|9|10|11|12|13|14|15|16|17|18|19|20 -\n",
      "2|5|8|11|14|17 -\n",
      "1|2|2|5|3|8|4|11|5|14|6|17|7|8|9|10|11|12|13|14|15|16|17|18|19|20 -\n"
     ]
    }
   ],
   "source": [
    "print(p1)\n",
    "print(p2)\n",
    "print(mergePilas(p1,p2))"
   ]
  },
  {
   "cell_type": "markdown",
   "id": "b8146576",
   "metadata": {},
   "source": [
    "crea una función llamada particiones(p,n) que dada una pila p divida esta en subpilas de longitud n, almacena estas subpilas en una pila, es decir, esta función devuelve una pila de pilas."
   ]
  },
  {
   "cell_type": "code",
   "execution_count": 52,
   "id": "508a0219",
   "metadata": {},
   "outputs": [
    {
     "data": {
      "text/plain": [
       "19|20 -|16|17|18 -|13|14|15 -|10|11|12 -|7|8|9 -|4|5|6 -|1|2|3 - -"
      ]
     },
     "execution_count": 52,
     "metadata": {},
     "output_type": "execute_result"
    }
   ],
   "source": [
    "particiones(p1,3)\n"
   ]
  },
  {
   "cell_type": "markdown",
   "id": "dbadbed9",
   "metadata": {},
   "source": [
    "# Colas"
   ]
  },
  {
   "cell_type": "markdown",
   "id": "9d039c49",
   "metadata": {},
   "source": [
    "Crea una función que, dada una cola, la convierta en una lista. No uses el método propio para ello\n"
   ]
  },
  {
   "cell_type": "code",
   "execution_count": 317,
   "id": "815a6db6",
   "metadata": {},
   "outputs": [
    {
     "data": {
      "text/plain": [
       "[20, 19, 18, 17, 16, 15, 14, 13, 12, 11, 10, 9, 8, 7, 6, 5, 4, 3, 2, 1]"
      ]
     },
     "execution_count": 317,
     "metadata": {},
     "output_type": "execute_result"
    }
   ],
   "source": [
    "cola2Lista(c1)\n"
   ]
  },
  {
   "cell_type": "markdown",
   "id": "5ad9fe9f",
   "metadata": {},
   "source": [
    "Crea una función que dado una lista, convierta esta en cola"
   ]
  },
  {
   "cell_type": "code",
   "execution_count": 320,
   "id": "3a301dea",
   "metadata": {},
   "outputs": [
    {
     "data": {
      "text/plain": [
       "[1, 2, 3, 4]"
      ]
     },
     "execution_count": 320,
     "metadata": {},
     "output_type": "execute_result"
    }
   ],
   "source": [
    "cola2Lista(lista2Cola([1,2,3,4]))"
   ]
  },
  {
   "cell_type": "markdown",
   "id": "0d3fa858",
   "metadata": {},
   "source": [
    "Crea una función que dada una función booleana p y una cola c devuelva True si ningún elemento de c cumple p "
   ]
  },
  {
   "cell_type": "markdown",
   "id": "30794b73",
   "metadata": {},
   "source": [
    "Crea una función que dada una función booleana p y una cola c devuelva True si sólamente un elemento de c cumple p"
   ]
  },
  {
   "cell_type": "markdown",
   "id": "ef41d51a",
   "metadata": {},
   "source": [
    "Crea una función que devuelva True si la cola que recibe es ordenada"
   ]
  },
  {
   "cell_type": "markdown",
   "id": "ab5baf1a",
   "metadata": {},
   "source": [
    "Crea una función que devuelva el máximo valor de una cola"
   ]
  },
  {
   "cell_type": "markdown",
   "id": "2d51bed2",
   "metadata": {},
   "source": [
    "Crea una función que reciba una cola c y un número n y devuelva el elemento en la posicion n-ésima"
   ]
  },
  {
   "cell_type": "code",
   "execution_count": 59,
   "id": "e0025f3a",
   "metadata": {},
   "outputs": [
    {
     "data": {
      "text/plain": [
       "19"
      ]
     },
     "execution_count": 59,
     "metadata": {},
     "output_type": "execute_result"
    }
   ],
   "source": [
    "getElem(c1,1)"
   ]
  }
 ],
 "metadata": {
  "kernelspec": {
   "display_name": "Python 3 (ipykernel)",
   "language": "python",
   "name": "python3"
  },
  "language_info": {
   "codemirror_mode": {
    "name": "ipython",
    "version": 3
   },
   "file_extension": ".py",
   "mimetype": "text/x-python",
   "name": "python",
   "nbconvert_exporter": "python",
   "pygments_lexer": "ipython3",
   "version": "3.9.13"
  }
 },
 "nbformat": 4,
 "nbformat_minor": 5
}
