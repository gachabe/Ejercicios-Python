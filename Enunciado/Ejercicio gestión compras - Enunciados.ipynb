{
 "cells": [
  {
   "cell_type": "markdown",
   "id": "617f0ec0",
   "metadata": {},
   "source": [
    "# Ejercicio 1"
   ]
  },
  {
   "cell_type": "markdown",
   "id": "a442f436",
   "metadata": {},
   "source": [
    "Crea la clase Producto que recibirá como argumentos el nombre del producto y su precio, para ambos atributos crea el setter y getter correspondientes. Además del método str y repr."
   ]
  },
  {
   "cell_type": "markdown",
   "id": "6cda1316",
   "metadata": {},
   "source": [
    "# Ejercicio 2"
   ]
  },
  {
   "cell_type": "markdown",
   "id": "cf902d04",
   "metadata": {},
   "source": [
    "Crea la clase Cliente, que recibirá como argumento su nombre y tendrá como atributos su nombre y el carrito de la compra que será, inicialmente, un diccionario vacio. Para estos dos atributos crea los setter y getters correspondientes y el método str. Además:\n",
    "\n",
    "- Crea un método \"añade_al_carrito\" que recibirá un objeto de la clase Producto y la cantidad de este y lo introducirá al carrito\n",
    "- Crea un método \"limpiar_carrito\" que reinicia el carrito volviendo a ser un diccionario vacio."
   ]
  },
  {
   "cell_type": "markdown",
   "id": "7745535f",
   "metadata": {},
   "source": [
    "# Ejercicio 3"
   ]
  },
  {
   "cell_type": "markdown",
   "id": "9aee9cc1",
   "metadata": {},
   "source": [
    "Crea la clase Inventario que no recibirá ningún argumento y como parámetro tendrá stock, que será un diccionario, inicialmente vacio, cuyas claves son los articulos y cuyos valores las cantidades en stock de estos. Crea el método str de esta clase. Además:\n",
    "\n",
    "- Crea el método \"agrega_producto\" que recibirá un Producto nuevo y una cantidad y lo añadirá al stock, si ya hay producto de ese elemento aumentará la cantidad, si no, creará un valor nuevo en el diccionario.\n",
    "- Crea el método \"actualiza_stock\" que recibirá un Producto y una cantidad y cambiará el valor de ese producto en el diccionario stock por esa cantidad\n",
    "- Crea el método \"verificar_disponibilidad\" que reibirá un Producto y una cantidad y comprobará si hay, al menos, esa cantidad de ese Producto."
   ]
  },
  {
   "cell_type": "markdown",
   "id": "bfe30f76",
   "metadata": {},
   "source": [
    "# Ejercicio 4"
   ]
  },
  {
   "cell_type": "markdown",
   "id": "51a26193",
   "metadata": {},
   "source": [
    "Crea una clase SistemaDeVentas que reciba como argumento un Inventario y tenga como parámetros el inventario y una lista de clientes que será inicialmente vacia. Crea el método str. Además:\n",
    "\n",
    "- Crea un método \"agregar_cliente\" que recibirá un Cliente y lo añadirá a la lista de clientes.\n",
    "- Crea un método \"Procesar compra\" que recibirá como argumento un Cliente y gestionará la compra de su carrito, es decir, comprobará que en su inventario hay suficiente stock de cada producto y, de no ser así, devolverá un ValueError. En caso de si poderse realizar la compra devolve"
   ]
  },
  {
   "cell_type": "markdown",
   "id": "0760ce55",
   "metadata": {},
   "source": [
    "## Comprueba aqui tus soluciones"
   ]
  },
  {
   "cell_type": "code",
   "execution_count": null,
   "id": "6d77ddc1",
   "metadata": {},
   "outputs": [],
   "source": [
    "# Prueba el sistema de ventas\n",
    "try:\n",
    "    # Crear productos\n",
    "    producto1 = Producto(\"Laptop\", 1500)\n",
    "    producto2 = Producto(\"Mouse\", 20)\n",
    "    producto3 = Producto(\"Teclado\", 30)\n",
    "    \n",
    "    # Crear inventario y agregar productos\n",
    "    inventario = Inventario()\n",
    "    inventario.agregar_producto(producto1, 10)\n",
    "    inventario.agregar_producto(producto2, 50)\n",
    "    inventario.agregar_producto(producto3, 30)\n",
    "    \n",
    "    # Crear sistema de ventas\n",
    "    sistema = SistemaDeVentas(inventario)\n",
    "    \n",
    "    # Crear cliente y agregar al sistema\n",
    "    cliente = Cliente(\"Juan\")\n",
    "    sistema.agregar_cliente(cliente)\n",
    "    \n",
    "    # Añadir productos al carrito del cliente\n",
    "    cliente.añadir_al_carrito(producto1, 1)\n",
    "    cliente.añadir_al_carrito(producto2, 2)\n",
    "    \n",
    "    # Procesar compra del cliente\n",
    "    total = sistema.procesar_compra(cliente)\n",
    "    print(f\"Total a pagar por {cliente.nombre}: ${total}\")\n",
    "\n",
    "    # Mostrar inventario después de la compra\n",
    "    print(inventario)\n",
    "    \n",
    "except ValueError as e:\n",
    "    print(e)\n"
   ]
  }
 ],
 "metadata": {
  "kernelspec": {
   "display_name": "Python 3 (ipykernel)",
   "language": "python",
   "name": "python3"
  },
  "language_info": {
   "codemirror_mode": {
    "name": "ipython",
    "version": 3
   },
   "file_extension": ".py",
   "mimetype": "text/x-python",
   "name": "python",
   "nbconvert_exporter": "python",
   "pygments_lexer": "ipython3",
   "version": "3.9.13"
  }
 },
 "nbformat": 4,
 "nbformat_minor": 5
}
