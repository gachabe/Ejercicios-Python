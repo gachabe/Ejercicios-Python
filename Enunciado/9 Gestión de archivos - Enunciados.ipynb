{
 "cells": [
  {
   "cell_type": "markdown",
   "id": "a55a03ed",
   "metadata": {},
   "source": [
    "En el archivo adjunto pesonas tenemos una base de datos de furiosos maleantes, crea una función que habrá el archivo y muestre sus datos de forma más visual. Es decir, elimina los punto y coma y dique dato vas a presentar"
   ]
  },
  {
   "cell_type": "code",
   "execution_count": 12,
   "id": "8b540640",
   "metadata": {},
   "outputs": [
    {
     "name": "stdout",
     "output_type": "stream",
     "text": [
      "1\n",
      "1\n",
      "1\n",
      "1\n",
      "1\n"
     ]
    }
   ],
   "source": [
    "with open(\"Andalucia.txt\",\"r\",encoding=\"utf-8\") as f:\n",
    "    palabras = f.read().split()\n",
    "for palabra in palabras:\n",
    "    if palabra[-1] == \",\":\n",
    "        print(1)"
   ]
  },
  {
   "cell_type": "markdown",
   "id": "90fca7c3",
   "metadata": {},
   "source": [
    "Crea una función que reciba el nombre de un archivo y devuelva la palabra de mayor longitud del archivo"
   ]
  },
  {
   "cell_type": "markdown",
   "id": "14c95074",
   "metadata": {},
   "source": [
    "Una empresa nos ha pedido un programa para buscar erratas en guiones, para ello recibiremos un texto, lo abriremos y le pedeiremos al usuario que nos de una palabra a buscar. El programa debe buscar cada incidencia de esa palabra en el texto, guardar en que linea del texto se encuentra y devolver un archivo llamado result.txt donde aparezcan tanto el número de la linea donde aparece como el texto de la linea donde aparece"
   ]
  },
  {
   "cell_type": "markdown",
   "id": "fb285b77",
   "metadata": {},
   "source": [
    "En el archivo adjunto \"ejemplo.txt\" se han escrito varias lineas. Cada linea representa un tablero de kakuro, una variante de sudoku, cada tablero es de 10x10. Construir las siguientes 2 funciones:\n",
    "\n",
    "- La primer debe recibir un string de longitud 100, que es lo que mide cada linea del fichero y devolver el tablero del kakuro correspondiente imprimiéndolo en pantalla en forma de tablero.\n",
    "\n",
    "- La segunda debe abrir el archivo, recorrer cada linea de este y guardar esta linea en un diccionario cuya clave sea la posición. Después hacer uso del ejercicio anterior para imprimir por pantalla algún kakuro llamandolo desde su clave."
   ]
  },
  {
   "cell_type": "markdown",
   "id": "f68b8e4d",
   "metadata": {},
   "source": [
    "En el archivo adjunto \"cotizacion.csv\" se tienen los datos de varias empresas, se pide:\n",
    "\n",
    "- Crear una función llamada limpieza que reciba una cadena, que será una cifra, y devuelva la misma cadena eliminando el punto de millares y reemplace la coma decimal por un punto. Recuerda la función replace().\n",
    "\n",
    "- Crear una función llamada preprocesado que reciba la ruta del fichero y devuelva una diccionario con el contenido y cuyas claves sean los nombres de las columnas del fichero.\n",
    "\n",
    "- Finalmente crear una función llamada resumen que reciba el diccionario del ejercicio anterior y una nueva ruta donde debe escribirse un fichero nuevo con un resumen del diccionario. Este resumen debe contener:\n",
    "        - Los nombres de las columnas.\n",
    "        - Los Mínimos de cada lista.\n",
    "        - Los Máximos de cada lista\n",
    "        - La Media de cada lista."
   ]
  },
  {
   "cell_type": "code",
   "execution_count": 15,
   "id": "84384d6d",
   "metadata": {},
   "outputs": [
    {
     "name": "stdout",
     "output_type": "stream",
     "text": [
      "xxxxxxxxxx\n",
      "xxx12xxxxx\n",
      "x1925x97xx\n",
      "x27x378962\n",
      "xxx219xx81\n",
      "xx61xxx79x\n",
      "x29xx739xx\n",
      "x187394x81\n",
      "xxx91x2793\n",
      "xxxxxx19xx\n"
     ]
    }
   ],
   "source": [
    "\n",
    "pintar_cuadrado(diccionario_lineas[3])"
   ]
  }
 ],
 "metadata": {
  "kernelspec": {
   "display_name": "Python 3 (ipykernel)",
   "language": "python",
   "name": "python3"
  },
  "language_info": {
   "codemirror_mode": {
    "name": "ipython",
    "version": 3
   },
   "file_extension": ".py",
   "mimetype": "text/x-python",
   "name": "python",
   "nbconvert_exporter": "python",
   "pygments_lexer": "ipython3",
   "version": "3.9.13"
  }
 },
 "nbformat": 4,
 "nbformat_minor": 5
}
