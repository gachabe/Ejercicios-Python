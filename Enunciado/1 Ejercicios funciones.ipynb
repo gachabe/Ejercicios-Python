{
 "cells": [
  {
   "cell_type": "markdown",
   "id": "6c29f511",
   "metadata": {},
   "source": [
    "# Ejercicios de Funciones y bucles"
   ]
  },
  {
   "cell_type": "markdown",
   "id": "86a4de67",
   "metadata": {},
   "source": [
    "### Escriba un programa que pida la anchura y altura de un rectángulo y lo dibuje con caracteres producto (*):"
   ]
  },
  {
   "cell_type": "code",
   "execution_count": 32,
   "id": "bdccd8d8",
   "metadata": {},
   "outputs": [
    {
     "name": "stdout",
     "output_type": "stream",
     "text": [
      "Dime la anchura:\n",
      "3\n",
      "Dime la altura:\n",
      "5\n",
      "***\n",
      "***\n",
      "***\n",
      "***\n",
      "***\n"
     ]
    }
   ],
   "source": [
    "def cuadradico():\n",
    "    anchura = int(input(\"Dime la anchura:\\n\"))\n",
    "    altura = int(input(\"Dime la altura:\\n\"))\n",
    "    for _ in range(altura):\n",
    "        print(\"*\"*anchura)\n",
    "    return\n",
    "\n",
    "cuadradico()"
   ]
  },
  {
   "cell_type": "markdown",
   "id": "bed6c6f6",
   "metadata": {},
   "source": [
    "### Definir una función que calcule la longitud de una lista o una cadena dada."
   ]
  },
  {
   "cell_type": "code",
   "execution_count": 38,
   "id": "634bfa4e",
   "metadata": {},
   "outputs": [],
   "source": [
    "def long(a):\n",
    "    b=0\n",
    "    for _ in a:\n",
    "        b+=1\n",
    "    return b\n",
    "        "
   ]
  },
  {
   "cell_type": "code",
   "execution_count": 39,
   "id": "788aad7c",
   "metadata": {},
   "outputs": [
    {
     "data": {
      "text/plain": [
       "8"
      ]
     },
     "execution_count": 39,
     "metadata": {},
     "output_type": "execute_result"
    }
   ],
   "source": [
    "long(\"ñsifesfñ\")"
   ]
  },
  {
   "cell_type": "markdown",
   "id": "f07242a9",
   "metadata": {},
   "source": [
    "### Definir un histograma procedimiento() que tome una lista de números enteros e imprima un histograma en la pantalla"
   ]
  },
  {
   "cell_type": "markdown",
   "id": "b2d95632",
   "metadata": {},
   "source": [
    "### Definir una función que dados dos números compruebe si el primero es más pequeño que el segundo y, si así fuera,  dar una lista con todos los números desde el primero hasta el segundo"
   ]
  },
  {
   "cell_type": "code",
   "execution_count": 42,
   "id": "571fc999",
   "metadata": {},
   "outputs": [
    {
     "data": {
      "text/plain": [
       "[2, 3, 4, 5, 6, 7]"
      ]
     },
     "execution_count": 42,
     "metadata": {},
     "output_type": "execute_result"
    }
   ],
   "source": [
    "def comprueba(x,y):\n",
    "    if x < y:\n",
    "        return list(range(x,y+1))\n",
    "    else:\n",
    "        return \"No se pudio\"\n",
    "variable = comprueba(2,7)\n",
    "variable"
   ]
  },
  {
   "cell_type": "markdown",
   "id": "8952567d",
   "metadata": {},
   "source": [
    "### Definir una función que reciba tres argumentos x,y,m que devuelva True si x es inverso de y en módulo m y False en caso contrario"
   ]
  },
  {
   "cell_type": "code",
   "execution_count": 46,
   "id": "a44101cd",
   "metadata": {},
   "outputs": [],
   "source": [
    "def inverso(x,y,m):\n",
    "    return (x*y)%m ==1"
   ]
  },
  {
   "cell_type": "code",
   "execution_count": 49,
   "id": "fbd49f0b",
   "metadata": {},
   "outputs": [
    {
     "data": {
      "text/plain": [
       "True"
      ]
     },
     "execution_count": 49,
     "metadata": {},
     "output_type": "execute_result"
    }
   ],
   "source": [
    "inverso(2,3,5)"
   ]
  },
  {
   "cell_type": "markdown",
   "id": "40ef7201",
   "metadata": {},
   "source": [
    "### Definir una función que dado un número n nos devuelva el n-ésimo número primo"
   ]
  },
  {
   "cell_type": "code",
   "execution_count": 94,
   "id": "de1d5194",
   "metadata": {},
   "outputs": [],
   "source": [
    "def primo(n):\n",
    "    a=0\n",
    "    for i in range(2,n):\n",
    "        if n%i != 0:\n",
    "            \n",
    "            a=a+1\n",
    "    \n",
    "    return (a==n-2)"
   ]
  },
  {
   "cell_type": "code",
   "execution_count": 98,
   "id": "bc3cb32e",
   "metadata": {},
   "outputs": [
    {
     "data": {
      "text/plain": [
       "True"
      ]
     },
     "execution_count": 98,
     "metadata": {},
     "output_type": "execute_result"
    }
   ],
   "source": [
    "primo(2)"
   ]
  },
  {
   "cell_type": "code",
   "execution_count": 96,
   "id": "c6a86380",
   "metadata": {},
   "outputs": [],
   "source": [
    "def nesimo(n):\n",
    "    l=0\n",
    "    for i in range(n**2):\n",
    "        if primo(i):\n",
    "            l=l+1\n",
    "            if l==n:\n",
    "                return i\n",
    "def f(n):\n",
    "    cont = 0\n",
    "    i = 2\n",
    "    while cont != n:\n",
    "        if primo(i):\n",
    "            \n",
    "           "
   ]
  },
  {
   "cell_type": "code",
   "execution_count": 97,
   "id": "a302be7c",
   "metadata": {},
   "outputs": [
    {
     "data": {
      "text/plain": [
       "11"
      ]
     },
     "execution_count": 97,
     "metadata": {},
     "output_type": "execute_result"
    }
   ],
   "source": [
    "nesimo(5)"
   ]
  },
  {
   "cell_type": "markdown",
   "id": "ff9a7362",
   "metadata": {},
   "source": [
    "### Definir una función que dado un número n nos devuelva el n-ésimo número de Fibonacci"
   ]
  },
  {
   "cell_type": "markdown",
   "id": "aaa34ad0",
   "metadata": {},
   "source": [
    "### (Difícil) Definir una función que dados dos números nos devuelva el mínimo común múltiplo, intenta implementar el algortimo de Euclides que vimos en Álgebra Básica "
   ]
  },
  {
   "cell_type": "markdown",
   "id": "3c413c50",
   "metadata": {},
   "source": [
    "### Definir una función que dada una lista la ordene (Este ejercicio es clásico de entrevista de empresa)"
   ]
  },
  {
   "cell_type": "markdown",
   "id": "e052b7e9",
   "metadata": {},
   "source": [
    "### Calcular todas las ternas pitagóricas cuya suma sea menor que 100"
   ]
  },
  {
   "cell_type": "markdown",
   "id": "814d6f21",
   "metadata": {},
   "source": [
    "### Calcular la suma de todos los múltiplos de 3 o 5 menores que 1000"
   ]
  },
  {
   "cell_type": "markdown",
   "id": "7d683a75",
   "metadata": {},
   "source": [
    "### Se define la función órbita de Collatz como: $f(n)= \\left\\{ \\begin{array}{lcc}n/2 &   si  & es~par \\\\ \\\\ 3x+1 &  si  &es~impar\\end{array}\\right. $ definir una función que dado un número natural nos de su órbita. La conjetura de Collatz (aun por demostrar) nos dice que para todo número natural su órbita es finita "
   ]
  },
  {
   "cell_type": "markdown",
   "id": "e875531e",
   "metadata": {},
   "source": [
    "### (MUY DIFÍCIL)  Definir una (o varias) función(es) que dado tres números a, b y m haga:\n",
    "###  1 - Imprima ax = b mod m\n",
    "###  2 - Compruebe y nos diga si esta ecuación de congruencia tiene solución\n",
    "###  3 -  Nos devuelva la solución de mi x"
   ]
  },
  {
   "cell_type": "markdown",
   "id": "3bfe6a8a",
   "metadata": {},
   "source": [
    "### Busca información sobre el algoritmo de la bisección (o preguntale a tu profesor) e intenta implementarlo para resolver la ecuación $y=2x+1$"
   ]
  }
 ],
 "metadata": {
  "kernelspec": {
   "display_name": "Python 3 (ipykernel)",
   "language": "python",
   "name": "python3"
  },
  "language_info": {
   "codemirror_mode": {
    "name": "ipython",
    "version": 3
   },
   "file_extension": ".py",
   "mimetype": "text/x-python",
   "name": "python",
   "nbconvert_exporter": "python",
   "pygments_lexer": "ipython3",
   "version": "3.9.13"
  }
 },
 "nbformat": 4,
 "nbformat_minor": 5
}
