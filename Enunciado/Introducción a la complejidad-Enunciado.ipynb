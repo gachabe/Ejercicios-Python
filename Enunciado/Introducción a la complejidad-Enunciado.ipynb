{
 "cells": [
  {
   "cell_type": "markdown",
   "id": "a59b4e0b",
   "metadata": {},
   "source": [
    "# Introducción a la complejidad"
   ]
  },
  {
   "cell_type": "markdown",
   "id": "58e10b20",
   "metadata": {},
   "source": [
    "En las siguientes lineas se pedirán funciones python \"sencillas\" y después debeis dar su complejidad."
   ]
  },
  {
   "cell_type": "markdown",
   "id": "ced7eef3",
   "metadata": {},
   "source": [
    "Crea una función que devuelva el último elemento de una lista"
   ]
  },
  {
   "cell_type": "markdown",
   "id": "184a01c6",
   "metadata": {},
   "source": [
    "Crea una función que compruebe si un número es par"
   ]
  },
  {
   "cell_type": "markdown",
   "id": "6247df96",
   "metadata": {},
   "source": [
    "Crea una función que calcule la suma de los primero N numeros naturales."
   ]
  },
  {
   "cell_type": "markdown",
   "id": "40e40ae5",
   "metadata": {},
   "source": [
    "Crea una función que cuente cuántos caracteres tiene una cadena dada"
   ]
  }
 ],
 "metadata": {
  "kernelspec": {
   "display_name": "Python 3 (ipykernel)",
   "language": "python",
   "name": "python3"
  },
  "language_info": {
   "codemirror_mode": {
    "name": "ipython",
    "version": 3
   },
   "file_extension": ".py",
   "mimetype": "text/x-python",
   "name": "python",
   "nbconvert_exporter": "python",
   "pygments_lexer": "ipython3",
   "version": "3.9.13"
  }
 },
 "nbformat": 4,
 "nbformat_minor": 5
}
